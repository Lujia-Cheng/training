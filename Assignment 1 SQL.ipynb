{
    "metadata": {
        "kernelspec": {
            "name": "SQL",
            "display_name": "SQL",
            "language": "sql"
        },
        "language_info": {
            "name": "sql",
            "version": ""
        }
    },
    "nbformat_minor": 2,
    "nbformat": 4,
    "cells": [
        {
            "cell_type": "markdown",
            "source": [
                "1. Write queries for following scenarios - Using AdventureWorks Database"
            ],
            "metadata": {
                "azdata_cell_guid": "99c6f692-24cd-45e7-aca9-d3d0e5110279",
                "language": ""
            },
            "attachments": {}
        },
        {
            "cell_type": "code",
            "source": [
                "use AdventureWorks2019"
            ],
            "metadata": {
                "azdata_cell_guid": "4f2f3586-6053-4b17-bbe2-86b0838fb340",
                "language": "sql"
            },
            "outputs": [
                {
                    "output_type": "display_data",
                    "data": {
                        "text/html": "Commands completed successfully."
                    },
                    "metadata": {}
                },
                {
                    "output_type": "display_data",
                    "data": {
                        "text/html": "Total execution time: 00:00:00"
                    },
                    "metadata": {}
                }
            ],
            "execution_count": 81
        },
        {
            "cell_type": "markdown",
            "source": [
                "1. Write a query that retrieves the columns ProductID, Name, Color and ListPrice from the Production.Product table, with no filter."
            ],
            "metadata": {
                "language": "sql",
                "azdata_cell_guid": "c816818c-7388-4bc6-b76b-4c58b1be54a5"
            },
            "attachments": {}
        },
        {
            "cell_type": "code",
            "source": [
                "SELECT ProductID, Name, Color, ListPrice\n",
                "FROM Production.Product"
            ],
            "metadata": {
                "azdata_cell_guid": "e88ad2a9-e206-42e2-a7f9-1ba2109ab3e5",
                "language": "sql",
                "tags": []
            },
            "outputs": [
                {
                    "output_type": "display_data",
                    "data": {
                        "text/html": "(504 rows affected)"
                    },
                    "metadata": {}
                },
                {
                    "output_type": "display_data",
                    "data": {
                        "text/html": "Total execution time: 00:00:00.010"
                    },
                    "metadata": {}
                },
                {
                    "output_type": "execute_result",
                    "metadata": {},
                    "execution_count": 82,
                    "data": {
                        "application/vnd.dataresource+json": {
                            "schema": {
                                "fields": [
                                    {
                                        "name": "ProductID"
                                    },
                                    {
                                        "name": "Name"
                                    },
                                    {
                                        "name": "Color"
                                    },
                                    {
                                        "name": "ListPrice"
                                    }
                                ]
                            },
                            "data": [
                                {
                                    "ProductID": "1",
                                    "Name": "Adjustable Race",
                                    "Color": "NULL",
                                    "ListPrice": "0.00"
                                },
                                {
                                    "ProductID": "2",
                                    "Name": "Bearing Ball",
                                    "Color": "NULL",
                                    "ListPrice": "0.00"
                                },
                                {
                                    "ProductID": "3",
                                    "Name": "BB Ball Bearing",
                                    "Color": "NULL",
                                    "ListPrice": "0.00"
                                },
                                {
                                    "ProductID": "4",
                                    "Name": "Headset Ball Bearings",
                                    "Color": "NULL",
                                    "ListPrice": "0.00"
                                },
                                {
                                    "ProductID": "316",
                                    "Name": "Blade",
                                    "Color": "NULL",
                                    "ListPrice": "0.00"
                                },
                                {
                                    "ProductID": "317",
                                    "Name": "LL Crankarm",
                                    "Color": "Black",
                                    "ListPrice": "0.00"
                                },
                                {
                                    "ProductID": "318",
                                    "Name": "ML Crankarm",
                                    "Color": "Black",
                                    "ListPrice": "0.00"
                                },
                                {
                                    "ProductID": "319",
                                    "Name": "HL Crankarm",
                                    "Color": "Black",
                                    "ListPrice": "0.00"
                                },
                                {
                                    "ProductID": "320",
                                    "Name": "Chainring Bolts",
                                    "Color": "Silver",
                                    "ListPrice": "0.00"
                                },
                                {
                                    "ProductID": "321",
                                    "Name": "Chainring Nut",
                                    "Color": "Silver",
                                    "ListPrice": "0.00"
                                },
                                {
                                    "ProductID": "322",
                                    "Name": "Chainring",
                                    "Color": "Black",
                                    "ListPrice": "0.00"
                                },
                                {
                                    "ProductID": "323",
                                    "Name": "Crown Race",
                                    "Color": "NULL",
                                    "ListPrice": "0.00"
                                },
                                {
                                    "ProductID": "324",
                                    "Name": "Chain Stays",
                                    "Color": "NULL",
                                    "ListPrice": "0.00"
                                },
                                {
                                    "ProductID": "325",
                                    "Name": "Decal 1",
                                    "Color": "NULL",
                                    "ListPrice": "0.00"
                                },
                                {
                                    "ProductID": "326",
                                    "Name": "Decal 2",
                                    "Color": "NULL",
                                    "ListPrice": "0.00"
                                },
                                {
                                    "ProductID": "327",
                                    "Name": "Down Tube",
                                    "Color": "NULL",
                                    "ListPrice": "0.00"
                                },
                                {
                                    "ProductID": "328",
                                    "Name": "Mountain End Caps",
                                    "Color": "NULL",
                                    "ListPrice": "0.00"
                                },
                                {
                                    "ProductID": "329",
                                    "Name": "Road End Caps",
                                    "Color": "NULL",
                                    "ListPrice": "0.00"
                                },
                                {
                                    "ProductID": "330",
                                    "Name": "Touring End Caps",
                                    "Color": "NULL",
                                    "ListPrice": "0.00"
                                },
                                {
                                    "ProductID": "331",
                                    "Name": "Fork End",
                                    "Color": "NULL",
                                    "ListPrice": "0.00"
                                },
                                {
                                    "ProductID": "332",
                                    "Name": "Freewheel",
                                    "Color": "Silver",
                                    "ListPrice": "0.00"
                                },
                                {
                                    "ProductID": "341",
                                    "Name": "Flat Washer 1",
                                    "Color": "NULL",
                                    "ListPrice": "0.00"
                                },
                                {
                                    "ProductID": "342",
                                    "Name": "Flat Washer 6",
                                    "Color": "NULL",
                                    "ListPrice": "0.00"
                                },
                                {
                                    "ProductID": "343",
                                    "Name": "Flat Washer 2",
                                    "Color": "NULL",
                                    "ListPrice": "0.00"
                                },
                                {
                                    "ProductID": "344",
                                    "Name": "Flat Washer 9",
                                    "Color": "NULL",
                                    "ListPrice": "0.00"
                                },
                                {
                                    "ProductID": "345",
                                    "Name": "Flat Washer 4",
                                    "Color": "NULL",
                                    "ListPrice": "0.00"
                                },
                                {
                                    "ProductID": "346",
                                    "Name": "Flat Washer 3",
                                    "Color": "NULL",
                                    "ListPrice": "0.00"
                                },
                                {
                                    "ProductID": "347",
                                    "Name": "Flat Washer 8",
                                    "Color": "NULL",
                                    "ListPrice": "0.00"
                                },
                                {
                                    "ProductID": "348",
                                    "Name": "Flat Washer 5",
                                    "Color": "NULL",
                                    "ListPrice": "0.00"
                                },
                                {
                                    "ProductID": "349",
                                    "Name": "Flat Washer 7",
                                    "Color": "NULL",
                                    "ListPrice": "0.00"
                                },
                                {
                                    "ProductID": "350",
                                    "Name": "Fork Crown",
                                    "Color": "NULL",
                                    "ListPrice": "0.00"
                                },
                                {
                                    "ProductID": "351",
                                    "Name": "Front Derailleur Cage",
                                    "Color": "Silver",
                                    "ListPrice": "0.00"
                                },
                                {
                                    "ProductID": "352",
                                    "Name": "Front Derailleur Linkage",
                                    "Color": "Silver",
                                    "ListPrice": "0.00"
                                },
                                {
                                    "ProductID": "355",
                                    "Name": "Guide Pulley",
                                    "Color": "NULL",
                                    "ListPrice": "0.00"
                                },
                                {
                                    "ProductID": "356",
                                    "Name": "LL Grip Tape",
                                    "Color": "NULL",
                                    "ListPrice": "0.00"
                                },
                                {
                                    "ProductID": "357",
                                    "Name": "ML Grip Tape",
                                    "Color": "NULL",
                                    "ListPrice": "0.00"
                                },
                                {
                                    "ProductID": "358",
                                    "Name": "HL Grip Tape",
                                    "Color": "NULL",
                                    "ListPrice": "0.00"
                                },
                                {
                                    "ProductID": "359",
                                    "Name": "Thin-Jam Hex Nut 9",
                                    "Color": "NULL",
                                    "ListPrice": "0.00"
                                },
                                {
                                    "ProductID": "360",
                                    "Name": "Thin-Jam Hex Nut 10",
                                    "Color": "NULL",
                                    "ListPrice": "0.00"
                                },
                                {
                                    "ProductID": "361",
                                    "Name": "Thin-Jam Hex Nut 1",
                                    "Color": "NULL",
                                    "ListPrice": "0.00"
                                },
                                {
                                    "ProductID": "362",
                                    "Name": "Thin-Jam Hex Nut 2",
                                    "Color": "NULL",
                                    "ListPrice": "0.00"
                                },
                                {
                                    "ProductID": "363",
                                    "Name": "Thin-Jam Hex Nut 15",
                                    "Color": "NULL",
                                    "ListPrice": "0.00"
                                },
                                {
                                    "ProductID": "364",
                                    "Name": "Thin-Jam Hex Nut 16",
                                    "Color": "NULL",
                                    "ListPrice": "0.00"
                                },
                                {
                                    "ProductID": "365",
                                    "Name": "Thin-Jam Hex Nut 5",
                                    "Color": "NULL",
                                    "ListPrice": "0.00"
                                },
                                {
                                    "ProductID": "366",
                                    "Name": "Thin-Jam Hex Nut 6",
                                    "Color": "NULL",
                                    "ListPrice": "0.00"
                                },
                                {
                                    "ProductID": "367",
                                    "Name": "Thin-Jam Hex Nut 3",
                                    "Color": "NULL",
                                    "ListPrice": "0.00"
                                },
                                {
                                    "ProductID": "368",
                                    "Name": "Thin-Jam Hex Nut 4",
                                    "Color": "NULL",
                                    "ListPrice": "0.00"
                                },
                                {
                                    "ProductID": "369",
                                    "Name": "Thin-Jam Hex Nut 13",
                                    "Color": "NULL",
                                    "ListPrice": "0.00"
                                },
                                {
                                    "ProductID": "370",
                                    "Name": "Thin-Jam Hex Nut 14",
                                    "Color": "NULL",
                                    "ListPrice": "0.00"
                                },
                                {
                                    "ProductID": "371",
                                    "Name": "Thin-Jam Hex Nut 7",
                                    "Color": "NULL",
                                    "ListPrice": "0.00"
                                },
                                {
                                    "ProductID": "372",
                                    "Name": "Thin-Jam Hex Nut 8",
                                    "Color": "NULL",
                                    "ListPrice": "0.00"
                                },
                                {
                                    "ProductID": "373",
                                    "Name": "Thin-Jam Hex Nut 12",
                                    "Color": "NULL",
                                    "ListPrice": "0.00"
                                },
                                {
                                    "ProductID": "374",
                                    "Name": "Thin-Jam Hex Nut 11",
                                    "Color": "NULL",
                                    "ListPrice": "0.00"
                                },
                                {
                                    "ProductID": "375",
                                    "Name": "Hex Nut 5",
                                    "Color": "NULL",
                                    "ListPrice": "0.00"
                                },
                                {
                                    "ProductID": "376",
                                    "Name": "Hex Nut 6",
                                    "Color": "NULL",
                                    "ListPrice": "0.00"
                                },
                                {
                                    "ProductID": "377",
                                    "Name": "Hex Nut 16",
                                    "Color": "NULL",
                                    "ListPrice": "0.00"
                                },
                                {
                                    "ProductID": "378",
                                    "Name": "Hex Nut 17",
                                    "Color": "NULL",
                                    "ListPrice": "0.00"
                                },
                                {
                                    "ProductID": "379",
                                    "Name": "Hex Nut 7",
                                    "Color": "NULL",
                                    "ListPrice": "0.00"
                                },
                                {
                                    "ProductID": "380",
                                    "Name": "Hex Nut 8",
                                    "Color": "NULL",
                                    "ListPrice": "0.00"
                                },
                                {
                                    "ProductID": "381",
                                    "Name": "Hex Nut 9",
                                    "Color": "NULL",
                                    "ListPrice": "0.00"
                                },
                                {
                                    "ProductID": "382",
                                    "Name": "Hex Nut 22",
                                    "Color": "NULL",
                                    "ListPrice": "0.00"
                                },
                                {
                                    "ProductID": "383",
                                    "Name": "Hex Nut 23",
                                    "Color": "NULL",
                                    "ListPrice": "0.00"
                                },
                                {
                                    "ProductID": "384",
                                    "Name": "Hex Nut 12",
                                    "Color": "NULL",
                                    "ListPrice": "0.00"
                                },
                                {
                                    "ProductID": "385",
                                    "Name": "Hex Nut 13",
                                    "Color": "NULL",
                                    "ListPrice": "0.00"
                                },
                                {
                                    "ProductID": "386",
                                    "Name": "Hex Nut 1",
                                    "Color": "NULL",
                                    "ListPrice": "0.00"
                                },
                                {
                                    "ProductID": "387",
                                    "Name": "Hex Nut 10",
                                    "Color": "NULL",
                                    "ListPrice": "0.00"
                                },
                                {
                                    "ProductID": "388",
                                    "Name": "Hex Nut 11",
                                    "Color": "NULL",
                                    "ListPrice": "0.00"
                                },
                                {
                                    "ProductID": "389",
                                    "Name": "Hex Nut 2",
                                    "Color": "NULL",
                                    "ListPrice": "0.00"
                                },
                                {
                                    "ProductID": "390",
                                    "Name": "Hex Nut 20",
                                    "Color": "NULL",
                                    "ListPrice": "0.00"
                                },
                                {
                                    "ProductID": "391",
                                    "Name": "Hex Nut 21",
                                    "Color": "NULL",
                                    "ListPrice": "0.00"
                                },
                                {
                                    "ProductID": "392",
                                    "Name": "Hex Nut 3",
                                    "Color": "NULL",
                                    "ListPrice": "0.00"
                                },
                                {
                                    "ProductID": "393",
                                    "Name": "Hex Nut 14",
                                    "Color": "NULL",
                                    "ListPrice": "0.00"
                                },
                                {
                                    "ProductID": "394",
                                    "Name": "Hex Nut 15",
                                    "Color": "NULL",
                                    "ListPrice": "0.00"
                                },
                                {
                                    "ProductID": "395",
                                    "Name": "Hex Nut 4",
                                    "Color": "NULL",
                                    "ListPrice": "0.00"
                                },
                                {
                                    "ProductID": "396",
                                    "Name": "Hex Nut 18",
                                    "Color": "NULL",
                                    "ListPrice": "0.00"
                                },
                                {
                                    "ProductID": "397",
                                    "Name": "Hex Nut 19",
                                    "Color": "NULL",
                                    "ListPrice": "0.00"
                                },
                                {
                                    "ProductID": "398",
                                    "Name": "Handlebar Tube",
                                    "Color": "NULL",
                                    "ListPrice": "0.00"
                                },
                                {
                                    "ProductID": "399",
                                    "Name": "Head Tube",
                                    "Color": "NULL",
                                    "ListPrice": "0.00"
                                },
                                {
                                    "ProductID": "400",
                                    "Name": "LL Hub",
                                    "Color": "NULL",
                                    "ListPrice": "0.00"
                                },
                                {
                                    "ProductID": "401",
                                    "Name": "HL Hub",
                                    "Color": "NULL",
                                    "ListPrice": "0.00"
                                },
                                {
                                    "ProductID": "402",
                                    "Name": "Keyed Washer",
                                    "Color": "NULL",
                                    "ListPrice": "0.00"
                                },
                                {
                                    "ProductID": "403",
                                    "Name": "External Lock Washer 3",
                                    "Color": "NULL",
                                    "ListPrice": "0.00"
                                },
                                {
                                    "ProductID": "404",
                                    "Name": "External Lock Washer 4",
                                    "Color": "NULL",
                                    "ListPrice": "0.00"
                                },
                                {
                                    "ProductID": "405",
                                    "Name": "External Lock Washer 9",
                                    "Color": "NULL",
                                    "ListPrice": "0.00"
                                },
                                {
                                    "ProductID": "406",
                                    "Name": "External Lock Washer 5",
                                    "Color": "NULL",
                                    "ListPrice": "0.00"
                                },
                                {
                                    "ProductID": "407",
                                    "Name": "External Lock Washer 7",
                                    "Color": "NULL",
                                    "ListPrice": "0.00"
                                },
                                {
                                    "ProductID": "408",
                                    "Name": "External Lock Washer 6",
                                    "Color": "NULL",
                                    "ListPrice": "0.00"
                                },
                                {
                                    "ProductID": "409",
                                    "Name": "External Lock Washer 1",
                                    "Color": "NULL",
                                    "ListPrice": "0.00"
                                },
                                {
                                    "ProductID": "410",
                                    "Name": "External Lock Washer 8",
                                    "Color": "NULL",
                                    "ListPrice": "0.00"
                                },
                                {
                                    "ProductID": "411",
                                    "Name": "External Lock Washer 2",
                                    "Color": "NULL",
                                    "ListPrice": "0.00"
                                },
                                {
                                    "ProductID": "412",
                                    "Name": "Internal Lock Washer 3",
                                    "Color": "NULL",
                                    "ListPrice": "0.00"
                                },
                                {
                                    "ProductID": "413",
                                    "Name": "Internal Lock Washer 4",
                                    "Color": "NULL",
                                    "ListPrice": "0.00"
                                },
                                {
                                    "ProductID": "414",
                                    "Name": "Internal Lock Washer 9",
                                    "Color": "NULL",
                                    "ListPrice": "0.00"
                                },
                                {
                                    "ProductID": "415",
                                    "Name": "Internal Lock Washer 5",
                                    "Color": "NULL",
                                    "ListPrice": "0.00"
                                },
                                {
                                    "ProductID": "416",
                                    "Name": "Internal Lock Washer 7",
                                    "Color": "NULL",
                                    "ListPrice": "0.00"
                                },
                                {
                                    "ProductID": "417",
                                    "Name": "Internal Lock Washer 6",
                                    "Color": "NULL",
                                    "ListPrice": "0.00"
                                },
                                {
                                    "ProductID": "418",
                                    "Name": "Internal Lock Washer 10",
                                    "Color": "NULL",
                                    "ListPrice": "0.00"
                                },
                                {
                                    "ProductID": "419",
                                    "Name": "Internal Lock Washer 1",
                                    "Color": "NULL",
                                    "ListPrice": "0.00"
                                },
                                {
                                    "ProductID": "420",
                                    "Name": "Internal Lock Washer 8",
                                    "Color": "NULL",
                                    "ListPrice": "0.00"
                                },
                                {
                                    "ProductID": "421",
                                    "Name": "Internal Lock Washer 2",
                                    "Color": "NULL",
                                    "ListPrice": "0.00"
                                },
                                {
                                    "ProductID": "422",
                                    "Name": "Thin-Jam Lock Nut 9",
                                    "Color": "NULL",
                                    "ListPrice": "0.00"
                                },
                                {
                                    "ProductID": "423",
                                    "Name": "Thin-Jam Lock Nut 10",
                                    "Color": "NULL",
                                    "ListPrice": "0.00"
                                },
                                {
                                    "ProductID": "424",
                                    "Name": "Thin-Jam Lock Nut 1",
                                    "Color": "NULL",
                                    "ListPrice": "0.00"
                                },
                                {
                                    "ProductID": "425",
                                    "Name": "Thin-Jam Lock Nut 2",
                                    "Color": "NULL",
                                    "ListPrice": "0.00"
                                },
                                {
                                    "ProductID": "426",
                                    "Name": "Thin-Jam Lock Nut 15",
                                    "Color": "NULL",
                                    "ListPrice": "0.00"
                                },
                                {
                                    "ProductID": "427",
                                    "Name": "Thin-Jam Lock Nut 16",
                                    "Color": "NULL",
                                    "ListPrice": "0.00"
                                },
                                {
                                    "ProductID": "428",
                                    "Name": "Thin-Jam Lock Nut 5",
                                    "Color": "NULL",
                                    "ListPrice": "0.00"
                                },
                                {
                                    "ProductID": "429",
                                    "Name": "Thin-Jam Lock Nut 6",
                                    "Color": "NULL",
                                    "ListPrice": "0.00"
                                },
                                {
                                    "ProductID": "430",
                                    "Name": "Thin-Jam Lock Nut 3",
                                    "Color": "NULL",
                                    "ListPrice": "0.00"
                                },
                                {
                                    "ProductID": "431",
                                    "Name": "Thin-Jam Lock Nut 4",
                                    "Color": "NULL",
                                    "ListPrice": "0.00"
                                },
                                {
                                    "ProductID": "432",
                                    "Name": "Thin-Jam Lock Nut 13",
                                    "Color": "NULL",
                                    "ListPrice": "0.00"
                                },
                                {
                                    "ProductID": "433",
                                    "Name": "Thin-Jam Lock Nut 14",
                                    "Color": "NULL",
                                    "ListPrice": "0.00"
                                },
                                {
                                    "ProductID": "434",
                                    "Name": "Thin-Jam Lock Nut 7",
                                    "Color": "NULL",
                                    "ListPrice": "0.00"
                                },
                                {
                                    "ProductID": "435",
                                    "Name": "Thin-Jam Lock Nut 8",
                                    "Color": "NULL",
                                    "ListPrice": "0.00"
                                },
                                {
                                    "ProductID": "436",
                                    "Name": "Thin-Jam Lock Nut 12",
                                    "Color": "NULL",
                                    "ListPrice": "0.00"
                                },
                                {
                                    "ProductID": "437",
                                    "Name": "Thin-Jam Lock Nut 11",
                                    "Color": "NULL",
                                    "ListPrice": "0.00"
                                },
                                {
                                    "ProductID": "438",
                                    "Name": "Lock Nut 5",
                                    "Color": "NULL",
                                    "ListPrice": "0.00"
                                },
                                {
                                    "ProductID": "439",
                                    "Name": "Lock Nut 6",
                                    "Color": "NULL",
                                    "ListPrice": "0.00"
                                },
                                {
                                    "ProductID": "440",
                                    "Name": "Lock Nut 16",
                                    "Color": "NULL",
                                    "ListPrice": "0.00"
                                },
                                {
                                    "ProductID": "441",
                                    "Name": "Lock Nut 17",
                                    "Color": "NULL",
                                    "ListPrice": "0.00"
                                },
                                {
                                    "ProductID": "442",
                                    "Name": "Lock Nut 7",
                                    "Color": "NULL",
                                    "ListPrice": "0.00"
                                },
                                {
                                    "ProductID": "443",
                                    "Name": "Lock Nut 8",
                                    "Color": "NULL",
                                    "ListPrice": "0.00"
                                },
                                {
                                    "ProductID": "444",
                                    "Name": "Lock Nut 9",
                                    "Color": "NULL",
                                    "ListPrice": "0.00"
                                },
                                {
                                    "ProductID": "445",
                                    "Name": "Lock Nut 22",
                                    "Color": "NULL",
                                    "ListPrice": "0.00"
                                },
                                {
                                    "ProductID": "446",
                                    "Name": "Lock Nut 23",
                                    "Color": "NULL",
                                    "ListPrice": "0.00"
                                },
                                {
                                    "ProductID": "447",
                                    "Name": "Lock Nut 12",
                                    "Color": "NULL",
                                    "ListPrice": "0.00"
                                },
                                {
                                    "ProductID": "448",
                                    "Name": "Lock Nut 13",
                                    "Color": "NULL",
                                    "ListPrice": "0.00"
                                },
                                {
                                    "ProductID": "449",
                                    "Name": "Lock Nut 1",
                                    "Color": "NULL",
                                    "ListPrice": "0.00"
                                },
                                {
                                    "ProductID": "450",
                                    "Name": "Lock Nut 10",
                                    "Color": "NULL",
                                    "ListPrice": "0.00"
                                },
                                {
                                    "ProductID": "451",
                                    "Name": "Lock Nut 11",
                                    "Color": "NULL",
                                    "ListPrice": "0.00"
                                },
                                {
                                    "ProductID": "452",
                                    "Name": "Lock Nut 2",
                                    "Color": "NULL",
                                    "ListPrice": "0.00"
                                },
                                {
                                    "ProductID": "453",
                                    "Name": "Lock Nut 20",
                                    "Color": "NULL",
                                    "ListPrice": "0.00"
                                },
                                {
                                    "ProductID": "454",
                                    "Name": "Lock Nut 21",
                                    "Color": "NULL",
                                    "ListPrice": "0.00"
                                },
                                {
                                    "ProductID": "455",
                                    "Name": "Lock Nut 3",
                                    "Color": "NULL",
                                    "ListPrice": "0.00"
                                },
                                {
                                    "ProductID": "456",
                                    "Name": "Lock Nut 14",
                                    "Color": "NULL",
                                    "ListPrice": "0.00"
                                },
                                {
                                    "ProductID": "457",
                                    "Name": "Lock Nut 15",
                                    "Color": "NULL",
                                    "ListPrice": "0.00"
                                },
                                {
                                    "ProductID": "458",
                                    "Name": "Lock Nut 4",
                                    "Color": "NULL",
                                    "ListPrice": "0.00"
                                },
                                {
                                    "ProductID": "459",
                                    "Name": "Lock Nut 19",
                                    "Color": "NULL",
                                    "ListPrice": "0.00"
                                },
                                {
                                    "ProductID": "460",
                                    "Name": "Lock Nut 18",
                                    "Color": "NULL",
                                    "ListPrice": "0.00"
                                },
                                {
                                    "ProductID": "461",
                                    "Name": "Lock Ring",
                                    "Color": "Silver",
                                    "ListPrice": "0.00"
                                },
                                {
                                    "ProductID": "462",
                                    "Name": "Lower Head Race",
                                    "Color": "NULL",
                                    "ListPrice": "0.00"
                                },
                                {
                                    "ProductID": "463",
                                    "Name": "Lock Washer 4",
                                    "Color": "NULL",
                                    "ListPrice": "0.00"
                                },
                                {
                                    "ProductID": "464",
                                    "Name": "Lock Washer 5",
                                    "Color": "NULL",
                                    "ListPrice": "0.00"
                                },
                                {
                                    "ProductID": "465",
                                    "Name": "Lock Washer 10",
                                    "Color": "NULL",
                                    "ListPrice": "0.00"
                                },
                                {
                                    "ProductID": "466",
                                    "Name": "Lock Washer 6",
                                    "Color": "NULL",
                                    "ListPrice": "0.00"
                                },
                                {
                                    "ProductID": "467",
                                    "Name": "Lock Washer 13",
                                    "Color": "NULL",
                                    "ListPrice": "0.00"
                                },
                                {
                                    "ProductID": "468",
                                    "Name": "Lock Washer 8",
                                    "Color": "NULL",
                                    "ListPrice": "0.00"
                                },
                                {
                                    "ProductID": "469",
                                    "Name": "Lock Washer 1",
                                    "Color": "NULL",
                                    "ListPrice": "0.00"
                                },
                                {
                                    "ProductID": "470",
                                    "Name": "Lock Washer 7",
                                    "Color": "NULL",
                                    "ListPrice": "0.00"
                                },
                                {
                                    "ProductID": "471",
                                    "Name": "Lock Washer 12",
                                    "Color": "NULL",
                                    "ListPrice": "0.00"
                                },
                                {
                                    "ProductID": "472",
                                    "Name": "Lock Washer 2",
                                    "Color": "NULL",
                                    "ListPrice": "0.00"
                                },
                                {
                                    "ProductID": "473",
                                    "Name": "Lock Washer 9",
                                    "Color": "NULL",
                                    "ListPrice": "0.00"
                                },
                                {
                                    "ProductID": "474",
                                    "Name": "Lock Washer 3",
                                    "Color": "NULL",
                                    "ListPrice": "0.00"
                                },
                                {
                                    "ProductID": "475",
                                    "Name": "Lock Washer 11",
                                    "Color": "NULL",
                                    "ListPrice": "0.00"
                                },
                                {
                                    "ProductID": "476",
                                    "Name": "Metal Angle",
                                    "Color": "NULL",
                                    "ListPrice": "0.00"
                                },
                                {
                                    "ProductID": "477",
                                    "Name": "Metal Bar 1",
                                    "Color": "NULL",
                                    "ListPrice": "0.00"
                                },
                                {
                                    "ProductID": "478",
                                    "Name": "Metal Bar 2",
                                    "Color": "NULL",
                                    "ListPrice": "0.00"
                                },
                                {
                                    "ProductID": "479",
                                    "Name": "Metal Plate 2",
                                    "Color": "NULL",
                                    "ListPrice": "0.00"
                                },
                                {
                                    "ProductID": "480",
                                    "Name": "Metal Plate 1",
                                    "Color": "NULL",
                                    "ListPrice": "0.00"
                                },
                                {
                                    "ProductID": "481",
                                    "Name": "Metal Plate 3",
                                    "Color": "NULL",
                                    "ListPrice": "0.00"
                                },
                                {
                                    "ProductID": "482",
                                    "Name": "Metal Sheet 2",
                                    "Color": "NULL",
                                    "ListPrice": "0.00"
                                },
                                {
                                    "ProductID": "483",
                                    "Name": "Metal Sheet 3",
                                    "Color": "NULL",
                                    "ListPrice": "0.00"
                                },
                                {
                                    "ProductID": "484",
                                    "Name": "Metal Sheet 7",
                                    "Color": "NULL",
                                    "ListPrice": "0.00"
                                },
                                {
                                    "ProductID": "485",
                                    "Name": "Metal Sheet 4",
                                    "Color": "NULL",
                                    "ListPrice": "0.00"
                                },
                                {
                                    "ProductID": "486",
                                    "Name": "Metal Sheet 5",
                                    "Color": "NULL",
                                    "ListPrice": "0.00"
                                },
                                {
                                    "ProductID": "487",
                                    "Name": "Metal Sheet 6",
                                    "Color": "NULL",
                                    "ListPrice": "0.00"
                                },
                                {
                                    "ProductID": "488",
                                    "Name": "Metal Sheet 1",
                                    "Color": "NULL",
                                    "ListPrice": "0.00"
                                },
                                {
                                    "ProductID": "489",
                                    "Name": "Metal Tread Plate",
                                    "Color": "NULL",
                                    "ListPrice": "0.00"
                                },
                                {
                                    "ProductID": "490",
                                    "Name": "LL Nipple",
                                    "Color": "NULL",
                                    "ListPrice": "0.00"
                                },
                                {
                                    "ProductID": "491",
                                    "Name": "HL Nipple",
                                    "Color": "NULL",
                                    "ListPrice": "0.00"
                                },
                                {
                                    "ProductID": "492",
                                    "Name": "Paint - Black",
                                    "Color": "NULL",
                                    "ListPrice": "0.00"
                                },
                                {
                                    "ProductID": "493",
                                    "Name": "Paint - Red",
                                    "Color": "NULL",
                                    "ListPrice": "0.00"
                                },
                                {
                                    "ProductID": "494",
                                    "Name": "Paint - Silver",
                                    "Color": "NULL",
                                    "ListPrice": "0.00"
                                },
                                {
                                    "ProductID": "495",
                                    "Name": "Paint - Blue",
                                    "Color": "NULL",
                                    "ListPrice": "0.00"
                                },
                                {
                                    "ProductID": "496",
                                    "Name": "Paint - Yellow",
                                    "Color": "NULL",
                                    "ListPrice": "0.00"
                                },
                                {
                                    "ProductID": "497",
                                    "Name": "Pinch Bolt",
                                    "Color": "NULL",
                                    "ListPrice": "0.00"
                                },
                                {
                                    "ProductID": "504",
                                    "Name": "Cup-Shaped Race",
                                    "Color": "NULL",
                                    "ListPrice": "0.00"
                                },
                                {
                                    "ProductID": "505",
                                    "Name": "Cone-Shaped Race",
                                    "Color": "NULL",
                                    "ListPrice": "0.00"
                                },
                                {
                                    "ProductID": "506",
                                    "Name": "Reflector",
                                    "Color": "NULL",
                                    "ListPrice": "0.00"
                                },
                                {
                                    "ProductID": "507",
                                    "Name": "LL Mountain Rim",
                                    "Color": "NULL",
                                    "ListPrice": "0.00"
                                },
                                {
                                    "ProductID": "508",
                                    "Name": "ML Mountain Rim",
                                    "Color": "NULL",
                                    "ListPrice": "0.00"
                                },
                                {
                                    "ProductID": "509",
                                    "Name": "HL Mountain Rim",
                                    "Color": "NULL",
                                    "ListPrice": "0.00"
                                },
                                {
                                    "ProductID": "510",
                                    "Name": "LL Road Rim",
                                    "Color": "NULL",
                                    "ListPrice": "0.00"
                                },
                                {
                                    "ProductID": "511",
                                    "Name": "ML Road Rim",
                                    "Color": "NULL",
                                    "ListPrice": "0.00"
                                },
                                {
                                    "ProductID": "512",
                                    "Name": "HL Road Rim",
                                    "Color": "NULL",
                                    "ListPrice": "0.00"
                                },
                                {
                                    "ProductID": "513",
                                    "Name": "Touring Rim",
                                    "Color": "NULL",
                                    "ListPrice": "0.00"
                                },
                                {
                                    "ProductID": "514",
                                    "Name": "LL Mountain Seat Assembly",
                                    "Color": "NULL",
                                    "ListPrice": "133.34"
                                },
                                {
                                    "ProductID": "515",
                                    "Name": "ML Mountain Seat Assembly",
                                    "Color": "NULL",
                                    "ListPrice": "147.14"
                                },
                                {
                                    "ProductID": "516",
                                    "Name": "HL Mountain Seat Assembly",
                                    "Color": "NULL",
                                    "ListPrice": "196.92"
                                },
                                {
                                    "ProductID": "517",
                                    "Name": "LL Road Seat Assembly",
                                    "Color": "NULL",
                                    "ListPrice": "133.34"
                                },
                                {
                                    "ProductID": "518",
                                    "Name": "ML Road Seat Assembly",
                                    "Color": "NULL",
                                    "ListPrice": "147.14"
                                },
                                {
                                    "ProductID": "519",
                                    "Name": "HL Road Seat Assembly",
                                    "Color": "NULL",
                                    "ListPrice": "196.92"
                                },
                                {
                                    "ProductID": "520",
                                    "Name": "LL Touring Seat Assembly",
                                    "Color": "NULL",
                                    "ListPrice": "133.34"
                                },
                                {
                                    "ProductID": "521",
                                    "Name": "ML Touring Seat Assembly",
                                    "Color": "NULL",
                                    "ListPrice": "147.14"
                                },
                                {
                                    "ProductID": "522",
                                    "Name": "HL Touring Seat Assembly",
                                    "Color": "NULL",
                                    "ListPrice": "196.92"
                                },
                                {
                                    "ProductID": "523",
                                    "Name": "LL Spindle/Axle",
                                    "Color": "NULL",
                                    "ListPrice": "0.00"
                                },
                                {
                                    "ProductID": "524",
                                    "Name": "HL Spindle/Axle",
                                    "Color": "NULL",
                                    "ListPrice": "0.00"
                                },
                                {
                                    "ProductID": "525",
                                    "Name": "LL Shell",
                                    "Color": "NULL",
                                    "ListPrice": "0.00"
                                },
                                {
                                    "ProductID": "526",
                                    "Name": "HL Shell",
                                    "Color": "NULL",
                                    "ListPrice": "0.00"
                                },
                                {
                                    "ProductID": "527",
                                    "Name": "Spokes",
                                    "Color": "NULL",
                                    "ListPrice": "0.00"
                                },
                                {
                                    "ProductID": "528",
                                    "Name": "Seat Lug",
                                    "Color": "NULL",
                                    "ListPrice": "0.00"
                                },
                                {
                                    "ProductID": "529",
                                    "Name": "Stem",
                                    "Color": "NULL",
                                    "ListPrice": "0.00"
                                },
                                {
                                    "ProductID": "530",
                                    "Name": "Seat Post",
                                    "Color": "NULL",
                                    "ListPrice": "0.00"
                                },
                                {
                                    "ProductID": "531",
                                    "Name": "Steerer",
                                    "Color": "NULL",
                                    "ListPrice": "0.00"
                                },
                                {
                                    "ProductID": "532",
                                    "Name": "Seat Stays",
                                    "Color": "NULL",
                                    "ListPrice": "0.00"
                                },
                                {
                                    "ProductID": "533",
                                    "Name": "Seat Tube",
                                    "Color": "NULL",
                                    "ListPrice": "0.00"
                                },
                                {
                                    "ProductID": "534",
                                    "Name": "Top Tube",
                                    "Color": "NULL",
                                    "ListPrice": "0.00"
                                },
                                {
                                    "ProductID": "535",
                                    "Name": "Tension Pulley",
                                    "Color": "NULL",
                                    "ListPrice": "0.00"
                                },
                                {
                                    "ProductID": "679",
                                    "Name": "Rear Derailleur Cage",
                                    "Color": "Silver",
                                    "ListPrice": "0.00"
                                },
                                {
                                    "ProductID": "680",
                                    "Name": "HL Road Frame - Black, 58",
                                    "Color": "Black",
                                    "ListPrice": "1431.50"
                                },
                                {
                                    "ProductID": "706",
                                    "Name": "HL Road Frame - Red, 58",
                                    "Color": "Red",
                                    "ListPrice": "1431.50"
                                },
                                {
                                    "ProductID": "707",
                                    "Name": "Sport-100 Helmet, Red",
                                    "Color": "Red",
                                    "ListPrice": "34.99"
                                },
                                {
                                    "ProductID": "708",
                                    "Name": "Sport-100 Helmet, Black",
                                    "Color": "Black",
                                    "ListPrice": "34.99"
                                },
                                {
                                    "ProductID": "709",
                                    "Name": "Mountain Bike Socks, M",
                                    "Color": "White",
                                    "ListPrice": "9.50"
                                },
                                {
                                    "ProductID": "710",
                                    "Name": "Mountain Bike Socks, L",
                                    "Color": "White",
                                    "ListPrice": "9.50"
                                },
                                {
                                    "ProductID": "711",
                                    "Name": "Sport-100 Helmet, Blue",
                                    "Color": "Blue",
                                    "ListPrice": "34.99"
                                },
                                {
                                    "ProductID": "712",
                                    "Name": "AWC Logo Cap",
                                    "Color": "Multi",
                                    "ListPrice": "8.99"
                                },
                                {
                                    "ProductID": "713",
                                    "Name": "Long-Sleeve Logo Jersey, S",
                                    "Color": "Multi",
                                    "ListPrice": "49.99"
                                },
                                {
                                    "ProductID": "714",
                                    "Name": "Long-Sleeve Logo Jersey, M",
                                    "Color": "Multi",
                                    "ListPrice": "49.99"
                                },
                                {
                                    "ProductID": "715",
                                    "Name": "Long-Sleeve Logo Jersey, L",
                                    "Color": "Multi",
                                    "ListPrice": "49.99"
                                },
                                {
                                    "ProductID": "716",
                                    "Name": "Long-Sleeve Logo Jersey, XL",
                                    "Color": "Multi",
                                    "ListPrice": "49.99"
                                },
                                {
                                    "ProductID": "717",
                                    "Name": "HL Road Frame - Red, 62",
                                    "Color": "Red",
                                    "ListPrice": "1431.50"
                                },
                                {
                                    "ProductID": "718",
                                    "Name": "HL Road Frame - Red, 44",
                                    "Color": "Red",
                                    "ListPrice": "1431.50"
                                },
                                {
                                    "ProductID": "719",
                                    "Name": "HL Road Frame - Red, 48",
                                    "Color": "Red",
                                    "ListPrice": "1431.50"
                                },
                                {
                                    "ProductID": "720",
                                    "Name": "HL Road Frame - Red, 52",
                                    "Color": "Red",
                                    "ListPrice": "1431.50"
                                },
                                {
                                    "ProductID": "721",
                                    "Name": "HL Road Frame - Red, 56",
                                    "Color": "Red",
                                    "ListPrice": "1431.50"
                                },
                                {
                                    "ProductID": "722",
                                    "Name": "LL Road Frame - Black, 58",
                                    "Color": "Black",
                                    "ListPrice": "337.22"
                                },
                                {
                                    "ProductID": "723",
                                    "Name": "LL Road Frame - Black, 60",
                                    "Color": "Black",
                                    "ListPrice": "337.22"
                                },
                                {
                                    "ProductID": "724",
                                    "Name": "LL Road Frame - Black, 62",
                                    "Color": "Black",
                                    "ListPrice": "337.22"
                                },
                                {
                                    "ProductID": "725",
                                    "Name": "LL Road Frame - Red, 44",
                                    "Color": "Red",
                                    "ListPrice": "337.22"
                                },
                                {
                                    "ProductID": "726",
                                    "Name": "LL Road Frame - Red, 48",
                                    "Color": "Red",
                                    "ListPrice": "337.22"
                                },
                                {
                                    "ProductID": "727",
                                    "Name": "LL Road Frame - Red, 52",
                                    "Color": "Red",
                                    "ListPrice": "337.22"
                                },
                                {
                                    "ProductID": "728",
                                    "Name": "LL Road Frame - Red, 58",
                                    "Color": "Red",
                                    "ListPrice": "337.22"
                                },
                                {
                                    "ProductID": "729",
                                    "Name": "LL Road Frame - Red, 60",
                                    "Color": "Red",
                                    "ListPrice": "337.22"
                                },
                                {
                                    "ProductID": "730",
                                    "Name": "LL Road Frame - Red, 62",
                                    "Color": "Red",
                                    "ListPrice": "337.22"
                                },
                                {
                                    "ProductID": "731",
                                    "Name": "ML Road Frame - Red, 44",
                                    "Color": "Red",
                                    "ListPrice": "594.83"
                                },
                                {
                                    "ProductID": "732",
                                    "Name": "ML Road Frame - Red, 48",
                                    "Color": "Red",
                                    "ListPrice": "594.83"
                                },
                                {
                                    "ProductID": "733",
                                    "Name": "ML Road Frame - Red, 52",
                                    "Color": "Red",
                                    "ListPrice": "594.83"
                                },
                                {
                                    "ProductID": "734",
                                    "Name": "ML Road Frame - Red, 58",
                                    "Color": "Red",
                                    "ListPrice": "594.83"
                                },
                                {
                                    "ProductID": "735",
                                    "Name": "ML Road Frame - Red, 60",
                                    "Color": "Red",
                                    "ListPrice": "594.83"
                                },
                                {
                                    "ProductID": "736",
                                    "Name": "LL Road Frame - Black, 44",
                                    "Color": "Black",
                                    "ListPrice": "337.22"
                                },
                                {
                                    "ProductID": "737",
                                    "Name": "LL Road Frame - Black, 48",
                                    "Color": "Black",
                                    "ListPrice": "337.22"
                                },
                                {
                                    "ProductID": "738",
                                    "Name": "LL Road Frame - Black, 52",
                                    "Color": "Black",
                                    "ListPrice": "337.22"
                                },
                                {
                                    "ProductID": "739",
                                    "Name": "HL Mountain Frame - Silver, 42",
                                    "Color": "Silver",
                                    "ListPrice": "1364.50"
                                },
                                {
                                    "ProductID": "740",
                                    "Name": "HL Mountain Frame - Silver, 44",
                                    "Color": "Silver",
                                    "ListPrice": "1364.50"
                                },
                                {
                                    "ProductID": "741",
                                    "Name": "HL Mountain Frame - Silver, 48",
                                    "Color": "Silver",
                                    "ListPrice": "1364.50"
                                },
                                {
                                    "ProductID": "742",
                                    "Name": "HL Mountain Frame - Silver, 46",
                                    "Color": "Silver",
                                    "ListPrice": "1364.50"
                                },
                                {
                                    "ProductID": "743",
                                    "Name": "HL Mountain Frame - Black, 42",
                                    "Color": "Black",
                                    "ListPrice": "1349.60"
                                },
                                {
                                    "ProductID": "744",
                                    "Name": "HL Mountain Frame - Black, 44",
                                    "Color": "Black",
                                    "ListPrice": "1349.60"
                                },
                                {
                                    "ProductID": "745",
                                    "Name": "HL Mountain Frame - Black, 48",
                                    "Color": "Black",
                                    "ListPrice": "1349.60"
                                },
                                {
                                    "ProductID": "746",
                                    "Name": "HL Mountain Frame - Black, 46",
                                    "Color": "Black",
                                    "ListPrice": "1349.60"
                                },
                                {
                                    "ProductID": "747",
                                    "Name": "HL Mountain Frame - Black, 38",
                                    "Color": "Black",
                                    "ListPrice": "1349.60"
                                },
                                {
                                    "ProductID": "748",
                                    "Name": "HL Mountain Frame - Silver, 38",
                                    "Color": "Silver",
                                    "ListPrice": "1364.50"
                                },
                                {
                                    "ProductID": "749",
                                    "Name": "Road-150 Red, 62",
                                    "Color": "Red",
                                    "ListPrice": "3578.27"
                                },
                                {
                                    "ProductID": "750",
                                    "Name": "Road-150 Red, 44",
                                    "Color": "Red",
                                    "ListPrice": "3578.27"
                                },
                                {
                                    "ProductID": "751",
                                    "Name": "Road-150 Red, 48",
                                    "Color": "Red",
                                    "ListPrice": "3578.27"
                                },
                                {
                                    "ProductID": "752",
                                    "Name": "Road-150 Red, 52",
                                    "Color": "Red",
                                    "ListPrice": "3578.27"
                                },
                                {
                                    "ProductID": "753",
                                    "Name": "Road-150 Red, 56",
                                    "Color": "Red",
                                    "ListPrice": "3578.27"
                                },
                                {
                                    "ProductID": "754",
                                    "Name": "Road-450 Red, 58",
                                    "Color": "Red",
                                    "ListPrice": "1457.99"
                                },
                                {
                                    "ProductID": "755",
                                    "Name": "Road-450 Red, 60",
                                    "Color": "Red",
                                    "ListPrice": "1457.99"
                                },
                                {
                                    "ProductID": "756",
                                    "Name": "Road-450 Red, 44",
                                    "Color": "Red",
                                    "ListPrice": "1457.99"
                                },
                                {
                                    "ProductID": "757",
                                    "Name": "Road-450 Red, 48",
                                    "Color": "Red",
                                    "ListPrice": "1457.99"
                                },
                                {
                                    "ProductID": "758",
                                    "Name": "Road-450 Red, 52",
                                    "Color": "Red",
                                    "ListPrice": "1457.99"
                                },
                                {
                                    "ProductID": "759",
                                    "Name": "Road-650 Red, 58",
                                    "Color": "Red",
                                    "ListPrice": "782.99"
                                },
                                {
                                    "ProductID": "760",
                                    "Name": "Road-650 Red, 60",
                                    "Color": "Red",
                                    "ListPrice": "782.99"
                                },
                                {
                                    "ProductID": "761",
                                    "Name": "Road-650 Red, 62",
                                    "Color": "Red",
                                    "ListPrice": "782.99"
                                },
                                {
                                    "ProductID": "762",
                                    "Name": "Road-650 Red, 44",
                                    "Color": "Red",
                                    "ListPrice": "782.99"
                                },
                                {
                                    "ProductID": "763",
                                    "Name": "Road-650 Red, 48",
                                    "Color": "Red",
                                    "ListPrice": "782.99"
                                },
                                {
                                    "ProductID": "764",
                                    "Name": "Road-650 Red, 52",
                                    "Color": "Red",
                                    "ListPrice": "782.99"
                                },
                                {
                                    "ProductID": "765",
                                    "Name": "Road-650 Black, 58",
                                    "Color": "Black",
                                    "ListPrice": "782.99"
                                },
                                {
                                    "ProductID": "766",
                                    "Name": "Road-650 Black, 60",
                                    "Color": "Black",
                                    "ListPrice": "782.99"
                                },
                                {
                                    "ProductID": "767",
                                    "Name": "Road-650 Black, 62",
                                    "Color": "Black",
                                    "ListPrice": "782.99"
                                },
                                {
                                    "ProductID": "768",
                                    "Name": "Road-650 Black, 44",
                                    "Color": "Black",
                                    "ListPrice": "782.99"
                                },
                                {
                                    "ProductID": "769",
                                    "Name": "Road-650 Black, 48",
                                    "Color": "Black",
                                    "ListPrice": "782.99"
                                },
                                {
                                    "ProductID": "770",
                                    "Name": "Road-650 Black, 52",
                                    "Color": "Black",
                                    "ListPrice": "782.99"
                                },
                                {
                                    "ProductID": "771",
                                    "Name": "Mountain-100 Silver, 38",
                                    "Color": "Silver",
                                    "ListPrice": "3399.99"
                                },
                                {
                                    "ProductID": "772",
                                    "Name": "Mountain-100 Silver, 42",
                                    "Color": "Silver",
                                    "ListPrice": "3399.99"
                                },
                                {
                                    "ProductID": "773",
                                    "Name": "Mountain-100 Silver, 44",
                                    "Color": "Silver",
                                    "ListPrice": "3399.99"
                                },
                                {
                                    "ProductID": "774",
                                    "Name": "Mountain-100 Silver, 48",
                                    "Color": "Silver",
                                    "ListPrice": "3399.99"
                                },
                                {
                                    "ProductID": "775",
                                    "Name": "Mountain-100 Black, 38",
                                    "Color": "Black",
                                    "ListPrice": "3374.99"
                                },
                                {
                                    "ProductID": "776",
                                    "Name": "Mountain-100 Black, 42",
                                    "Color": "Black",
                                    "ListPrice": "3374.99"
                                },
                                {
                                    "ProductID": "777",
                                    "Name": "Mountain-100 Black, 44",
                                    "Color": "Black",
                                    "ListPrice": "3374.99"
                                },
                                {
                                    "ProductID": "778",
                                    "Name": "Mountain-100 Black, 48",
                                    "Color": "Black",
                                    "ListPrice": "3374.99"
                                },
                                {
                                    "ProductID": "779",
                                    "Name": "Mountain-200 Silver, 38",
                                    "Color": "Silver",
                                    "ListPrice": "2319.99"
                                },
                                {
                                    "ProductID": "780",
                                    "Name": "Mountain-200 Silver, 42",
                                    "Color": "Silver",
                                    "ListPrice": "2319.99"
                                },
                                {
                                    "ProductID": "781",
                                    "Name": "Mountain-200 Silver, 46",
                                    "Color": "Silver",
                                    "ListPrice": "2319.99"
                                },
                                {
                                    "ProductID": "782",
                                    "Name": "Mountain-200 Black, 38",
                                    "Color": "Black",
                                    "ListPrice": "2294.99"
                                },
                                {
                                    "ProductID": "783",
                                    "Name": "Mountain-200 Black, 42",
                                    "Color": "Black",
                                    "ListPrice": "2294.99"
                                },
                                {
                                    "ProductID": "784",
                                    "Name": "Mountain-200 Black, 46",
                                    "Color": "Black",
                                    "ListPrice": "2294.99"
                                },
                                {
                                    "ProductID": "785",
                                    "Name": "Mountain-300 Black, 38",
                                    "Color": "Black",
                                    "ListPrice": "1079.99"
                                },
                                {
                                    "ProductID": "786",
                                    "Name": "Mountain-300 Black, 40",
                                    "Color": "Black",
                                    "ListPrice": "1079.99"
                                },
                                {
                                    "ProductID": "787",
                                    "Name": "Mountain-300 Black, 44",
                                    "Color": "Black",
                                    "ListPrice": "1079.99"
                                },
                                {
                                    "ProductID": "788",
                                    "Name": "Mountain-300 Black, 48",
                                    "Color": "Black",
                                    "ListPrice": "1079.99"
                                },
                                {
                                    "ProductID": "789",
                                    "Name": "Road-250 Red, 44",
                                    "Color": "Red",
                                    "ListPrice": "2443.35"
                                },
                                {
                                    "ProductID": "790",
                                    "Name": "Road-250 Red, 48",
                                    "Color": "Red",
                                    "ListPrice": "2443.35"
                                },
                                {
                                    "ProductID": "791",
                                    "Name": "Road-250 Red, 52",
                                    "Color": "Red",
                                    "ListPrice": "2443.35"
                                },
                                {
                                    "ProductID": "792",
                                    "Name": "Road-250 Red, 58",
                                    "Color": "Red",
                                    "ListPrice": "2443.35"
                                },
                                {
                                    "ProductID": "793",
                                    "Name": "Road-250 Black, 44",
                                    "Color": "Black",
                                    "ListPrice": "2443.35"
                                },
                                {
                                    "ProductID": "794",
                                    "Name": "Road-250 Black, 48",
                                    "Color": "Black",
                                    "ListPrice": "2443.35"
                                },
                                {
                                    "ProductID": "795",
                                    "Name": "Road-250 Black, 52",
                                    "Color": "Black",
                                    "ListPrice": "2443.35"
                                },
                                {
                                    "ProductID": "796",
                                    "Name": "Road-250 Black, 58",
                                    "Color": "Black",
                                    "ListPrice": "2443.35"
                                },
                                {
                                    "ProductID": "797",
                                    "Name": "Road-550-W Yellow, 38",
                                    "Color": "Yellow",
                                    "ListPrice": "1120.49"
                                },
                                {
                                    "ProductID": "798",
                                    "Name": "Road-550-W Yellow, 40",
                                    "Color": "Yellow",
                                    "ListPrice": "1120.49"
                                },
                                {
                                    "ProductID": "799",
                                    "Name": "Road-550-W Yellow, 42",
                                    "Color": "Yellow",
                                    "ListPrice": "1120.49"
                                },
                                {
                                    "ProductID": "800",
                                    "Name": "Road-550-W Yellow, 44",
                                    "Color": "Yellow",
                                    "ListPrice": "1120.49"
                                },
                                {
                                    "ProductID": "801",
                                    "Name": "Road-550-W Yellow, 48",
                                    "Color": "Yellow",
                                    "ListPrice": "1120.49"
                                },
                                {
                                    "ProductID": "802",
                                    "Name": "LL Fork",
                                    "Color": "NULL",
                                    "ListPrice": "148.22"
                                },
                                {
                                    "ProductID": "803",
                                    "Name": "ML Fork",
                                    "Color": "NULL",
                                    "ListPrice": "175.49"
                                },
                                {
                                    "ProductID": "804",
                                    "Name": "HL Fork",
                                    "Color": "NULL",
                                    "ListPrice": "229.49"
                                },
                                {
                                    "ProductID": "805",
                                    "Name": "LL Headset",
                                    "Color": "NULL",
                                    "ListPrice": "34.20"
                                },
                                {
                                    "ProductID": "806",
                                    "Name": "ML Headset",
                                    "Color": "NULL",
                                    "ListPrice": "102.29"
                                },
                                {
                                    "ProductID": "807",
                                    "Name": "HL Headset",
                                    "Color": "NULL",
                                    "ListPrice": "124.73"
                                },
                                {
                                    "ProductID": "808",
                                    "Name": "LL Mountain Handlebars",
                                    "Color": "NULL",
                                    "ListPrice": "44.54"
                                },
                                {
                                    "ProductID": "809",
                                    "Name": "ML Mountain Handlebars",
                                    "Color": "NULL",
                                    "ListPrice": "61.92"
                                },
                                {
                                    "ProductID": "810",
                                    "Name": "HL Mountain Handlebars",
                                    "Color": "NULL",
                                    "ListPrice": "120.27"
                                },
                                {
                                    "ProductID": "811",
                                    "Name": "LL Road Handlebars",
                                    "Color": "NULL",
                                    "ListPrice": "44.54"
                                },
                                {
                                    "ProductID": "812",
                                    "Name": "ML Road Handlebars",
                                    "Color": "NULL",
                                    "ListPrice": "61.92"
                                },
                                {
                                    "ProductID": "813",
                                    "Name": "HL Road Handlebars",
                                    "Color": "NULL",
                                    "ListPrice": "120.27"
                                },
                                {
                                    "ProductID": "814",
                                    "Name": "ML Mountain Frame - Black, 38",
                                    "Color": "Black",
                                    "ListPrice": "348.76"
                                },
                                {
                                    "ProductID": "815",
                                    "Name": "LL Mountain Front Wheel",
                                    "Color": "Black",
                                    "ListPrice": "60.745"
                                },
                                {
                                    "ProductID": "816",
                                    "Name": "ML Mountain Front Wheel",
                                    "Color": "Black",
                                    "ListPrice": "209.025"
                                },
                                {
                                    "ProductID": "817",
                                    "Name": "HL Mountain Front Wheel",
                                    "Color": "Black",
                                    "ListPrice": "300.215"
                                },
                                {
                                    "ProductID": "818",
                                    "Name": "LL Road Front Wheel",
                                    "Color": "Black",
                                    "ListPrice": "85.565"
                                },
                                {
                                    "ProductID": "819",
                                    "Name": "ML Road Front Wheel",
                                    "Color": "Black",
                                    "ListPrice": "248.385"
                                },
                                {
                                    "ProductID": "820",
                                    "Name": "HL Road Front Wheel",
                                    "Color": "Black",
                                    "ListPrice": "330.06"
                                },
                                {
                                    "ProductID": "821",
                                    "Name": "Touring Front Wheel",
                                    "Color": "Black",
                                    "ListPrice": "218.01"
                                },
                                {
                                    "ProductID": "822",
                                    "Name": "ML Road Frame-W - Yellow, 38",
                                    "Color": "Yellow",
                                    "ListPrice": "594.83"
                                },
                                {
                                    "ProductID": "823",
                                    "Name": "LL Mountain Rear Wheel",
                                    "Color": "Black",
                                    "ListPrice": "87.745"
                                },
                                {
                                    "ProductID": "824",
                                    "Name": "ML Mountain Rear Wheel",
                                    "Color": "Black",
                                    "ListPrice": "236.025"
                                },
                                {
                                    "ProductID": "825",
                                    "Name": "HL Mountain Rear Wheel",
                                    "Color": "Black",
                                    "ListPrice": "327.215"
                                },
                                {
                                    "ProductID": "826",
                                    "Name": "LL Road Rear Wheel",
                                    "Color": "Black",
                                    "ListPrice": "112.565"
                                },
                                {
                                    "ProductID": "827",
                                    "Name": "ML Road Rear Wheel",
                                    "Color": "Black",
                                    "ListPrice": "275.385"
                                },
                                {
                                    "ProductID": "828",
                                    "Name": "HL Road Rear Wheel",
                                    "Color": "Black",
                                    "ListPrice": "357.06"
                                },
                                {
                                    "ProductID": "829",
                                    "Name": "Touring Rear Wheel",
                                    "Color": "Black",
                                    "ListPrice": "245.01"
                                },
                                {
                                    "ProductID": "830",
                                    "Name": "ML Mountain Frame - Black, 40",
                                    "Color": "Black",
                                    "ListPrice": "348.76"
                                },
                                {
                                    "ProductID": "831",
                                    "Name": "ML Mountain Frame - Black, 44",
                                    "Color": "Black",
                                    "ListPrice": "348.76"
                                },
                                {
                                    "ProductID": "832",
                                    "Name": "ML Mountain Frame - Black, 48",
                                    "Color": "Black",
                                    "ListPrice": "348.76"
                                },
                                {
                                    "ProductID": "833",
                                    "Name": "ML Road Frame-W - Yellow, 40",
                                    "Color": "Yellow",
                                    "ListPrice": "594.83"
                                },
                                {
                                    "ProductID": "834",
                                    "Name": "ML Road Frame-W - Yellow, 42",
                                    "Color": "Yellow",
                                    "ListPrice": "594.83"
                                },
                                {
                                    "ProductID": "835",
                                    "Name": "ML Road Frame-W - Yellow, 44",
                                    "Color": "Yellow",
                                    "ListPrice": "594.83"
                                },
                                {
                                    "ProductID": "836",
                                    "Name": "ML Road Frame-W - Yellow, 48",
                                    "Color": "Yellow",
                                    "ListPrice": "594.83"
                                },
                                {
                                    "ProductID": "837",
                                    "Name": "HL Road Frame - Black, 62",
                                    "Color": "Black",
                                    "ListPrice": "1431.50"
                                },
                                {
                                    "ProductID": "838",
                                    "Name": "HL Road Frame - Black, 44",
                                    "Color": "Black",
                                    "ListPrice": "1431.50"
                                },
                                {
                                    "ProductID": "839",
                                    "Name": "HL Road Frame - Black, 48",
                                    "Color": "Black",
                                    "ListPrice": "1431.50"
                                },
                                {
                                    "ProductID": "840",
                                    "Name": "HL Road Frame - Black, 52",
                                    "Color": "Black",
                                    "ListPrice": "1431.50"
                                },
                                {
                                    "ProductID": "841",
                                    "Name": "Men's Sports Shorts, S",
                                    "Color": "Black",
                                    "ListPrice": "59.99"
                                },
                                {
                                    "ProductID": "842",
                                    "Name": "Touring-Panniers, Large",
                                    "Color": "Grey",
                                    "ListPrice": "125.00"
                                },
                                {
                                    "ProductID": "843",
                                    "Name": "Cable Lock",
                                    "Color": "NULL",
                                    "ListPrice": "25.00"
                                },
                                {
                                    "ProductID": "844",
                                    "Name": "Minipump",
                                    "Color": "NULL",
                                    "ListPrice": "19.99"
                                },
                                {
                                    "ProductID": "845",
                                    "Name": "Mountain Pump",
                                    "Color": "NULL",
                                    "ListPrice": "24.99"
                                },
                                {
                                    "ProductID": "846",
                                    "Name": "Taillights - Battery-Powered",
                                    "Color": "NULL",
                                    "ListPrice": "13.99"
                                },
                                {
                                    "ProductID": "847",
                                    "Name": "Headlights - Dual-Beam",
                                    "Color": "NULL",
                                    "ListPrice": "34.99"
                                },
                                {
                                    "ProductID": "848",
                                    "Name": "Headlights - Weatherproof",
                                    "Color": "NULL",
                                    "ListPrice": "44.99"
                                },
                                {
                                    "ProductID": "849",
                                    "Name": "Men's Sports Shorts, M",
                                    "Color": "Black",
                                    "ListPrice": "59.99"
                                },
                                {
                                    "ProductID": "850",
                                    "Name": "Men's Sports Shorts, L",
                                    "Color": "Black",
                                    "ListPrice": "59.99"
                                },
                                {
                                    "ProductID": "851",
                                    "Name": "Men's Sports Shorts, XL",
                                    "Color": "Black",
                                    "ListPrice": "59.99"
                                },
                                {
                                    "ProductID": "852",
                                    "Name": "Women's Tights, S",
                                    "Color": "Black",
                                    "ListPrice": "74.99"
                                },
                                {
                                    "ProductID": "853",
                                    "Name": "Women's Tights, M",
                                    "Color": "Black",
                                    "ListPrice": "74.99"
                                },
                                {
                                    "ProductID": "854",
                                    "Name": "Women's Tights, L",
                                    "Color": "Black",
                                    "ListPrice": "74.99"
                                },
                                {
                                    "ProductID": "855",
                                    "Name": "Men's Bib-Shorts, S",
                                    "Color": "Multi",
                                    "ListPrice": "89.99"
                                },
                                {
                                    "ProductID": "856",
                                    "Name": "Men's Bib-Shorts, M",
                                    "Color": "Multi",
                                    "ListPrice": "89.99"
                                },
                                {
                                    "ProductID": "857",
                                    "Name": "Men's Bib-Shorts, L",
                                    "Color": "Multi",
                                    "ListPrice": "89.99"
                                },
                                {
                                    "ProductID": "858",
                                    "Name": "Half-Finger Gloves, S",
                                    "Color": "Black",
                                    "ListPrice": "24.49"
                                },
                                {
                                    "ProductID": "859",
                                    "Name": "Half-Finger Gloves, M",
                                    "Color": "Black",
                                    "ListPrice": "24.49"
                                },
                                {
                                    "ProductID": "860",
                                    "Name": "Half-Finger Gloves, L",
                                    "Color": "Black",
                                    "ListPrice": "24.49"
                                },
                                {
                                    "ProductID": "861",
                                    "Name": "Full-Finger Gloves, S",
                                    "Color": "Black",
                                    "ListPrice": "37.99"
                                },
                                {
                                    "ProductID": "862",
                                    "Name": "Full-Finger Gloves, M",
                                    "Color": "Black",
                                    "ListPrice": "37.99"
                                },
                                {
                                    "ProductID": "863",
                                    "Name": "Full-Finger Gloves, L",
                                    "Color": "Black",
                                    "ListPrice": "37.99"
                                },
                                {
                                    "ProductID": "864",
                                    "Name": "Classic Vest, S",
                                    "Color": "Blue",
                                    "ListPrice": "63.50"
                                },
                                {
                                    "ProductID": "865",
                                    "Name": "Classic Vest, M",
                                    "Color": "Blue",
                                    "ListPrice": "63.50"
                                },
                                {
                                    "ProductID": "866",
                                    "Name": "Classic Vest, L",
                                    "Color": "Blue",
                                    "ListPrice": "63.50"
                                },
                                {
                                    "ProductID": "867",
                                    "Name": "Women's Mountain Shorts, S",
                                    "Color": "Black",
                                    "ListPrice": "69.99"
                                },
                                {
                                    "ProductID": "868",
                                    "Name": "Women's Mountain Shorts, M",
                                    "Color": "Black",
                                    "ListPrice": "69.99"
                                },
                                {
                                    "ProductID": "869",
                                    "Name": "Women's Mountain Shorts, L",
                                    "Color": "Black",
                                    "ListPrice": "69.99"
                                },
                                {
                                    "ProductID": "870",
                                    "Name": "Water Bottle - 30 oz.",
                                    "Color": "NULL",
                                    "ListPrice": "4.99"
                                },
                                {
                                    "ProductID": "871",
                                    "Name": "Mountain Bottle Cage",
                                    "Color": "NULL",
                                    "ListPrice": "9.99"
                                },
                                {
                                    "ProductID": "872",
                                    "Name": "Road Bottle Cage",
                                    "Color": "NULL",
                                    "ListPrice": "8.99"
                                },
                                {
                                    "ProductID": "873",
                                    "Name": "Patch Kit/8 Patches",
                                    "Color": "NULL",
                                    "ListPrice": "2.29"
                                },
                                {
                                    "ProductID": "874",
                                    "Name": "Racing Socks, M",
                                    "Color": "White",
                                    "ListPrice": "8.99"
                                },
                                {
                                    "ProductID": "875",
                                    "Name": "Racing Socks, L",
                                    "Color": "White",
                                    "ListPrice": "8.99"
                                },
                                {
                                    "ProductID": "876",
                                    "Name": "Hitch Rack - 4-Bike",
                                    "Color": "NULL",
                                    "ListPrice": "120.00"
                                },
                                {
                                    "ProductID": "877",
                                    "Name": "Bike Wash - Dissolver",
                                    "Color": "NULL",
                                    "ListPrice": "7.95"
                                },
                                {
                                    "ProductID": "878",
                                    "Name": "Fender Set - Mountain",
                                    "Color": "NULL",
                                    "ListPrice": "21.98"
                                },
                                {
                                    "ProductID": "879",
                                    "Name": "All-Purpose Bike Stand",
                                    "Color": "NULL",
                                    "ListPrice": "159.00"
                                },
                                {
                                    "ProductID": "880",
                                    "Name": "Hydration Pack - 70 oz.",
                                    "Color": "Silver",
                                    "ListPrice": "54.99"
                                },
                                {
                                    "ProductID": "881",
                                    "Name": "Short-Sleeve Classic Jersey, S",
                                    "Color": "Yellow",
                                    "ListPrice": "53.99"
                                },
                                {
                                    "ProductID": "882",
                                    "Name": "Short-Sleeve Classic Jersey, M",
                                    "Color": "Yellow",
                                    "ListPrice": "53.99"
                                },
                                {
                                    "ProductID": "883",
                                    "Name": "Short-Sleeve Classic Jersey, L",
                                    "Color": "Yellow",
                                    "ListPrice": "53.99"
                                },
                                {
                                    "ProductID": "884",
                                    "Name": "Short-Sleeve Classic Jersey, XL",
                                    "Color": "Yellow",
                                    "ListPrice": "53.99"
                                },
                                {
                                    "ProductID": "885",
                                    "Name": "HL Touring Frame - Yellow, 60",
                                    "Color": "Yellow",
                                    "ListPrice": "1003.91"
                                },
                                {
                                    "ProductID": "886",
                                    "Name": "LL Touring Frame - Yellow, 62",
                                    "Color": "Yellow",
                                    "ListPrice": "333.42"
                                },
                                {
                                    "ProductID": "887",
                                    "Name": "HL Touring Frame - Yellow, 46",
                                    "Color": "Yellow",
                                    "ListPrice": "1003.91"
                                },
                                {
                                    "ProductID": "888",
                                    "Name": "HL Touring Frame - Yellow, 50",
                                    "Color": "Yellow",
                                    "ListPrice": "1003.91"
                                },
                                {
                                    "ProductID": "889",
                                    "Name": "HL Touring Frame - Yellow, 54",
                                    "Color": "Yellow",
                                    "ListPrice": "1003.91"
                                },
                                {
                                    "ProductID": "890",
                                    "Name": "HL Touring Frame - Blue, 46",
                                    "Color": "Blue",
                                    "ListPrice": "1003.91"
                                },
                                {
                                    "ProductID": "891",
                                    "Name": "HL Touring Frame - Blue, 50",
                                    "Color": "Blue",
                                    "ListPrice": "1003.91"
                                },
                                {
                                    "ProductID": "892",
                                    "Name": "HL Touring Frame - Blue, 54",
                                    "Color": "Blue",
                                    "ListPrice": "1003.91"
                                },
                                {
                                    "ProductID": "893",
                                    "Name": "HL Touring Frame - Blue, 60",
                                    "Color": "Blue",
                                    "ListPrice": "1003.91"
                                },
                                {
                                    "ProductID": "894",
                                    "Name": "Rear Derailleur",
                                    "Color": "Silver",
                                    "ListPrice": "121.46"
                                },
                                {
                                    "ProductID": "895",
                                    "Name": "LL Touring Frame - Blue, 50",
                                    "Color": "Blue",
                                    "ListPrice": "333.42"
                                },
                                {
                                    "ProductID": "896",
                                    "Name": "LL Touring Frame - Blue, 54",
                                    "Color": "Blue",
                                    "ListPrice": "333.42"
                                },
                                {
                                    "ProductID": "897",
                                    "Name": "LL Touring Frame - Blue, 58",
                                    "Color": "Blue",
                                    "ListPrice": "333.42"
                                },
                                {
                                    "ProductID": "898",
                                    "Name": "LL Touring Frame - Blue, 62",
                                    "Color": "Blue",
                                    "ListPrice": "333.42"
                                },
                                {
                                    "ProductID": "899",
                                    "Name": "LL Touring Frame - Yellow, 44",
                                    "Color": "Yellow",
                                    "ListPrice": "333.42"
                                },
                                {
                                    "ProductID": "900",
                                    "Name": "LL Touring Frame - Yellow, 50",
                                    "Color": "Yellow",
                                    "ListPrice": "333.42"
                                },
                                {
                                    "ProductID": "901",
                                    "Name": "LL Touring Frame - Yellow, 54",
                                    "Color": "Yellow",
                                    "ListPrice": "333.42"
                                },
                                {
                                    "ProductID": "902",
                                    "Name": "LL Touring Frame - Yellow, 58",
                                    "Color": "Yellow",
                                    "ListPrice": "333.42"
                                },
                                {
                                    "ProductID": "903",
                                    "Name": "LL Touring Frame - Blue, 44",
                                    "Color": "Blue",
                                    "ListPrice": "333.42"
                                },
                                {
                                    "ProductID": "904",
                                    "Name": "ML Mountain Frame-W - Silver, 40",
                                    "Color": "Silver",
                                    "ListPrice": "364.09"
                                },
                                {
                                    "ProductID": "905",
                                    "Name": "ML Mountain Frame-W - Silver, 42",
                                    "Color": "Silver",
                                    "ListPrice": "364.09"
                                },
                                {
                                    "ProductID": "906",
                                    "Name": "ML Mountain Frame-W - Silver, 46",
                                    "Color": "Silver",
                                    "ListPrice": "364.09"
                                },
                                {
                                    "ProductID": "907",
                                    "Name": "Rear Brakes",
                                    "Color": "Silver",
                                    "ListPrice": "106.50"
                                },
                                {
                                    "ProductID": "908",
                                    "Name": "LL Mountain Seat/Saddle",
                                    "Color": "NULL",
                                    "ListPrice": "27.12"
                                },
                                {
                                    "ProductID": "909",
                                    "Name": "ML Mountain Seat/Saddle",
                                    "Color": "NULL",
                                    "ListPrice": "39.14"
                                },
                                {
                                    "ProductID": "910",
                                    "Name": "HL Mountain Seat/Saddle",
                                    "Color": "NULL",
                                    "ListPrice": "52.64"
                                },
                                {
                                    "ProductID": "911",
                                    "Name": "LL Road Seat/Saddle",
                                    "Color": "NULL",
                                    "ListPrice": "27.12"
                                },
                                {
                                    "ProductID": "912",
                                    "Name": "ML Road Seat/Saddle",
                                    "Color": "NULL",
                                    "ListPrice": "39.14"
                                },
                                {
                                    "ProductID": "913",
                                    "Name": "HL Road Seat/Saddle",
                                    "Color": "NULL",
                                    "ListPrice": "52.64"
                                },
                                {
                                    "ProductID": "914",
                                    "Name": "LL Touring Seat/Saddle",
                                    "Color": "NULL",
                                    "ListPrice": "27.12"
                                },
                                {
                                    "ProductID": "915",
                                    "Name": "ML Touring Seat/Saddle",
                                    "Color": "NULL",
                                    "ListPrice": "39.14"
                                },
                                {
                                    "ProductID": "916",
                                    "Name": "HL Touring Seat/Saddle",
                                    "Color": "NULL",
                                    "ListPrice": "52.64"
                                },
                                {
                                    "ProductID": "917",
                                    "Name": "LL Mountain Frame - Silver, 42",
                                    "Color": "Silver",
                                    "ListPrice": "264.05"
                                },
                                {
                                    "ProductID": "918",
                                    "Name": "LL Mountain Frame - Silver, 44",
                                    "Color": "Silver",
                                    "ListPrice": "264.05"
                                },
                                {
                                    "ProductID": "919",
                                    "Name": "LL Mountain Frame - Silver, 48",
                                    "Color": "Silver",
                                    "ListPrice": "264.05"
                                },
                                {
                                    "ProductID": "920",
                                    "Name": "LL Mountain Frame - Silver, 52",
                                    "Color": "Silver",
                                    "ListPrice": "264.05"
                                },
                                {
                                    "ProductID": "921",
                                    "Name": "Mountain Tire Tube",
                                    "Color": "NULL",
                                    "ListPrice": "4.99"
                                },
                                {
                                    "ProductID": "922",
                                    "Name": "Road Tire Tube",
                                    "Color": "NULL",
                                    "ListPrice": "3.99"
                                },
                                {
                                    "ProductID": "923",
                                    "Name": "Touring Tire Tube",
                                    "Color": "NULL",
                                    "ListPrice": "4.99"
                                },
                                {
                                    "ProductID": "924",
                                    "Name": "LL Mountain Frame - Black, 42",
                                    "Color": "Black",
                                    "ListPrice": "249.79"
                                },
                                {
                                    "ProductID": "925",
                                    "Name": "LL Mountain Frame - Black, 44",
                                    "Color": "Black",
                                    "ListPrice": "249.79"
                                },
                                {
                                    "ProductID": "926",
                                    "Name": "LL Mountain Frame - Black, 48",
                                    "Color": "Black",
                                    "ListPrice": "249.79"
                                },
                                {
                                    "ProductID": "927",
                                    "Name": "LL Mountain Frame - Black, 52",
                                    "Color": "Black",
                                    "ListPrice": "249.79"
                                },
                                {
                                    "ProductID": "928",
                                    "Name": "LL Mountain Tire",
                                    "Color": "NULL",
                                    "ListPrice": "24.99"
                                },
                                {
                                    "ProductID": "929",
                                    "Name": "ML Mountain Tire",
                                    "Color": "NULL",
                                    "ListPrice": "29.99"
                                },
                                {
                                    "ProductID": "930",
                                    "Name": "HL Mountain Tire",
                                    "Color": "NULL",
                                    "ListPrice": "35.00"
                                },
                                {
                                    "ProductID": "931",
                                    "Name": "LL Road Tire",
                                    "Color": "NULL",
                                    "ListPrice": "21.49"
                                },
                                {
                                    "ProductID": "932",
                                    "Name": "ML Road Tire",
                                    "Color": "NULL",
                                    "ListPrice": "24.99"
                                },
                                {
                                    "ProductID": "933",
                                    "Name": "HL Road Tire",
                                    "Color": "NULL",
                                    "ListPrice": "32.60"
                                },
                                {
                                    "ProductID": "934",
                                    "Name": "Touring Tire",
                                    "Color": "NULL",
                                    "ListPrice": "28.99"
                                },
                                {
                                    "ProductID": "935",
                                    "Name": "LL Mountain Pedal",
                                    "Color": "Silver/Black",
                                    "ListPrice": "40.49"
                                },
                                {
                                    "ProductID": "936",
                                    "Name": "ML Mountain Pedal",
                                    "Color": "Silver/Black",
                                    "ListPrice": "62.09"
                                },
                                {
                                    "ProductID": "937",
                                    "Name": "HL Mountain Pedal",
                                    "Color": "Silver/Black",
                                    "ListPrice": "80.99"
                                },
                                {
                                    "ProductID": "938",
                                    "Name": "LL Road Pedal",
                                    "Color": "Silver/Black",
                                    "ListPrice": "40.49"
                                },
                                {
                                    "ProductID": "939",
                                    "Name": "ML Road Pedal",
                                    "Color": "Silver/Black",
                                    "ListPrice": "62.09"
                                },
                                {
                                    "ProductID": "940",
                                    "Name": "HL Road Pedal",
                                    "Color": "Silver/Black",
                                    "ListPrice": "80.99"
                                },
                                {
                                    "ProductID": "941",
                                    "Name": "Touring Pedal",
                                    "Color": "Silver/Black",
                                    "ListPrice": "80.99"
                                },
                                {
                                    "ProductID": "942",
                                    "Name": "ML Mountain Frame-W - Silver, 38",
                                    "Color": "Silver",
                                    "ListPrice": "364.09"
                                },
                                {
                                    "ProductID": "943",
                                    "Name": "LL Mountain Frame - Black, 40",
                                    "Color": "Black",
                                    "ListPrice": "249.79"
                                },
                                {
                                    "ProductID": "944",
                                    "Name": "LL Mountain Frame - Silver, 40",
                                    "Color": "Silver",
                                    "ListPrice": "264.05"
                                },
                                {
                                    "ProductID": "945",
                                    "Name": "Front Derailleur",
                                    "Color": "Silver",
                                    "ListPrice": "91.49"
                                },
                                {
                                    "ProductID": "946",
                                    "Name": "LL Touring Handlebars",
                                    "Color": "NULL",
                                    "ListPrice": "46.09"
                                },
                                {
                                    "ProductID": "947",
                                    "Name": "HL Touring Handlebars",
                                    "Color": "NULL",
                                    "ListPrice": "91.57"
                                },
                                {
                                    "ProductID": "948",
                                    "Name": "Front Brakes",
                                    "Color": "Silver",
                                    "ListPrice": "106.50"
                                },
                                {
                                    "ProductID": "949",
                                    "Name": "LL Crankset",
                                    "Color": "Black",
                                    "ListPrice": "175.49"
                                },
                                {
                                    "ProductID": "950",
                                    "Name": "ML Crankset",
                                    "Color": "Black",
                                    "ListPrice": "256.49"
                                },
                                {
                                    "ProductID": "951",
                                    "Name": "HL Crankset",
                                    "Color": "Black",
                                    "ListPrice": "404.99"
                                },
                                {
                                    "ProductID": "952",
                                    "Name": "Chain",
                                    "Color": "Silver",
                                    "ListPrice": "20.24"
                                },
                                {
                                    "ProductID": "953",
                                    "Name": "Touring-2000 Blue, 60",
                                    "Color": "Blue",
                                    "ListPrice": "1214.85"
                                },
                                {
                                    "ProductID": "954",
                                    "Name": "Touring-1000 Yellow, 46",
                                    "Color": "Yellow",
                                    "ListPrice": "2384.07"
                                },
                                {
                                    "ProductID": "955",
                                    "Name": "Touring-1000 Yellow, 50",
                                    "Color": "Yellow",
                                    "ListPrice": "2384.07"
                                },
                                {
                                    "ProductID": "956",
                                    "Name": "Touring-1000 Yellow, 54",
                                    "Color": "Yellow",
                                    "ListPrice": "2384.07"
                                },
                                {
                                    "ProductID": "957",
                                    "Name": "Touring-1000 Yellow, 60",
                                    "Color": "Yellow",
                                    "ListPrice": "2384.07"
                                },
                                {
                                    "ProductID": "958",
                                    "Name": "Touring-3000 Blue, 54",
                                    "Color": "Blue",
                                    "ListPrice": "742.35"
                                },
                                {
                                    "ProductID": "959",
                                    "Name": "Touring-3000 Blue, 58",
                                    "Color": "Blue",
                                    "ListPrice": "742.35"
                                },
                                {
                                    "ProductID": "960",
                                    "Name": "Touring-3000 Blue, 62",
                                    "Color": "Blue",
                                    "ListPrice": "742.35"
                                },
                                {
                                    "ProductID": "961",
                                    "Name": "Touring-3000 Yellow, 44",
                                    "Color": "Yellow",
                                    "ListPrice": "742.35"
                                },
                                {
                                    "ProductID": "962",
                                    "Name": "Touring-3000 Yellow, 50",
                                    "Color": "Yellow",
                                    "ListPrice": "742.35"
                                },
                                {
                                    "ProductID": "963",
                                    "Name": "Touring-3000 Yellow, 54",
                                    "Color": "Yellow",
                                    "ListPrice": "742.35"
                                },
                                {
                                    "ProductID": "964",
                                    "Name": "Touring-3000 Yellow, 58",
                                    "Color": "Yellow",
                                    "ListPrice": "742.35"
                                },
                                {
                                    "ProductID": "965",
                                    "Name": "Touring-3000 Yellow, 62",
                                    "Color": "Yellow",
                                    "ListPrice": "742.35"
                                },
                                {
                                    "ProductID": "966",
                                    "Name": "Touring-1000 Blue, 46",
                                    "Color": "Blue",
                                    "ListPrice": "2384.07"
                                },
                                {
                                    "ProductID": "967",
                                    "Name": "Touring-1000 Blue, 50",
                                    "Color": "Blue",
                                    "ListPrice": "2384.07"
                                },
                                {
                                    "ProductID": "968",
                                    "Name": "Touring-1000 Blue, 54",
                                    "Color": "Blue",
                                    "ListPrice": "2384.07"
                                },
                                {
                                    "ProductID": "969",
                                    "Name": "Touring-1000 Blue, 60",
                                    "Color": "Blue",
                                    "ListPrice": "2384.07"
                                },
                                {
                                    "ProductID": "970",
                                    "Name": "Touring-2000 Blue, 46",
                                    "Color": "Blue",
                                    "ListPrice": "1214.85"
                                },
                                {
                                    "ProductID": "971",
                                    "Name": "Touring-2000 Blue, 50",
                                    "Color": "Blue",
                                    "ListPrice": "1214.85"
                                },
                                {
                                    "ProductID": "972",
                                    "Name": "Touring-2000 Blue, 54",
                                    "Color": "Blue",
                                    "ListPrice": "1214.85"
                                },
                                {
                                    "ProductID": "973",
                                    "Name": "Road-350-W Yellow, 40",
                                    "Color": "Yellow",
                                    "ListPrice": "1700.99"
                                },
                                {
                                    "ProductID": "974",
                                    "Name": "Road-350-W Yellow, 42",
                                    "Color": "Yellow",
                                    "ListPrice": "1700.99"
                                },
                                {
                                    "ProductID": "975",
                                    "Name": "Road-350-W Yellow, 44",
                                    "Color": "Yellow",
                                    "ListPrice": "1700.99"
                                },
                                {
                                    "ProductID": "976",
                                    "Name": "Road-350-W Yellow, 48",
                                    "Color": "Yellow",
                                    "ListPrice": "1700.99"
                                },
                                {
                                    "ProductID": "977",
                                    "Name": "Road-750 Black, 58",
                                    "Color": "Black",
                                    "ListPrice": "539.99"
                                },
                                {
                                    "ProductID": "978",
                                    "Name": "Touring-3000 Blue, 44",
                                    "Color": "Blue",
                                    "ListPrice": "742.35"
                                },
                                {
                                    "ProductID": "979",
                                    "Name": "Touring-3000 Blue, 50",
                                    "Color": "Blue",
                                    "ListPrice": "742.35"
                                },
                                {
                                    "ProductID": "980",
                                    "Name": "Mountain-400-W Silver, 38",
                                    "Color": "Silver",
                                    "ListPrice": "769.49"
                                },
                                {
                                    "ProductID": "981",
                                    "Name": "Mountain-400-W Silver, 40",
                                    "Color": "Silver",
                                    "ListPrice": "769.49"
                                },
                                {
                                    "ProductID": "982",
                                    "Name": "Mountain-400-W Silver, 42",
                                    "Color": "Silver",
                                    "ListPrice": "769.49"
                                },
                                {
                                    "ProductID": "983",
                                    "Name": "Mountain-400-W Silver, 46",
                                    "Color": "Silver",
                                    "ListPrice": "769.49"
                                },
                                {
                                    "ProductID": "984",
                                    "Name": "Mountain-500 Silver, 40",
                                    "Color": "Silver",
                                    "ListPrice": "564.99"
                                },
                                {
                                    "ProductID": "985",
                                    "Name": "Mountain-500 Silver, 42",
                                    "Color": "Silver",
                                    "ListPrice": "564.99"
                                },
                                {
                                    "ProductID": "986",
                                    "Name": "Mountain-500 Silver, 44",
                                    "Color": "Silver",
                                    "ListPrice": "564.99"
                                },
                                {
                                    "ProductID": "987",
                                    "Name": "Mountain-500 Silver, 48",
                                    "Color": "Silver",
                                    "ListPrice": "564.99"
                                },
                                {
                                    "ProductID": "988",
                                    "Name": "Mountain-500 Silver, 52",
                                    "Color": "Silver",
                                    "ListPrice": "564.99"
                                },
                                {
                                    "ProductID": "989",
                                    "Name": "Mountain-500 Black, 40",
                                    "Color": "Black",
                                    "ListPrice": "539.99"
                                },
                                {
                                    "ProductID": "990",
                                    "Name": "Mountain-500 Black, 42",
                                    "Color": "Black",
                                    "ListPrice": "539.99"
                                },
                                {
                                    "ProductID": "991",
                                    "Name": "Mountain-500 Black, 44",
                                    "Color": "Black",
                                    "ListPrice": "539.99"
                                },
                                {
                                    "ProductID": "992",
                                    "Name": "Mountain-500 Black, 48",
                                    "Color": "Black",
                                    "ListPrice": "539.99"
                                },
                                {
                                    "ProductID": "993",
                                    "Name": "Mountain-500 Black, 52",
                                    "Color": "Black",
                                    "ListPrice": "539.99"
                                },
                                {
                                    "ProductID": "994",
                                    "Name": "LL Bottom Bracket",
                                    "Color": "NULL",
                                    "ListPrice": "53.99"
                                },
                                {
                                    "ProductID": "995",
                                    "Name": "ML Bottom Bracket",
                                    "Color": "NULL",
                                    "ListPrice": "101.24"
                                },
                                {
                                    "ProductID": "996",
                                    "Name": "HL Bottom Bracket",
                                    "Color": "NULL",
                                    "ListPrice": "121.49"
                                },
                                {
                                    "ProductID": "997",
                                    "Name": "Road-750 Black, 44",
                                    "Color": "Black",
                                    "ListPrice": "539.99"
                                },
                                {
                                    "ProductID": "998",
                                    "Name": "Road-750 Black, 48",
                                    "Color": "Black",
                                    "ListPrice": "539.99"
                                },
                                {
                                    "ProductID": "999",
                                    "Name": "Road-750 Black, 52",
                                    "Color": "Black",
                                    "ListPrice": "539.99"
                                }
                            ]
                        },
                        "text/html": [
                            "<table>",
                            "<tr><th>ProductID</th><th>Name</th><th>Color</th><th>ListPrice</th></tr>",
                            "<tr><td>1</td><td>Adjustable Race</td><td>NULL</td><td>0.00</td></tr>",
                            "<tr><td>2</td><td>Bearing Ball</td><td>NULL</td><td>0.00</td></tr>",
                            "<tr><td>3</td><td>BB Ball Bearing</td><td>NULL</td><td>0.00</td></tr>",
                            "<tr><td>4</td><td>Headset Ball Bearings</td><td>NULL</td><td>0.00</td></tr>",
                            "<tr><td>316</td><td>Blade</td><td>NULL</td><td>0.00</td></tr>",
                            "<tr><td>317</td><td>LL Crankarm</td><td>Black</td><td>0.00</td></tr>",
                            "<tr><td>318</td><td>ML Crankarm</td><td>Black</td><td>0.00</td></tr>",
                            "<tr><td>319</td><td>HL Crankarm</td><td>Black</td><td>0.00</td></tr>",
                            "<tr><td>320</td><td>Chainring Bolts</td><td>Silver</td><td>0.00</td></tr>",
                            "<tr><td>321</td><td>Chainring Nut</td><td>Silver</td><td>0.00</td></tr>",
                            "<tr><td>322</td><td>Chainring</td><td>Black</td><td>0.00</td></tr>",
                            "<tr><td>323</td><td>Crown Race</td><td>NULL</td><td>0.00</td></tr>",
                            "<tr><td>324</td><td>Chain Stays</td><td>NULL</td><td>0.00</td></tr>",
                            "<tr><td>325</td><td>Decal 1</td><td>NULL</td><td>0.00</td></tr>",
                            "<tr><td>326</td><td>Decal 2</td><td>NULL</td><td>0.00</td></tr>",
                            "<tr><td>327</td><td>Down Tube</td><td>NULL</td><td>0.00</td></tr>",
                            "<tr><td>328</td><td>Mountain End Caps</td><td>NULL</td><td>0.00</td></tr>",
                            "<tr><td>329</td><td>Road End Caps</td><td>NULL</td><td>0.00</td></tr>",
                            "<tr><td>330</td><td>Touring End Caps</td><td>NULL</td><td>0.00</td></tr>",
                            "<tr><td>331</td><td>Fork End</td><td>NULL</td><td>0.00</td></tr>",
                            "<tr><td>332</td><td>Freewheel</td><td>Silver</td><td>0.00</td></tr>",
                            "<tr><td>341</td><td>Flat Washer 1</td><td>NULL</td><td>0.00</td></tr>",
                            "<tr><td>342</td><td>Flat Washer 6</td><td>NULL</td><td>0.00</td></tr>",
                            "<tr><td>343</td><td>Flat Washer 2</td><td>NULL</td><td>0.00</td></tr>",
                            "<tr><td>344</td><td>Flat Washer 9</td><td>NULL</td><td>0.00</td></tr>",
                            "<tr><td>345</td><td>Flat Washer 4</td><td>NULL</td><td>0.00</td></tr>",
                            "<tr><td>346</td><td>Flat Washer 3</td><td>NULL</td><td>0.00</td></tr>",
                            "<tr><td>347</td><td>Flat Washer 8</td><td>NULL</td><td>0.00</td></tr>",
                            "<tr><td>348</td><td>Flat Washer 5</td><td>NULL</td><td>0.00</td></tr>",
                            "<tr><td>349</td><td>Flat Washer 7</td><td>NULL</td><td>0.00</td></tr>",
                            "<tr><td>350</td><td>Fork Crown</td><td>NULL</td><td>0.00</td></tr>",
                            "<tr><td>351</td><td>Front Derailleur Cage</td><td>Silver</td><td>0.00</td></tr>",
                            "<tr><td>352</td><td>Front Derailleur Linkage</td><td>Silver</td><td>0.00</td></tr>",
                            "<tr><td>355</td><td>Guide Pulley</td><td>NULL</td><td>0.00</td></tr>",
                            "<tr><td>356</td><td>LL Grip Tape</td><td>NULL</td><td>0.00</td></tr>",
                            "<tr><td>357</td><td>ML Grip Tape</td><td>NULL</td><td>0.00</td></tr>",
                            "<tr><td>358</td><td>HL Grip Tape</td><td>NULL</td><td>0.00</td></tr>",
                            "<tr><td>359</td><td>Thin-Jam Hex Nut 9</td><td>NULL</td><td>0.00</td></tr>",
                            "<tr><td>360</td><td>Thin-Jam Hex Nut 10</td><td>NULL</td><td>0.00</td></tr>",
                            "<tr><td>361</td><td>Thin-Jam Hex Nut 1</td><td>NULL</td><td>0.00</td></tr>",
                            "<tr><td>362</td><td>Thin-Jam Hex Nut 2</td><td>NULL</td><td>0.00</td></tr>",
                            "<tr><td>363</td><td>Thin-Jam Hex Nut 15</td><td>NULL</td><td>0.00</td></tr>",
                            "<tr><td>364</td><td>Thin-Jam Hex Nut 16</td><td>NULL</td><td>0.00</td></tr>",
                            "<tr><td>365</td><td>Thin-Jam Hex Nut 5</td><td>NULL</td><td>0.00</td></tr>",
                            "<tr><td>366</td><td>Thin-Jam Hex Nut 6</td><td>NULL</td><td>0.00</td></tr>",
                            "<tr><td>367</td><td>Thin-Jam Hex Nut 3</td><td>NULL</td><td>0.00</td></tr>",
                            "<tr><td>368</td><td>Thin-Jam Hex Nut 4</td><td>NULL</td><td>0.00</td></tr>",
                            "<tr><td>369</td><td>Thin-Jam Hex Nut 13</td><td>NULL</td><td>0.00</td></tr>",
                            "<tr><td>370</td><td>Thin-Jam Hex Nut 14</td><td>NULL</td><td>0.00</td></tr>",
                            "<tr><td>371</td><td>Thin-Jam Hex Nut 7</td><td>NULL</td><td>0.00</td></tr>",
                            "<tr><td>372</td><td>Thin-Jam Hex Nut 8</td><td>NULL</td><td>0.00</td></tr>",
                            "<tr><td>373</td><td>Thin-Jam Hex Nut 12</td><td>NULL</td><td>0.00</td></tr>",
                            "<tr><td>374</td><td>Thin-Jam Hex Nut 11</td><td>NULL</td><td>0.00</td></tr>",
                            "<tr><td>375</td><td>Hex Nut 5</td><td>NULL</td><td>0.00</td></tr>",
                            "<tr><td>376</td><td>Hex Nut 6</td><td>NULL</td><td>0.00</td></tr>",
                            "<tr><td>377</td><td>Hex Nut 16</td><td>NULL</td><td>0.00</td></tr>",
                            "<tr><td>378</td><td>Hex Nut 17</td><td>NULL</td><td>0.00</td></tr>",
                            "<tr><td>379</td><td>Hex Nut 7</td><td>NULL</td><td>0.00</td></tr>",
                            "<tr><td>380</td><td>Hex Nut 8</td><td>NULL</td><td>0.00</td></tr>",
                            "<tr><td>381</td><td>Hex Nut 9</td><td>NULL</td><td>0.00</td></tr>",
                            "<tr><td>382</td><td>Hex Nut 22</td><td>NULL</td><td>0.00</td></tr>",
                            "<tr><td>383</td><td>Hex Nut 23</td><td>NULL</td><td>0.00</td></tr>",
                            "<tr><td>384</td><td>Hex Nut 12</td><td>NULL</td><td>0.00</td></tr>",
                            "<tr><td>385</td><td>Hex Nut 13</td><td>NULL</td><td>0.00</td></tr>",
                            "<tr><td>386</td><td>Hex Nut 1</td><td>NULL</td><td>0.00</td></tr>",
                            "<tr><td>387</td><td>Hex Nut 10</td><td>NULL</td><td>0.00</td></tr>",
                            "<tr><td>388</td><td>Hex Nut 11</td><td>NULL</td><td>0.00</td></tr>",
                            "<tr><td>389</td><td>Hex Nut 2</td><td>NULL</td><td>0.00</td></tr>",
                            "<tr><td>390</td><td>Hex Nut 20</td><td>NULL</td><td>0.00</td></tr>",
                            "<tr><td>391</td><td>Hex Nut 21</td><td>NULL</td><td>0.00</td></tr>",
                            "<tr><td>392</td><td>Hex Nut 3</td><td>NULL</td><td>0.00</td></tr>",
                            "<tr><td>393</td><td>Hex Nut 14</td><td>NULL</td><td>0.00</td></tr>",
                            "<tr><td>394</td><td>Hex Nut 15</td><td>NULL</td><td>0.00</td></tr>",
                            "<tr><td>395</td><td>Hex Nut 4</td><td>NULL</td><td>0.00</td></tr>",
                            "<tr><td>396</td><td>Hex Nut 18</td><td>NULL</td><td>0.00</td></tr>",
                            "<tr><td>397</td><td>Hex Nut 19</td><td>NULL</td><td>0.00</td></tr>",
                            "<tr><td>398</td><td>Handlebar Tube</td><td>NULL</td><td>0.00</td></tr>",
                            "<tr><td>399</td><td>Head Tube</td><td>NULL</td><td>0.00</td></tr>",
                            "<tr><td>400</td><td>LL Hub</td><td>NULL</td><td>0.00</td></tr>",
                            "<tr><td>401</td><td>HL Hub</td><td>NULL</td><td>0.00</td></tr>",
                            "<tr><td>402</td><td>Keyed Washer</td><td>NULL</td><td>0.00</td></tr>",
                            "<tr><td>403</td><td>External Lock Washer 3</td><td>NULL</td><td>0.00</td></tr>",
                            "<tr><td>404</td><td>External Lock Washer 4</td><td>NULL</td><td>0.00</td></tr>",
                            "<tr><td>405</td><td>External Lock Washer 9</td><td>NULL</td><td>0.00</td></tr>",
                            "<tr><td>406</td><td>External Lock Washer 5</td><td>NULL</td><td>0.00</td></tr>",
                            "<tr><td>407</td><td>External Lock Washer 7</td><td>NULL</td><td>0.00</td></tr>",
                            "<tr><td>408</td><td>External Lock Washer 6</td><td>NULL</td><td>0.00</td></tr>",
                            "<tr><td>409</td><td>External Lock Washer 1</td><td>NULL</td><td>0.00</td></tr>",
                            "<tr><td>410</td><td>External Lock Washer 8</td><td>NULL</td><td>0.00</td></tr>",
                            "<tr><td>411</td><td>External Lock Washer 2</td><td>NULL</td><td>0.00</td></tr>",
                            "<tr><td>412</td><td>Internal Lock Washer 3</td><td>NULL</td><td>0.00</td></tr>",
                            "<tr><td>413</td><td>Internal Lock Washer 4</td><td>NULL</td><td>0.00</td></tr>",
                            "<tr><td>414</td><td>Internal Lock Washer 9</td><td>NULL</td><td>0.00</td></tr>",
                            "<tr><td>415</td><td>Internal Lock Washer 5</td><td>NULL</td><td>0.00</td></tr>",
                            "<tr><td>416</td><td>Internal Lock Washer 7</td><td>NULL</td><td>0.00</td></tr>",
                            "<tr><td>417</td><td>Internal Lock Washer 6</td><td>NULL</td><td>0.00</td></tr>",
                            "<tr><td>418</td><td>Internal Lock Washer 10</td><td>NULL</td><td>0.00</td></tr>",
                            "<tr><td>419</td><td>Internal Lock Washer 1</td><td>NULL</td><td>0.00</td></tr>",
                            "<tr><td>420</td><td>Internal Lock Washer 8</td><td>NULL</td><td>0.00</td></tr>",
                            "<tr><td>421</td><td>Internal Lock Washer 2</td><td>NULL</td><td>0.00</td></tr>",
                            "<tr><td>422</td><td>Thin-Jam Lock Nut 9</td><td>NULL</td><td>0.00</td></tr>",
                            "<tr><td>423</td><td>Thin-Jam Lock Nut 10</td><td>NULL</td><td>0.00</td></tr>",
                            "<tr><td>424</td><td>Thin-Jam Lock Nut 1</td><td>NULL</td><td>0.00</td></tr>",
                            "<tr><td>425</td><td>Thin-Jam Lock Nut 2</td><td>NULL</td><td>0.00</td></tr>",
                            "<tr><td>426</td><td>Thin-Jam Lock Nut 15</td><td>NULL</td><td>0.00</td></tr>",
                            "<tr><td>427</td><td>Thin-Jam Lock Nut 16</td><td>NULL</td><td>0.00</td></tr>",
                            "<tr><td>428</td><td>Thin-Jam Lock Nut 5</td><td>NULL</td><td>0.00</td></tr>",
                            "<tr><td>429</td><td>Thin-Jam Lock Nut 6</td><td>NULL</td><td>0.00</td></tr>",
                            "<tr><td>430</td><td>Thin-Jam Lock Nut 3</td><td>NULL</td><td>0.00</td></tr>",
                            "<tr><td>431</td><td>Thin-Jam Lock Nut 4</td><td>NULL</td><td>0.00</td></tr>",
                            "<tr><td>432</td><td>Thin-Jam Lock Nut 13</td><td>NULL</td><td>0.00</td></tr>",
                            "<tr><td>433</td><td>Thin-Jam Lock Nut 14</td><td>NULL</td><td>0.00</td></tr>",
                            "<tr><td>434</td><td>Thin-Jam Lock Nut 7</td><td>NULL</td><td>0.00</td></tr>",
                            "<tr><td>435</td><td>Thin-Jam Lock Nut 8</td><td>NULL</td><td>0.00</td></tr>",
                            "<tr><td>436</td><td>Thin-Jam Lock Nut 12</td><td>NULL</td><td>0.00</td></tr>",
                            "<tr><td>437</td><td>Thin-Jam Lock Nut 11</td><td>NULL</td><td>0.00</td></tr>",
                            "<tr><td>438</td><td>Lock Nut 5</td><td>NULL</td><td>0.00</td></tr>",
                            "<tr><td>439</td><td>Lock Nut 6</td><td>NULL</td><td>0.00</td></tr>",
                            "<tr><td>440</td><td>Lock Nut 16</td><td>NULL</td><td>0.00</td></tr>",
                            "<tr><td>441</td><td>Lock Nut 17</td><td>NULL</td><td>0.00</td></tr>",
                            "<tr><td>442</td><td>Lock Nut 7</td><td>NULL</td><td>0.00</td></tr>",
                            "<tr><td>443</td><td>Lock Nut 8</td><td>NULL</td><td>0.00</td></tr>",
                            "<tr><td>444</td><td>Lock Nut 9</td><td>NULL</td><td>0.00</td></tr>",
                            "<tr><td>445</td><td>Lock Nut 22</td><td>NULL</td><td>0.00</td></tr>",
                            "<tr><td>446</td><td>Lock Nut 23</td><td>NULL</td><td>0.00</td></tr>",
                            "<tr><td>447</td><td>Lock Nut 12</td><td>NULL</td><td>0.00</td></tr>",
                            "<tr><td>448</td><td>Lock Nut 13</td><td>NULL</td><td>0.00</td></tr>",
                            "<tr><td>449</td><td>Lock Nut 1</td><td>NULL</td><td>0.00</td></tr>",
                            "<tr><td>450</td><td>Lock Nut 10</td><td>NULL</td><td>0.00</td></tr>",
                            "<tr><td>451</td><td>Lock Nut 11</td><td>NULL</td><td>0.00</td></tr>",
                            "<tr><td>452</td><td>Lock Nut 2</td><td>NULL</td><td>0.00</td></tr>",
                            "<tr><td>453</td><td>Lock Nut 20</td><td>NULL</td><td>0.00</td></tr>",
                            "<tr><td>454</td><td>Lock Nut 21</td><td>NULL</td><td>0.00</td></tr>",
                            "<tr><td>455</td><td>Lock Nut 3</td><td>NULL</td><td>0.00</td></tr>",
                            "<tr><td>456</td><td>Lock Nut 14</td><td>NULL</td><td>0.00</td></tr>",
                            "<tr><td>457</td><td>Lock Nut 15</td><td>NULL</td><td>0.00</td></tr>",
                            "<tr><td>458</td><td>Lock Nut 4</td><td>NULL</td><td>0.00</td></tr>",
                            "<tr><td>459</td><td>Lock Nut 19</td><td>NULL</td><td>0.00</td></tr>",
                            "<tr><td>460</td><td>Lock Nut 18</td><td>NULL</td><td>0.00</td></tr>",
                            "<tr><td>461</td><td>Lock Ring</td><td>Silver</td><td>0.00</td></tr>",
                            "<tr><td>462</td><td>Lower Head Race</td><td>NULL</td><td>0.00</td></tr>",
                            "<tr><td>463</td><td>Lock Washer 4</td><td>NULL</td><td>0.00</td></tr>",
                            "<tr><td>464</td><td>Lock Washer 5</td><td>NULL</td><td>0.00</td></tr>",
                            "<tr><td>465</td><td>Lock Washer 10</td><td>NULL</td><td>0.00</td></tr>",
                            "<tr><td>466</td><td>Lock Washer 6</td><td>NULL</td><td>0.00</td></tr>",
                            "<tr><td>467</td><td>Lock Washer 13</td><td>NULL</td><td>0.00</td></tr>",
                            "<tr><td>468</td><td>Lock Washer 8</td><td>NULL</td><td>0.00</td></tr>",
                            "<tr><td>469</td><td>Lock Washer 1</td><td>NULL</td><td>0.00</td></tr>",
                            "<tr><td>470</td><td>Lock Washer 7</td><td>NULL</td><td>0.00</td></tr>",
                            "<tr><td>471</td><td>Lock Washer 12</td><td>NULL</td><td>0.00</td></tr>",
                            "<tr><td>472</td><td>Lock Washer 2</td><td>NULL</td><td>0.00</td></tr>",
                            "<tr><td>473</td><td>Lock Washer 9</td><td>NULL</td><td>0.00</td></tr>",
                            "<tr><td>474</td><td>Lock Washer 3</td><td>NULL</td><td>0.00</td></tr>",
                            "<tr><td>475</td><td>Lock Washer 11</td><td>NULL</td><td>0.00</td></tr>",
                            "<tr><td>476</td><td>Metal Angle</td><td>NULL</td><td>0.00</td></tr>",
                            "<tr><td>477</td><td>Metal Bar 1</td><td>NULL</td><td>0.00</td></tr>",
                            "<tr><td>478</td><td>Metal Bar 2</td><td>NULL</td><td>0.00</td></tr>",
                            "<tr><td>479</td><td>Metal Plate 2</td><td>NULL</td><td>0.00</td></tr>",
                            "<tr><td>480</td><td>Metal Plate 1</td><td>NULL</td><td>0.00</td></tr>",
                            "<tr><td>481</td><td>Metal Plate 3</td><td>NULL</td><td>0.00</td></tr>",
                            "<tr><td>482</td><td>Metal Sheet 2</td><td>NULL</td><td>0.00</td></tr>",
                            "<tr><td>483</td><td>Metal Sheet 3</td><td>NULL</td><td>0.00</td></tr>",
                            "<tr><td>484</td><td>Metal Sheet 7</td><td>NULL</td><td>0.00</td></tr>",
                            "<tr><td>485</td><td>Metal Sheet 4</td><td>NULL</td><td>0.00</td></tr>",
                            "<tr><td>486</td><td>Metal Sheet 5</td><td>NULL</td><td>0.00</td></tr>",
                            "<tr><td>487</td><td>Metal Sheet 6</td><td>NULL</td><td>0.00</td></tr>",
                            "<tr><td>488</td><td>Metal Sheet 1</td><td>NULL</td><td>0.00</td></tr>",
                            "<tr><td>489</td><td>Metal Tread Plate</td><td>NULL</td><td>0.00</td></tr>",
                            "<tr><td>490</td><td>LL Nipple</td><td>NULL</td><td>0.00</td></tr>",
                            "<tr><td>491</td><td>HL Nipple</td><td>NULL</td><td>0.00</td></tr>",
                            "<tr><td>492</td><td>Paint - Black</td><td>NULL</td><td>0.00</td></tr>",
                            "<tr><td>493</td><td>Paint - Red</td><td>NULL</td><td>0.00</td></tr>",
                            "<tr><td>494</td><td>Paint - Silver</td><td>NULL</td><td>0.00</td></tr>",
                            "<tr><td>495</td><td>Paint - Blue</td><td>NULL</td><td>0.00</td></tr>",
                            "<tr><td>496</td><td>Paint - Yellow</td><td>NULL</td><td>0.00</td></tr>",
                            "<tr><td>497</td><td>Pinch Bolt</td><td>NULL</td><td>0.00</td></tr>",
                            "<tr><td>504</td><td>Cup-Shaped Race</td><td>NULL</td><td>0.00</td></tr>",
                            "<tr><td>505</td><td>Cone-Shaped Race</td><td>NULL</td><td>0.00</td></tr>",
                            "<tr><td>506</td><td>Reflector</td><td>NULL</td><td>0.00</td></tr>",
                            "<tr><td>507</td><td>LL Mountain Rim</td><td>NULL</td><td>0.00</td></tr>",
                            "<tr><td>508</td><td>ML Mountain Rim</td><td>NULL</td><td>0.00</td></tr>",
                            "<tr><td>509</td><td>HL Mountain Rim</td><td>NULL</td><td>0.00</td></tr>",
                            "<tr><td>510</td><td>LL Road Rim</td><td>NULL</td><td>0.00</td></tr>",
                            "<tr><td>511</td><td>ML Road Rim</td><td>NULL</td><td>0.00</td></tr>",
                            "<tr><td>512</td><td>HL Road Rim</td><td>NULL</td><td>0.00</td></tr>",
                            "<tr><td>513</td><td>Touring Rim</td><td>NULL</td><td>0.00</td></tr>",
                            "<tr><td>514</td><td>LL Mountain Seat Assembly</td><td>NULL</td><td>133.34</td></tr>",
                            "<tr><td>515</td><td>ML Mountain Seat Assembly</td><td>NULL</td><td>147.14</td></tr>",
                            "<tr><td>516</td><td>HL Mountain Seat Assembly</td><td>NULL</td><td>196.92</td></tr>",
                            "<tr><td>517</td><td>LL Road Seat Assembly</td><td>NULL</td><td>133.34</td></tr>",
                            "<tr><td>518</td><td>ML Road Seat Assembly</td><td>NULL</td><td>147.14</td></tr>",
                            "<tr><td>519</td><td>HL Road Seat Assembly</td><td>NULL</td><td>196.92</td></tr>",
                            "<tr><td>520</td><td>LL Touring Seat Assembly</td><td>NULL</td><td>133.34</td></tr>",
                            "<tr><td>521</td><td>ML Touring Seat Assembly</td><td>NULL</td><td>147.14</td></tr>",
                            "<tr><td>522</td><td>HL Touring Seat Assembly</td><td>NULL</td><td>196.92</td></tr>",
                            "<tr><td>523</td><td>LL Spindle/Axle</td><td>NULL</td><td>0.00</td></tr>",
                            "<tr><td>524</td><td>HL Spindle/Axle</td><td>NULL</td><td>0.00</td></tr>",
                            "<tr><td>525</td><td>LL Shell</td><td>NULL</td><td>0.00</td></tr>",
                            "<tr><td>526</td><td>HL Shell</td><td>NULL</td><td>0.00</td></tr>",
                            "<tr><td>527</td><td>Spokes</td><td>NULL</td><td>0.00</td></tr>",
                            "<tr><td>528</td><td>Seat Lug</td><td>NULL</td><td>0.00</td></tr>",
                            "<tr><td>529</td><td>Stem</td><td>NULL</td><td>0.00</td></tr>",
                            "<tr><td>530</td><td>Seat Post</td><td>NULL</td><td>0.00</td></tr>",
                            "<tr><td>531</td><td>Steerer</td><td>NULL</td><td>0.00</td></tr>",
                            "<tr><td>532</td><td>Seat Stays</td><td>NULL</td><td>0.00</td></tr>",
                            "<tr><td>533</td><td>Seat Tube</td><td>NULL</td><td>0.00</td></tr>",
                            "<tr><td>534</td><td>Top Tube</td><td>NULL</td><td>0.00</td></tr>",
                            "<tr><td>535</td><td>Tension Pulley</td><td>NULL</td><td>0.00</td></tr>",
                            "<tr><td>679</td><td>Rear Derailleur Cage</td><td>Silver</td><td>0.00</td></tr>",
                            "<tr><td>680</td><td>HL Road Frame - Black, 58</td><td>Black</td><td>1431.50</td></tr>",
                            "<tr><td>706</td><td>HL Road Frame - Red, 58</td><td>Red</td><td>1431.50</td></tr>",
                            "<tr><td>707</td><td>Sport-100 Helmet, Red</td><td>Red</td><td>34.99</td></tr>",
                            "<tr><td>708</td><td>Sport-100 Helmet, Black</td><td>Black</td><td>34.99</td></tr>",
                            "<tr><td>709</td><td>Mountain Bike Socks, M</td><td>White</td><td>9.50</td></tr>",
                            "<tr><td>710</td><td>Mountain Bike Socks, L</td><td>White</td><td>9.50</td></tr>",
                            "<tr><td>711</td><td>Sport-100 Helmet, Blue</td><td>Blue</td><td>34.99</td></tr>",
                            "<tr><td>712</td><td>AWC Logo Cap</td><td>Multi</td><td>8.99</td></tr>",
                            "<tr><td>713</td><td>Long-Sleeve Logo Jersey, S</td><td>Multi</td><td>49.99</td></tr>",
                            "<tr><td>714</td><td>Long-Sleeve Logo Jersey, M</td><td>Multi</td><td>49.99</td></tr>",
                            "<tr><td>715</td><td>Long-Sleeve Logo Jersey, L</td><td>Multi</td><td>49.99</td></tr>",
                            "<tr><td>716</td><td>Long-Sleeve Logo Jersey, XL</td><td>Multi</td><td>49.99</td></tr>",
                            "<tr><td>717</td><td>HL Road Frame - Red, 62</td><td>Red</td><td>1431.50</td></tr>",
                            "<tr><td>718</td><td>HL Road Frame - Red, 44</td><td>Red</td><td>1431.50</td></tr>",
                            "<tr><td>719</td><td>HL Road Frame - Red, 48</td><td>Red</td><td>1431.50</td></tr>",
                            "<tr><td>720</td><td>HL Road Frame - Red, 52</td><td>Red</td><td>1431.50</td></tr>",
                            "<tr><td>721</td><td>HL Road Frame - Red, 56</td><td>Red</td><td>1431.50</td></tr>",
                            "<tr><td>722</td><td>LL Road Frame - Black, 58</td><td>Black</td><td>337.22</td></tr>",
                            "<tr><td>723</td><td>LL Road Frame - Black, 60</td><td>Black</td><td>337.22</td></tr>",
                            "<tr><td>724</td><td>LL Road Frame - Black, 62</td><td>Black</td><td>337.22</td></tr>",
                            "<tr><td>725</td><td>LL Road Frame - Red, 44</td><td>Red</td><td>337.22</td></tr>",
                            "<tr><td>726</td><td>LL Road Frame - Red, 48</td><td>Red</td><td>337.22</td></tr>",
                            "<tr><td>727</td><td>LL Road Frame - Red, 52</td><td>Red</td><td>337.22</td></tr>",
                            "<tr><td>728</td><td>LL Road Frame - Red, 58</td><td>Red</td><td>337.22</td></tr>",
                            "<tr><td>729</td><td>LL Road Frame - Red, 60</td><td>Red</td><td>337.22</td></tr>",
                            "<tr><td>730</td><td>LL Road Frame - Red, 62</td><td>Red</td><td>337.22</td></tr>",
                            "<tr><td>731</td><td>ML Road Frame - Red, 44</td><td>Red</td><td>594.83</td></tr>",
                            "<tr><td>732</td><td>ML Road Frame - Red, 48</td><td>Red</td><td>594.83</td></tr>",
                            "<tr><td>733</td><td>ML Road Frame - Red, 52</td><td>Red</td><td>594.83</td></tr>",
                            "<tr><td>734</td><td>ML Road Frame - Red, 58</td><td>Red</td><td>594.83</td></tr>",
                            "<tr><td>735</td><td>ML Road Frame - Red, 60</td><td>Red</td><td>594.83</td></tr>",
                            "<tr><td>736</td><td>LL Road Frame - Black, 44</td><td>Black</td><td>337.22</td></tr>",
                            "<tr><td>737</td><td>LL Road Frame - Black, 48</td><td>Black</td><td>337.22</td></tr>",
                            "<tr><td>738</td><td>LL Road Frame - Black, 52</td><td>Black</td><td>337.22</td></tr>",
                            "<tr><td>739</td><td>HL Mountain Frame - Silver, 42</td><td>Silver</td><td>1364.50</td></tr>",
                            "<tr><td>740</td><td>HL Mountain Frame - Silver, 44</td><td>Silver</td><td>1364.50</td></tr>",
                            "<tr><td>741</td><td>HL Mountain Frame - Silver, 48</td><td>Silver</td><td>1364.50</td></tr>",
                            "<tr><td>742</td><td>HL Mountain Frame - Silver, 46</td><td>Silver</td><td>1364.50</td></tr>",
                            "<tr><td>743</td><td>HL Mountain Frame - Black, 42</td><td>Black</td><td>1349.60</td></tr>",
                            "<tr><td>744</td><td>HL Mountain Frame - Black, 44</td><td>Black</td><td>1349.60</td></tr>",
                            "<tr><td>745</td><td>HL Mountain Frame - Black, 48</td><td>Black</td><td>1349.60</td></tr>",
                            "<tr><td>746</td><td>HL Mountain Frame - Black, 46</td><td>Black</td><td>1349.60</td></tr>",
                            "<tr><td>747</td><td>HL Mountain Frame - Black, 38</td><td>Black</td><td>1349.60</td></tr>",
                            "<tr><td>748</td><td>HL Mountain Frame - Silver, 38</td><td>Silver</td><td>1364.50</td></tr>",
                            "<tr><td>749</td><td>Road-150 Red, 62</td><td>Red</td><td>3578.27</td></tr>",
                            "<tr><td>750</td><td>Road-150 Red, 44</td><td>Red</td><td>3578.27</td></tr>",
                            "<tr><td>751</td><td>Road-150 Red, 48</td><td>Red</td><td>3578.27</td></tr>",
                            "<tr><td>752</td><td>Road-150 Red, 52</td><td>Red</td><td>3578.27</td></tr>",
                            "<tr><td>753</td><td>Road-150 Red, 56</td><td>Red</td><td>3578.27</td></tr>",
                            "<tr><td>754</td><td>Road-450 Red, 58</td><td>Red</td><td>1457.99</td></tr>",
                            "<tr><td>755</td><td>Road-450 Red, 60</td><td>Red</td><td>1457.99</td></tr>",
                            "<tr><td>756</td><td>Road-450 Red, 44</td><td>Red</td><td>1457.99</td></tr>",
                            "<tr><td>757</td><td>Road-450 Red, 48</td><td>Red</td><td>1457.99</td></tr>",
                            "<tr><td>758</td><td>Road-450 Red, 52</td><td>Red</td><td>1457.99</td></tr>",
                            "<tr><td>759</td><td>Road-650 Red, 58</td><td>Red</td><td>782.99</td></tr>",
                            "<tr><td>760</td><td>Road-650 Red, 60</td><td>Red</td><td>782.99</td></tr>",
                            "<tr><td>761</td><td>Road-650 Red, 62</td><td>Red</td><td>782.99</td></tr>",
                            "<tr><td>762</td><td>Road-650 Red, 44</td><td>Red</td><td>782.99</td></tr>",
                            "<tr><td>763</td><td>Road-650 Red, 48</td><td>Red</td><td>782.99</td></tr>",
                            "<tr><td>764</td><td>Road-650 Red, 52</td><td>Red</td><td>782.99</td></tr>",
                            "<tr><td>765</td><td>Road-650 Black, 58</td><td>Black</td><td>782.99</td></tr>",
                            "<tr><td>766</td><td>Road-650 Black, 60</td><td>Black</td><td>782.99</td></tr>",
                            "<tr><td>767</td><td>Road-650 Black, 62</td><td>Black</td><td>782.99</td></tr>",
                            "<tr><td>768</td><td>Road-650 Black, 44</td><td>Black</td><td>782.99</td></tr>",
                            "<tr><td>769</td><td>Road-650 Black, 48</td><td>Black</td><td>782.99</td></tr>",
                            "<tr><td>770</td><td>Road-650 Black, 52</td><td>Black</td><td>782.99</td></tr>",
                            "<tr><td>771</td><td>Mountain-100 Silver, 38</td><td>Silver</td><td>3399.99</td></tr>",
                            "<tr><td>772</td><td>Mountain-100 Silver, 42</td><td>Silver</td><td>3399.99</td></tr>",
                            "<tr><td>773</td><td>Mountain-100 Silver, 44</td><td>Silver</td><td>3399.99</td></tr>",
                            "<tr><td>774</td><td>Mountain-100 Silver, 48</td><td>Silver</td><td>3399.99</td></tr>",
                            "<tr><td>775</td><td>Mountain-100 Black, 38</td><td>Black</td><td>3374.99</td></tr>",
                            "<tr><td>776</td><td>Mountain-100 Black, 42</td><td>Black</td><td>3374.99</td></tr>",
                            "<tr><td>777</td><td>Mountain-100 Black, 44</td><td>Black</td><td>3374.99</td></tr>",
                            "<tr><td>778</td><td>Mountain-100 Black, 48</td><td>Black</td><td>3374.99</td></tr>",
                            "<tr><td>779</td><td>Mountain-200 Silver, 38</td><td>Silver</td><td>2319.99</td></tr>",
                            "<tr><td>780</td><td>Mountain-200 Silver, 42</td><td>Silver</td><td>2319.99</td></tr>",
                            "<tr><td>781</td><td>Mountain-200 Silver, 46</td><td>Silver</td><td>2319.99</td></tr>",
                            "<tr><td>782</td><td>Mountain-200 Black, 38</td><td>Black</td><td>2294.99</td></tr>",
                            "<tr><td>783</td><td>Mountain-200 Black, 42</td><td>Black</td><td>2294.99</td></tr>",
                            "<tr><td>784</td><td>Mountain-200 Black, 46</td><td>Black</td><td>2294.99</td></tr>",
                            "<tr><td>785</td><td>Mountain-300 Black, 38</td><td>Black</td><td>1079.99</td></tr>",
                            "<tr><td>786</td><td>Mountain-300 Black, 40</td><td>Black</td><td>1079.99</td></tr>",
                            "<tr><td>787</td><td>Mountain-300 Black, 44</td><td>Black</td><td>1079.99</td></tr>",
                            "<tr><td>788</td><td>Mountain-300 Black, 48</td><td>Black</td><td>1079.99</td></tr>",
                            "<tr><td>789</td><td>Road-250 Red, 44</td><td>Red</td><td>2443.35</td></tr>",
                            "<tr><td>790</td><td>Road-250 Red, 48</td><td>Red</td><td>2443.35</td></tr>",
                            "<tr><td>791</td><td>Road-250 Red, 52</td><td>Red</td><td>2443.35</td></tr>",
                            "<tr><td>792</td><td>Road-250 Red, 58</td><td>Red</td><td>2443.35</td></tr>",
                            "<tr><td>793</td><td>Road-250 Black, 44</td><td>Black</td><td>2443.35</td></tr>",
                            "<tr><td>794</td><td>Road-250 Black, 48</td><td>Black</td><td>2443.35</td></tr>",
                            "<tr><td>795</td><td>Road-250 Black, 52</td><td>Black</td><td>2443.35</td></tr>",
                            "<tr><td>796</td><td>Road-250 Black, 58</td><td>Black</td><td>2443.35</td></tr>",
                            "<tr><td>797</td><td>Road-550-W Yellow, 38</td><td>Yellow</td><td>1120.49</td></tr>",
                            "<tr><td>798</td><td>Road-550-W Yellow, 40</td><td>Yellow</td><td>1120.49</td></tr>",
                            "<tr><td>799</td><td>Road-550-W Yellow, 42</td><td>Yellow</td><td>1120.49</td></tr>",
                            "<tr><td>800</td><td>Road-550-W Yellow, 44</td><td>Yellow</td><td>1120.49</td></tr>",
                            "<tr><td>801</td><td>Road-550-W Yellow, 48</td><td>Yellow</td><td>1120.49</td></tr>",
                            "<tr><td>802</td><td>LL Fork</td><td>NULL</td><td>148.22</td></tr>",
                            "<tr><td>803</td><td>ML Fork</td><td>NULL</td><td>175.49</td></tr>",
                            "<tr><td>804</td><td>HL Fork</td><td>NULL</td><td>229.49</td></tr>",
                            "<tr><td>805</td><td>LL Headset</td><td>NULL</td><td>34.20</td></tr>",
                            "<tr><td>806</td><td>ML Headset</td><td>NULL</td><td>102.29</td></tr>",
                            "<tr><td>807</td><td>HL Headset</td><td>NULL</td><td>124.73</td></tr>",
                            "<tr><td>808</td><td>LL Mountain Handlebars</td><td>NULL</td><td>44.54</td></tr>",
                            "<tr><td>809</td><td>ML Mountain Handlebars</td><td>NULL</td><td>61.92</td></tr>",
                            "<tr><td>810</td><td>HL Mountain Handlebars</td><td>NULL</td><td>120.27</td></tr>",
                            "<tr><td>811</td><td>LL Road Handlebars</td><td>NULL</td><td>44.54</td></tr>",
                            "<tr><td>812</td><td>ML Road Handlebars</td><td>NULL</td><td>61.92</td></tr>",
                            "<tr><td>813</td><td>HL Road Handlebars</td><td>NULL</td><td>120.27</td></tr>",
                            "<tr><td>814</td><td>ML Mountain Frame - Black, 38</td><td>Black</td><td>348.76</td></tr>",
                            "<tr><td>815</td><td>LL Mountain Front Wheel</td><td>Black</td><td>60.745</td></tr>",
                            "<tr><td>816</td><td>ML Mountain Front Wheel</td><td>Black</td><td>209.025</td></tr>",
                            "<tr><td>817</td><td>HL Mountain Front Wheel</td><td>Black</td><td>300.215</td></tr>",
                            "<tr><td>818</td><td>LL Road Front Wheel</td><td>Black</td><td>85.565</td></tr>",
                            "<tr><td>819</td><td>ML Road Front Wheel</td><td>Black</td><td>248.385</td></tr>",
                            "<tr><td>820</td><td>HL Road Front Wheel</td><td>Black</td><td>330.06</td></tr>",
                            "<tr><td>821</td><td>Touring Front Wheel</td><td>Black</td><td>218.01</td></tr>",
                            "<tr><td>822</td><td>ML Road Frame-W - Yellow, 38</td><td>Yellow</td><td>594.83</td></tr>",
                            "<tr><td>823</td><td>LL Mountain Rear Wheel</td><td>Black</td><td>87.745</td></tr>",
                            "<tr><td>824</td><td>ML Mountain Rear Wheel</td><td>Black</td><td>236.025</td></tr>",
                            "<tr><td>825</td><td>HL Mountain Rear Wheel</td><td>Black</td><td>327.215</td></tr>",
                            "<tr><td>826</td><td>LL Road Rear Wheel</td><td>Black</td><td>112.565</td></tr>",
                            "<tr><td>827</td><td>ML Road Rear Wheel</td><td>Black</td><td>275.385</td></tr>",
                            "<tr><td>828</td><td>HL Road Rear Wheel</td><td>Black</td><td>357.06</td></tr>",
                            "<tr><td>829</td><td>Touring Rear Wheel</td><td>Black</td><td>245.01</td></tr>",
                            "<tr><td>830</td><td>ML Mountain Frame - Black, 40</td><td>Black</td><td>348.76</td></tr>",
                            "<tr><td>831</td><td>ML Mountain Frame - Black, 44</td><td>Black</td><td>348.76</td></tr>",
                            "<tr><td>832</td><td>ML Mountain Frame - Black, 48</td><td>Black</td><td>348.76</td></tr>",
                            "<tr><td>833</td><td>ML Road Frame-W - Yellow, 40</td><td>Yellow</td><td>594.83</td></tr>",
                            "<tr><td>834</td><td>ML Road Frame-W - Yellow, 42</td><td>Yellow</td><td>594.83</td></tr>",
                            "<tr><td>835</td><td>ML Road Frame-W - Yellow, 44</td><td>Yellow</td><td>594.83</td></tr>",
                            "<tr><td>836</td><td>ML Road Frame-W - Yellow, 48</td><td>Yellow</td><td>594.83</td></tr>",
                            "<tr><td>837</td><td>HL Road Frame - Black, 62</td><td>Black</td><td>1431.50</td></tr>",
                            "<tr><td>838</td><td>HL Road Frame - Black, 44</td><td>Black</td><td>1431.50</td></tr>",
                            "<tr><td>839</td><td>HL Road Frame - Black, 48</td><td>Black</td><td>1431.50</td></tr>",
                            "<tr><td>840</td><td>HL Road Frame - Black, 52</td><td>Black</td><td>1431.50</td></tr>",
                            "<tr><td>841</td><td>Men&#39;s Sports Shorts, S</td><td>Black</td><td>59.99</td></tr>",
                            "<tr><td>842</td><td>Touring-Panniers, Large</td><td>Grey</td><td>125.00</td></tr>",
                            "<tr><td>843</td><td>Cable Lock</td><td>NULL</td><td>25.00</td></tr>",
                            "<tr><td>844</td><td>Minipump</td><td>NULL</td><td>19.99</td></tr>",
                            "<tr><td>845</td><td>Mountain Pump</td><td>NULL</td><td>24.99</td></tr>",
                            "<tr><td>846</td><td>Taillights - Battery-Powered</td><td>NULL</td><td>13.99</td></tr>",
                            "<tr><td>847</td><td>Headlights - Dual-Beam</td><td>NULL</td><td>34.99</td></tr>",
                            "<tr><td>848</td><td>Headlights - Weatherproof</td><td>NULL</td><td>44.99</td></tr>",
                            "<tr><td>849</td><td>Men&#39;s Sports Shorts, M</td><td>Black</td><td>59.99</td></tr>",
                            "<tr><td>850</td><td>Men&#39;s Sports Shorts, L</td><td>Black</td><td>59.99</td></tr>",
                            "<tr><td>851</td><td>Men&#39;s Sports Shorts, XL</td><td>Black</td><td>59.99</td></tr>",
                            "<tr><td>852</td><td>Women&#39;s Tights, S</td><td>Black</td><td>74.99</td></tr>",
                            "<tr><td>853</td><td>Women&#39;s Tights, M</td><td>Black</td><td>74.99</td></tr>",
                            "<tr><td>854</td><td>Women&#39;s Tights, L</td><td>Black</td><td>74.99</td></tr>",
                            "<tr><td>855</td><td>Men&#39;s Bib-Shorts, S</td><td>Multi</td><td>89.99</td></tr>",
                            "<tr><td>856</td><td>Men&#39;s Bib-Shorts, M</td><td>Multi</td><td>89.99</td></tr>",
                            "<tr><td>857</td><td>Men&#39;s Bib-Shorts, L</td><td>Multi</td><td>89.99</td></tr>",
                            "<tr><td>858</td><td>Half-Finger Gloves, S</td><td>Black</td><td>24.49</td></tr>",
                            "<tr><td>859</td><td>Half-Finger Gloves, M</td><td>Black</td><td>24.49</td></tr>",
                            "<tr><td>860</td><td>Half-Finger Gloves, L</td><td>Black</td><td>24.49</td></tr>",
                            "<tr><td>861</td><td>Full-Finger Gloves, S</td><td>Black</td><td>37.99</td></tr>",
                            "<tr><td>862</td><td>Full-Finger Gloves, M</td><td>Black</td><td>37.99</td></tr>",
                            "<tr><td>863</td><td>Full-Finger Gloves, L</td><td>Black</td><td>37.99</td></tr>",
                            "<tr><td>864</td><td>Classic Vest, S</td><td>Blue</td><td>63.50</td></tr>",
                            "<tr><td>865</td><td>Classic Vest, M</td><td>Blue</td><td>63.50</td></tr>",
                            "<tr><td>866</td><td>Classic Vest, L</td><td>Blue</td><td>63.50</td></tr>",
                            "<tr><td>867</td><td>Women&#39;s Mountain Shorts, S</td><td>Black</td><td>69.99</td></tr>",
                            "<tr><td>868</td><td>Women&#39;s Mountain Shorts, M</td><td>Black</td><td>69.99</td></tr>",
                            "<tr><td>869</td><td>Women&#39;s Mountain Shorts, L</td><td>Black</td><td>69.99</td></tr>",
                            "<tr><td>870</td><td>Water Bottle - 30 oz.</td><td>NULL</td><td>4.99</td></tr>",
                            "<tr><td>871</td><td>Mountain Bottle Cage</td><td>NULL</td><td>9.99</td></tr>",
                            "<tr><td>872</td><td>Road Bottle Cage</td><td>NULL</td><td>8.99</td></tr>",
                            "<tr><td>873</td><td>Patch Kit/8 Patches</td><td>NULL</td><td>2.29</td></tr>",
                            "<tr><td>874</td><td>Racing Socks, M</td><td>White</td><td>8.99</td></tr>",
                            "<tr><td>875</td><td>Racing Socks, L</td><td>White</td><td>8.99</td></tr>",
                            "<tr><td>876</td><td>Hitch Rack - 4-Bike</td><td>NULL</td><td>120.00</td></tr>",
                            "<tr><td>877</td><td>Bike Wash - Dissolver</td><td>NULL</td><td>7.95</td></tr>",
                            "<tr><td>878</td><td>Fender Set - Mountain</td><td>NULL</td><td>21.98</td></tr>",
                            "<tr><td>879</td><td>All-Purpose Bike Stand</td><td>NULL</td><td>159.00</td></tr>",
                            "<tr><td>880</td><td>Hydration Pack - 70 oz.</td><td>Silver</td><td>54.99</td></tr>",
                            "<tr><td>881</td><td>Short-Sleeve Classic Jersey, S</td><td>Yellow</td><td>53.99</td></tr>",
                            "<tr><td>882</td><td>Short-Sleeve Classic Jersey, M</td><td>Yellow</td><td>53.99</td></tr>",
                            "<tr><td>883</td><td>Short-Sleeve Classic Jersey, L</td><td>Yellow</td><td>53.99</td></tr>",
                            "<tr><td>884</td><td>Short-Sleeve Classic Jersey, XL</td><td>Yellow</td><td>53.99</td></tr>",
                            "<tr><td>885</td><td>HL Touring Frame - Yellow, 60</td><td>Yellow</td><td>1003.91</td></tr>",
                            "<tr><td>886</td><td>LL Touring Frame - Yellow, 62</td><td>Yellow</td><td>333.42</td></tr>",
                            "<tr><td>887</td><td>HL Touring Frame - Yellow, 46</td><td>Yellow</td><td>1003.91</td></tr>",
                            "<tr><td>888</td><td>HL Touring Frame - Yellow, 50</td><td>Yellow</td><td>1003.91</td></tr>",
                            "<tr><td>889</td><td>HL Touring Frame - Yellow, 54</td><td>Yellow</td><td>1003.91</td></tr>",
                            "<tr><td>890</td><td>HL Touring Frame - Blue, 46</td><td>Blue</td><td>1003.91</td></tr>",
                            "<tr><td>891</td><td>HL Touring Frame - Blue, 50</td><td>Blue</td><td>1003.91</td></tr>",
                            "<tr><td>892</td><td>HL Touring Frame - Blue, 54</td><td>Blue</td><td>1003.91</td></tr>",
                            "<tr><td>893</td><td>HL Touring Frame - Blue, 60</td><td>Blue</td><td>1003.91</td></tr>",
                            "<tr><td>894</td><td>Rear Derailleur</td><td>Silver</td><td>121.46</td></tr>",
                            "<tr><td>895</td><td>LL Touring Frame - Blue, 50</td><td>Blue</td><td>333.42</td></tr>",
                            "<tr><td>896</td><td>LL Touring Frame - Blue, 54</td><td>Blue</td><td>333.42</td></tr>",
                            "<tr><td>897</td><td>LL Touring Frame - Blue, 58</td><td>Blue</td><td>333.42</td></tr>",
                            "<tr><td>898</td><td>LL Touring Frame - Blue, 62</td><td>Blue</td><td>333.42</td></tr>",
                            "<tr><td>899</td><td>LL Touring Frame - Yellow, 44</td><td>Yellow</td><td>333.42</td></tr>",
                            "<tr><td>900</td><td>LL Touring Frame - Yellow, 50</td><td>Yellow</td><td>333.42</td></tr>",
                            "<tr><td>901</td><td>LL Touring Frame - Yellow, 54</td><td>Yellow</td><td>333.42</td></tr>",
                            "<tr><td>902</td><td>LL Touring Frame - Yellow, 58</td><td>Yellow</td><td>333.42</td></tr>",
                            "<tr><td>903</td><td>LL Touring Frame - Blue, 44</td><td>Blue</td><td>333.42</td></tr>",
                            "<tr><td>904</td><td>ML Mountain Frame-W - Silver, 40</td><td>Silver</td><td>364.09</td></tr>",
                            "<tr><td>905</td><td>ML Mountain Frame-W - Silver, 42</td><td>Silver</td><td>364.09</td></tr>",
                            "<tr><td>906</td><td>ML Mountain Frame-W - Silver, 46</td><td>Silver</td><td>364.09</td></tr>",
                            "<tr><td>907</td><td>Rear Brakes</td><td>Silver</td><td>106.50</td></tr>",
                            "<tr><td>908</td><td>LL Mountain Seat/Saddle</td><td>NULL</td><td>27.12</td></tr>",
                            "<tr><td>909</td><td>ML Mountain Seat/Saddle</td><td>NULL</td><td>39.14</td></tr>",
                            "<tr><td>910</td><td>HL Mountain Seat/Saddle</td><td>NULL</td><td>52.64</td></tr>",
                            "<tr><td>911</td><td>LL Road Seat/Saddle</td><td>NULL</td><td>27.12</td></tr>",
                            "<tr><td>912</td><td>ML Road Seat/Saddle</td><td>NULL</td><td>39.14</td></tr>",
                            "<tr><td>913</td><td>HL Road Seat/Saddle</td><td>NULL</td><td>52.64</td></tr>",
                            "<tr><td>914</td><td>LL Touring Seat/Saddle</td><td>NULL</td><td>27.12</td></tr>",
                            "<tr><td>915</td><td>ML Touring Seat/Saddle</td><td>NULL</td><td>39.14</td></tr>",
                            "<tr><td>916</td><td>HL Touring Seat/Saddle</td><td>NULL</td><td>52.64</td></tr>",
                            "<tr><td>917</td><td>LL Mountain Frame - Silver, 42</td><td>Silver</td><td>264.05</td></tr>",
                            "<tr><td>918</td><td>LL Mountain Frame - Silver, 44</td><td>Silver</td><td>264.05</td></tr>",
                            "<tr><td>919</td><td>LL Mountain Frame - Silver, 48</td><td>Silver</td><td>264.05</td></tr>",
                            "<tr><td>920</td><td>LL Mountain Frame - Silver, 52</td><td>Silver</td><td>264.05</td></tr>",
                            "<tr><td>921</td><td>Mountain Tire Tube</td><td>NULL</td><td>4.99</td></tr>",
                            "<tr><td>922</td><td>Road Tire Tube</td><td>NULL</td><td>3.99</td></tr>",
                            "<tr><td>923</td><td>Touring Tire Tube</td><td>NULL</td><td>4.99</td></tr>",
                            "<tr><td>924</td><td>LL Mountain Frame - Black, 42</td><td>Black</td><td>249.79</td></tr>",
                            "<tr><td>925</td><td>LL Mountain Frame - Black, 44</td><td>Black</td><td>249.79</td></tr>",
                            "<tr><td>926</td><td>LL Mountain Frame - Black, 48</td><td>Black</td><td>249.79</td></tr>",
                            "<tr><td>927</td><td>LL Mountain Frame - Black, 52</td><td>Black</td><td>249.79</td></tr>",
                            "<tr><td>928</td><td>LL Mountain Tire</td><td>NULL</td><td>24.99</td></tr>",
                            "<tr><td>929</td><td>ML Mountain Tire</td><td>NULL</td><td>29.99</td></tr>",
                            "<tr><td>930</td><td>HL Mountain Tire</td><td>NULL</td><td>35.00</td></tr>",
                            "<tr><td>931</td><td>LL Road Tire</td><td>NULL</td><td>21.49</td></tr>",
                            "<tr><td>932</td><td>ML Road Tire</td><td>NULL</td><td>24.99</td></tr>",
                            "<tr><td>933</td><td>HL Road Tire</td><td>NULL</td><td>32.60</td></tr>",
                            "<tr><td>934</td><td>Touring Tire</td><td>NULL</td><td>28.99</td></tr>",
                            "<tr><td>935</td><td>LL Mountain Pedal</td><td>Silver/Black</td><td>40.49</td></tr>",
                            "<tr><td>936</td><td>ML Mountain Pedal</td><td>Silver/Black</td><td>62.09</td></tr>",
                            "<tr><td>937</td><td>HL Mountain Pedal</td><td>Silver/Black</td><td>80.99</td></tr>",
                            "<tr><td>938</td><td>LL Road Pedal</td><td>Silver/Black</td><td>40.49</td></tr>",
                            "<tr><td>939</td><td>ML Road Pedal</td><td>Silver/Black</td><td>62.09</td></tr>",
                            "<tr><td>940</td><td>HL Road Pedal</td><td>Silver/Black</td><td>80.99</td></tr>",
                            "<tr><td>941</td><td>Touring Pedal</td><td>Silver/Black</td><td>80.99</td></tr>",
                            "<tr><td>942</td><td>ML Mountain Frame-W - Silver, 38</td><td>Silver</td><td>364.09</td></tr>",
                            "<tr><td>943</td><td>LL Mountain Frame - Black, 40</td><td>Black</td><td>249.79</td></tr>",
                            "<tr><td>944</td><td>LL Mountain Frame - Silver, 40</td><td>Silver</td><td>264.05</td></tr>",
                            "<tr><td>945</td><td>Front Derailleur</td><td>Silver</td><td>91.49</td></tr>",
                            "<tr><td>946</td><td>LL Touring Handlebars</td><td>NULL</td><td>46.09</td></tr>",
                            "<tr><td>947</td><td>HL Touring Handlebars</td><td>NULL</td><td>91.57</td></tr>",
                            "<tr><td>948</td><td>Front Brakes</td><td>Silver</td><td>106.50</td></tr>",
                            "<tr><td>949</td><td>LL Crankset</td><td>Black</td><td>175.49</td></tr>",
                            "<tr><td>950</td><td>ML Crankset</td><td>Black</td><td>256.49</td></tr>",
                            "<tr><td>951</td><td>HL Crankset</td><td>Black</td><td>404.99</td></tr>",
                            "<tr><td>952</td><td>Chain</td><td>Silver</td><td>20.24</td></tr>",
                            "<tr><td>953</td><td>Touring-2000 Blue, 60</td><td>Blue</td><td>1214.85</td></tr>",
                            "<tr><td>954</td><td>Touring-1000 Yellow, 46</td><td>Yellow</td><td>2384.07</td></tr>",
                            "<tr><td>955</td><td>Touring-1000 Yellow, 50</td><td>Yellow</td><td>2384.07</td></tr>",
                            "<tr><td>956</td><td>Touring-1000 Yellow, 54</td><td>Yellow</td><td>2384.07</td></tr>",
                            "<tr><td>957</td><td>Touring-1000 Yellow, 60</td><td>Yellow</td><td>2384.07</td></tr>",
                            "<tr><td>958</td><td>Touring-3000 Blue, 54</td><td>Blue</td><td>742.35</td></tr>",
                            "<tr><td>959</td><td>Touring-3000 Blue, 58</td><td>Blue</td><td>742.35</td></tr>",
                            "<tr><td>960</td><td>Touring-3000 Blue, 62</td><td>Blue</td><td>742.35</td></tr>",
                            "<tr><td>961</td><td>Touring-3000 Yellow, 44</td><td>Yellow</td><td>742.35</td></tr>",
                            "<tr><td>962</td><td>Touring-3000 Yellow, 50</td><td>Yellow</td><td>742.35</td></tr>",
                            "<tr><td>963</td><td>Touring-3000 Yellow, 54</td><td>Yellow</td><td>742.35</td></tr>",
                            "<tr><td>964</td><td>Touring-3000 Yellow, 58</td><td>Yellow</td><td>742.35</td></tr>",
                            "<tr><td>965</td><td>Touring-3000 Yellow, 62</td><td>Yellow</td><td>742.35</td></tr>",
                            "<tr><td>966</td><td>Touring-1000 Blue, 46</td><td>Blue</td><td>2384.07</td></tr>",
                            "<tr><td>967</td><td>Touring-1000 Blue, 50</td><td>Blue</td><td>2384.07</td></tr>",
                            "<tr><td>968</td><td>Touring-1000 Blue, 54</td><td>Blue</td><td>2384.07</td></tr>",
                            "<tr><td>969</td><td>Touring-1000 Blue, 60</td><td>Blue</td><td>2384.07</td></tr>",
                            "<tr><td>970</td><td>Touring-2000 Blue, 46</td><td>Blue</td><td>1214.85</td></tr>",
                            "<tr><td>971</td><td>Touring-2000 Blue, 50</td><td>Blue</td><td>1214.85</td></tr>",
                            "<tr><td>972</td><td>Touring-2000 Blue, 54</td><td>Blue</td><td>1214.85</td></tr>",
                            "<tr><td>973</td><td>Road-350-W Yellow, 40</td><td>Yellow</td><td>1700.99</td></tr>",
                            "<tr><td>974</td><td>Road-350-W Yellow, 42</td><td>Yellow</td><td>1700.99</td></tr>",
                            "<tr><td>975</td><td>Road-350-W Yellow, 44</td><td>Yellow</td><td>1700.99</td></tr>",
                            "<tr><td>976</td><td>Road-350-W Yellow, 48</td><td>Yellow</td><td>1700.99</td></tr>",
                            "<tr><td>977</td><td>Road-750 Black, 58</td><td>Black</td><td>539.99</td></tr>",
                            "<tr><td>978</td><td>Touring-3000 Blue, 44</td><td>Blue</td><td>742.35</td></tr>",
                            "<tr><td>979</td><td>Touring-3000 Blue, 50</td><td>Blue</td><td>742.35</td></tr>",
                            "<tr><td>980</td><td>Mountain-400-W Silver, 38</td><td>Silver</td><td>769.49</td></tr>",
                            "<tr><td>981</td><td>Mountain-400-W Silver, 40</td><td>Silver</td><td>769.49</td></tr>",
                            "<tr><td>982</td><td>Mountain-400-W Silver, 42</td><td>Silver</td><td>769.49</td></tr>",
                            "<tr><td>983</td><td>Mountain-400-W Silver, 46</td><td>Silver</td><td>769.49</td></tr>",
                            "<tr><td>984</td><td>Mountain-500 Silver, 40</td><td>Silver</td><td>564.99</td></tr>",
                            "<tr><td>985</td><td>Mountain-500 Silver, 42</td><td>Silver</td><td>564.99</td></tr>",
                            "<tr><td>986</td><td>Mountain-500 Silver, 44</td><td>Silver</td><td>564.99</td></tr>",
                            "<tr><td>987</td><td>Mountain-500 Silver, 48</td><td>Silver</td><td>564.99</td></tr>",
                            "<tr><td>988</td><td>Mountain-500 Silver, 52</td><td>Silver</td><td>564.99</td></tr>",
                            "<tr><td>989</td><td>Mountain-500 Black, 40</td><td>Black</td><td>539.99</td></tr>",
                            "<tr><td>990</td><td>Mountain-500 Black, 42</td><td>Black</td><td>539.99</td></tr>",
                            "<tr><td>991</td><td>Mountain-500 Black, 44</td><td>Black</td><td>539.99</td></tr>",
                            "<tr><td>992</td><td>Mountain-500 Black, 48</td><td>Black</td><td>539.99</td></tr>",
                            "<tr><td>993</td><td>Mountain-500 Black, 52</td><td>Black</td><td>539.99</td></tr>",
                            "<tr><td>994</td><td>LL Bottom Bracket</td><td>NULL</td><td>53.99</td></tr>",
                            "<tr><td>995</td><td>ML Bottom Bracket</td><td>NULL</td><td>101.24</td></tr>",
                            "<tr><td>996</td><td>HL Bottom Bracket</td><td>NULL</td><td>121.49</td></tr>",
                            "<tr><td>997</td><td>Road-750 Black, 44</td><td>Black</td><td>539.99</td></tr>",
                            "<tr><td>998</td><td>Road-750 Black, 48</td><td>Black</td><td>539.99</td></tr>",
                            "<tr><td>999</td><td>Road-750 Black, 52</td><td>Black</td><td>539.99</td></tr>",
                            "</table>"
                        ]
                    }
                }
            ],
            "execution_count": 82
        },
        {
            "cell_type": "markdown",
            "source": [
                "\n",
                "2.  Write a query that retrieves the columns ProductID, Name, Color and ListPrice from the Production.Product table, excludes the rows that ListPrice is 0. \n"
            ],
            "metadata": {
                "azdata_cell_guid": "0e7cc38b-9123-49d4-bb8a-9d4459e31d7a",
                "language": ""
            },
            "attachments": {}
        },
        {
            "cell_type": "code",
            "source": [
                "SELECT ProductID, Name, Color, ListPrice\n",
                "FROM Production.Product\n",
                "WHERE ListPrice != 0"
            ],
            "metadata": {
                "azdata_cell_guid": "df74956b-f12d-426b-a0fb-c2dd8b3545c5",
                "language": "sql"
            },
            "outputs": [
                {
                    "output_type": "display_data",
                    "data": {
                        "text/html": "(304 rows affected)"
                    },
                    "metadata": {}
                },
                {
                    "output_type": "display_data",
                    "data": {
                        "text/html": "Total execution time: 00:00:00.022"
                    },
                    "metadata": {}
                },
                {
                    "output_type": "execute_result",
                    "metadata": {},
                    "execution_count": 83,
                    "data": {
                        "application/vnd.dataresource+json": {
                            "schema": {
                                "fields": [
                                    {
                                        "name": "ProductID"
                                    },
                                    {
                                        "name": "Name"
                                    },
                                    {
                                        "name": "Color"
                                    },
                                    {
                                        "name": "ListPrice"
                                    }
                                ]
                            },
                            "data": [
                                {
                                    "ProductID": "514",
                                    "Name": "LL Mountain Seat Assembly",
                                    "Color": "NULL",
                                    "ListPrice": "133.34"
                                },
                                {
                                    "ProductID": "515",
                                    "Name": "ML Mountain Seat Assembly",
                                    "Color": "NULL",
                                    "ListPrice": "147.14"
                                },
                                {
                                    "ProductID": "516",
                                    "Name": "HL Mountain Seat Assembly",
                                    "Color": "NULL",
                                    "ListPrice": "196.92"
                                },
                                {
                                    "ProductID": "517",
                                    "Name": "LL Road Seat Assembly",
                                    "Color": "NULL",
                                    "ListPrice": "133.34"
                                },
                                {
                                    "ProductID": "518",
                                    "Name": "ML Road Seat Assembly",
                                    "Color": "NULL",
                                    "ListPrice": "147.14"
                                },
                                {
                                    "ProductID": "519",
                                    "Name": "HL Road Seat Assembly",
                                    "Color": "NULL",
                                    "ListPrice": "196.92"
                                },
                                {
                                    "ProductID": "520",
                                    "Name": "LL Touring Seat Assembly",
                                    "Color": "NULL",
                                    "ListPrice": "133.34"
                                },
                                {
                                    "ProductID": "521",
                                    "Name": "ML Touring Seat Assembly",
                                    "Color": "NULL",
                                    "ListPrice": "147.14"
                                },
                                {
                                    "ProductID": "522",
                                    "Name": "HL Touring Seat Assembly",
                                    "Color": "NULL",
                                    "ListPrice": "196.92"
                                },
                                {
                                    "ProductID": "680",
                                    "Name": "HL Road Frame - Black, 58",
                                    "Color": "Black",
                                    "ListPrice": "1431.50"
                                },
                                {
                                    "ProductID": "706",
                                    "Name": "HL Road Frame - Red, 58",
                                    "Color": "Red",
                                    "ListPrice": "1431.50"
                                },
                                {
                                    "ProductID": "707",
                                    "Name": "Sport-100 Helmet, Red",
                                    "Color": "Red",
                                    "ListPrice": "34.99"
                                },
                                {
                                    "ProductID": "708",
                                    "Name": "Sport-100 Helmet, Black",
                                    "Color": "Black",
                                    "ListPrice": "34.99"
                                },
                                {
                                    "ProductID": "709",
                                    "Name": "Mountain Bike Socks, M",
                                    "Color": "White",
                                    "ListPrice": "9.50"
                                },
                                {
                                    "ProductID": "710",
                                    "Name": "Mountain Bike Socks, L",
                                    "Color": "White",
                                    "ListPrice": "9.50"
                                },
                                {
                                    "ProductID": "711",
                                    "Name": "Sport-100 Helmet, Blue",
                                    "Color": "Blue",
                                    "ListPrice": "34.99"
                                },
                                {
                                    "ProductID": "712",
                                    "Name": "AWC Logo Cap",
                                    "Color": "Multi",
                                    "ListPrice": "8.99"
                                },
                                {
                                    "ProductID": "713",
                                    "Name": "Long-Sleeve Logo Jersey, S",
                                    "Color": "Multi",
                                    "ListPrice": "49.99"
                                },
                                {
                                    "ProductID": "714",
                                    "Name": "Long-Sleeve Logo Jersey, M",
                                    "Color": "Multi",
                                    "ListPrice": "49.99"
                                },
                                {
                                    "ProductID": "715",
                                    "Name": "Long-Sleeve Logo Jersey, L",
                                    "Color": "Multi",
                                    "ListPrice": "49.99"
                                },
                                {
                                    "ProductID": "716",
                                    "Name": "Long-Sleeve Logo Jersey, XL",
                                    "Color": "Multi",
                                    "ListPrice": "49.99"
                                },
                                {
                                    "ProductID": "717",
                                    "Name": "HL Road Frame - Red, 62",
                                    "Color": "Red",
                                    "ListPrice": "1431.50"
                                },
                                {
                                    "ProductID": "718",
                                    "Name": "HL Road Frame - Red, 44",
                                    "Color": "Red",
                                    "ListPrice": "1431.50"
                                },
                                {
                                    "ProductID": "719",
                                    "Name": "HL Road Frame - Red, 48",
                                    "Color": "Red",
                                    "ListPrice": "1431.50"
                                },
                                {
                                    "ProductID": "720",
                                    "Name": "HL Road Frame - Red, 52",
                                    "Color": "Red",
                                    "ListPrice": "1431.50"
                                },
                                {
                                    "ProductID": "721",
                                    "Name": "HL Road Frame - Red, 56",
                                    "Color": "Red",
                                    "ListPrice": "1431.50"
                                },
                                {
                                    "ProductID": "722",
                                    "Name": "LL Road Frame - Black, 58",
                                    "Color": "Black",
                                    "ListPrice": "337.22"
                                },
                                {
                                    "ProductID": "723",
                                    "Name": "LL Road Frame - Black, 60",
                                    "Color": "Black",
                                    "ListPrice": "337.22"
                                },
                                {
                                    "ProductID": "724",
                                    "Name": "LL Road Frame - Black, 62",
                                    "Color": "Black",
                                    "ListPrice": "337.22"
                                },
                                {
                                    "ProductID": "725",
                                    "Name": "LL Road Frame - Red, 44",
                                    "Color": "Red",
                                    "ListPrice": "337.22"
                                },
                                {
                                    "ProductID": "726",
                                    "Name": "LL Road Frame - Red, 48",
                                    "Color": "Red",
                                    "ListPrice": "337.22"
                                },
                                {
                                    "ProductID": "727",
                                    "Name": "LL Road Frame - Red, 52",
                                    "Color": "Red",
                                    "ListPrice": "337.22"
                                },
                                {
                                    "ProductID": "728",
                                    "Name": "LL Road Frame - Red, 58",
                                    "Color": "Red",
                                    "ListPrice": "337.22"
                                },
                                {
                                    "ProductID": "729",
                                    "Name": "LL Road Frame - Red, 60",
                                    "Color": "Red",
                                    "ListPrice": "337.22"
                                },
                                {
                                    "ProductID": "730",
                                    "Name": "LL Road Frame - Red, 62",
                                    "Color": "Red",
                                    "ListPrice": "337.22"
                                },
                                {
                                    "ProductID": "731",
                                    "Name": "ML Road Frame - Red, 44",
                                    "Color": "Red",
                                    "ListPrice": "594.83"
                                },
                                {
                                    "ProductID": "732",
                                    "Name": "ML Road Frame - Red, 48",
                                    "Color": "Red",
                                    "ListPrice": "594.83"
                                },
                                {
                                    "ProductID": "733",
                                    "Name": "ML Road Frame - Red, 52",
                                    "Color": "Red",
                                    "ListPrice": "594.83"
                                },
                                {
                                    "ProductID": "734",
                                    "Name": "ML Road Frame - Red, 58",
                                    "Color": "Red",
                                    "ListPrice": "594.83"
                                },
                                {
                                    "ProductID": "735",
                                    "Name": "ML Road Frame - Red, 60",
                                    "Color": "Red",
                                    "ListPrice": "594.83"
                                },
                                {
                                    "ProductID": "736",
                                    "Name": "LL Road Frame - Black, 44",
                                    "Color": "Black",
                                    "ListPrice": "337.22"
                                },
                                {
                                    "ProductID": "737",
                                    "Name": "LL Road Frame - Black, 48",
                                    "Color": "Black",
                                    "ListPrice": "337.22"
                                },
                                {
                                    "ProductID": "738",
                                    "Name": "LL Road Frame - Black, 52",
                                    "Color": "Black",
                                    "ListPrice": "337.22"
                                },
                                {
                                    "ProductID": "739",
                                    "Name": "HL Mountain Frame - Silver, 42",
                                    "Color": "Silver",
                                    "ListPrice": "1364.50"
                                },
                                {
                                    "ProductID": "740",
                                    "Name": "HL Mountain Frame - Silver, 44",
                                    "Color": "Silver",
                                    "ListPrice": "1364.50"
                                },
                                {
                                    "ProductID": "741",
                                    "Name": "HL Mountain Frame - Silver, 48",
                                    "Color": "Silver",
                                    "ListPrice": "1364.50"
                                },
                                {
                                    "ProductID": "742",
                                    "Name": "HL Mountain Frame - Silver, 46",
                                    "Color": "Silver",
                                    "ListPrice": "1364.50"
                                },
                                {
                                    "ProductID": "743",
                                    "Name": "HL Mountain Frame - Black, 42",
                                    "Color": "Black",
                                    "ListPrice": "1349.60"
                                },
                                {
                                    "ProductID": "744",
                                    "Name": "HL Mountain Frame - Black, 44",
                                    "Color": "Black",
                                    "ListPrice": "1349.60"
                                },
                                {
                                    "ProductID": "745",
                                    "Name": "HL Mountain Frame - Black, 48",
                                    "Color": "Black",
                                    "ListPrice": "1349.60"
                                },
                                {
                                    "ProductID": "746",
                                    "Name": "HL Mountain Frame - Black, 46",
                                    "Color": "Black",
                                    "ListPrice": "1349.60"
                                },
                                {
                                    "ProductID": "747",
                                    "Name": "HL Mountain Frame - Black, 38",
                                    "Color": "Black",
                                    "ListPrice": "1349.60"
                                },
                                {
                                    "ProductID": "748",
                                    "Name": "HL Mountain Frame - Silver, 38",
                                    "Color": "Silver",
                                    "ListPrice": "1364.50"
                                },
                                {
                                    "ProductID": "749",
                                    "Name": "Road-150 Red, 62",
                                    "Color": "Red",
                                    "ListPrice": "3578.27"
                                },
                                {
                                    "ProductID": "750",
                                    "Name": "Road-150 Red, 44",
                                    "Color": "Red",
                                    "ListPrice": "3578.27"
                                },
                                {
                                    "ProductID": "751",
                                    "Name": "Road-150 Red, 48",
                                    "Color": "Red",
                                    "ListPrice": "3578.27"
                                },
                                {
                                    "ProductID": "752",
                                    "Name": "Road-150 Red, 52",
                                    "Color": "Red",
                                    "ListPrice": "3578.27"
                                },
                                {
                                    "ProductID": "753",
                                    "Name": "Road-150 Red, 56",
                                    "Color": "Red",
                                    "ListPrice": "3578.27"
                                },
                                {
                                    "ProductID": "754",
                                    "Name": "Road-450 Red, 58",
                                    "Color": "Red",
                                    "ListPrice": "1457.99"
                                },
                                {
                                    "ProductID": "755",
                                    "Name": "Road-450 Red, 60",
                                    "Color": "Red",
                                    "ListPrice": "1457.99"
                                },
                                {
                                    "ProductID": "756",
                                    "Name": "Road-450 Red, 44",
                                    "Color": "Red",
                                    "ListPrice": "1457.99"
                                },
                                {
                                    "ProductID": "757",
                                    "Name": "Road-450 Red, 48",
                                    "Color": "Red",
                                    "ListPrice": "1457.99"
                                },
                                {
                                    "ProductID": "758",
                                    "Name": "Road-450 Red, 52",
                                    "Color": "Red",
                                    "ListPrice": "1457.99"
                                },
                                {
                                    "ProductID": "759",
                                    "Name": "Road-650 Red, 58",
                                    "Color": "Red",
                                    "ListPrice": "782.99"
                                },
                                {
                                    "ProductID": "760",
                                    "Name": "Road-650 Red, 60",
                                    "Color": "Red",
                                    "ListPrice": "782.99"
                                },
                                {
                                    "ProductID": "761",
                                    "Name": "Road-650 Red, 62",
                                    "Color": "Red",
                                    "ListPrice": "782.99"
                                },
                                {
                                    "ProductID": "762",
                                    "Name": "Road-650 Red, 44",
                                    "Color": "Red",
                                    "ListPrice": "782.99"
                                },
                                {
                                    "ProductID": "763",
                                    "Name": "Road-650 Red, 48",
                                    "Color": "Red",
                                    "ListPrice": "782.99"
                                },
                                {
                                    "ProductID": "764",
                                    "Name": "Road-650 Red, 52",
                                    "Color": "Red",
                                    "ListPrice": "782.99"
                                },
                                {
                                    "ProductID": "765",
                                    "Name": "Road-650 Black, 58",
                                    "Color": "Black",
                                    "ListPrice": "782.99"
                                },
                                {
                                    "ProductID": "766",
                                    "Name": "Road-650 Black, 60",
                                    "Color": "Black",
                                    "ListPrice": "782.99"
                                },
                                {
                                    "ProductID": "767",
                                    "Name": "Road-650 Black, 62",
                                    "Color": "Black",
                                    "ListPrice": "782.99"
                                },
                                {
                                    "ProductID": "768",
                                    "Name": "Road-650 Black, 44",
                                    "Color": "Black",
                                    "ListPrice": "782.99"
                                },
                                {
                                    "ProductID": "769",
                                    "Name": "Road-650 Black, 48",
                                    "Color": "Black",
                                    "ListPrice": "782.99"
                                },
                                {
                                    "ProductID": "770",
                                    "Name": "Road-650 Black, 52",
                                    "Color": "Black",
                                    "ListPrice": "782.99"
                                },
                                {
                                    "ProductID": "771",
                                    "Name": "Mountain-100 Silver, 38",
                                    "Color": "Silver",
                                    "ListPrice": "3399.99"
                                },
                                {
                                    "ProductID": "772",
                                    "Name": "Mountain-100 Silver, 42",
                                    "Color": "Silver",
                                    "ListPrice": "3399.99"
                                },
                                {
                                    "ProductID": "773",
                                    "Name": "Mountain-100 Silver, 44",
                                    "Color": "Silver",
                                    "ListPrice": "3399.99"
                                },
                                {
                                    "ProductID": "774",
                                    "Name": "Mountain-100 Silver, 48",
                                    "Color": "Silver",
                                    "ListPrice": "3399.99"
                                },
                                {
                                    "ProductID": "775",
                                    "Name": "Mountain-100 Black, 38",
                                    "Color": "Black",
                                    "ListPrice": "3374.99"
                                },
                                {
                                    "ProductID": "776",
                                    "Name": "Mountain-100 Black, 42",
                                    "Color": "Black",
                                    "ListPrice": "3374.99"
                                },
                                {
                                    "ProductID": "777",
                                    "Name": "Mountain-100 Black, 44",
                                    "Color": "Black",
                                    "ListPrice": "3374.99"
                                },
                                {
                                    "ProductID": "778",
                                    "Name": "Mountain-100 Black, 48",
                                    "Color": "Black",
                                    "ListPrice": "3374.99"
                                },
                                {
                                    "ProductID": "779",
                                    "Name": "Mountain-200 Silver, 38",
                                    "Color": "Silver",
                                    "ListPrice": "2319.99"
                                },
                                {
                                    "ProductID": "780",
                                    "Name": "Mountain-200 Silver, 42",
                                    "Color": "Silver",
                                    "ListPrice": "2319.99"
                                },
                                {
                                    "ProductID": "781",
                                    "Name": "Mountain-200 Silver, 46",
                                    "Color": "Silver",
                                    "ListPrice": "2319.99"
                                },
                                {
                                    "ProductID": "782",
                                    "Name": "Mountain-200 Black, 38",
                                    "Color": "Black",
                                    "ListPrice": "2294.99"
                                },
                                {
                                    "ProductID": "783",
                                    "Name": "Mountain-200 Black, 42",
                                    "Color": "Black",
                                    "ListPrice": "2294.99"
                                },
                                {
                                    "ProductID": "784",
                                    "Name": "Mountain-200 Black, 46",
                                    "Color": "Black",
                                    "ListPrice": "2294.99"
                                },
                                {
                                    "ProductID": "785",
                                    "Name": "Mountain-300 Black, 38",
                                    "Color": "Black",
                                    "ListPrice": "1079.99"
                                },
                                {
                                    "ProductID": "786",
                                    "Name": "Mountain-300 Black, 40",
                                    "Color": "Black",
                                    "ListPrice": "1079.99"
                                },
                                {
                                    "ProductID": "787",
                                    "Name": "Mountain-300 Black, 44",
                                    "Color": "Black",
                                    "ListPrice": "1079.99"
                                },
                                {
                                    "ProductID": "788",
                                    "Name": "Mountain-300 Black, 48",
                                    "Color": "Black",
                                    "ListPrice": "1079.99"
                                },
                                {
                                    "ProductID": "789",
                                    "Name": "Road-250 Red, 44",
                                    "Color": "Red",
                                    "ListPrice": "2443.35"
                                },
                                {
                                    "ProductID": "790",
                                    "Name": "Road-250 Red, 48",
                                    "Color": "Red",
                                    "ListPrice": "2443.35"
                                },
                                {
                                    "ProductID": "791",
                                    "Name": "Road-250 Red, 52",
                                    "Color": "Red",
                                    "ListPrice": "2443.35"
                                },
                                {
                                    "ProductID": "792",
                                    "Name": "Road-250 Red, 58",
                                    "Color": "Red",
                                    "ListPrice": "2443.35"
                                },
                                {
                                    "ProductID": "793",
                                    "Name": "Road-250 Black, 44",
                                    "Color": "Black",
                                    "ListPrice": "2443.35"
                                },
                                {
                                    "ProductID": "794",
                                    "Name": "Road-250 Black, 48",
                                    "Color": "Black",
                                    "ListPrice": "2443.35"
                                },
                                {
                                    "ProductID": "795",
                                    "Name": "Road-250 Black, 52",
                                    "Color": "Black",
                                    "ListPrice": "2443.35"
                                },
                                {
                                    "ProductID": "796",
                                    "Name": "Road-250 Black, 58",
                                    "Color": "Black",
                                    "ListPrice": "2443.35"
                                },
                                {
                                    "ProductID": "797",
                                    "Name": "Road-550-W Yellow, 38",
                                    "Color": "Yellow",
                                    "ListPrice": "1120.49"
                                },
                                {
                                    "ProductID": "798",
                                    "Name": "Road-550-W Yellow, 40",
                                    "Color": "Yellow",
                                    "ListPrice": "1120.49"
                                },
                                {
                                    "ProductID": "799",
                                    "Name": "Road-550-W Yellow, 42",
                                    "Color": "Yellow",
                                    "ListPrice": "1120.49"
                                },
                                {
                                    "ProductID": "800",
                                    "Name": "Road-550-W Yellow, 44",
                                    "Color": "Yellow",
                                    "ListPrice": "1120.49"
                                },
                                {
                                    "ProductID": "801",
                                    "Name": "Road-550-W Yellow, 48",
                                    "Color": "Yellow",
                                    "ListPrice": "1120.49"
                                },
                                {
                                    "ProductID": "802",
                                    "Name": "LL Fork",
                                    "Color": "NULL",
                                    "ListPrice": "148.22"
                                },
                                {
                                    "ProductID": "803",
                                    "Name": "ML Fork",
                                    "Color": "NULL",
                                    "ListPrice": "175.49"
                                },
                                {
                                    "ProductID": "804",
                                    "Name": "HL Fork",
                                    "Color": "NULL",
                                    "ListPrice": "229.49"
                                },
                                {
                                    "ProductID": "805",
                                    "Name": "LL Headset",
                                    "Color": "NULL",
                                    "ListPrice": "34.20"
                                },
                                {
                                    "ProductID": "806",
                                    "Name": "ML Headset",
                                    "Color": "NULL",
                                    "ListPrice": "102.29"
                                },
                                {
                                    "ProductID": "807",
                                    "Name": "HL Headset",
                                    "Color": "NULL",
                                    "ListPrice": "124.73"
                                },
                                {
                                    "ProductID": "808",
                                    "Name": "LL Mountain Handlebars",
                                    "Color": "NULL",
                                    "ListPrice": "44.54"
                                },
                                {
                                    "ProductID": "809",
                                    "Name": "ML Mountain Handlebars",
                                    "Color": "NULL",
                                    "ListPrice": "61.92"
                                },
                                {
                                    "ProductID": "810",
                                    "Name": "HL Mountain Handlebars",
                                    "Color": "NULL",
                                    "ListPrice": "120.27"
                                },
                                {
                                    "ProductID": "811",
                                    "Name": "LL Road Handlebars",
                                    "Color": "NULL",
                                    "ListPrice": "44.54"
                                },
                                {
                                    "ProductID": "812",
                                    "Name": "ML Road Handlebars",
                                    "Color": "NULL",
                                    "ListPrice": "61.92"
                                },
                                {
                                    "ProductID": "813",
                                    "Name": "HL Road Handlebars",
                                    "Color": "NULL",
                                    "ListPrice": "120.27"
                                },
                                {
                                    "ProductID": "814",
                                    "Name": "ML Mountain Frame - Black, 38",
                                    "Color": "Black",
                                    "ListPrice": "348.76"
                                },
                                {
                                    "ProductID": "815",
                                    "Name": "LL Mountain Front Wheel",
                                    "Color": "Black",
                                    "ListPrice": "60.745"
                                },
                                {
                                    "ProductID": "816",
                                    "Name": "ML Mountain Front Wheel",
                                    "Color": "Black",
                                    "ListPrice": "209.025"
                                },
                                {
                                    "ProductID": "817",
                                    "Name": "HL Mountain Front Wheel",
                                    "Color": "Black",
                                    "ListPrice": "300.215"
                                },
                                {
                                    "ProductID": "818",
                                    "Name": "LL Road Front Wheel",
                                    "Color": "Black",
                                    "ListPrice": "85.565"
                                },
                                {
                                    "ProductID": "819",
                                    "Name": "ML Road Front Wheel",
                                    "Color": "Black",
                                    "ListPrice": "248.385"
                                },
                                {
                                    "ProductID": "820",
                                    "Name": "HL Road Front Wheel",
                                    "Color": "Black",
                                    "ListPrice": "330.06"
                                },
                                {
                                    "ProductID": "821",
                                    "Name": "Touring Front Wheel",
                                    "Color": "Black",
                                    "ListPrice": "218.01"
                                },
                                {
                                    "ProductID": "822",
                                    "Name": "ML Road Frame-W - Yellow, 38",
                                    "Color": "Yellow",
                                    "ListPrice": "594.83"
                                },
                                {
                                    "ProductID": "823",
                                    "Name": "LL Mountain Rear Wheel",
                                    "Color": "Black",
                                    "ListPrice": "87.745"
                                },
                                {
                                    "ProductID": "824",
                                    "Name": "ML Mountain Rear Wheel",
                                    "Color": "Black",
                                    "ListPrice": "236.025"
                                },
                                {
                                    "ProductID": "825",
                                    "Name": "HL Mountain Rear Wheel",
                                    "Color": "Black",
                                    "ListPrice": "327.215"
                                },
                                {
                                    "ProductID": "826",
                                    "Name": "LL Road Rear Wheel",
                                    "Color": "Black",
                                    "ListPrice": "112.565"
                                },
                                {
                                    "ProductID": "827",
                                    "Name": "ML Road Rear Wheel",
                                    "Color": "Black",
                                    "ListPrice": "275.385"
                                },
                                {
                                    "ProductID": "828",
                                    "Name": "HL Road Rear Wheel",
                                    "Color": "Black",
                                    "ListPrice": "357.06"
                                },
                                {
                                    "ProductID": "829",
                                    "Name": "Touring Rear Wheel",
                                    "Color": "Black",
                                    "ListPrice": "245.01"
                                },
                                {
                                    "ProductID": "830",
                                    "Name": "ML Mountain Frame - Black, 40",
                                    "Color": "Black",
                                    "ListPrice": "348.76"
                                },
                                {
                                    "ProductID": "831",
                                    "Name": "ML Mountain Frame - Black, 44",
                                    "Color": "Black",
                                    "ListPrice": "348.76"
                                },
                                {
                                    "ProductID": "832",
                                    "Name": "ML Mountain Frame - Black, 48",
                                    "Color": "Black",
                                    "ListPrice": "348.76"
                                },
                                {
                                    "ProductID": "833",
                                    "Name": "ML Road Frame-W - Yellow, 40",
                                    "Color": "Yellow",
                                    "ListPrice": "594.83"
                                },
                                {
                                    "ProductID": "834",
                                    "Name": "ML Road Frame-W - Yellow, 42",
                                    "Color": "Yellow",
                                    "ListPrice": "594.83"
                                },
                                {
                                    "ProductID": "835",
                                    "Name": "ML Road Frame-W - Yellow, 44",
                                    "Color": "Yellow",
                                    "ListPrice": "594.83"
                                },
                                {
                                    "ProductID": "836",
                                    "Name": "ML Road Frame-W - Yellow, 48",
                                    "Color": "Yellow",
                                    "ListPrice": "594.83"
                                },
                                {
                                    "ProductID": "837",
                                    "Name": "HL Road Frame - Black, 62",
                                    "Color": "Black",
                                    "ListPrice": "1431.50"
                                },
                                {
                                    "ProductID": "838",
                                    "Name": "HL Road Frame - Black, 44",
                                    "Color": "Black",
                                    "ListPrice": "1431.50"
                                },
                                {
                                    "ProductID": "839",
                                    "Name": "HL Road Frame - Black, 48",
                                    "Color": "Black",
                                    "ListPrice": "1431.50"
                                },
                                {
                                    "ProductID": "840",
                                    "Name": "HL Road Frame - Black, 52",
                                    "Color": "Black",
                                    "ListPrice": "1431.50"
                                },
                                {
                                    "ProductID": "841",
                                    "Name": "Men's Sports Shorts, S",
                                    "Color": "Black",
                                    "ListPrice": "59.99"
                                },
                                {
                                    "ProductID": "842",
                                    "Name": "Touring-Panniers, Large",
                                    "Color": "Grey",
                                    "ListPrice": "125.00"
                                },
                                {
                                    "ProductID": "843",
                                    "Name": "Cable Lock",
                                    "Color": "NULL",
                                    "ListPrice": "25.00"
                                },
                                {
                                    "ProductID": "844",
                                    "Name": "Minipump",
                                    "Color": "NULL",
                                    "ListPrice": "19.99"
                                },
                                {
                                    "ProductID": "845",
                                    "Name": "Mountain Pump",
                                    "Color": "NULL",
                                    "ListPrice": "24.99"
                                },
                                {
                                    "ProductID": "846",
                                    "Name": "Taillights - Battery-Powered",
                                    "Color": "NULL",
                                    "ListPrice": "13.99"
                                },
                                {
                                    "ProductID": "847",
                                    "Name": "Headlights - Dual-Beam",
                                    "Color": "NULL",
                                    "ListPrice": "34.99"
                                },
                                {
                                    "ProductID": "848",
                                    "Name": "Headlights - Weatherproof",
                                    "Color": "NULL",
                                    "ListPrice": "44.99"
                                },
                                {
                                    "ProductID": "849",
                                    "Name": "Men's Sports Shorts, M",
                                    "Color": "Black",
                                    "ListPrice": "59.99"
                                },
                                {
                                    "ProductID": "850",
                                    "Name": "Men's Sports Shorts, L",
                                    "Color": "Black",
                                    "ListPrice": "59.99"
                                },
                                {
                                    "ProductID": "851",
                                    "Name": "Men's Sports Shorts, XL",
                                    "Color": "Black",
                                    "ListPrice": "59.99"
                                },
                                {
                                    "ProductID": "852",
                                    "Name": "Women's Tights, S",
                                    "Color": "Black",
                                    "ListPrice": "74.99"
                                },
                                {
                                    "ProductID": "853",
                                    "Name": "Women's Tights, M",
                                    "Color": "Black",
                                    "ListPrice": "74.99"
                                },
                                {
                                    "ProductID": "854",
                                    "Name": "Women's Tights, L",
                                    "Color": "Black",
                                    "ListPrice": "74.99"
                                },
                                {
                                    "ProductID": "855",
                                    "Name": "Men's Bib-Shorts, S",
                                    "Color": "Multi",
                                    "ListPrice": "89.99"
                                },
                                {
                                    "ProductID": "856",
                                    "Name": "Men's Bib-Shorts, M",
                                    "Color": "Multi",
                                    "ListPrice": "89.99"
                                },
                                {
                                    "ProductID": "857",
                                    "Name": "Men's Bib-Shorts, L",
                                    "Color": "Multi",
                                    "ListPrice": "89.99"
                                },
                                {
                                    "ProductID": "858",
                                    "Name": "Half-Finger Gloves, S",
                                    "Color": "Black",
                                    "ListPrice": "24.49"
                                },
                                {
                                    "ProductID": "859",
                                    "Name": "Half-Finger Gloves, M",
                                    "Color": "Black",
                                    "ListPrice": "24.49"
                                },
                                {
                                    "ProductID": "860",
                                    "Name": "Half-Finger Gloves, L",
                                    "Color": "Black",
                                    "ListPrice": "24.49"
                                },
                                {
                                    "ProductID": "861",
                                    "Name": "Full-Finger Gloves, S",
                                    "Color": "Black",
                                    "ListPrice": "37.99"
                                },
                                {
                                    "ProductID": "862",
                                    "Name": "Full-Finger Gloves, M",
                                    "Color": "Black",
                                    "ListPrice": "37.99"
                                },
                                {
                                    "ProductID": "863",
                                    "Name": "Full-Finger Gloves, L",
                                    "Color": "Black",
                                    "ListPrice": "37.99"
                                },
                                {
                                    "ProductID": "864",
                                    "Name": "Classic Vest, S",
                                    "Color": "Blue",
                                    "ListPrice": "63.50"
                                },
                                {
                                    "ProductID": "865",
                                    "Name": "Classic Vest, M",
                                    "Color": "Blue",
                                    "ListPrice": "63.50"
                                },
                                {
                                    "ProductID": "866",
                                    "Name": "Classic Vest, L",
                                    "Color": "Blue",
                                    "ListPrice": "63.50"
                                },
                                {
                                    "ProductID": "867",
                                    "Name": "Women's Mountain Shorts, S",
                                    "Color": "Black",
                                    "ListPrice": "69.99"
                                },
                                {
                                    "ProductID": "868",
                                    "Name": "Women's Mountain Shorts, M",
                                    "Color": "Black",
                                    "ListPrice": "69.99"
                                },
                                {
                                    "ProductID": "869",
                                    "Name": "Women's Mountain Shorts, L",
                                    "Color": "Black",
                                    "ListPrice": "69.99"
                                },
                                {
                                    "ProductID": "870",
                                    "Name": "Water Bottle - 30 oz.",
                                    "Color": "NULL",
                                    "ListPrice": "4.99"
                                },
                                {
                                    "ProductID": "871",
                                    "Name": "Mountain Bottle Cage",
                                    "Color": "NULL",
                                    "ListPrice": "9.99"
                                },
                                {
                                    "ProductID": "872",
                                    "Name": "Road Bottle Cage",
                                    "Color": "NULL",
                                    "ListPrice": "8.99"
                                },
                                {
                                    "ProductID": "873",
                                    "Name": "Patch Kit/8 Patches",
                                    "Color": "NULL",
                                    "ListPrice": "2.29"
                                },
                                {
                                    "ProductID": "874",
                                    "Name": "Racing Socks, M",
                                    "Color": "White",
                                    "ListPrice": "8.99"
                                },
                                {
                                    "ProductID": "875",
                                    "Name": "Racing Socks, L",
                                    "Color": "White",
                                    "ListPrice": "8.99"
                                },
                                {
                                    "ProductID": "876",
                                    "Name": "Hitch Rack - 4-Bike",
                                    "Color": "NULL",
                                    "ListPrice": "120.00"
                                },
                                {
                                    "ProductID": "877",
                                    "Name": "Bike Wash - Dissolver",
                                    "Color": "NULL",
                                    "ListPrice": "7.95"
                                },
                                {
                                    "ProductID": "878",
                                    "Name": "Fender Set - Mountain",
                                    "Color": "NULL",
                                    "ListPrice": "21.98"
                                },
                                {
                                    "ProductID": "879",
                                    "Name": "All-Purpose Bike Stand",
                                    "Color": "NULL",
                                    "ListPrice": "159.00"
                                },
                                {
                                    "ProductID": "880",
                                    "Name": "Hydration Pack - 70 oz.",
                                    "Color": "Silver",
                                    "ListPrice": "54.99"
                                },
                                {
                                    "ProductID": "881",
                                    "Name": "Short-Sleeve Classic Jersey, S",
                                    "Color": "Yellow",
                                    "ListPrice": "53.99"
                                },
                                {
                                    "ProductID": "882",
                                    "Name": "Short-Sleeve Classic Jersey, M",
                                    "Color": "Yellow",
                                    "ListPrice": "53.99"
                                },
                                {
                                    "ProductID": "883",
                                    "Name": "Short-Sleeve Classic Jersey, L",
                                    "Color": "Yellow",
                                    "ListPrice": "53.99"
                                },
                                {
                                    "ProductID": "884",
                                    "Name": "Short-Sleeve Classic Jersey, XL",
                                    "Color": "Yellow",
                                    "ListPrice": "53.99"
                                },
                                {
                                    "ProductID": "885",
                                    "Name": "HL Touring Frame - Yellow, 60",
                                    "Color": "Yellow",
                                    "ListPrice": "1003.91"
                                },
                                {
                                    "ProductID": "886",
                                    "Name": "LL Touring Frame - Yellow, 62",
                                    "Color": "Yellow",
                                    "ListPrice": "333.42"
                                },
                                {
                                    "ProductID": "887",
                                    "Name": "HL Touring Frame - Yellow, 46",
                                    "Color": "Yellow",
                                    "ListPrice": "1003.91"
                                },
                                {
                                    "ProductID": "888",
                                    "Name": "HL Touring Frame - Yellow, 50",
                                    "Color": "Yellow",
                                    "ListPrice": "1003.91"
                                },
                                {
                                    "ProductID": "889",
                                    "Name": "HL Touring Frame - Yellow, 54",
                                    "Color": "Yellow",
                                    "ListPrice": "1003.91"
                                },
                                {
                                    "ProductID": "890",
                                    "Name": "HL Touring Frame - Blue, 46",
                                    "Color": "Blue",
                                    "ListPrice": "1003.91"
                                },
                                {
                                    "ProductID": "891",
                                    "Name": "HL Touring Frame - Blue, 50",
                                    "Color": "Blue",
                                    "ListPrice": "1003.91"
                                },
                                {
                                    "ProductID": "892",
                                    "Name": "HL Touring Frame - Blue, 54",
                                    "Color": "Blue",
                                    "ListPrice": "1003.91"
                                },
                                {
                                    "ProductID": "893",
                                    "Name": "HL Touring Frame - Blue, 60",
                                    "Color": "Blue",
                                    "ListPrice": "1003.91"
                                },
                                {
                                    "ProductID": "894",
                                    "Name": "Rear Derailleur",
                                    "Color": "Silver",
                                    "ListPrice": "121.46"
                                },
                                {
                                    "ProductID": "895",
                                    "Name": "LL Touring Frame - Blue, 50",
                                    "Color": "Blue",
                                    "ListPrice": "333.42"
                                },
                                {
                                    "ProductID": "896",
                                    "Name": "LL Touring Frame - Blue, 54",
                                    "Color": "Blue",
                                    "ListPrice": "333.42"
                                },
                                {
                                    "ProductID": "897",
                                    "Name": "LL Touring Frame - Blue, 58",
                                    "Color": "Blue",
                                    "ListPrice": "333.42"
                                },
                                {
                                    "ProductID": "898",
                                    "Name": "LL Touring Frame - Blue, 62",
                                    "Color": "Blue",
                                    "ListPrice": "333.42"
                                },
                                {
                                    "ProductID": "899",
                                    "Name": "LL Touring Frame - Yellow, 44",
                                    "Color": "Yellow",
                                    "ListPrice": "333.42"
                                },
                                {
                                    "ProductID": "900",
                                    "Name": "LL Touring Frame - Yellow, 50",
                                    "Color": "Yellow",
                                    "ListPrice": "333.42"
                                },
                                {
                                    "ProductID": "901",
                                    "Name": "LL Touring Frame - Yellow, 54",
                                    "Color": "Yellow",
                                    "ListPrice": "333.42"
                                },
                                {
                                    "ProductID": "902",
                                    "Name": "LL Touring Frame - Yellow, 58",
                                    "Color": "Yellow",
                                    "ListPrice": "333.42"
                                },
                                {
                                    "ProductID": "903",
                                    "Name": "LL Touring Frame - Blue, 44",
                                    "Color": "Blue",
                                    "ListPrice": "333.42"
                                },
                                {
                                    "ProductID": "904",
                                    "Name": "ML Mountain Frame-W - Silver, 40",
                                    "Color": "Silver",
                                    "ListPrice": "364.09"
                                },
                                {
                                    "ProductID": "905",
                                    "Name": "ML Mountain Frame-W - Silver, 42",
                                    "Color": "Silver",
                                    "ListPrice": "364.09"
                                },
                                {
                                    "ProductID": "906",
                                    "Name": "ML Mountain Frame-W - Silver, 46",
                                    "Color": "Silver",
                                    "ListPrice": "364.09"
                                },
                                {
                                    "ProductID": "907",
                                    "Name": "Rear Brakes",
                                    "Color": "Silver",
                                    "ListPrice": "106.50"
                                },
                                {
                                    "ProductID": "908",
                                    "Name": "LL Mountain Seat/Saddle",
                                    "Color": "NULL",
                                    "ListPrice": "27.12"
                                },
                                {
                                    "ProductID": "909",
                                    "Name": "ML Mountain Seat/Saddle",
                                    "Color": "NULL",
                                    "ListPrice": "39.14"
                                },
                                {
                                    "ProductID": "910",
                                    "Name": "HL Mountain Seat/Saddle",
                                    "Color": "NULL",
                                    "ListPrice": "52.64"
                                },
                                {
                                    "ProductID": "911",
                                    "Name": "LL Road Seat/Saddle",
                                    "Color": "NULL",
                                    "ListPrice": "27.12"
                                },
                                {
                                    "ProductID": "912",
                                    "Name": "ML Road Seat/Saddle",
                                    "Color": "NULL",
                                    "ListPrice": "39.14"
                                },
                                {
                                    "ProductID": "913",
                                    "Name": "HL Road Seat/Saddle",
                                    "Color": "NULL",
                                    "ListPrice": "52.64"
                                },
                                {
                                    "ProductID": "914",
                                    "Name": "LL Touring Seat/Saddle",
                                    "Color": "NULL",
                                    "ListPrice": "27.12"
                                },
                                {
                                    "ProductID": "915",
                                    "Name": "ML Touring Seat/Saddle",
                                    "Color": "NULL",
                                    "ListPrice": "39.14"
                                },
                                {
                                    "ProductID": "916",
                                    "Name": "HL Touring Seat/Saddle",
                                    "Color": "NULL",
                                    "ListPrice": "52.64"
                                },
                                {
                                    "ProductID": "917",
                                    "Name": "LL Mountain Frame - Silver, 42",
                                    "Color": "Silver",
                                    "ListPrice": "264.05"
                                },
                                {
                                    "ProductID": "918",
                                    "Name": "LL Mountain Frame - Silver, 44",
                                    "Color": "Silver",
                                    "ListPrice": "264.05"
                                },
                                {
                                    "ProductID": "919",
                                    "Name": "LL Mountain Frame - Silver, 48",
                                    "Color": "Silver",
                                    "ListPrice": "264.05"
                                },
                                {
                                    "ProductID": "920",
                                    "Name": "LL Mountain Frame - Silver, 52",
                                    "Color": "Silver",
                                    "ListPrice": "264.05"
                                },
                                {
                                    "ProductID": "921",
                                    "Name": "Mountain Tire Tube",
                                    "Color": "NULL",
                                    "ListPrice": "4.99"
                                },
                                {
                                    "ProductID": "922",
                                    "Name": "Road Tire Tube",
                                    "Color": "NULL",
                                    "ListPrice": "3.99"
                                },
                                {
                                    "ProductID": "923",
                                    "Name": "Touring Tire Tube",
                                    "Color": "NULL",
                                    "ListPrice": "4.99"
                                },
                                {
                                    "ProductID": "924",
                                    "Name": "LL Mountain Frame - Black, 42",
                                    "Color": "Black",
                                    "ListPrice": "249.79"
                                },
                                {
                                    "ProductID": "925",
                                    "Name": "LL Mountain Frame - Black, 44",
                                    "Color": "Black",
                                    "ListPrice": "249.79"
                                },
                                {
                                    "ProductID": "926",
                                    "Name": "LL Mountain Frame - Black, 48",
                                    "Color": "Black",
                                    "ListPrice": "249.79"
                                },
                                {
                                    "ProductID": "927",
                                    "Name": "LL Mountain Frame - Black, 52",
                                    "Color": "Black",
                                    "ListPrice": "249.79"
                                },
                                {
                                    "ProductID": "928",
                                    "Name": "LL Mountain Tire",
                                    "Color": "NULL",
                                    "ListPrice": "24.99"
                                },
                                {
                                    "ProductID": "929",
                                    "Name": "ML Mountain Tire",
                                    "Color": "NULL",
                                    "ListPrice": "29.99"
                                },
                                {
                                    "ProductID": "930",
                                    "Name": "HL Mountain Tire",
                                    "Color": "NULL",
                                    "ListPrice": "35.00"
                                },
                                {
                                    "ProductID": "931",
                                    "Name": "LL Road Tire",
                                    "Color": "NULL",
                                    "ListPrice": "21.49"
                                },
                                {
                                    "ProductID": "932",
                                    "Name": "ML Road Tire",
                                    "Color": "NULL",
                                    "ListPrice": "24.99"
                                },
                                {
                                    "ProductID": "933",
                                    "Name": "HL Road Tire",
                                    "Color": "NULL",
                                    "ListPrice": "32.60"
                                },
                                {
                                    "ProductID": "934",
                                    "Name": "Touring Tire",
                                    "Color": "NULL",
                                    "ListPrice": "28.99"
                                },
                                {
                                    "ProductID": "935",
                                    "Name": "LL Mountain Pedal",
                                    "Color": "Silver/Black",
                                    "ListPrice": "40.49"
                                },
                                {
                                    "ProductID": "936",
                                    "Name": "ML Mountain Pedal",
                                    "Color": "Silver/Black",
                                    "ListPrice": "62.09"
                                },
                                {
                                    "ProductID": "937",
                                    "Name": "HL Mountain Pedal",
                                    "Color": "Silver/Black",
                                    "ListPrice": "80.99"
                                },
                                {
                                    "ProductID": "938",
                                    "Name": "LL Road Pedal",
                                    "Color": "Silver/Black",
                                    "ListPrice": "40.49"
                                },
                                {
                                    "ProductID": "939",
                                    "Name": "ML Road Pedal",
                                    "Color": "Silver/Black",
                                    "ListPrice": "62.09"
                                },
                                {
                                    "ProductID": "940",
                                    "Name": "HL Road Pedal",
                                    "Color": "Silver/Black",
                                    "ListPrice": "80.99"
                                },
                                {
                                    "ProductID": "941",
                                    "Name": "Touring Pedal",
                                    "Color": "Silver/Black",
                                    "ListPrice": "80.99"
                                },
                                {
                                    "ProductID": "942",
                                    "Name": "ML Mountain Frame-W - Silver, 38",
                                    "Color": "Silver",
                                    "ListPrice": "364.09"
                                },
                                {
                                    "ProductID": "943",
                                    "Name": "LL Mountain Frame - Black, 40",
                                    "Color": "Black",
                                    "ListPrice": "249.79"
                                },
                                {
                                    "ProductID": "944",
                                    "Name": "LL Mountain Frame - Silver, 40",
                                    "Color": "Silver",
                                    "ListPrice": "264.05"
                                },
                                {
                                    "ProductID": "945",
                                    "Name": "Front Derailleur",
                                    "Color": "Silver",
                                    "ListPrice": "91.49"
                                },
                                {
                                    "ProductID": "946",
                                    "Name": "LL Touring Handlebars",
                                    "Color": "NULL",
                                    "ListPrice": "46.09"
                                },
                                {
                                    "ProductID": "947",
                                    "Name": "HL Touring Handlebars",
                                    "Color": "NULL",
                                    "ListPrice": "91.57"
                                },
                                {
                                    "ProductID": "948",
                                    "Name": "Front Brakes",
                                    "Color": "Silver",
                                    "ListPrice": "106.50"
                                },
                                {
                                    "ProductID": "949",
                                    "Name": "LL Crankset",
                                    "Color": "Black",
                                    "ListPrice": "175.49"
                                },
                                {
                                    "ProductID": "950",
                                    "Name": "ML Crankset",
                                    "Color": "Black",
                                    "ListPrice": "256.49"
                                },
                                {
                                    "ProductID": "951",
                                    "Name": "HL Crankset",
                                    "Color": "Black",
                                    "ListPrice": "404.99"
                                },
                                {
                                    "ProductID": "952",
                                    "Name": "Chain",
                                    "Color": "Silver",
                                    "ListPrice": "20.24"
                                },
                                {
                                    "ProductID": "953",
                                    "Name": "Touring-2000 Blue, 60",
                                    "Color": "Blue",
                                    "ListPrice": "1214.85"
                                },
                                {
                                    "ProductID": "954",
                                    "Name": "Touring-1000 Yellow, 46",
                                    "Color": "Yellow",
                                    "ListPrice": "2384.07"
                                },
                                {
                                    "ProductID": "955",
                                    "Name": "Touring-1000 Yellow, 50",
                                    "Color": "Yellow",
                                    "ListPrice": "2384.07"
                                },
                                {
                                    "ProductID": "956",
                                    "Name": "Touring-1000 Yellow, 54",
                                    "Color": "Yellow",
                                    "ListPrice": "2384.07"
                                },
                                {
                                    "ProductID": "957",
                                    "Name": "Touring-1000 Yellow, 60",
                                    "Color": "Yellow",
                                    "ListPrice": "2384.07"
                                },
                                {
                                    "ProductID": "958",
                                    "Name": "Touring-3000 Blue, 54",
                                    "Color": "Blue",
                                    "ListPrice": "742.35"
                                },
                                {
                                    "ProductID": "959",
                                    "Name": "Touring-3000 Blue, 58",
                                    "Color": "Blue",
                                    "ListPrice": "742.35"
                                },
                                {
                                    "ProductID": "960",
                                    "Name": "Touring-3000 Blue, 62",
                                    "Color": "Blue",
                                    "ListPrice": "742.35"
                                },
                                {
                                    "ProductID": "961",
                                    "Name": "Touring-3000 Yellow, 44",
                                    "Color": "Yellow",
                                    "ListPrice": "742.35"
                                },
                                {
                                    "ProductID": "962",
                                    "Name": "Touring-3000 Yellow, 50",
                                    "Color": "Yellow",
                                    "ListPrice": "742.35"
                                },
                                {
                                    "ProductID": "963",
                                    "Name": "Touring-3000 Yellow, 54",
                                    "Color": "Yellow",
                                    "ListPrice": "742.35"
                                },
                                {
                                    "ProductID": "964",
                                    "Name": "Touring-3000 Yellow, 58",
                                    "Color": "Yellow",
                                    "ListPrice": "742.35"
                                },
                                {
                                    "ProductID": "965",
                                    "Name": "Touring-3000 Yellow, 62",
                                    "Color": "Yellow",
                                    "ListPrice": "742.35"
                                },
                                {
                                    "ProductID": "966",
                                    "Name": "Touring-1000 Blue, 46",
                                    "Color": "Blue",
                                    "ListPrice": "2384.07"
                                },
                                {
                                    "ProductID": "967",
                                    "Name": "Touring-1000 Blue, 50",
                                    "Color": "Blue",
                                    "ListPrice": "2384.07"
                                },
                                {
                                    "ProductID": "968",
                                    "Name": "Touring-1000 Blue, 54",
                                    "Color": "Blue",
                                    "ListPrice": "2384.07"
                                },
                                {
                                    "ProductID": "969",
                                    "Name": "Touring-1000 Blue, 60",
                                    "Color": "Blue",
                                    "ListPrice": "2384.07"
                                },
                                {
                                    "ProductID": "970",
                                    "Name": "Touring-2000 Blue, 46",
                                    "Color": "Blue",
                                    "ListPrice": "1214.85"
                                },
                                {
                                    "ProductID": "971",
                                    "Name": "Touring-2000 Blue, 50",
                                    "Color": "Blue",
                                    "ListPrice": "1214.85"
                                },
                                {
                                    "ProductID": "972",
                                    "Name": "Touring-2000 Blue, 54",
                                    "Color": "Blue",
                                    "ListPrice": "1214.85"
                                },
                                {
                                    "ProductID": "973",
                                    "Name": "Road-350-W Yellow, 40",
                                    "Color": "Yellow",
                                    "ListPrice": "1700.99"
                                },
                                {
                                    "ProductID": "974",
                                    "Name": "Road-350-W Yellow, 42",
                                    "Color": "Yellow",
                                    "ListPrice": "1700.99"
                                },
                                {
                                    "ProductID": "975",
                                    "Name": "Road-350-W Yellow, 44",
                                    "Color": "Yellow",
                                    "ListPrice": "1700.99"
                                },
                                {
                                    "ProductID": "976",
                                    "Name": "Road-350-W Yellow, 48",
                                    "Color": "Yellow",
                                    "ListPrice": "1700.99"
                                },
                                {
                                    "ProductID": "977",
                                    "Name": "Road-750 Black, 58",
                                    "Color": "Black",
                                    "ListPrice": "539.99"
                                },
                                {
                                    "ProductID": "978",
                                    "Name": "Touring-3000 Blue, 44",
                                    "Color": "Blue",
                                    "ListPrice": "742.35"
                                },
                                {
                                    "ProductID": "979",
                                    "Name": "Touring-3000 Blue, 50",
                                    "Color": "Blue",
                                    "ListPrice": "742.35"
                                },
                                {
                                    "ProductID": "980",
                                    "Name": "Mountain-400-W Silver, 38",
                                    "Color": "Silver",
                                    "ListPrice": "769.49"
                                },
                                {
                                    "ProductID": "981",
                                    "Name": "Mountain-400-W Silver, 40",
                                    "Color": "Silver",
                                    "ListPrice": "769.49"
                                },
                                {
                                    "ProductID": "982",
                                    "Name": "Mountain-400-W Silver, 42",
                                    "Color": "Silver",
                                    "ListPrice": "769.49"
                                },
                                {
                                    "ProductID": "983",
                                    "Name": "Mountain-400-W Silver, 46",
                                    "Color": "Silver",
                                    "ListPrice": "769.49"
                                },
                                {
                                    "ProductID": "984",
                                    "Name": "Mountain-500 Silver, 40",
                                    "Color": "Silver",
                                    "ListPrice": "564.99"
                                },
                                {
                                    "ProductID": "985",
                                    "Name": "Mountain-500 Silver, 42",
                                    "Color": "Silver",
                                    "ListPrice": "564.99"
                                },
                                {
                                    "ProductID": "986",
                                    "Name": "Mountain-500 Silver, 44",
                                    "Color": "Silver",
                                    "ListPrice": "564.99"
                                },
                                {
                                    "ProductID": "987",
                                    "Name": "Mountain-500 Silver, 48",
                                    "Color": "Silver",
                                    "ListPrice": "564.99"
                                },
                                {
                                    "ProductID": "988",
                                    "Name": "Mountain-500 Silver, 52",
                                    "Color": "Silver",
                                    "ListPrice": "564.99"
                                },
                                {
                                    "ProductID": "989",
                                    "Name": "Mountain-500 Black, 40",
                                    "Color": "Black",
                                    "ListPrice": "539.99"
                                },
                                {
                                    "ProductID": "990",
                                    "Name": "Mountain-500 Black, 42",
                                    "Color": "Black",
                                    "ListPrice": "539.99"
                                },
                                {
                                    "ProductID": "991",
                                    "Name": "Mountain-500 Black, 44",
                                    "Color": "Black",
                                    "ListPrice": "539.99"
                                },
                                {
                                    "ProductID": "992",
                                    "Name": "Mountain-500 Black, 48",
                                    "Color": "Black",
                                    "ListPrice": "539.99"
                                },
                                {
                                    "ProductID": "993",
                                    "Name": "Mountain-500 Black, 52",
                                    "Color": "Black",
                                    "ListPrice": "539.99"
                                },
                                {
                                    "ProductID": "994",
                                    "Name": "LL Bottom Bracket",
                                    "Color": "NULL",
                                    "ListPrice": "53.99"
                                },
                                {
                                    "ProductID": "995",
                                    "Name": "ML Bottom Bracket",
                                    "Color": "NULL",
                                    "ListPrice": "101.24"
                                },
                                {
                                    "ProductID": "996",
                                    "Name": "HL Bottom Bracket",
                                    "Color": "NULL",
                                    "ListPrice": "121.49"
                                },
                                {
                                    "ProductID": "997",
                                    "Name": "Road-750 Black, 44",
                                    "Color": "Black",
                                    "ListPrice": "539.99"
                                },
                                {
                                    "ProductID": "998",
                                    "Name": "Road-750 Black, 48",
                                    "Color": "Black",
                                    "ListPrice": "539.99"
                                },
                                {
                                    "ProductID": "999",
                                    "Name": "Road-750 Black, 52",
                                    "Color": "Black",
                                    "ListPrice": "539.99"
                                }
                            ]
                        },
                        "text/html": [
                            "<table>",
                            "<tr><th>ProductID</th><th>Name</th><th>Color</th><th>ListPrice</th></tr>",
                            "<tr><td>514</td><td>LL Mountain Seat Assembly</td><td>NULL</td><td>133.34</td></tr>",
                            "<tr><td>515</td><td>ML Mountain Seat Assembly</td><td>NULL</td><td>147.14</td></tr>",
                            "<tr><td>516</td><td>HL Mountain Seat Assembly</td><td>NULL</td><td>196.92</td></tr>",
                            "<tr><td>517</td><td>LL Road Seat Assembly</td><td>NULL</td><td>133.34</td></tr>",
                            "<tr><td>518</td><td>ML Road Seat Assembly</td><td>NULL</td><td>147.14</td></tr>",
                            "<tr><td>519</td><td>HL Road Seat Assembly</td><td>NULL</td><td>196.92</td></tr>",
                            "<tr><td>520</td><td>LL Touring Seat Assembly</td><td>NULL</td><td>133.34</td></tr>",
                            "<tr><td>521</td><td>ML Touring Seat Assembly</td><td>NULL</td><td>147.14</td></tr>",
                            "<tr><td>522</td><td>HL Touring Seat Assembly</td><td>NULL</td><td>196.92</td></tr>",
                            "<tr><td>680</td><td>HL Road Frame - Black, 58</td><td>Black</td><td>1431.50</td></tr>",
                            "<tr><td>706</td><td>HL Road Frame - Red, 58</td><td>Red</td><td>1431.50</td></tr>",
                            "<tr><td>707</td><td>Sport-100 Helmet, Red</td><td>Red</td><td>34.99</td></tr>",
                            "<tr><td>708</td><td>Sport-100 Helmet, Black</td><td>Black</td><td>34.99</td></tr>",
                            "<tr><td>709</td><td>Mountain Bike Socks, M</td><td>White</td><td>9.50</td></tr>",
                            "<tr><td>710</td><td>Mountain Bike Socks, L</td><td>White</td><td>9.50</td></tr>",
                            "<tr><td>711</td><td>Sport-100 Helmet, Blue</td><td>Blue</td><td>34.99</td></tr>",
                            "<tr><td>712</td><td>AWC Logo Cap</td><td>Multi</td><td>8.99</td></tr>",
                            "<tr><td>713</td><td>Long-Sleeve Logo Jersey, S</td><td>Multi</td><td>49.99</td></tr>",
                            "<tr><td>714</td><td>Long-Sleeve Logo Jersey, M</td><td>Multi</td><td>49.99</td></tr>",
                            "<tr><td>715</td><td>Long-Sleeve Logo Jersey, L</td><td>Multi</td><td>49.99</td></tr>",
                            "<tr><td>716</td><td>Long-Sleeve Logo Jersey, XL</td><td>Multi</td><td>49.99</td></tr>",
                            "<tr><td>717</td><td>HL Road Frame - Red, 62</td><td>Red</td><td>1431.50</td></tr>",
                            "<tr><td>718</td><td>HL Road Frame - Red, 44</td><td>Red</td><td>1431.50</td></tr>",
                            "<tr><td>719</td><td>HL Road Frame - Red, 48</td><td>Red</td><td>1431.50</td></tr>",
                            "<tr><td>720</td><td>HL Road Frame - Red, 52</td><td>Red</td><td>1431.50</td></tr>",
                            "<tr><td>721</td><td>HL Road Frame - Red, 56</td><td>Red</td><td>1431.50</td></tr>",
                            "<tr><td>722</td><td>LL Road Frame - Black, 58</td><td>Black</td><td>337.22</td></tr>",
                            "<tr><td>723</td><td>LL Road Frame - Black, 60</td><td>Black</td><td>337.22</td></tr>",
                            "<tr><td>724</td><td>LL Road Frame - Black, 62</td><td>Black</td><td>337.22</td></tr>",
                            "<tr><td>725</td><td>LL Road Frame - Red, 44</td><td>Red</td><td>337.22</td></tr>",
                            "<tr><td>726</td><td>LL Road Frame - Red, 48</td><td>Red</td><td>337.22</td></tr>",
                            "<tr><td>727</td><td>LL Road Frame - Red, 52</td><td>Red</td><td>337.22</td></tr>",
                            "<tr><td>728</td><td>LL Road Frame - Red, 58</td><td>Red</td><td>337.22</td></tr>",
                            "<tr><td>729</td><td>LL Road Frame - Red, 60</td><td>Red</td><td>337.22</td></tr>",
                            "<tr><td>730</td><td>LL Road Frame - Red, 62</td><td>Red</td><td>337.22</td></tr>",
                            "<tr><td>731</td><td>ML Road Frame - Red, 44</td><td>Red</td><td>594.83</td></tr>",
                            "<tr><td>732</td><td>ML Road Frame - Red, 48</td><td>Red</td><td>594.83</td></tr>",
                            "<tr><td>733</td><td>ML Road Frame - Red, 52</td><td>Red</td><td>594.83</td></tr>",
                            "<tr><td>734</td><td>ML Road Frame - Red, 58</td><td>Red</td><td>594.83</td></tr>",
                            "<tr><td>735</td><td>ML Road Frame - Red, 60</td><td>Red</td><td>594.83</td></tr>",
                            "<tr><td>736</td><td>LL Road Frame - Black, 44</td><td>Black</td><td>337.22</td></tr>",
                            "<tr><td>737</td><td>LL Road Frame - Black, 48</td><td>Black</td><td>337.22</td></tr>",
                            "<tr><td>738</td><td>LL Road Frame - Black, 52</td><td>Black</td><td>337.22</td></tr>",
                            "<tr><td>739</td><td>HL Mountain Frame - Silver, 42</td><td>Silver</td><td>1364.50</td></tr>",
                            "<tr><td>740</td><td>HL Mountain Frame - Silver, 44</td><td>Silver</td><td>1364.50</td></tr>",
                            "<tr><td>741</td><td>HL Mountain Frame - Silver, 48</td><td>Silver</td><td>1364.50</td></tr>",
                            "<tr><td>742</td><td>HL Mountain Frame - Silver, 46</td><td>Silver</td><td>1364.50</td></tr>",
                            "<tr><td>743</td><td>HL Mountain Frame - Black, 42</td><td>Black</td><td>1349.60</td></tr>",
                            "<tr><td>744</td><td>HL Mountain Frame - Black, 44</td><td>Black</td><td>1349.60</td></tr>",
                            "<tr><td>745</td><td>HL Mountain Frame - Black, 48</td><td>Black</td><td>1349.60</td></tr>",
                            "<tr><td>746</td><td>HL Mountain Frame - Black, 46</td><td>Black</td><td>1349.60</td></tr>",
                            "<tr><td>747</td><td>HL Mountain Frame - Black, 38</td><td>Black</td><td>1349.60</td></tr>",
                            "<tr><td>748</td><td>HL Mountain Frame - Silver, 38</td><td>Silver</td><td>1364.50</td></tr>",
                            "<tr><td>749</td><td>Road-150 Red, 62</td><td>Red</td><td>3578.27</td></tr>",
                            "<tr><td>750</td><td>Road-150 Red, 44</td><td>Red</td><td>3578.27</td></tr>",
                            "<tr><td>751</td><td>Road-150 Red, 48</td><td>Red</td><td>3578.27</td></tr>",
                            "<tr><td>752</td><td>Road-150 Red, 52</td><td>Red</td><td>3578.27</td></tr>",
                            "<tr><td>753</td><td>Road-150 Red, 56</td><td>Red</td><td>3578.27</td></tr>",
                            "<tr><td>754</td><td>Road-450 Red, 58</td><td>Red</td><td>1457.99</td></tr>",
                            "<tr><td>755</td><td>Road-450 Red, 60</td><td>Red</td><td>1457.99</td></tr>",
                            "<tr><td>756</td><td>Road-450 Red, 44</td><td>Red</td><td>1457.99</td></tr>",
                            "<tr><td>757</td><td>Road-450 Red, 48</td><td>Red</td><td>1457.99</td></tr>",
                            "<tr><td>758</td><td>Road-450 Red, 52</td><td>Red</td><td>1457.99</td></tr>",
                            "<tr><td>759</td><td>Road-650 Red, 58</td><td>Red</td><td>782.99</td></tr>",
                            "<tr><td>760</td><td>Road-650 Red, 60</td><td>Red</td><td>782.99</td></tr>",
                            "<tr><td>761</td><td>Road-650 Red, 62</td><td>Red</td><td>782.99</td></tr>",
                            "<tr><td>762</td><td>Road-650 Red, 44</td><td>Red</td><td>782.99</td></tr>",
                            "<tr><td>763</td><td>Road-650 Red, 48</td><td>Red</td><td>782.99</td></tr>",
                            "<tr><td>764</td><td>Road-650 Red, 52</td><td>Red</td><td>782.99</td></tr>",
                            "<tr><td>765</td><td>Road-650 Black, 58</td><td>Black</td><td>782.99</td></tr>",
                            "<tr><td>766</td><td>Road-650 Black, 60</td><td>Black</td><td>782.99</td></tr>",
                            "<tr><td>767</td><td>Road-650 Black, 62</td><td>Black</td><td>782.99</td></tr>",
                            "<tr><td>768</td><td>Road-650 Black, 44</td><td>Black</td><td>782.99</td></tr>",
                            "<tr><td>769</td><td>Road-650 Black, 48</td><td>Black</td><td>782.99</td></tr>",
                            "<tr><td>770</td><td>Road-650 Black, 52</td><td>Black</td><td>782.99</td></tr>",
                            "<tr><td>771</td><td>Mountain-100 Silver, 38</td><td>Silver</td><td>3399.99</td></tr>",
                            "<tr><td>772</td><td>Mountain-100 Silver, 42</td><td>Silver</td><td>3399.99</td></tr>",
                            "<tr><td>773</td><td>Mountain-100 Silver, 44</td><td>Silver</td><td>3399.99</td></tr>",
                            "<tr><td>774</td><td>Mountain-100 Silver, 48</td><td>Silver</td><td>3399.99</td></tr>",
                            "<tr><td>775</td><td>Mountain-100 Black, 38</td><td>Black</td><td>3374.99</td></tr>",
                            "<tr><td>776</td><td>Mountain-100 Black, 42</td><td>Black</td><td>3374.99</td></tr>",
                            "<tr><td>777</td><td>Mountain-100 Black, 44</td><td>Black</td><td>3374.99</td></tr>",
                            "<tr><td>778</td><td>Mountain-100 Black, 48</td><td>Black</td><td>3374.99</td></tr>",
                            "<tr><td>779</td><td>Mountain-200 Silver, 38</td><td>Silver</td><td>2319.99</td></tr>",
                            "<tr><td>780</td><td>Mountain-200 Silver, 42</td><td>Silver</td><td>2319.99</td></tr>",
                            "<tr><td>781</td><td>Mountain-200 Silver, 46</td><td>Silver</td><td>2319.99</td></tr>",
                            "<tr><td>782</td><td>Mountain-200 Black, 38</td><td>Black</td><td>2294.99</td></tr>",
                            "<tr><td>783</td><td>Mountain-200 Black, 42</td><td>Black</td><td>2294.99</td></tr>",
                            "<tr><td>784</td><td>Mountain-200 Black, 46</td><td>Black</td><td>2294.99</td></tr>",
                            "<tr><td>785</td><td>Mountain-300 Black, 38</td><td>Black</td><td>1079.99</td></tr>",
                            "<tr><td>786</td><td>Mountain-300 Black, 40</td><td>Black</td><td>1079.99</td></tr>",
                            "<tr><td>787</td><td>Mountain-300 Black, 44</td><td>Black</td><td>1079.99</td></tr>",
                            "<tr><td>788</td><td>Mountain-300 Black, 48</td><td>Black</td><td>1079.99</td></tr>",
                            "<tr><td>789</td><td>Road-250 Red, 44</td><td>Red</td><td>2443.35</td></tr>",
                            "<tr><td>790</td><td>Road-250 Red, 48</td><td>Red</td><td>2443.35</td></tr>",
                            "<tr><td>791</td><td>Road-250 Red, 52</td><td>Red</td><td>2443.35</td></tr>",
                            "<tr><td>792</td><td>Road-250 Red, 58</td><td>Red</td><td>2443.35</td></tr>",
                            "<tr><td>793</td><td>Road-250 Black, 44</td><td>Black</td><td>2443.35</td></tr>",
                            "<tr><td>794</td><td>Road-250 Black, 48</td><td>Black</td><td>2443.35</td></tr>",
                            "<tr><td>795</td><td>Road-250 Black, 52</td><td>Black</td><td>2443.35</td></tr>",
                            "<tr><td>796</td><td>Road-250 Black, 58</td><td>Black</td><td>2443.35</td></tr>",
                            "<tr><td>797</td><td>Road-550-W Yellow, 38</td><td>Yellow</td><td>1120.49</td></tr>",
                            "<tr><td>798</td><td>Road-550-W Yellow, 40</td><td>Yellow</td><td>1120.49</td></tr>",
                            "<tr><td>799</td><td>Road-550-W Yellow, 42</td><td>Yellow</td><td>1120.49</td></tr>",
                            "<tr><td>800</td><td>Road-550-W Yellow, 44</td><td>Yellow</td><td>1120.49</td></tr>",
                            "<tr><td>801</td><td>Road-550-W Yellow, 48</td><td>Yellow</td><td>1120.49</td></tr>",
                            "<tr><td>802</td><td>LL Fork</td><td>NULL</td><td>148.22</td></tr>",
                            "<tr><td>803</td><td>ML Fork</td><td>NULL</td><td>175.49</td></tr>",
                            "<tr><td>804</td><td>HL Fork</td><td>NULL</td><td>229.49</td></tr>",
                            "<tr><td>805</td><td>LL Headset</td><td>NULL</td><td>34.20</td></tr>",
                            "<tr><td>806</td><td>ML Headset</td><td>NULL</td><td>102.29</td></tr>",
                            "<tr><td>807</td><td>HL Headset</td><td>NULL</td><td>124.73</td></tr>",
                            "<tr><td>808</td><td>LL Mountain Handlebars</td><td>NULL</td><td>44.54</td></tr>",
                            "<tr><td>809</td><td>ML Mountain Handlebars</td><td>NULL</td><td>61.92</td></tr>",
                            "<tr><td>810</td><td>HL Mountain Handlebars</td><td>NULL</td><td>120.27</td></tr>",
                            "<tr><td>811</td><td>LL Road Handlebars</td><td>NULL</td><td>44.54</td></tr>",
                            "<tr><td>812</td><td>ML Road Handlebars</td><td>NULL</td><td>61.92</td></tr>",
                            "<tr><td>813</td><td>HL Road Handlebars</td><td>NULL</td><td>120.27</td></tr>",
                            "<tr><td>814</td><td>ML Mountain Frame - Black, 38</td><td>Black</td><td>348.76</td></tr>",
                            "<tr><td>815</td><td>LL Mountain Front Wheel</td><td>Black</td><td>60.745</td></tr>",
                            "<tr><td>816</td><td>ML Mountain Front Wheel</td><td>Black</td><td>209.025</td></tr>",
                            "<tr><td>817</td><td>HL Mountain Front Wheel</td><td>Black</td><td>300.215</td></tr>",
                            "<tr><td>818</td><td>LL Road Front Wheel</td><td>Black</td><td>85.565</td></tr>",
                            "<tr><td>819</td><td>ML Road Front Wheel</td><td>Black</td><td>248.385</td></tr>",
                            "<tr><td>820</td><td>HL Road Front Wheel</td><td>Black</td><td>330.06</td></tr>",
                            "<tr><td>821</td><td>Touring Front Wheel</td><td>Black</td><td>218.01</td></tr>",
                            "<tr><td>822</td><td>ML Road Frame-W - Yellow, 38</td><td>Yellow</td><td>594.83</td></tr>",
                            "<tr><td>823</td><td>LL Mountain Rear Wheel</td><td>Black</td><td>87.745</td></tr>",
                            "<tr><td>824</td><td>ML Mountain Rear Wheel</td><td>Black</td><td>236.025</td></tr>",
                            "<tr><td>825</td><td>HL Mountain Rear Wheel</td><td>Black</td><td>327.215</td></tr>",
                            "<tr><td>826</td><td>LL Road Rear Wheel</td><td>Black</td><td>112.565</td></tr>",
                            "<tr><td>827</td><td>ML Road Rear Wheel</td><td>Black</td><td>275.385</td></tr>",
                            "<tr><td>828</td><td>HL Road Rear Wheel</td><td>Black</td><td>357.06</td></tr>",
                            "<tr><td>829</td><td>Touring Rear Wheel</td><td>Black</td><td>245.01</td></tr>",
                            "<tr><td>830</td><td>ML Mountain Frame - Black, 40</td><td>Black</td><td>348.76</td></tr>",
                            "<tr><td>831</td><td>ML Mountain Frame - Black, 44</td><td>Black</td><td>348.76</td></tr>",
                            "<tr><td>832</td><td>ML Mountain Frame - Black, 48</td><td>Black</td><td>348.76</td></tr>",
                            "<tr><td>833</td><td>ML Road Frame-W - Yellow, 40</td><td>Yellow</td><td>594.83</td></tr>",
                            "<tr><td>834</td><td>ML Road Frame-W - Yellow, 42</td><td>Yellow</td><td>594.83</td></tr>",
                            "<tr><td>835</td><td>ML Road Frame-W - Yellow, 44</td><td>Yellow</td><td>594.83</td></tr>",
                            "<tr><td>836</td><td>ML Road Frame-W - Yellow, 48</td><td>Yellow</td><td>594.83</td></tr>",
                            "<tr><td>837</td><td>HL Road Frame - Black, 62</td><td>Black</td><td>1431.50</td></tr>",
                            "<tr><td>838</td><td>HL Road Frame - Black, 44</td><td>Black</td><td>1431.50</td></tr>",
                            "<tr><td>839</td><td>HL Road Frame - Black, 48</td><td>Black</td><td>1431.50</td></tr>",
                            "<tr><td>840</td><td>HL Road Frame - Black, 52</td><td>Black</td><td>1431.50</td></tr>",
                            "<tr><td>841</td><td>Men&#39;s Sports Shorts, S</td><td>Black</td><td>59.99</td></tr>",
                            "<tr><td>842</td><td>Touring-Panniers, Large</td><td>Grey</td><td>125.00</td></tr>",
                            "<tr><td>843</td><td>Cable Lock</td><td>NULL</td><td>25.00</td></tr>",
                            "<tr><td>844</td><td>Minipump</td><td>NULL</td><td>19.99</td></tr>",
                            "<tr><td>845</td><td>Mountain Pump</td><td>NULL</td><td>24.99</td></tr>",
                            "<tr><td>846</td><td>Taillights - Battery-Powered</td><td>NULL</td><td>13.99</td></tr>",
                            "<tr><td>847</td><td>Headlights - Dual-Beam</td><td>NULL</td><td>34.99</td></tr>",
                            "<tr><td>848</td><td>Headlights - Weatherproof</td><td>NULL</td><td>44.99</td></tr>",
                            "<tr><td>849</td><td>Men&#39;s Sports Shorts, M</td><td>Black</td><td>59.99</td></tr>",
                            "<tr><td>850</td><td>Men&#39;s Sports Shorts, L</td><td>Black</td><td>59.99</td></tr>",
                            "<tr><td>851</td><td>Men&#39;s Sports Shorts, XL</td><td>Black</td><td>59.99</td></tr>",
                            "<tr><td>852</td><td>Women&#39;s Tights, S</td><td>Black</td><td>74.99</td></tr>",
                            "<tr><td>853</td><td>Women&#39;s Tights, M</td><td>Black</td><td>74.99</td></tr>",
                            "<tr><td>854</td><td>Women&#39;s Tights, L</td><td>Black</td><td>74.99</td></tr>",
                            "<tr><td>855</td><td>Men&#39;s Bib-Shorts, S</td><td>Multi</td><td>89.99</td></tr>",
                            "<tr><td>856</td><td>Men&#39;s Bib-Shorts, M</td><td>Multi</td><td>89.99</td></tr>",
                            "<tr><td>857</td><td>Men&#39;s Bib-Shorts, L</td><td>Multi</td><td>89.99</td></tr>",
                            "<tr><td>858</td><td>Half-Finger Gloves, S</td><td>Black</td><td>24.49</td></tr>",
                            "<tr><td>859</td><td>Half-Finger Gloves, M</td><td>Black</td><td>24.49</td></tr>",
                            "<tr><td>860</td><td>Half-Finger Gloves, L</td><td>Black</td><td>24.49</td></tr>",
                            "<tr><td>861</td><td>Full-Finger Gloves, S</td><td>Black</td><td>37.99</td></tr>",
                            "<tr><td>862</td><td>Full-Finger Gloves, M</td><td>Black</td><td>37.99</td></tr>",
                            "<tr><td>863</td><td>Full-Finger Gloves, L</td><td>Black</td><td>37.99</td></tr>",
                            "<tr><td>864</td><td>Classic Vest, S</td><td>Blue</td><td>63.50</td></tr>",
                            "<tr><td>865</td><td>Classic Vest, M</td><td>Blue</td><td>63.50</td></tr>",
                            "<tr><td>866</td><td>Classic Vest, L</td><td>Blue</td><td>63.50</td></tr>",
                            "<tr><td>867</td><td>Women&#39;s Mountain Shorts, S</td><td>Black</td><td>69.99</td></tr>",
                            "<tr><td>868</td><td>Women&#39;s Mountain Shorts, M</td><td>Black</td><td>69.99</td></tr>",
                            "<tr><td>869</td><td>Women&#39;s Mountain Shorts, L</td><td>Black</td><td>69.99</td></tr>",
                            "<tr><td>870</td><td>Water Bottle - 30 oz.</td><td>NULL</td><td>4.99</td></tr>",
                            "<tr><td>871</td><td>Mountain Bottle Cage</td><td>NULL</td><td>9.99</td></tr>",
                            "<tr><td>872</td><td>Road Bottle Cage</td><td>NULL</td><td>8.99</td></tr>",
                            "<tr><td>873</td><td>Patch Kit/8 Patches</td><td>NULL</td><td>2.29</td></tr>",
                            "<tr><td>874</td><td>Racing Socks, M</td><td>White</td><td>8.99</td></tr>",
                            "<tr><td>875</td><td>Racing Socks, L</td><td>White</td><td>8.99</td></tr>",
                            "<tr><td>876</td><td>Hitch Rack - 4-Bike</td><td>NULL</td><td>120.00</td></tr>",
                            "<tr><td>877</td><td>Bike Wash - Dissolver</td><td>NULL</td><td>7.95</td></tr>",
                            "<tr><td>878</td><td>Fender Set - Mountain</td><td>NULL</td><td>21.98</td></tr>",
                            "<tr><td>879</td><td>All-Purpose Bike Stand</td><td>NULL</td><td>159.00</td></tr>",
                            "<tr><td>880</td><td>Hydration Pack - 70 oz.</td><td>Silver</td><td>54.99</td></tr>",
                            "<tr><td>881</td><td>Short-Sleeve Classic Jersey, S</td><td>Yellow</td><td>53.99</td></tr>",
                            "<tr><td>882</td><td>Short-Sleeve Classic Jersey, M</td><td>Yellow</td><td>53.99</td></tr>",
                            "<tr><td>883</td><td>Short-Sleeve Classic Jersey, L</td><td>Yellow</td><td>53.99</td></tr>",
                            "<tr><td>884</td><td>Short-Sleeve Classic Jersey, XL</td><td>Yellow</td><td>53.99</td></tr>",
                            "<tr><td>885</td><td>HL Touring Frame - Yellow, 60</td><td>Yellow</td><td>1003.91</td></tr>",
                            "<tr><td>886</td><td>LL Touring Frame - Yellow, 62</td><td>Yellow</td><td>333.42</td></tr>",
                            "<tr><td>887</td><td>HL Touring Frame - Yellow, 46</td><td>Yellow</td><td>1003.91</td></tr>",
                            "<tr><td>888</td><td>HL Touring Frame - Yellow, 50</td><td>Yellow</td><td>1003.91</td></tr>",
                            "<tr><td>889</td><td>HL Touring Frame - Yellow, 54</td><td>Yellow</td><td>1003.91</td></tr>",
                            "<tr><td>890</td><td>HL Touring Frame - Blue, 46</td><td>Blue</td><td>1003.91</td></tr>",
                            "<tr><td>891</td><td>HL Touring Frame - Blue, 50</td><td>Blue</td><td>1003.91</td></tr>",
                            "<tr><td>892</td><td>HL Touring Frame - Blue, 54</td><td>Blue</td><td>1003.91</td></tr>",
                            "<tr><td>893</td><td>HL Touring Frame - Blue, 60</td><td>Blue</td><td>1003.91</td></tr>",
                            "<tr><td>894</td><td>Rear Derailleur</td><td>Silver</td><td>121.46</td></tr>",
                            "<tr><td>895</td><td>LL Touring Frame - Blue, 50</td><td>Blue</td><td>333.42</td></tr>",
                            "<tr><td>896</td><td>LL Touring Frame - Blue, 54</td><td>Blue</td><td>333.42</td></tr>",
                            "<tr><td>897</td><td>LL Touring Frame - Blue, 58</td><td>Blue</td><td>333.42</td></tr>",
                            "<tr><td>898</td><td>LL Touring Frame - Blue, 62</td><td>Blue</td><td>333.42</td></tr>",
                            "<tr><td>899</td><td>LL Touring Frame - Yellow, 44</td><td>Yellow</td><td>333.42</td></tr>",
                            "<tr><td>900</td><td>LL Touring Frame - Yellow, 50</td><td>Yellow</td><td>333.42</td></tr>",
                            "<tr><td>901</td><td>LL Touring Frame - Yellow, 54</td><td>Yellow</td><td>333.42</td></tr>",
                            "<tr><td>902</td><td>LL Touring Frame - Yellow, 58</td><td>Yellow</td><td>333.42</td></tr>",
                            "<tr><td>903</td><td>LL Touring Frame - Blue, 44</td><td>Blue</td><td>333.42</td></tr>",
                            "<tr><td>904</td><td>ML Mountain Frame-W - Silver, 40</td><td>Silver</td><td>364.09</td></tr>",
                            "<tr><td>905</td><td>ML Mountain Frame-W - Silver, 42</td><td>Silver</td><td>364.09</td></tr>",
                            "<tr><td>906</td><td>ML Mountain Frame-W - Silver, 46</td><td>Silver</td><td>364.09</td></tr>",
                            "<tr><td>907</td><td>Rear Brakes</td><td>Silver</td><td>106.50</td></tr>",
                            "<tr><td>908</td><td>LL Mountain Seat/Saddle</td><td>NULL</td><td>27.12</td></tr>",
                            "<tr><td>909</td><td>ML Mountain Seat/Saddle</td><td>NULL</td><td>39.14</td></tr>",
                            "<tr><td>910</td><td>HL Mountain Seat/Saddle</td><td>NULL</td><td>52.64</td></tr>",
                            "<tr><td>911</td><td>LL Road Seat/Saddle</td><td>NULL</td><td>27.12</td></tr>",
                            "<tr><td>912</td><td>ML Road Seat/Saddle</td><td>NULL</td><td>39.14</td></tr>",
                            "<tr><td>913</td><td>HL Road Seat/Saddle</td><td>NULL</td><td>52.64</td></tr>",
                            "<tr><td>914</td><td>LL Touring Seat/Saddle</td><td>NULL</td><td>27.12</td></tr>",
                            "<tr><td>915</td><td>ML Touring Seat/Saddle</td><td>NULL</td><td>39.14</td></tr>",
                            "<tr><td>916</td><td>HL Touring Seat/Saddle</td><td>NULL</td><td>52.64</td></tr>",
                            "<tr><td>917</td><td>LL Mountain Frame - Silver, 42</td><td>Silver</td><td>264.05</td></tr>",
                            "<tr><td>918</td><td>LL Mountain Frame - Silver, 44</td><td>Silver</td><td>264.05</td></tr>",
                            "<tr><td>919</td><td>LL Mountain Frame - Silver, 48</td><td>Silver</td><td>264.05</td></tr>",
                            "<tr><td>920</td><td>LL Mountain Frame - Silver, 52</td><td>Silver</td><td>264.05</td></tr>",
                            "<tr><td>921</td><td>Mountain Tire Tube</td><td>NULL</td><td>4.99</td></tr>",
                            "<tr><td>922</td><td>Road Tire Tube</td><td>NULL</td><td>3.99</td></tr>",
                            "<tr><td>923</td><td>Touring Tire Tube</td><td>NULL</td><td>4.99</td></tr>",
                            "<tr><td>924</td><td>LL Mountain Frame - Black, 42</td><td>Black</td><td>249.79</td></tr>",
                            "<tr><td>925</td><td>LL Mountain Frame - Black, 44</td><td>Black</td><td>249.79</td></tr>",
                            "<tr><td>926</td><td>LL Mountain Frame - Black, 48</td><td>Black</td><td>249.79</td></tr>",
                            "<tr><td>927</td><td>LL Mountain Frame - Black, 52</td><td>Black</td><td>249.79</td></tr>",
                            "<tr><td>928</td><td>LL Mountain Tire</td><td>NULL</td><td>24.99</td></tr>",
                            "<tr><td>929</td><td>ML Mountain Tire</td><td>NULL</td><td>29.99</td></tr>",
                            "<tr><td>930</td><td>HL Mountain Tire</td><td>NULL</td><td>35.00</td></tr>",
                            "<tr><td>931</td><td>LL Road Tire</td><td>NULL</td><td>21.49</td></tr>",
                            "<tr><td>932</td><td>ML Road Tire</td><td>NULL</td><td>24.99</td></tr>",
                            "<tr><td>933</td><td>HL Road Tire</td><td>NULL</td><td>32.60</td></tr>",
                            "<tr><td>934</td><td>Touring Tire</td><td>NULL</td><td>28.99</td></tr>",
                            "<tr><td>935</td><td>LL Mountain Pedal</td><td>Silver/Black</td><td>40.49</td></tr>",
                            "<tr><td>936</td><td>ML Mountain Pedal</td><td>Silver/Black</td><td>62.09</td></tr>",
                            "<tr><td>937</td><td>HL Mountain Pedal</td><td>Silver/Black</td><td>80.99</td></tr>",
                            "<tr><td>938</td><td>LL Road Pedal</td><td>Silver/Black</td><td>40.49</td></tr>",
                            "<tr><td>939</td><td>ML Road Pedal</td><td>Silver/Black</td><td>62.09</td></tr>",
                            "<tr><td>940</td><td>HL Road Pedal</td><td>Silver/Black</td><td>80.99</td></tr>",
                            "<tr><td>941</td><td>Touring Pedal</td><td>Silver/Black</td><td>80.99</td></tr>",
                            "<tr><td>942</td><td>ML Mountain Frame-W - Silver, 38</td><td>Silver</td><td>364.09</td></tr>",
                            "<tr><td>943</td><td>LL Mountain Frame - Black, 40</td><td>Black</td><td>249.79</td></tr>",
                            "<tr><td>944</td><td>LL Mountain Frame - Silver, 40</td><td>Silver</td><td>264.05</td></tr>",
                            "<tr><td>945</td><td>Front Derailleur</td><td>Silver</td><td>91.49</td></tr>",
                            "<tr><td>946</td><td>LL Touring Handlebars</td><td>NULL</td><td>46.09</td></tr>",
                            "<tr><td>947</td><td>HL Touring Handlebars</td><td>NULL</td><td>91.57</td></tr>",
                            "<tr><td>948</td><td>Front Brakes</td><td>Silver</td><td>106.50</td></tr>",
                            "<tr><td>949</td><td>LL Crankset</td><td>Black</td><td>175.49</td></tr>",
                            "<tr><td>950</td><td>ML Crankset</td><td>Black</td><td>256.49</td></tr>",
                            "<tr><td>951</td><td>HL Crankset</td><td>Black</td><td>404.99</td></tr>",
                            "<tr><td>952</td><td>Chain</td><td>Silver</td><td>20.24</td></tr>",
                            "<tr><td>953</td><td>Touring-2000 Blue, 60</td><td>Blue</td><td>1214.85</td></tr>",
                            "<tr><td>954</td><td>Touring-1000 Yellow, 46</td><td>Yellow</td><td>2384.07</td></tr>",
                            "<tr><td>955</td><td>Touring-1000 Yellow, 50</td><td>Yellow</td><td>2384.07</td></tr>",
                            "<tr><td>956</td><td>Touring-1000 Yellow, 54</td><td>Yellow</td><td>2384.07</td></tr>",
                            "<tr><td>957</td><td>Touring-1000 Yellow, 60</td><td>Yellow</td><td>2384.07</td></tr>",
                            "<tr><td>958</td><td>Touring-3000 Blue, 54</td><td>Blue</td><td>742.35</td></tr>",
                            "<tr><td>959</td><td>Touring-3000 Blue, 58</td><td>Blue</td><td>742.35</td></tr>",
                            "<tr><td>960</td><td>Touring-3000 Blue, 62</td><td>Blue</td><td>742.35</td></tr>",
                            "<tr><td>961</td><td>Touring-3000 Yellow, 44</td><td>Yellow</td><td>742.35</td></tr>",
                            "<tr><td>962</td><td>Touring-3000 Yellow, 50</td><td>Yellow</td><td>742.35</td></tr>",
                            "<tr><td>963</td><td>Touring-3000 Yellow, 54</td><td>Yellow</td><td>742.35</td></tr>",
                            "<tr><td>964</td><td>Touring-3000 Yellow, 58</td><td>Yellow</td><td>742.35</td></tr>",
                            "<tr><td>965</td><td>Touring-3000 Yellow, 62</td><td>Yellow</td><td>742.35</td></tr>",
                            "<tr><td>966</td><td>Touring-1000 Blue, 46</td><td>Blue</td><td>2384.07</td></tr>",
                            "<tr><td>967</td><td>Touring-1000 Blue, 50</td><td>Blue</td><td>2384.07</td></tr>",
                            "<tr><td>968</td><td>Touring-1000 Blue, 54</td><td>Blue</td><td>2384.07</td></tr>",
                            "<tr><td>969</td><td>Touring-1000 Blue, 60</td><td>Blue</td><td>2384.07</td></tr>",
                            "<tr><td>970</td><td>Touring-2000 Blue, 46</td><td>Blue</td><td>1214.85</td></tr>",
                            "<tr><td>971</td><td>Touring-2000 Blue, 50</td><td>Blue</td><td>1214.85</td></tr>",
                            "<tr><td>972</td><td>Touring-2000 Blue, 54</td><td>Blue</td><td>1214.85</td></tr>",
                            "<tr><td>973</td><td>Road-350-W Yellow, 40</td><td>Yellow</td><td>1700.99</td></tr>",
                            "<tr><td>974</td><td>Road-350-W Yellow, 42</td><td>Yellow</td><td>1700.99</td></tr>",
                            "<tr><td>975</td><td>Road-350-W Yellow, 44</td><td>Yellow</td><td>1700.99</td></tr>",
                            "<tr><td>976</td><td>Road-350-W Yellow, 48</td><td>Yellow</td><td>1700.99</td></tr>",
                            "<tr><td>977</td><td>Road-750 Black, 58</td><td>Black</td><td>539.99</td></tr>",
                            "<tr><td>978</td><td>Touring-3000 Blue, 44</td><td>Blue</td><td>742.35</td></tr>",
                            "<tr><td>979</td><td>Touring-3000 Blue, 50</td><td>Blue</td><td>742.35</td></tr>",
                            "<tr><td>980</td><td>Mountain-400-W Silver, 38</td><td>Silver</td><td>769.49</td></tr>",
                            "<tr><td>981</td><td>Mountain-400-W Silver, 40</td><td>Silver</td><td>769.49</td></tr>",
                            "<tr><td>982</td><td>Mountain-400-W Silver, 42</td><td>Silver</td><td>769.49</td></tr>",
                            "<tr><td>983</td><td>Mountain-400-W Silver, 46</td><td>Silver</td><td>769.49</td></tr>",
                            "<tr><td>984</td><td>Mountain-500 Silver, 40</td><td>Silver</td><td>564.99</td></tr>",
                            "<tr><td>985</td><td>Mountain-500 Silver, 42</td><td>Silver</td><td>564.99</td></tr>",
                            "<tr><td>986</td><td>Mountain-500 Silver, 44</td><td>Silver</td><td>564.99</td></tr>",
                            "<tr><td>987</td><td>Mountain-500 Silver, 48</td><td>Silver</td><td>564.99</td></tr>",
                            "<tr><td>988</td><td>Mountain-500 Silver, 52</td><td>Silver</td><td>564.99</td></tr>",
                            "<tr><td>989</td><td>Mountain-500 Black, 40</td><td>Black</td><td>539.99</td></tr>",
                            "<tr><td>990</td><td>Mountain-500 Black, 42</td><td>Black</td><td>539.99</td></tr>",
                            "<tr><td>991</td><td>Mountain-500 Black, 44</td><td>Black</td><td>539.99</td></tr>",
                            "<tr><td>992</td><td>Mountain-500 Black, 48</td><td>Black</td><td>539.99</td></tr>",
                            "<tr><td>993</td><td>Mountain-500 Black, 52</td><td>Black</td><td>539.99</td></tr>",
                            "<tr><td>994</td><td>LL Bottom Bracket</td><td>NULL</td><td>53.99</td></tr>",
                            "<tr><td>995</td><td>ML Bottom Bracket</td><td>NULL</td><td>101.24</td></tr>",
                            "<tr><td>996</td><td>HL Bottom Bracket</td><td>NULL</td><td>121.49</td></tr>",
                            "<tr><td>997</td><td>Road-750 Black, 44</td><td>Black</td><td>539.99</td></tr>",
                            "<tr><td>998</td><td>Road-750 Black, 48</td><td>Black</td><td>539.99</td></tr>",
                            "<tr><td>999</td><td>Road-750 Black, 52</td><td>Black</td><td>539.99</td></tr>",
                            "</table>"
                        ]
                    }
                }
            ],
            "execution_count": 83
        },
        {
            "cell_type": "markdown",
            "source": [
                "3.  Write a query that retrieves the columns ProductID, Name, Color and ListPrice from the Production.Product table, the rows that are NULL for the Color column.\n"
            ],
            "metadata": {
                "azdata_cell_guid": "00836adf-58ce-4c92-8c51-b432e7fef2b4",
                "language": ""
            },
            "attachments": {}
        },
        {
            "cell_type": "code",
            "source": [
                "SELECT ProductID, Name, Color, ListPrice\n",
                "FROM Production.Product\n",
                "WHERE Color IS NULL"
            ],
            "metadata": {
                "azdata_cell_guid": "6e84387c-c02f-4900-90b0-82ae217389a0",
                "language": "sql"
            },
            "outputs": [
                {
                    "output_type": "display_data",
                    "data": {
                        "text/html": "(248 rows affected)"
                    },
                    "metadata": {}
                },
                {
                    "output_type": "display_data",
                    "data": {
                        "text/html": "Total execution time: 00:00:00.007"
                    },
                    "metadata": {}
                },
                {
                    "output_type": "execute_result",
                    "metadata": {},
                    "execution_count": 84,
                    "data": {
                        "application/vnd.dataresource+json": {
                            "schema": {
                                "fields": [
                                    {
                                        "name": "ProductID"
                                    },
                                    {
                                        "name": "Name"
                                    },
                                    {
                                        "name": "Color"
                                    },
                                    {
                                        "name": "ListPrice"
                                    }
                                ]
                            },
                            "data": [
                                {
                                    "ProductID": "1",
                                    "Name": "Adjustable Race",
                                    "Color": "NULL",
                                    "ListPrice": "0.00"
                                },
                                {
                                    "ProductID": "2",
                                    "Name": "Bearing Ball",
                                    "Color": "NULL",
                                    "ListPrice": "0.00"
                                },
                                {
                                    "ProductID": "3",
                                    "Name": "BB Ball Bearing",
                                    "Color": "NULL",
                                    "ListPrice": "0.00"
                                },
                                {
                                    "ProductID": "4",
                                    "Name": "Headset Ball Bearings",
                                    "Color": "NULL",
                                    "ListPrice": "0.00"
                                },
                                {
                                    "ProductID": "316",
                                    "Name": "Blade",
                                    "Color": "NULL",
                                    "ListPrice": "0.00"
                                },
                                {
                                    "ProductID": "323",
                                    "Name": "Crown Race",
                                    "Color": "NULL",
                                    "ListPrice": "0.00"
                                },
                                {
                                    "ProductID": "324",
                                    "Name": "Chain Stays",
                                    "Color": "NULL",
                                    "ListPrice": "0.00"
                                },
                                {
                                    "ProductID": "325",
                                    "Name": "Decal 1",
                                    "Color": "NULL",
                                    "ListPrice": "0.00"
                                },
                                {
                                    "ProductID": "326",
                                    "Name": "Decal 2",
                                    "Color": "NULL",
                                    "ListPrice": "0.00"
                                },
                                {
                                    "ProductID": "327",
                                    "Name": "Down Tube",
                                    "Color": "NULL",
                                    "ListPrice": "0.00"
                                },
                                {
                                    "ProductID": "328",
                                    "Name": "Mountain End Caps",
                                    "Color": "NULL",
                                    "ListPrice": "0.00"
                                },
                                {
                                    "ProductID": "329",
                                    "Name": "Road End Caps",
                                    "Color": "NULL",
                                    "ListPrice": "0.00"
                                },
                                {
                                    "ProductID": "330",
                                    "Name": "Touring End Caps",
                                    "Color": "NULL",
                                    "ListPrice": "0.00"
                                },
                                {
                                    "ProductID": "331",
                                    "Name": "Fork End",
                                    "Color": "NULL",
                                    "ListPrice": "0.00"
                                },
                                {
                                    "ProductID": "341",
                                    "Name": "Flat Washer 1",
                                    "Color": "NULL",
                                    "ListPrice": "0.00"
                                },
                                {
                                    "ProductID": "342",
                                    "Name": "Flat Washer 6",
                                    "Color": "NULL",
                                    "ListPrice": "0.00"
                                },
                                {
                                    "ProductID": "343",
                                    "Name": "Flat Washer 2",
                                    "Color": "NULL",
                                    "ListPrice": "0.00"
                                },
                                {
                                    "ProductID": "344",
                                    "Name": "Flat Washer 9",
                                    "Color": "NULL",
                                    "ListPrice": "0.00"
                                },
                                {
                                    "ProductID": "345",
                                    "Name": "Flat Washer 4",
                                    "Color": "NULL",
                                    "ListPrice": "0.00"
                                },
                                {
                                    "ProductID": "346",
                                    "Name": "Flat Washer 3",
                                    "Color": "NULL",
                                    "ListPrice": "0.00"
                                },
                                {
                                    "ProductID": "347",
                                    "Name": "Flat Washer 8",
                                    "Color": "NULL",
                                    "ListPrice": "0.00"
                                },
                                {
                                    "ProductID": "348",
                                    "Name": "Flat Washer 5",
                                    "Color": "NULL",
                                    "ListPrice": "0.00"
                                },
                                {
                                    "ProductID": "349",
                                    "Name": "Flat Washer 7",
                                    "Color": "NULL",
                                    "ListPrice": "0.00"
                                },
                                {
                                    "ProductID": "350",
                                    "Name": "Fork Crown",
                                    "Color": "NULL",
                                    "ListPrice": "0.00"
                                },
                                {
                                    "ProductID": "355",
                                    "Name": "Guide Pulley",
                                    "Color": "NULL",
                                    "ListPrice": "0.00"
                                },
                                {
                                    "ProductID": "356",
                                    "Name": "LL Grip Tape",
                                    "Color": "NULL",
                                    "ListPrice": "0.00"
                                },
                                {
                                    "ProductID": "357",
                                    "Name": "ML Grip Tape",
                                    "Color": "NULL",
                                    "ListPrice": "0.00"
                                },
                                {
                                    "ProductID": "358",
                                    "Name": "HL Grip Tape",
                                    "Color": "NULL",
                                    "ListPrice": "0.00"
                                },
                                {
                                    "ProductID": "359",
                                    "Name": "Thin-Jam Hex Nut 9",
                                    "Color": "NULL",
                                    "ListPrice": "0.00"
                                },
                                {
                                    "ProductID": "360",
                                    "Name": "Thin-Jam Hex Nut 10",
                                    "Color": "NULL",
                                    "ListPrice": "0.00"
                                },
                                {
                                    "ProductID": "361",
                                    "Name": "Thin-Jam Hex Nut 1",
                                    "Color": "NULL",
                                    "ListPrice": "0.00"
                                },
                                {
                                    "ProductID": "362",
                                    "Name": "Thin-Jam Hex Nut 2",
                                    "Color": "NULL",
                                    "ListPrice": "0.00"
                                },
                                {
                                    "ProductID": "363",
                                    "Name": "Thin-Jam Hex Nut 15",
                                    "Color": "NULL",
                                    "ListPrice": "0.00"
                                },
                                {
                                    "ProductID": "364",
                                    "Name": "Thin-Jam Hex Nut 16",
                                    "Color": "NULL",
                                    "ListPrice": "0.00"
                                },
                                {
                                    "ProductID": "365",
                                    "Name": "Thin-Jam Hex Nut 5",
                                    "Color": "NULL",
                                    "ListPrice": "0.00"
                                },
                                {
                                    "ProductID": "366",
                                    "Name": "Thin-Jam Hex Nut 6",
                                    "Color": "NULL",
                                    "ListPrice": "0.00"
                                },
                                {
                                    "ProductID": "367",
                                    "Name": "Thin-Jam Hex Nut 3",
                                    "Color": "NULL",
                                    "ListPrice": "0.00"
                                },
                                {
                                    "ProductID": "368",
                                    "Name": "Thin-Jam Hex Nut 4",
                                    "Color": "NULL",
                                    "ListPrice": "0.00"
                                },
                                {
                                    "ProductID": "369",
                                    "Name": "Thin-Jam Hex Nut 13",
                                    "Color": "NULL",
                                    "ListPrice": "0.00"
                                },
                                {
                                    "ProductID": "370",
                                    "Name": "Thin-Jam Hex Nut 14",
                                    "Color": "NULL",
                                    "ListPrice": "0.00"
                                },
                                {
                                    "ProductID": "371",
                                    "Name": "Thin-Jam Hex Nut 7",
                                    "Color": "NULL",
                                    "ListPrice": "0.00"
                                },
                                {
                                    "ProductID": "372",
                                    "Name": "Thin-Jam Hex Nut 8",
                                    "Color": "NULL",
                                    "ListPrice": "0.00"
                                },
                                {
                                    "ProductID": "373",
                                    "Name": "Thin-Jam Hex Nut 12",
                                    "Color": "NULL",
                                    "ListPrice": "0.00"
                                },
                                {
                                    "ProductID": "374",
                                    "Name": "Thin-Jam Hex Nut 11",
                                    "Color": "NULL",
                                    "ListPrice": "0.00"
                                },
                                {
                                    "ProductID": "375",
                                    "Name": "Hex Nut 5",
                                    "Color": "NULL",
                                    "ListPrice": "0.00"
                                },
                                {
                                    "ProductID": "376",
                                    "Name": "Hex Nut 6",
                                    "Color": "NULL",
                                    "ListPrice": "0.00"
                                },
                                {
                                    "ProductID": "377",
                                    "Name": "Hex Nut 16",
                                    "Color": "NULL",
                                    "ListPrice": "0.00"
                                },
                                {
                                    "ProductID": "378",
                                    "Name": "Hex Nut 17",
                                    "Color": "NULL",
                                    "ListPrice": "0.00"
                                },
                                {
                                    "ProductID": "379",
                                    "Name": "Hex Nut 7",
                                    "Color": "NULL",
                                    "ListPrice": "0.00"
                                },
                                {
                                    "ProductID": "380",
                                    "Name": "Hex Nut 8",
                                    "Color": "NULL",
                                    "ListPrice": "0.00"
                                },
                                {
                                    "ProductID": "381",
                                    "Name": "Hex Nut 9",
                                    "Color": "NULL",
                                    "ListPrice": "0.00"
                                },
                                {
                                    "ProductID": "382",
                                    "Name": "Hex Nut 22",
                                    "Color": "NULL",
                                    "ListPrice": "0.00"
                                },
                                {
                                    "ProductID": "383",
                                    "Name": "Hex Nut 23",
                                    "Color": "NULL",
                                    "ListPrice": "0.00"
                                },
                                {
                                    "ProductID": "384",
                                    "Name": "Hex Nut 12",
                                    "Color": "NULL",
                                    "ListPrice": "0.00"
                                },
                                {
                                    "ProductID": "385",
                                    "Name": "Hex Nut 13",
                                    "Color": "NULL",
                                    "ListPrice": "0.00"
                                },
                                {
                                    "ProductID": "386",
                                    "Name": "Hex Nut 1",
                                    "Color": "NULL",
                                    "ListPrice": "0.00"
                                },
                                {
                                    "ProductID": "387",
                                    "Name": "Hex Nut 10",
                                    "Color": "NULL",
                                    "ListPrice": "0.00"
                                },
                                {
                                    "ProductID": "388",
                                    "Name": "Hex Nut 11",
                                    "Color": "NULL",
                                    "ListPrice": "0.00"
                                },
                                {
                                    "ProductID": "389",
                                    "Name": "Hex Nut 2",
                                    "Color": "NULL",
                                    "ListPrice": "0.00"
                                },
                                {
                                    "ProductID": "390",
                                    "Name": "Hex Nut 20",
                                    "Color": "NULL",
                                    "ListPrice": "0.00"
                                },
                                {
                                    "ProductID": "391",
                                    "Name": "Hex Nut 21",
                                    "Color": "NULL",
                                    "ListPrice": "0.00"
                                },
                                {
                                    "ProductID": "392",
                                    "Name": "Hex Nut 3",
                                    "Color": "NULL",
                                    "ListPrice": "0.00"
                                },
                                {
                                    "ProductID": "393",
                                    "Name": "Hex Nut 14",
                                    "Color": "NULL",
                                    "ListPrice": "0.00"
                                },
                                {
                                    "ProductID": "394",
                                    "Name": "Hex Nut 15",
                                    "Color": "NULL",
                                    "ListPrice": "0.00"
                                },
                                {
                                    "ProductID": "395",
                                    "Name": "Hex Nut 4",
                                    "Color": "NULL",
                                    "ListPrice": "0.00"
                                },
                                {
                                    "ProductID": "396",
                                    "Name": "Hex Nut 18",
                                    "Color": "NULL",
                                    "ListPrice": "0.00"
                                },
                                {
                                    "ProductID": "397",
                                    "Name": "Hex Nut 19",
                                    "Color": "NULL",
                                    "ListPrice": "0.00"
                                },
                                {
                                    "ProductID": "398",
                                    "Name": "Handlebar Tube",
                                    "Color": "NULL",
                                    "ListPrice": "0.00"
                                },
                                {
                                    "ProductID": "399",
                                    "Name": "Head Tube",
                                    "Color": "NULL",
                                    "ListPrice": "0.00"
                                },
                                {
                                    "ProductID": "400",
                                    "Name": "LL Hub",
                                    "Color": "NULL",
                                    "ListPrice": "0.00"
                                },
                                {
                                    "ProductID": "401",
                                    "Name": "HL Hub",
                                    "Color": "NULL",
                                    "ListPrice": "0.00"
                                },
                                {
                                    "ProductID": "402",
                                    "Name": "Keyed Washer",
                                    "Color": "NULL",
                                    "ListPrice": "0.00"
                                },
                                {
                                    "ProductID": "403",
                                    "Name": "External Lock Washer 3",
                                    "Color": "NULL",
                                    "ListPrice": "0.00"
                                },
                                {
                                    "ProductID": "404",
                                    "Name": "External Lock Washer 4",
                                    "Color": "NULL",
                                    "ListPrice": "0.00"
                                },
                                {
                                    "ProductID": "405",
                                    "Name": "External Lock Washer 9",
                                    "Color": "NULL",
                                    "ListPrice": "0.00"
                                },
                                {
                                    "ProductID": "406",
                                    "Name": "External Lock Washer 5",
                                    "Color": "NULL",
                                    "ListPrice": "0.00"
                                },
                                {
                                    "ProductID": "407",
                                    "Name": "External Lock Washer 7",
                                    "Color": "NULL",
                                    "ListPrice": "0.00"
                                },
                                {
                                    "ProductID": "408",
                                    "Name": "External Lock Washer 6",
                                    "Color": "NULL",
                                    "ListPrice": "0.00"
                                },
                                {
                                    "ProductID": "409",
                                    "Name": "External Lock Washer 1",
                                    "Color": "NULL",
                                    "ListPrice": "0.00"
                                },
                                {
                                    "ProductID": "410",
                                    "Name": "External Lock Washer 8",
                                    "Color": "NULL",
                                    "ListPrice": "0.00"
                                },
                                {
                                    "ProductID": "411",
                                    "Name": "External Lock Washer 2",
                                    "Color": "NULL",
                                    "ListPrice": "0.00"
                                },
                                {
                                    "ProductID": "412",
                                    "Name": "Internal Lock Washer 3",
                                    "Color": "NULL",
                                    "ListPrice": "0.00"
                                },
                                {
                                    "ProductID": "413",
                                    "Name": "Internal Lock Washer 4",
                                    "Color": "NULL",
                                    "ListPrice": "0.00"
                                },
                                {
                                    "ProductID": "414",
                                    "Name": "Internal Lock Washer 9",
                                    "Color": "NULL",
                                    "ListPrice": "0.00"
                                },
                                {
                                    "ProductID": "415",
                                    "Name": "Internal Lock Washer 5",
                                    "Color": "NULL",
                                    "ListPrice": "0.00"
                                },
                                {
                                    "ProductID": "416",
                                    "Name": "Internal Lock Washer 7",
                                    "Color": "NULL",
                                    "ListPrice": "0.00"
                                },
                                {
                                    "ProductID": "417",
                                    "Name": "Internal Lock Washer 6",
                                    "Color": "NULL",
                                    "ListPrice": "0.00"
                                },
                                {
                                    "ProductID": "418",
                                    "Name": "Internal Lock Washer 10",
                                    "Color": "NULL",
                                    "ListPrice": "0.00"
                                },
                                {
                                    "ProductID": "419",
                                    "Name": "Internal Lock Washer 1",
                                    "Color": "NULL",
                                    "ListPrice": "0.00"
                                },
                                {
                                    "ProductID": "420",
                                    "Name": "Internal Lock Washer 8",
                                    "Color": "NULL",
                                    "ListPrice": "0.00"
                                },
                                {
                                    "ProductID": "421",
                                    "Name": "Internal Lock Washer 2",
                                    "Color": "NULL",
                                    "ListPrice": "0.00"
                                },
                                {
                                    "ProductID": "422",
                                    "Name": "Thin-Jam Lock Nut 9",
                                    "Color": "NULL",
                                    "ListPrice": "0.00"
                                },
                                {
                                    "ProductID": "423",
                                    "Name": "Thin-Jam Lock Nut 10",
                                    "Color": "NULL",
                                    "ListPrice": "0.00"
                                },
                                {
                                    "ProductID": "424",
                                    "Name": "Thin-Jam Lock Nut 1",
                                    "Color": "NULL",
                                    "ListPrice": "0.00"
                                },
                                {
                                    "ProductID": "425",
                                    "Name": "Thin-Jam Lock Nut 2",
                                    "Color": "NULL",
                                    "ListPrice": "0.00"
                                },
                                {
                                    "ProductID": "426",
                                    "Name": "Thin-Jam Lock Nut 15",
                                    "Color": "NULL",
                                    "ListPrice": "0.00"
                                },
                                {
                                    "ProductID": "427",
                                    "Name": "Thin-Jam Lock Nut 16",
                                    "Color": "NULL",
                                    "ListPrice": "0.00"
                                },
                                {
                                    "ProductID": "428",
                                    "Name": "Thin-Jam Lock Nut 5",
                                    "Color": "NULL",
                                    "ListPrice": "0.00"
                                },
                                {
                                    "ProductID": "429",
                                    "Name": "Thin-Jam Lock Nut 6",
                                    "Color": "NULL",
                                    "ListPrice": "0.00"
                                },
                                {
                                    "ProductID": "430",
                                    "Name": "Thin-Jam Lock Nut 3",
                                    "Color": "NULL",
                                    "ListPrice": "0.00"
                                },
                                {
                                    "ProductID": "431",
                                    "Name": "Thin-Jam Lock Nut 4",
                                    "Color": "NULL",
                                    "ListPrice": "0.00"
                                },
                                {
                                    "ProductID": "432",
                                    "Name": "Thin-Jam Lock Nut 13",
                                    "Color": "NULL",
                                    "ListPrice": "0.00"
                                },
                                {
                                    "ProductID": "433",
                                    "Name": "Thin-Jam Lock Nut 14",
                                    "Color": "NULL",
                                    "ListPrice": "0.00"
                                },
                                {
                                    "ProductID": "434",
                                    "Name": "Thin-Jam Lock Nut 7",
                                    "Color": "NULL",
                                    "ListPrice": "0.00"
                                },
                                {
                                    "ProductID": "435",
                                    "Name": "Thin-Jam Lock Nut 8",
                                    "Color": "NULL",
                                    "ListPrice": "0.00"
                                },
                                {
                                    "ProductID": "436",
                                    "Name": "Thin-Jam Lock Nut 12",
                                    "Color": "NULL",
                                    "ListPrice": "0.00"
                                },
                                {
                                    "ProductID": "437",
                                    "Name": "Thin-Jam Lock Nut 11",
                                    "Color": "NULL",
                                    "ListPrice": "0.00"
                                },
                                {
                                    "ProductID": "438",
                                    "Name": "Lock Nut 5",
                                    "Color": "NULL",
                                    "ListPrice": "0.00"
                                },
                                {
                                    "ProductID": "439",
                                    "Name": "Lock Nut 6",
                                    "Color": "NULL",
                                    "ListPrice": "0.00"
                                },
                                {
                                    "ProductID": "440",
                                    "Name": "Lock Nut 16",
                                    "Color": "NULL",
                                    "ListPrice": "0.00"
                                },
                                {
                                    "ProductID": "441",
                                    "Name": "Lock Nut 17",
                                    "Color": "NULL",
                                    "ListPrice": "0.00"
                                },
                                {
                                    "ProductID": "442",
                                    "Name": "Lock Nut 7",
                                    "Color": "NULL",
                                    "ListPrice": "0.00"
                                },
                                {
                                    "ProductID": "443",
                                    "Name": "Lock Nut 8",
                                    "Color": "NULL",
                                    "ListPrice": "0.00"
                                },
                                {
                                    "ProductID": "444",
                                    "Name": "Lock Nut 9",
                                    "Color": "NULL",
                                    "ListPrice": "0.00"
                                },
                                {
                                    "ProductID": "445",
                                    "Name": "Lock Nut 22",
                                    "Color": "NULL",
                                    "ListPrice": "0.00"
                                },
                                {
                                    "ProductID": "446",
                                    "Name": "Lock Nut 23",
                                    "Color": "NULL",
                                    "ListPrice": "0.00"
                                },
                                {
                                    "ProductID": "447",
                                    "Name": "Lock Nut 12",
                                    "Color": "NULL",
                                    "ListPrice": "0.00"
                                },
                                {
                                    "ProductID": "448",
                                    "Name": "Lock Nut 13",
                                    "Color": "NULL",
                                    "ListPrice": "0.00"
                                },
                                {
                                    "ProductID": "449",
                                    "Name": "Lock Nut 1",
                                    "Color": "NULL",
                                    "ListPrice": "0.00"
                                },
                                {
                                    "ProductID": "450",
                                    "Name": "Lock Nut 10",
                                    "Color": "NULL",
                                    "ListPrice": "0.00"
                                },
                                {
                                    "ProductID": "451",
                                    "Name": "Lock Nut 11",
                                    "Color": "NULL",
                                    "ListPrice": "0.00"
                                },
                                {
                                    "ProductID": "452",
                                    "Name": "Lock Nut 2",
                                    "Color": "NULL",
                                    "ListPrice": "0.00"
                                },
                                {
                                    "ProductID": "453",
                                    "Name": "Lock Nut 20",
                                    "Color": "NULL",
                                    "ListPrice": "0.00"
                                },
                                {
                                    "ProductID": "454",
                                    "Name": "Lock Nut 21",
                                    "Color": "NULL",
                                    "ListPrice": "0.00"
                                },
                                {
                                    "ProductID": "455",
                                    "Name": "Lock Nut 3",
                                    "Color": "NULL",
                                    "ListPrice": "0.00"
                                },
                                {
                                    "ProductID": "456",
                                    "Name": "Lock Nut 14",
                                    "Color": "NULL",
                                    "ListPrice": "0.00"
                                },
                                {
                                    "ProductID": "457",
                                    "Name": "Lock Nut 15",
                                    "Color": "NULL",
                                    "ListPrice": "0.00"
                                },
                                {
                                    "ProductID": "458",
                                    "Name": "Lock Nut 4",
                                    "Color": "NULL",
                                    "ListPrice": "0.00"
                                },
                                {
                                    "ProductID": "459",
                                    "Name": "Lock Nut 19",
                                    "Color": "NULL",
                                    "ListPrice": "0.00"
                                },
                                {
                                    "ProductID": "460",
                                    "Name": "Lock Nut 18",
                                    "Color": "NULL",
                                    "ListPrice": "0.00"
                                },
                                {
                                    "ProductID": "462",
                                    "Name": "Lower Head Race",
                                    "Color": "NULL",
                                    "ListPrice": "0.00"
                                },
                                {
                                    "ProductID": "463",
                                    "Name": "Lock Washer 4",
                                    "Color": "NULL",
                                    "ListPrice": "0.00"
                                },
                                {
                                    "ProductID": "464",
                                    "Name": "Lock Washer 5",
                                    "Color": "NULL",
                                    "ListPrice": "0.00"
                                },
                                {
                                    "ProductID": "465",
                                    "Name": "Lock Washer 10",
                                    "Color": "NULL",
                                    "ListPrice": "0.00"
                                },
                                {
                                    "ProductID": "466",
                                    "Name": "Lock Washer 6",
                                    "Color": "NULL",
                                    "ListPrice": "0.00"
                                },
                                {
                                    "ProductID": "467",
                                    "Name": "Lock Washer 13",
                                    "Color": "NULL",
                                    "ListPrice": "0.00"
                                },
                                {
                                    "ProductID": "468",
                                    "Name": "Lock Washer 8",
                                    "Color": "NULL",
                                    "ListPrice": "0.00"
                                },
                                {
                                    "ProductID": "469",
                                    "Name": "Lock Washer 1",
                                    "Color": "NULL",
                                    "ListPrice": "0.00"
                                },
                                {
                                    "ProductID": "470",
                                    "Name": "Lock Washer 7",
                                    "Color": "NULL",
                                    "ListPrice": "0.00"
                                },
                                {
                                    "ProductID": "471",
                                    "Name": "Lock Washer 12",
                                    "Color": "NULL",
                                    "ListPrice": "0.00"
                                },
                                {
                                    "ProductID": "472",
                                    "Name": "Lock Washer 2",
                                    "Color": "NULL",
                                    "ListPrice": "0.00"
                                },
                                {
                                    "ProductID": "473",
                                    "Name": "Lock Washer 9",
                                    "Color": "NULL",
                                    "ListPrice": "0.00"
                                },
                                {
                                    "ProductID": "474",
                                    "Name": "Lock Washer 3",
                                    "Color": "NULL",
                                    "ListPrice": "0.00"
                                },
                                {
                                    "ProductID": "475",
                                    "Name": "Lock Washer 11",
                                    "Color": "NULL",
                                    "ListPrice": "0.00"
                                },
                                {
                                    "ProductID": "476",
                                    "Name": "Metal Angle",
                                    "Color": "NULL",
                                    "ListPrice": "0.00"
                                },
                                {
                                    "ProductID": "477",
                                    "Name": "Metal Bar 1",
                                    "Color": "NULL",
                                    "ListPrice": "0.00"
                                },
                                {
                                    "ProductID": "478",
                                    "Name": "Metal Bar 2",
                                    "Color": "NULL",
                                    "ListPrice": "0.00"
                                },
                                {
                                    "ProductID": "479",
                                    "Name": "Metal Plate 2",
                                    "Color": "NULL",
                                    "ListPrice": "0.00"
                                },
                                {
                                    "ProductID": "480",
                                    "Name": "Metal Plate 1",
                                    "Color": "NULL",
                                    "ListPrice": "0.00"
                                },
                                {
                                    "ProductID": "481",
                                    "Name": "Metal Plate 3",
                                    "Color": "NULL",
                                    "ListPrice": "0.00"
                                },
                                {
                                    "ProductID": "482",
                                    "Name": "Metal Sheet 2",
                                    "Color": "NULL",
                                    "ListPrice": "0.00"
                                },
                                {
                                    "ProductID": "483",
                                    "Name": "Metal Sheet 3",
                                    "Color": "NULL",
                                    "ListPrice": "0.00"
                                },
                                {
                                    "ProductID": "484",
                                    "Name": "Metal Sheet 7",
                                    "Color": "NULL",
                                    "ListPrice": "0.00"
                                },
                                {
                                    "ProductID": "485",
                                    "Name": "Metal Sheet 4",
                                    "Color": "NULL",
                                    "ListPrice": "0.00"
                                },
                                {
                                    "ProductID": "486",
                                    "Name": "Metal Sheet 5",
                                    "Color": "NULL",
                                    "ListPrice": "0.00"
                                },
                                {
                                    "ProductID": "487",
                                    "Name": "Metal Sheet 6",
                                    "Color": "NULL",
                                    "ListPrice": "0.00"
                                },
                                {
                                    "ProductID": "488",
                                    "Name": "Metal Sheet 1",
                                    "Color": "NULL",
                                    "ListPrice": "0.00"
                                },
                                {
                                    "ProductID": "489",
                                    "Name": "Metal Tread Plate",
                                    "Color": "NULL",
                                    "ListPrice": "0.00"
                                },
                                {
                                    "ProductID": "490",
                                    "Name": "LL Nipple",
                                    "Color": "NULL",
                                    "ListPrice": "0.00"
                                },
                                {
                                    "ProductID": "491",
                                    "Name": "HL Nipple",
                                    "Color": "NULL",
                                    "ListPrice": "0.00"
                                },
                                {
                                    "ProductID": "492",
                                    "Name": "Paint - Black",
                                    "Color": "NULL",
                                    "ListPrice": "0.00"
                                },
                                {
                                    "ProductID": "493",
                                    "Name": "Paint - Red",
                                    "Color": "NULL",
                                    "ListPrice": "0.00"
                                },
                                {
                                    "ProductID": "494",
                                    "Name": "Paint - Silver",
                                    "Color": "NULL",
                                    "ListPrice": "0.00"
                                },
                                {
                                    "ProductID": "495",
                                    "Name": "Paint - Blue",
                                    "Color": "NULL",
                                    "ListPrice": "0.00"
                                },
                                {
                                    "ProductID": "496",
                                    "Name": "Paint - Yellow",
                                    "Color": "NULL",
                                    "ListPrice": "0.00"
                                },
                                {
                                    "ProductID": "497",
                                    "Name": "Pinch Bolt",
                                    "Color": "NULL",
                                    "ListPrice": "0.00"
                                },
                                {
                                    "ProductID": "504",
                                    "Name": "Cup-Shaped Race",
                                    "Color": "NULL",
                                    "ListPrice": "0.00"
                                },
                                {
                                    "ProductID": "505",
                                    "Name": "Cone-Shaped Race",
                                    "Color": "NULL",
                                    "ListPrice": "0.00"
                                },
                                {
                                    "ProductID": "506",
                                    "Name": "Reflector",
                                    "Color": "NULL",
                                    "ListPrice": "0.00"
                                },
                                {
                                    "ProductID": "507",
                                    "Name": "LL Mountain Rim",
                                    "Color": "NULL",
                                    "ListPrice": "0.00"
                                },
                                {
                                    "ProductID": "508",
                                    "Name": "ML Mountain Rim",
                                    "Color": "NULL",
                                    "ListPrice": "0.00"
                                },
                                {
                                    "ProductID": "509",
                                    "Name": "HL Mountain Rim",
                                    "Color": "NULL",
                                    "ListPrice": "0.00"
                                },
                                {
                                    "ProductID": "510",
                                    "Name": "LL Road Rim",
                                    "Color": "NULL",
                                    "ListPrice": "0.00"
                                },
                                {
                                    "ProductID": "511",
                                    "Name": "ML Road Rim",
                                    "Color": "NULL",
                                    "ListPrice": "0.00"
                                },
                                {
                                    "ProductID": "512",
                                    "Name": "HL Road Rim",
                                    "Color": "NULL",
                                    "ListPrice": "0.00"
                                },
                                {
                                    "ProductID": "513",
                                    "Name": "Touring Rim",
                                    "Color": "NULL",
                                    "ListPrice": "0.00"
                                },
                                {
                                    "ProductID": "514",
                                    "Name": "LL Mountain Seat Assembly",
                                    "Color": "NULL",
                                    "ListPrice": "133.34"
                                },
                                {
                                    "ProductID": "515",
                                    "Name": "ML Mountain Seat Assembly",
                                    "Color": "NULL",
                                    "ListPrice": "147.14"
                                },
                                {
                                    "ProductID": "516",
                                    "Name": "HL Mountain Seat Assembly",
                                    "Color": "NULL",
                                    "ListPrice": "196.92"
                                },
                                {
                                    "ProductID": "517",
                                    "Name": "LL Road Seat Assembly",
                                    "Color": "NULL",
                                    "ListPrice": "133.34"
                                },
                                {
                                    "ProductID": "518",
                                    "Name": "ML Road Seat Assembly",
                                    "Color": "NULL",
                                    "ListPrice": "147.14"
                                },
                                {
                                    "ProductID": "519",
                                    "Name": "HL Road Seat Assembly",
                                    "Color": "NULL",
                                    "ListPrice": "196.92"
                                },
                                {
                                    "ProductID": "520",
                                    "Name": "LL Touring Seat Assembly",
                                    "Color": "NULL",
                                    "ListPrice": "133.34"
                                },
                                {
                                    "ProductID": "521",
                                    "Name": "ML Touring Seat Assembly",
                                    "Color": "NULL",
                                    "ListPrice": "147.14"
                                },
                                {
                                    "ProductID": "522",
                                    "Name": "HL Touring Seat Assembly",
                                    "Color": "NULL",
                                    "ListPrice": "196.92"
                                },
                                {
                                    "ProductID": "523",
                                    "Name": "LL Spindle/Axle",
                                    "Color": "NULL",
                                    "ListPrice": "0.00"
                                },
                                {
                                    "ProductID": "524",
                                    "Name": "HL Spindle/Axle",
                                    "Color": "NULL",
                                    "ListPrice": "0.00"
                                },
                                {
                                    "ProductID": "525",
                                    "Name": "LL Shell",
                                    "Color": "NULL",
                                    "ListPrice": "0.00"
                                },
                                {
                                    "ProductID": "526",
                                    "Name": "HL Shell",
                                    "Color": "NULL",
                                    "ListPrice": "0.00"
                                },
                                {
                                    "ProductID": "527",
                                    "Name": "Spokes",
                                    "Color": "NULL",
                                    "ListPrice": "0.00"
                                },
                                {
                                    "ProductID": "528",
                                    "Name": "Seat Lug",
                                    "Color": "NULL",
                                    "ListPrice": "0.00"
                                },
                                {
                                    "ProductID": "529",
                                    "Name": "Stem",
                                    "Color": "NULL",
                                    "ListPrice": "0.00"
                                },
                                {
                                    "ProductID": "530",
                                    "Name": "Seat Post",
                                    "Color": "NULL",
                                    "ListPrice": "0.00"
                                },
                                {
                                    "ProductID": "531",
                                    "Name": "Steerer",
                                    "Color": "NULL",
                                    "ListPrice": "0.00"
                                },
                                {
                                    "ProductID": "532",
                                    "Name": "Seat Stays",
                                    "Color": "NULL",
                                    "ListPrice": "0.00"
                                },
                                {
                                    "ProductID": "533",
                                    "Name": "Seat Tube",
                                    "Color": "NULL",
                                    "ListPrice": "0.00"
                                },
                                {
                                    "ProductID": "534",
                                    "Name": "Top Tube",
                                    "Color": "NULL",
                                    "ListPrice": "0.00"
                                },
                                {
                                    "ProductID": "535",
                                    "Name": "Tension Pulley",
                                    "Color": "NULL",
                                    "ListPrice": "0.00"
                                },
                                {
                                    "ProductID": "802",
                                    "Name": "LL Fork",
                                    "Color": "NULL",
                                    "ListPrice": "148.22"
                                },
                                {
                                    "ProductID": "803",
                                    "Name": "ML Fork",
                                    "Color": "NULL",
                                    "ListPrice": "175.49"
                                },
                                {
                                    "ProductID": "804",
                                    "Name": "HL Fork",
                                    "Color": "NULL",
                                    "ListPrice": "229.49"
                                },
                                {
                                    "ProductID": "805",
                                    "Name": "LL Headset",
                                    "Color": "NULL",
                                    "ListPrice": "34.20"
                                },
                                {
                                    "ProductID": "806",
                                    "Name": "ML Headset",
                                    "Color": "NULL",
                                    "ListPrice": "102.29"
                                },
                                {
                                    "ProductID": "807",
                                    "Name": "HL Headset",
                                    "Color": "NULL",
                                    "ListPrice": "124.73"
                                },
                                {
                                    "ProductID": "808",
                                    "Name": "LL Mountain Handlebars",
                                    "Color": "NULL",
                                    "ListPrice": "44.54"
                                },
                                {
                                    "ProductID": "809",
                                    "Name": "ML Mountain Handlebars",
                                    "Color": "NULL",
                                    "ListPrice": "61.92"
                                },
                                {
                                    "ProductID": "810",
                                    "Name": "HL Mountain Handlebars",
                                    "Color": "NULL",
                                    "ListPrice": "120.27"
                                },
                                {
                                    "ProductID": "811",
                                    "Name": "LL Road Handlebars",
                                    "Color": "NULL",
                                    "ListPrice": "44.54"
                                },
                                {
                                    "ProductID": "812",
                                    "Name": "ML Road Handlebars",
                                    "Color": "NULL",
                                    "ListPrice": "61.92"
                                },
                                {
                                    "ProductID": "813",
                                    "Name": "HL Road Handlebars",
                                    "Color": "NULL",
                                    "ListPrice": "120.27"
                                },
                                {
                                    "ProductID": "843",
                                    "Name": "Cable Lock",
                                    "Color": "NULL",
                                    "ListPrice": "25.00"
                                },
                                {
                                    "ProductID": "844",
                                    "Name": "Minipump",
                                    "Color": "NULL",
                                    "ListPrice": "19.99"
                                },
                                {
                                    "ProductID": "845",
                                    "Name": "Mountain Pump",
                                    "Color": "NULL",
                                    "ListPrice": "24.99"
                                },
                                {
                                    "ProductID": "846",
                                    "Name": "Taillights - Battery-Powered",
                                    "Color": "NULL",
                                    "ListPrice": "13.99"
                                },
                                {
                                    "ProductID": "847",
                                    "Name": "Headlights - Dual-Beam",
                                    "Color": "NULL",
                                    "ListPrice": "34.99"
                                },
                                {
                                    "ProductID": "848",
                                    "Name": "Headlights - Weatherproof",
                                    "Color": "NULL",
                                    "ListPrice": "44.99"
                                },
                                {
                                    "ProductID": "870",
                                    "Name": "Water Bottle - 30 oz.",
                                    "Color": "NULL",
                                    "ListPrice": "4.99"
                                },
                                {
                                    "ProductID": "871",
                                    "Name": "Mountain Bottle Cage",
                                    "Color": "NULL",
                                    "ListPrice": "9.99"
                                },
                                {
                                    "ProductID": "872",
                                    "Name": "Road Bottle Cage",
                                    "Color": "NULL",
                                    "ListPrice": "8.99"
                                },
                                {
                                    "ProductID": "873",
                                    "Name": "Patch Kit/8 Patches",
                                    "Color": "NULL",
                                    "ListPrice": "2.29"
                                },
                                {
                                    "ProductID": "876",
                                    "Name": "Hitch Rack - 4-Bike",
                                    "Color": "NULL",
                                    "ListPrice": "120.00"
                                },
                                {
                                    "ProductID": "877",
                                    "Name": "Bike Wash - Dissolver",
                                    "Color": "NULL",
                                    "ListPrice": "7.95"
                                },
                                {
                                    "ProductID": "878",
                                    "Name": "Fender Set - Mountain",
                                    "Color": "NULL",
                                    "ListPrice": "21.98"
                                },
                                {
                                    "ProductID": "879",
                                    "Name": "All-Purpose Bike Stand",
                                    "Color": "NULL",
                                    "ListPrice": "159.00"
                                },
                                {
                                    "ProductID": "908",
                                    "Name": "LL Mountain Seat/Saddle",
                                    "Color": "NULL",
                                    "ListPrice": "27.12"
                                },
                                {
                                    "ProductID": "909",
                                    "Name": "ML Mountain Seat/Saddle",
                                    "Color": "NULL",
                                    "ListPrice": "39.14"
                                },
                                {
                                    "ProductID": "910",
                                    "Name": "HL Mountain Seat/Saddle",
                                    "Color": "NULL",
                                    "ListPrice": "52.64"
                                },
                                {
                                    "ProductID": "911",
                                    "Name": "LL Road Seat/Saddle",
                                    "Color": "NULL",
                                    "ListPrice": "27.12"
                                },
                                {
                                    "ProductID": "912",
                                    "Name": "ML Road Seat/Saddle",
                                    "Color": "NULL",
                                    "ListPrice": "39.14"
                                },
                                {
                                    "ProductID": "913",
                                    "Name": "HL Road Seat/Saddle",
                                    "Color": "NULL",
                                    "ListPrice": "52.64"
                                },
                                {
                                    "ProductID": "914",
                                    "Name": "LL Touring Seat/Saddle",
                                    "Color": "NULL",
                                    "ListPrice": "27.12"
                                },
                                {
                                    "ProductID": "915",
                                    "Name": "ML Touring Seat/Saddle",
                                    "Color": "NULL",
                                    "ListPrice": "39.14"
                                },
                                {
                                    "ProductID": "916",
                                    "Name": "HL Touring Seat/Saddle",
                                    "Color": "NULL",
                                    "ListPrice": "52.64"
                                },
                                {
                                    "ProductID": "921",
                                    "Name": "Mountain Tire Tube",
                                    "Color": "NULL",
                                    "ListPrice": "4.99"
                                },
                                {
                                    "ProductID": "922",
                                    "Name": "Road Tire Tube",
                                    "Color": "NULL",
                                    "ListPrice": "3.99"
                                },
                                {
                                    "ProductID": "923",
                                    "Name": "Touring Tire Tube",
                                    "Color": "NULL",
                                    "ListPrice": "4.99"
                                },
                                {
                                    "ProductID": "928",
                                    "Name": "LL Mountain Tire",
                                    "Color": "NULL",
                                    "ListPrice": "24.99"
                                },
                                {
                                    "ProductID": "929",
                                    "Name": "ML Mountain Tire",
                                    "Color": "NULL",
                                    "ListPrice": "29.99"
                                },
                                {
                                    "ProductID": "930",
                                    "Name": "HL Mountain Tire",
                                    "Color": "NULL",
                                    "ListPrice": "35.00"
                                },
                                {
                                    "ProductID": "931",
                                    "Name": "LL Road Tire",
                                    "Color": "NULL",
                                    "ListPrice": "21.49"
                                },
                                {
                                    "ProductID": "932",
                                    "Name": "ML Road Tire",
                                    "Color": "NULL",
                                    "ListPrice": "24.99"
                                },
                                {
                                    "ProductID": "933",
                                    "Name": "HL Road Tire",
                                    "Color": "NULL",
                                    "ListPrice": "32.60"
                                },
                                {
                                    "ProductID": "934",
                                    "Name": "Touring Tire",
                                    "Color": "NULL",
                                    "ListPrice": "28.99"
                                },
                                {
                                    "ProductID": "946",
                                    "Name": "LL Touring Handlebars",
                                    "Color": "NULL",
                                    "ListPrice": "46.09"
                                },
                                {
                                    "ProductID": "947",
                                    "Name": "HL Touring Handlebars",
                                    "Color": "NULL",
                                    "ListPrice": "91.57"
                                },
                                {
                                    "ProductID": "994",
                                    "Name": "LL Bottom Bracket",
                                    "Color": "NULL",
                                    "ListPrice": "53.99"
                                },
                                {
                                    "ProductID": "995",
                                    "Name": "ML Bottom Bracket",
                                    "Color": "NULL",
                                    "ListPrice": "101.24"
                                },
                                {
                                    "ProductID": "996",
                                    "Name": "HL Bottom Bracket",
                                    "Color": "NULL",
                                    "ListPrice": "121.49"
                                }
                            ]
                        },
                        "text/html": [
                            "<table>",
                            "<tr><th>ProductID</th><th>Name</th><th>Color</th><th>ListPrice</th></tr>",
                            "<tr><td>1</td><td>Adjustable Race</td><td>NULL</td><td>0.00</td></tr>",
                            "<tr><td>2</td><td>Bearing Ball</td><td>NULL</td><td>0.00</td></tr>",
                            "<tr><td>3</td><td>BB Ball Bearing</td><td>NULL</td><td>0.00</td></tr>",
                            "<tr><td>4</td><td>Headset Ball Bearings</td><td>NULL</td><td>0.00</td></tr>",
                            "<tr><td>316</td><td>Blade</td><td>NULL</td><td>0.00</td></tr>",
                            "<tr><td>323</td><td>Crown Race</td><td>NULL</td><td>0.00</td></tr>",
                            "<tr><td>324</td><td>Chain Stays</td><td>NULL</td><td>0.00</td></tr>",
                            "<tr><td>325</td><td>Decal 1</td><td>NULL</td><td>0.00</td></tr>",
                            "<tr><td>326</td><td>Decal 2</td><td>NULL</td><td>0.00</td></tr>",
                            "<tr><td>327</td><td>Down Tube</td><td>NULL</td><td>0.00</td></tr>",
                            "<tr><td>328</td><td>Mountain End Caps</td><td>NULL</td><td>0.00</td></tr>",
                            "<tr><td>329</td><td>Road End Caps</td><td>NULL</td><td>0.00</td></tr>",
                            "<tr><td>330</td><td>Touring End Caps</td><td>NULL</td><td>0.00</td></tr>",
                            "<tr><td>331</td><td>Fork End</td><td>NULL</td><td>0.00</td></tr>",
                            "<tr><td>341</td><td>Flat Washer 1</td><td>NULL</td><td>0.00</td></tr>",
                            "<tr><td>342</td><td>Flat Washer 6</td><td>NULL</td><td>0.00</td></tr>",
                            "<tr><td>343</td><td>Flat Washer 2</td><td>NULL</td><td>0.00</td></tr>",
                            "<tr><td>344</td><td>Flat Washer 9</td><td>NULL</td><td>0.00</td></tr>",
                            "<tr><td>345</td><td>Flat Washer 4</td><td>NULL</td><td>0.00</td></tr>",
                            "<tr><td>346</td><td>Flat Washer 3</td><td>NULL</td><td>0.00</td></tr>",
                            "<tr><td>347</td><td>Flat Washer 8</td><td>NULL</td><td>0.00</td></tr>",
                            "<tr><td>348</td><td>Flat Washer 5</td><td>NULL</td><td>0.00</td></tr>",
                            "<tr><td>349</td><td>Flat Washer 7</td><td>NULL</td><td>0.00</td></tr>",
                            "<tr><td>350</td><td>Fork Crown</td><td>NULL</td><td>0.00</td></tr>",
                            "<tr><td>355</td><td>Guide Pulley</td><td>NULL</td><td>0.00</td></tr>",
                            "<tr><td>356</td><td>LL Grip Tape</td><td>NULL</td><td>0.00</td></tr>",
                            "<tr><td>357</td><td>ML Grip Tape</td><td>NULL</td><td>0.00</td></tr>",
                            "<tr><td>358</td><td>HL Grip Tape</td><td>NULL</td><td>0.00</td></tr>",
                            "<tr><td>359</td><td>Thin-Jam Hex Nut 9</td><td>NULL</td><td>0.00</td></tr>",
                            "<tr><td>360</td><td>Thin-Jam Hex Nut 10</td><td>NULL</td><td>0.00</td></tr>",
                            "<tr><td>361</td><td>Thin-Jam Hex Nut 1</td><td>NULL</td><td>0.00</td></tr>",
                            "<tr><td>362</td><td>Thin-Jam Hex Nut 2</td><td>NULL</td><td>0.00</td></tr>",
                            "<tr><td>363</td><td>Thin-Jam Hex Nut 15</td><td>NULL</td><td>0.00</td></tr>",
                            "<tr><td>364</td><td>Thin-Jam Hex Nut 16</td><td>NULL</td><td>0.00</td></tr>",
                            "<tr><td>365</td><td>Thin-Jam Hex Nut 5</td><td>NULL</td><td>0.00</td></tr>",
                            "<tr><td>366</td><td>Thin-Jam Hex Nut 6</td><td>NULL</td><td>0.00</td></tr>",
                            "<tr><td>367</td><td>Thin-Jam Hex Nut 3</td><td>NULL</td><td>0.00</td></tr>",
                            "<tr><td>368</td><td>Thin-Jam Hex Nut 4</td><td>NULL</td><td>0.00</td></tr>",
                            "<tr><td>369</td><td>Thin-Jam Hex Nut 13</td><td>NULL</td><td>0.00</td></tr>",
                            "<tr><td>370</td><td>Thin-Jam Hex Nut 14</td><td>NULL</td><td>0.00</td></tr>",
                            "<tr><td>371</td><td>Thin-Jam Hex Nut 7</td><td>NULL</td><td>0.00</td></tr>",
                            "<tr><td>372</td><td>Thin-Jam Hex Nut 8</td><td>NULL</td><td>0.00</td></tr>",
                            "<tr><td>373</td><td>Thin-Jam Hex Nut 12</td><td>NULL</td><td>0.00</td></tr>",
                            "<tr><td>374</td><td>Thin-Jam Hex Nut 11</td><td>NULL</td><td>0.00</td></tr>",
                            "<tr><td>375</td><td>Hex Nut 5</td><td>NULL</td><td>0.00</td></tr>",
                            "<tr><td>376</td><td>Hex Nut 6</td><td>NULL</td><td>0.00</td></tr>",
                            "<tr><td>377</td><td>Hex Nut 16</td><td>NULL</td><td>0.00</td></tr>",
                            "<tr><td>378</td><td>Hex Nut 17</td><td>NULL</td><td>0.00</td></tr>",
                            "<tr><td>379</td><td>Hex Nut 7</td><td>NULL</td><td>0.00</td></tr>",
                            "<tr><td>380</td><td>Hex Nut 8</td><td>NULL</td><td>0.00</td></tr>",
                            "<tr><td>381</td><td>Hex Nut 9</td><td>NULL</td><td>0.00</td></tr>",
                            "<tr><td>382</td><td>Hex Nut 22</td><td>NULL</td><td>0.00</td></tr>",
                            "<tr><td>383</td><td>Hex Nut 23</td><td>NULL</td><td>0.00</td></tr>",
                            "<tr><td>384</td><td>Hex Nut 12</td><td>NULL</td><td>0.00</td></tr>",
                            "<tr><td>385</td><td>Hex Nut 13</td><td>NULL</td><td>0.00</td></tr>",
                            "<tr><td>386</td><td>Hex Nut 1</td><td>NULL</td><td>0.00</td></tr>",
                            "<tr><td>387</td><td>Hex Nut 10</td><td>NULL</td><td>0.00</td></tr>",
                            "<tr><td>388</td><td>Hex Nut 11</td><td>NULL</td><td>0.00</td></tr>",
                            "<tr><td>389</td><td>Hex Nut 2</td><td>NULL</td><td>0.00</td></tr>",
                            "<tr><td>390</td><td>Hex Nut 20</td><td>NULL</td><td>0.00</td></tr>",
                            "<tr><td>391</td><td>Hex Nut 21</td><td>NULL</td><td>0.00</td></tr>",
                            "<tr><td>392</td><td>Hex Nut 3</td><td>NULL</td><td>0.00</td></tr>",
                            "<tr><td>393</td><td>Hex Nut 14</td><td>NULL</td><td>0.00</td></tr>",
                            "<tr><td>394</td><td>Hex Nut 15</td><td>NULL</td><td>0.00</td></tr>",
                            "<tr><td>395</td><td>Hex Nut 4</td><td>NULL</td><td>0.00</td></tr>",
                            "<tr><td>396</td><td>Hex Nut 18</td><td>NULL</td><td>0.00</td></tr>",
                            "<tr><td>397</td><td>Hex Nut 19</td><td>NULL</td><td>0.00</td></tr>",
                            "<tr><td>398</td><td>Handlebar Tube</td><td>NULL</td><td>0.00</td></tr>",
                            "<tr><td>399</td><td>Head Tube</td><td>NULL</td><td>0.00</td></tr>",
                            "<tr><td>400</td><td>LL Hub</td><td>NULL</td><td>0.00</td></tr>",
                            "<tr><td>401</td><td>HL Hub</td><td>NULL</td><td>0.00</td></tr>",
                            "<tr><td>402</td><td>Keyed Washer</td><td>NULL</td><td>0.00</td></tr>",
                            "<tr><td>403</td><td>External Lock Washer 3</td><td>NULL</td><td>0.00</td></tr>",
                            "<tr><td>404</td><td>External Lock Washer 4</td><td>NULL</td><td>0.00</td></tr>",
                            "<tr><td>405</td><td>External Lock Washer 9</td><td>NULL</td><td>0.00</td></tr>",
                            "<tr><td>406</td><td>External Lock Washer 5</td><td>NULL</td><td>0.00</td></tr>",
                            "<tr><td>407</td><td>External Lock Washer 7</td><td>NULL</td><td>0.00</td></tr>",
                            "<tr><td>408</td><td>External Lock Washer 6</td><td>NULL</td><td>0.00</td></tr>",
                            "<tr><td>409</td><td>External Lock Washer 1</td><td>NULL</td><td>0.00</td></tr>",
                            "<tr><td>410</td><td>External Lock Washer 8</td><td>NULL</td><td>0.00</td></tr>",
                            "<tr><td>411</td><td>External Lock Washer 2</td><td>NULL</td><td>0.00</td></tr>",
                            "<tr><td>412</td><td>Internal Lock Washer 3</td><td>NULL</td><td>0.00</td></tr>",
                            "<tr><td>413</td><td>Internal Lock Washer 4</td><td>NULL</td><td>0.00</td></tr>",
                            "<tr><td>414</td><td>Internal Lock Washer 9</td><td>NULL</td><td>0.00</td></tr>",
                            "<tr><td>415</td><td>Internal Lock Washer 5</td><td>NULL</td><td>0.00</td></tr>",
                            "<tr><td>416</td><td>Internal Lock Washer 7</td><td>NULL</td><td>0.00</td></tr>",
                            "<tr><td>417</td><td>Internal Lock Washer 6</td><td>NULL</td><td>0.00</td></tr>",
                            "<tr><td>418</td><td>Internal Lock Washer 10</td><td>NULL</td><td>0.00</td></tr>",
                            "<tr><td>419</td><td>Internal Lock Washer 1</td><td>NULL</td><td>0.00</td></tr>",
                            "<tr><td>420</td><td>Internal Lock Washer 8</td><td>NULL</td><td>0.00</td></tr>",
                            "<tr><td>421</td><td>Internal Lock Washer 2</td><td>NULL</td><td>0.00</td></tr>",
                            "<tr><td>422</td><td>Thin-Jam Lock Nut 9</td><td>NULL</td><td>0.00</td></tr>",
                            "<tr><td>423</td><td>Thin-Jam Lock Nut 10</td><td>NULL</td><td>0.00</td></tr>",
                            "<tr><td>424</td><td>Thin-Jam Lock Nut 1</td><td>NULL</td><td>0.00</td></tr>",
                            "<tr><td>425</td><td>Thin-Jam Lock Nut 2</td><td>NULL</td><td>0.00</td></tr>",
                            "<tr><td>426</td><td>Thin-Jam Lock Nut 15</td><td>NULL</td><td>0.00</td></tr>",
                            "<tr><td>427</td><td>Thin-Jam Lock Nut 16</td><td>NULL</td><td>0.00</td></tr>",
                            "<tr><td>428</td><td>Thin-Jam Lock Nut 5</td><td>NULL</td><td>0.00</td></tr>",
                            "<tr><td>429</td><td>Thin-Jam Lock Nut 6</td><td>NULL</td><td>0.00</td></tr>",
                            "<tr><td>430</td><td>Thin-Jam Lock Nut 3</td><td>NULL</td><td>0.00</td></tr>",
                            "<tr><td>431</td><td>Thin-Jam Lock Nut 4</td><td>NULL</td><td>0.00</td></tr>",
                            "<tr><td>432</td><td>Thin-Jam Lock Nut 13</td><td>NULL</td><td>0.00</td></tr>",
                            "<tr><td>433</td><td>Thin-Jam Lock Nut 14</td><td>NULL</td><td>0.00</td></tr>",
                            "<tr><td>434</td><td>Thin-Jam Lock Nut 7</td><td>NULL</td><td>0.00</td></tr>",
                            "<tr><td>435</td><td>Thin-Jam Lock Nut 8</td><td>NULL</td><td>0.00</td></tr>",
                            "<tr><td>436</td><td>Thin-Jam Lock Nut 12</td><td>NULL</td><td>0.00</td></tr>",
                            "<tr><td>437</td><td>Thin-Jam Lock Nut 11</td><td>NULL</td><td>0.00</td></tr>",
                            "<tr><td>438</td><td>Lock Nut 5</td><td>NULL</td><td>0.00</td></tr>",
                            "<tr><td>439</td><td>Lock Nut 6</td><td>NULL</td><td>0.00</td></tr>",
                            "<tr><td>440</td><td>Lock Nut 16</td><td>NULL</td><td>0.00</td></tr>",
                            "<tr><td>441</td><td>Lock Nut 17</td><td>NULL</td><td>0.00</td></tr>",
                            "<tr><td>442</td><td>Lock Nut 7</td><td>NULL</td><td>0.00</td></tr>",
                            "<tr><td>443</td><td>Lock Nut 8</td><td>NULL</td><td>0.00</td></tr>",
                            "<tr><td>444</td><td>Lock Nut 9</td><td>NULL</td><td>0.00</td></tr>",
                            "<tr><td>445</td><td>Lock Nut 22</td><td>NULL</td><td>0.00</td></tr>",
                            "<tr><td>446</td><td>Lock Nut 23</td><td>NULL</td><td>0.00</td></tr>",
                            "<tr><td>447</td><td>Lock Nut 12</td><td>NULL</td><td>0.00</td></tr>",
                            "<tr><td>448</td><td>Lock Nut 13</td><td>NULL</td><td>0.00</td></tr>",
                            "<tr><td>449</td><td>Lock Nut 1</td><td>NULL</td><td>0.00</td></tr>",
                            "<tr><td>450</td><td>Lock Nut 10</td><td>NULL</td><td>0.00</td></tr>",
                            "<tr><td>451</td><td>Lock Nut 11</td><td>NULL</td><td>0.00</td></tr>",
                            "<tr><td>452</td><td>Lock Nut 2</td><td>NULL</td><td>0.00</td></tr>",
                            "<tr><td>453</td><td>Lock Nut 20</td><td>NULL</td><td>0.00</td></tr>",
                            "<tr><td>454</td><td>Lock Nut 21</td><td>NULL</td><td>0.00</td></tr>",
                            "<tr><td>455</td><td>Lock Nut 3</td><td>NULL</td><td>0.00</td></tr>",
                            "<tr><td>456</td><td>Lock Nut 14</td><td>NULL</td><td>0.00</td></tr>",
                            "<tr><td>457</td><td>Lock Nut 15</td><td>NULL</td><td>0.00</td></tr>",
                            "<tr><td>458</td><td>Lock Nut 4</td><td>NULL</td><td>0.00</td></tr>",
                            "<tr><td>459</td><td>Lock Nut 19</td><td>NULL</td><td>0.00</td></tr>",
                            "<tr><td>460</td><td>Lock Nut 18</td><td>NULL</td><td>0.00</td></tr>",
                            "<tr><td>462</td><td>Lower Head Race</td><td>NULL</td><td>0.00</td></tr>",
                            "<tr><td>463</td><td>Lock Washer 4</td><td>NULL</td><td>0.00</td></tr>",
                            "<tr><td>464</td><td>Lock Washer 5</td><td>NULL</td><td>0.00</td></tr>",
                            "<tr><td>465</td><td>Lock Washer 10</td><td>NULL</td><td>0.00</td></tr>",
                            "<tr><td>466</td><td>Lock Washer 6</td><td>NULL</td><td>0.00</td></tr>",
                            "<tr><td>467</td><td>Lock Washer 13</td><td>NULL</td><td>0.00</td></tr>",
                            "<tr><td>468</td><td>Lock Washer 8</td><td>NULL</td><td>0.00</td></tr>",
                            "<tr><td>469</td><td>Lock Washer 1</td><td>NULL</td><td>0.00</td></tr>",
                            "<tr><td>470</td><td>Lock Washer 7</td><td>NULL</td><td>0.00</td></tr>",
                            "<tr><td>471</td><td>Lock Washer 12</td><td>NULL</td><td>0.00</td></tr>",
                            "<tr><td>472</td><td>Lock Washer 2</td><td>NULL</td><td>0.00</td></tr>",
                            "<tr><td>473</td><td>Lock Washer 9</td><td>NULL</td><td>0.00</td></tr>",
                            "<tr><td>474</td><td>Lock Washer 3</td><td>NULL</td><td>0.00</td></tr>",
                            "<tr><td>475</td><td>Lock Washer 11</td><td>NULL</td><td>0.00</td></tr>",
                            "<tr><td>476</td><td>Metal Angle</td><td>NULL</td><td>0.00</td></tr>",
                            "<tr><td>477</td><td>Metal Bar 1</td><td>NULL</td><td>0.00</td></tr>",
                            "<tr><td>478</td><td>Metal Bar 2</td><td>NULL</td><td>0.00</td></tr>",
                            "<tr><td>479</td><td>Metal Plate 2</td><td>NULL</td><td>0.00</td></tr>",
                            "<tr><td>480</td><td>Metal Plate 1</td><td>NULL</td><td>0.00</td></tr>",
                            "<tr><td>481</td><td>Metal Plate 3</td><td>NULL</td><td>0.00</td></tr>",
                            "<tr><td>482</td><td>Metal Sheet 2</td><td>NULL</td><td>0.00</td></tr>",
                            "<tr><td>483</td><td>Metal Sheet 3</td><td>NULL</td><td>0.00</td></tr>",
                            "<tr><td>484</td><td>Metal Sheet 7</td><td>NULL</td><td>0.00</td></tr>",
                            "<tr><td>485</td><td>Metal Sheet 4</td><td>NULL</td><td>0.00</td></tr>",
                            "<tr><td>486</td><td>Metal Sheet 5</td><td>NULL</td><td>0.00</td></tr>",
                            "<tr><td>487</td><td>Metal Sheet 6</td><td>NULL</td><td>0.00</td></tr>",
                            "<tr><td>488</td><td>Metal Sheet 1</td><td>NULL</td><td>0.00</td></tr>",
                            "<tr><td>489</td><td>Metal Tread Plate</td><td>NULL</td><td>0.00</td></tr>",
                            "<tr><td>490</td><td>LL Nipple</td><td>NULL</td><td>0.00</td></tr>",
                            "<tr><td>491</td><td>HL Nipple</td><td>NULL</td><td>0.00</td></tr>",
                            "<tr><td>492</td><td>Paint - Black</td><td>NULL</td><td>0.00</td></tr>",
                            "<tr><td>493</td><td>Paint - Red</td><td>NULL</td><td>0.00</td></tr>",
                            "<tr><td>494</td><td>Paint - Silver</td><td>NULL</td><td>0.00</td></tr>",
                            "<tr><td>495</td><td>Paint - Blue</td><td>NULL</td><td>0.00</td></tr>",
                            "<tr><td>496</td><td>Paint - Yellow</td><td>NULL</td><td>0.00</td></tr>",
                            "<tr><td>497</td><td>Pinch Bolt</td><td>NULL</td><td>0.00</td></tr>",
                            "<tr><td>504</td><td>Cup-Shaped Race</td><td>NULL</td><td>0.00</td></tr>",
                            "<tr><td>505</td><td>Cone-Shaped Race</td><td>NULL</td><td>0.00</td></tr>",
                            "<tr><td>506</td><td>Reflector</td><td>NULL</td><td>0.00</td></tr>",
                            "<tr><td>507</td><td>LL Mountain Rim</td><td>NULL</td><td>0.00</td></tr>",
                            "<tr><td>508</td><td>ML Mountain Rim</td><td>NULL</td><td>0.00</td></tr>",
                            "<tr><td>509</td><td>HL Mountain Rim</td><td>NULL</td><td>0.00</td></tr>",
                            "<tr><td>510</td><td>LL Road Rim</td><td>NULL</td><td>0.00</td></tr>",
                            "<tr><td>511</td><td>ML Road Rim</td><td>NULL</td><td>0.00</td></tr>",
                            "<tr><td>512</td><td>HL Road Rim</td><td>NULL</td><td>0.00</td></tr>",
                            "<tr><td>513</td><td>Touring Rim</td><td>NULL</td><td>0.00</td></tr>",
                            "<tr><td>514</td><td>LL Mountain Seat Assembly</td><td>NULL</td><td>133.34</td></tr>",
                            "<tr><td>515</td><td>ML Mountain Seat Assembly</td><td>NULL</td><td>147.14</td></tr>",
                            "<tr><td>516</td><td>HL Mountain Seat Assembly</td><td>NULL</td><td>196.92</td></tr>",
                            "<tr><td>517</td><td>LL Road Seat Assembly</td><td>NULL</td><td>133.34</td></tr>",
                            "<tr><td>518</td><td>ML Road Seat Assembly</td><td>NULL</td><td>147.14</td></tr>",
                            "<tr><td>519</td><td>HL Road Seat Assembly</td><td>NULL</td><td>196.92</td></tr>",
                            "<tr><td>520</td><td>LL Touring Seat Assembly</td><td>NULL</td><td>133.34</td></tr>",
                            "<tr><td>521</td><td>ML Touring Seat Assembly</td><td>NULL</td><td>147.14</td></tr>",
                            "<tr><td>522</td><td>HL Touring Seat Assembly</td><td>NULL</td><td>196.92</td></tr>",
                            "<tr><td>523</td><td>LL Spindle/Axle</td><td>NULL</td><td>0.00</td></tr>",
                            "<tr><td>524</td><td>HL Spindle/Axle</td><td>NULL</td><td>0.00</td></tr>",
                            "<tr><td>525</td><td>LL Shell</td><td>NULL</td><td>0.00</td></tr>",
                            "<tr><td>526</td><td>HL Shell</td><td>NULL</td><td>0.00</td></tr>",
                            "<tr><td>527</td><td>Spokes</td><td>NULL</td><td>0.00</td></tr>",
                            "<tr><td>528</td><td>Seat Lug</td><td>NULL</td><td>0.00</td></tr>",
                            "<tr><td>529</td><td>Stem</td><td>NULL</td><td>0.00</td></tr>",
                            "<tr><td>530</td><td>Seat Post</td><td>NULL</td><td>0.00</td></tr>",
                            "<tr><td>531</td><td>Steerer</td><td>NULL</td><td>0.00</td></tr>",
                            "<tr><td>532</td><td>Seat Stays</td><td>NULL</td><td>0.00</td></tr>",
                            "<tr><td>533</td><td>Seat Tube</td><td>NULL</td><td>0.00</td></tr>",
                            "<tr><td>534</td><td>Top Tube</td><td>NULL</td><td>0.00</td></tr>",
                            "<tr><td>535</td><td>Tension Pulley</td><td>NULL</td><td>0.00</td></tr>",
                            "<tr><td>802</td><td>LL Fork</td><td>NULL</td><td>148.22</td></tr>",
                            "<tr><td>803</td><td>ML Fork</td><td>NULL</td><td>175.49</td></tr>",
                            "<tr><td>804</td><td>HL Fork</td><td>NULL</td><td>229.49</td></tr>",
                            "<tr><td>805</td><td>LL Headset</td><td>NULL</td><td>34.20</td></tr>",
                            "<tr><td>806</td><td>ML Headset</td><td>NULL</td><td>102.29</td></tr>",
                            "<tr><td>807</td><td>HL Headset</td><td>NULL</td><td>124.73</td></tr>",
                            "<tr><td>808</td><td>LL Mountain Handlebars</td><td>NULL</td><td>44.54</td></tr>",
                            "<tr><td>809</td><td>ML Mountain Handlebars</td><td>NULL</td><td>61.92</td></tr>",
                            "<tr><td>810</td><td>HL Mountain Handlebars</td><td>NULL</td><td>120.27</td></tr>",
                            "<tr><td>811</td><td>LL Road Handlebars</td><td>NULL</td><td>44.54</td></tr>",
                            "<tr><td>812</td><td>ML Road Handlebars</td><td>NULL</td><td>61.92</td></tr>",
                            "<tr><td>813</td><td>HL Road Handlebars</td><td>NULL</td><td>120.27</td></tr>",
                            "<tr><td>843</td><td>Cable Lock</td><td>NULL</td><td>25.00</td></tr>",
                            "<tr><td>844</td><td>Minipump</td><td>NULL</td><td>19.99</td></tr>",
                            "<tr><td>845</td><td>Mountain Pump</td><td>NULL</td><td>24.99</td></tr>",
                            "<tr><td>846</td><td>Taillights - Battery-Powered</td><td>NULL</td><td>13.99</td></tr>",
                            "<tr><td>847</td><td>Headlights - Dual-Beam</td><td>NULL</td><td>34.99</td></tr>",
                            "<tr><td>848</td><td>Headlights - Weatherproof</td><td>NULL</td><td>44.99</td></tr>",
                            "<tr><td>870</td><td>Water Bottle - 30 oz.</td><td>NULL</td><td>4.99</td></tr>",
                            "<tr><td>871</td><td>Mountain Bottle Cage</td><td>NULL</td><td>9.99</td></tr>",
                            "<tr><td>872</td><td>Road Bottle Cage</td><td>NULL</td><td>8.99</td></tr>",
                            "<tr><td>873</td><td>Patch Kit/8 Patches</td><td>NULL</td><td>2.29</td></tr>",
                            "<tr><td>876</td><td>Hitch Rack - 4-Bike</td><td>NULL</td><td>120.00</td></tr>",
                            "<tr><td>877</td><td>Bike Wash - Dissolver</td><td>NULL</td><td>7.95</td></tr>",
                            "<tr><td>878</td><td>Fender Set - Mountain</td><td>NULL</td><td>21.98</td></tr>",
                            "<tr><td>879</td><td>All-Purpose Bike Stand</td><td>NULL</td><td>159.00</td></tr>",
                            "<tr><td>908</td><td>LL Mountain Seat/Saddle</td><td>NULL</td><td>27.12</td></tr>",
                            "<tr><td>909</td><td>ML Mountain Seat/Saddle</td><td>NULL</td><td>39.14</td></tr>",
                            "<tr><td>910</td><td>HL Mountain Seat/Saddle</td><td>NULL</td><td>52.64</td></tr>",
                            "<tr><td>911</td><td>LL Road Seat/Saddle</td><td>NULL</td><td>27.12</td></tr>",
                            "<tr><td>912</td><td>ML Road Seat/Saddle</td><td>NULL</td><td>39.14</td></tr>",
                            "<tr><td>913</td><td>HL Road Seat/Saddle</td><td>NULL</td><td>52.64</td></tr>",
                            "<tr><td>914</td><td>LL Touring Seat/Saddle</td><td>NULL</td><td>27.12</td></tr>",
                            "<tr><td>915</td><td>ML Touring Seat/Saddle</td><td>NULL</td><td>39.14</td></tr>",
                            "<tr><td>916</td><td>HL Touring Seat/Saddle</td><td>NULL</td><td>52.64</td></tr>",
                            "<tr><td>921</td><td>Mountain Tire Tube</td><td>NULL</td><td>4.99</td></tr>",
                            "<tr><td>922</td><td>Road Tire Tube</td><td>NULL</td><td>3.99</td></tr>",
                            "<tr><td>923</td><td>Touring Tire Tube</td><td>NULL</td><td>4.99</td></tr>",
                            "<tr><td>928</td><td>LL Mountain Tire</td><td>NULL</td><td>24.99</td></tr>",
                            "<tr><td>929</td><td>ML Mountain Tire</td><td>NULL</td><td>29.99</td></tr>",
                            "<tr><td>930</td><td>HL Mountain Tire</td><td>NULL</td><td>35.00</td></tr>",
                            "<tr><td>931</td><td>LL Road Tire</td><td>NULL</td><td>21.49</td></tr>",
                            "<tr><td>932</td><td>ML Road Tire</td><td>NULL</td><td>24.99</td></tr>",
                            "<tr><td>933</td><td>HL Road Tire</td><td>NULL</td><td>32.60</td></tr>",
                            "<tr><td>934</td><td>Touring Tire</td><td>NULL</td><td>28.99</td></tr>",
                            "<tr><td>946</td><td>LL Touring Handlebars</td><td>NULL</td><td>46.09</td></tr>",
                            "<tr><td>947</td><td>HL Touring Handlebars</td><td>NULL</td><td>91.57</td></tr>",
                            "<tr><td>994</td><td>LL Bottom Bracket</td><td>NULL</td><td>53.99</td></tr>",
                            "<tr><td>995</td><td>ML Bottom Bracket</td><td>NULL</td><td>101.24</td></tr>",
                            "<tr><td>996</td><td>HL Bottom Bracket</td><td>NULL</td><td>121.49</td></tr>",
                            "</table>"
                        ]
                    }
                }
            ],
            "execution_count": 84
        },
        {
            "cell_type": "markdown",
            "source": [
                "4.  Write a query that retrieves the columns ProductID, Name, Color and ListPrice from the Production.Product table, the rows that are not NULL for the Color column.\n"
            ],
            "metadata": {
                "azdata_cell_guid": "53155cfd-f542-4a1d-8992-ff7d71ebbb15",
                "language": ""
            },
            "attachments": {}
        },
        {
            "cell_type": "code",
            "source": [
                "SELECT ProductID, Name, Color, ListPrice\n",
                "FROM Production.Product\n",
                "WHERE Color IS NOT NULL"
            ],
            "metadata": {
                "azdata_cell_guid": "dc3ef2d7-2859-48bb-8fc4-be4194e8cfd8",
                "language": "sql"
            },
            "outputs": [
                {
                    "output_type": "display_data",
                    "data": {
                        "text/html": "(256 rows affected)"
                    },
                    "metadata": {}
                },
                {
                    "output_type": "display_data",
                    "data": {
                        "text/html": "Total execution time: 00:00:00.009"
                    },
                    "metadata": {}
                },
                {
                    "output_type": "execute_result",
                    "metadata": {},
                    "execution_count": 85,
                    "data": {
                        "application/vnd.dataresource+json": {
                            "schema": {
                                "fields": [
                                    {
                                        "name": "ProductID"
                                    },
                                    {
                                        "name": "Name"
                                    },
                                    {
                                        "name": "Color"
                                    },
                                    {
                                        "name": "ListPrice"
                                    }
                                ]
                            },
                            "data": [
                                {
                                    "ProductID": "317",
                                    "Name": "LL Crankarm",
                                    "Color": "Black",
                                    "ListPrice": "0.00"
                                },
                                {
                                    "ProductID": "318",
                                    "Name": "ML Crankarm",
                                    "Color": "Black",
                                    "ListPrice": "0.00"
                                },
                                {
                                    "ProductID": "319",
                                    "Name": "HL Crankarm",
                                    "Color": "Black",
                                    "ListPrice": "0.00"
                                },
                                {
                                    "ProductID": "320",
                                    "Name": "Chainring Bolts",
                                    "Color": "Silver",
                                    "ListPrice": "0.00"
                                },
                                {
                                    "ProductID": "321",
                                    "Name": "Chainring Nut",
                                    "Color": "Silver",
                                    "ListPrice": "0.00"
                                },
                                {
                                    "ProductID": "322",
                                    "Name": "Chainring",
                                    "Color": "Black",
                                    "ListPrice": "0.00"
                                },
                                {
                                    "ProductID": "332",
                                    "Name": "Freewheel",
                                    "Color": "Silver",
                                    "ListPrice": "0.00"
                                },
                                {
                                    "ProductID": "351",
                                    "Name": "Front Derailleur Cage",
                                    "Color": "Silver",
                                    "ListPrice": "0.00"
                                },
                                {
                                    "ProductID": "352",
                                    "Name": "Front Derailleur Linkage",
                                    "Color": "Silver",
                                    "ListPrice": "0.00"
                                },
                                {
                                    "ProductID": "461",
                                    "Name": "Lock Ring",
                                    "Color": "Silver",
                                    "ListPrice": "0.00"
                                },
                                {
                                    "ProductID": "679",
                                    "Name": "Rear Derailleur Cage",
                                    "Color": "Silver",
                                    "ListPrice": "0.00"
                                },
                                {
                                    "ProductID": "680",
                                    "Name": "HL Road Frame - Black, 58",
                                    "Color": "Black",
                                    "ListPrice": "1431.50"
                                },
                                {
                                    "ProductID": "706",
                                    "Name": "HL Road Frame - Red, 58",
                                    "Color": "Red",
                                    "ListPrice": "1431.50"
                                },
                                {
                                    "ProductID": "707",
                                    "Name": "Sport-100 Helmet, Red",
                                    "Color": "Red",
                                    "ListPrice": "34.99"
                                },
                                {
                                    "ProductID": "708",
                                    "Name": "Sport-100 Helmet, Black",
                                    "Color": "Black",
                                    "ListPrice": "34.99"
                                },
                                {
                                    "ProductID": "709",
                                    "Name": "Mountain Bike Socks, M",
                                    "Color": "White",
                                    "ListPrice": "9.50"
                                },
                                {
                                    "ProductID": "710",
                                    "Name": "Mountain Bike Socks, L",
                                    "Color": "White",
                                    "ListPrice": "9.50"
                                },
                                {
                                    "ProductID": "711",
                                    "Name": "Sport-100 Helmet, Blue",
                                    "Color": "Blue",
                                    "ListPrice": "34.99"
                                },
                                {
                                    "ProductID": "712",
                                    "Name": "AWC Logo Cap",
                                    "Color": "Multi",
                                    "ListPrice": "8.99"
                                },
                                {
                                    "ProductID": "713",
                                    "Name": "Long-Sleeve Logo Jersey, S",
                                    "Color": "Multi",
                                    "ListPrice": "49.99"
                                },
                                {
                                    "ProductID": "714",
                                    "Name": "Long-Sleeve Logo Jersey, M",
                                    "Color": "Multi",
                                    "ListPrice": "49.99"
                                },
                                {
                                    "ProductID": "715",
                                    "Name": "Long-Sleeve Logo Jersey, L",
                                    "Color": "Multi",
                                    "ListPrice": "49.99"
                                },
                                {
                                    "ProductID": "716",
                                    "Name": "Long-Sleeve Logo Jersey, XL",
                                    "Color": "Multi",
                                    "ListPrice": "49.99"
                                },
                                {
                                    "ProductID": "717",
                                    "Name": "HL Road Frame - Red, 62",
                                    "Color": "Red",
                                    "ListPrice": "1431.50"
                                },
                                {
                                    "ProductID": "718",
                                    "Name": "HL Road Frame - Red, 44",
                                    "Color": "Red",
                                    "ListPrice": "1431.50"
                                },
                                {
                                    "ProductID": "719",
                                    "Name": "HL Road Frame - Red, 48",
                                    "Color": "Red",
                                    "ListPrice": "1431.50"
                                },
                                {
                                    "ProductID": "720",
                                    "Name": "HL Road Frame - Red, 52",
                                    "Color": "Red",
                                    "ListPrice": "1431.50"
                                },
                                {
                                    "ProductID": "721",
                                    "Name": "HL Road Frame - Red, 56",
                                    "Color": "Red",
                                    "ListPrice": "1431.50"
                                },
                                {
                                    "ProductID": "722",
                                    "Name": "LL Road Frame - Black, 58",
                                    "Color": "Black",
                                    "ListPrice": "337.22"
                                },
                                {
                                    "ProductID": "723",
                                    "Name": "LL Road Frame - Black, 60",
                                    "Color": "Black",
                                    "ListPrice": "337.22"
                                },
                                {
                                    "ProductID": "724",
                                    "Name": "LL Road Frame - Black, 62",
                                    "Color": "Black",
                                    "ListPrice": "337.22"
                                },
                                {
                                    "ProductID": "725",
                                    "Name": "LL Road Frame - Red, 44",
                                    "Color": "Red",
                                    "ListPrice": "337.22"
                                },
                                {
                                    "ProductID": "726",
                                    "Name": "LL Road Frame - Red, 48",
                                    "Color": "Red",
                                    "ListPrice": "337.22"
                                },
                                {
                                    "ProductID": "727",
                                    "Name": "LL Road Frame - Red, 52",
                                    "Color": "Red",
                                    "ListPrice": "337.22"
                                },
                                {
                                    "ProductID": "728",
                                    "Name": "LL Road Frame - Red, 58",
                                    "Color": "Red",
                                    "ListPrice": "337.22"
                                },
                                {
                                    "ProductID": "729",
                                    "Name": "LL Road Frame - Red, 60",
                                    "Color": "Red",
                                    "ListPrice": "337.22"
                                },
                                {
                                    "ProductID": "730",
                                    "Name": "LL Road Frame - Red, 62",
                                    "Color": "Red",
                                    "ListPrice": "337.22"
                                },
                                {
                                    "ProductID": "731",
                                    "Name": "ML Road Frame - Red, 44",
                                    "Color": "Red",
                                    "ListPrice": "594.83"
                                },
                                {
                                    "ProductID": "732",
                                    "Name": "ML Road Frame - Red, 48",
                                    "Color": "Red",
                                    "ListPrice": "594.83"
                                },
                                {
                                    "ProductID": "733",
                                    "Name": "ML Road Frame - Red, 52",
                                    "Color": "Red",
                                    "ListPrice": "594.83"
                                },
                                {
                                    "ProductID": "734",
                                    "Name": "ML Road Frame - Red, 58",
                                    "Color": "Red",
                                    "ListPrice": "594.83"
                                },
                                {
                                    "ProductID": "735",
                                    "Name": "ML Road Frame - Red, 60",
                                    "Color": "Red",
                                    "ListPrice": "594.83"
                                },
                                {
                                    "ProductID": "736",
                                    "Name": "LL Road Frame - Black, 44",
                                    "Color": "Black",
                                    "ListPrice": "337.22"
                                },
                                {
                                    "ProductID": "737",
                                    "Name": "LL Road Frame - Black, 48",
                                    "Color": "Black",
                                    "ListPrice": "337.22"
                                },
                                {
                                    "ProductID": "738",
                                    "Name": "LL Road Frame - Black, 52",
                                    "Color": "Black",
                                    "ListPrice": "337.22"
                                },
                                {
                                    "ProductID": "739",
                                    "Name": "HL Mountain Frame - Silver, 42",
                                    "Color": "Silver",
                                    "ListPrice": "1364.50"
                                },
                                {
                                    "ProductID": "740",
                                    "Name": "HL Mountain Frame - Silver, 44",
                                    "Color": "Silver",
                                    "ListPrice": "1364.50"
                                },
                                {
                                    "ProductID": "741",
                                    "Name": "HL Mountain Frame - Silver, 48",
                                    "Color": "Silver",
                                    "ListPrice": "1364.50"
                                },
                                {
                                    "ProductID": "742",
                                    "Name": "HL Mountain Frame - Silver, 46",
                                    "Color": "Silver",
                                    "ListPrice": "1364.50"
                                },
                                {
                                    "ProductID": "743",
                                    "Name": "HL Mountain Frame - Black, 42",
                                    "Color": "Black",
                                    "ListPrice": "1349.60"
                                },
                                {
                                    "ProductID": "744",
                                    "Name": "HL Mountain Frame - Black, 44",
                                    "Color": "Black",
                                    "ListPrice": "1349.60"
                                },
                                {
                                    "ProductID": "745",
                                    "Name": "HL Mountain Frame - Black, 48",
                                    "Color": "Black",
                                    "ListPrice": "1349.60"
                                },
                                {
                                    "ProductID": "746",
                                    "Name": "HL Mountain Frame - Black, 46",
                                    "Color": "Black",
                                    "ListPrice": "1349.60"
                                },
                                {
                                    "ProductID": "747",
                                    "Name": "HL Mountain Frame - Black, 38",
                                    "Color": "Black",
                                    "ListPrice": "1349.60"
                                },
                                {
                                    "ProductID": "748",
                                    "Name": "HL Mountain Frame - Silver, 38",
                                    "Color": "Silver",
                                    "ListPrice": "1364.50"
                                },
                                {
                                    "ProductID": "749",
                                    "Name": "Road-150 Red, 62",
                                    "Color": "Red",
                                    "ListPrice": "3578.27"
                                },
                                {
                                    "ProductID": "750",
                                    "Name": "Road-150 Red, 44",
                                    "Color": "Red",
                                    "ListPrice": "3578.27"
                                },
                                {
                                    "ProductID": "751",
                                    "Name": "Road-150 Red, 48",
                                    "Color": "Red",
                                    "ListPrice": "3578.27"
                                },
                                {
                                    "ProductID": "752",
                                    "Name": "Road-150 Red, 52",
                                    "Color": "Red",
                                    "ListPrice": "3578.27"
                                },
                                {
                                    "ProductID": "753",
                                    "Name": "Road-150 Red, 56",
                                    "Color": "Red",
                                    "ListPrice": "3578.27"
                                },
                                {
                                    "ProductID": "754",
                                    "Name": "Road-450 Red, 58",
                                    "Color": "Red",
                                    "ListPrice": "1457.99"
                                },
                                {
                                    "ProductID": "755",
                                    "Name": "Road-450 Red, 60",
                                    "Color": "Red",
                                    "ListPrice": "1457.99"
                                },
                                {
                                    "ProductID": "756",
                                    "Name": "Road-450 Red, 44",
                                    "Color": "Red",
                                    "ListPrice": "1457.99"
                                },
                                {
                                    "ProductID": "757",
                                    "Name": "Road-450 Red, 48",
                                    "Color": "Red",
                                    "ListPrice": "1457.99"
                                },
                                {
                                    "ProductID": "758",
                                    "Name": "Road-450 Red, 52",
                                    "Color": "Red",
                                    "ListPrice": "1457.99"
                                },
                                {
                                    "ProductID": "759",
                                    "Name": "Road-650 Red, 58",
                                    "Color": "Red",
                                    "ListPrice": "782.99"
                                },
                                {
                                    "ProductID": "760",
                                    "Name": "Road-650 Red, 60",
                                    "Color": "Red",
                                    "ListPrice": "782.99"
                                },
                                {
                                    "ProductID": "761",
                                    "Name": "Road-650 Red, 62",
                                    "Color": "Red",
                                    "ListPrice": "782.99"
                                },
                                {
                                    "ProductID": "762",
                                    "Name": "Road-650 Red, 44",
                                    "Color": "Red",
                                    "ListPrice": "782.99"
                                },
                                {
                                    "ProductID": "763",
                                    "Name": "Road-650 Red, 48",
                                    "Color": "Red",
                                    "ListPrice": "782.99"
                                },
                                {
                                    "ProductID": "764",
                                    "Name": "Road-650 Red, 52",
                                    "Color": "Red",
                                    "ListPrice": "782.99"
                                },
                                {
                                    "ProductID": "765",
                                    "Name": "Road-650 Black, 58",
                                    "Color": "Black",
                                    "ListPrice": "782.99"
                                },
                                {
                                    "ProductID": "766",
                                    "Name": "Road-650 Black, 60",
                                    "Color": "Black",
                                    "ListPrice": "782.99"
                                },
                                {
                                    "ProductID": "767",
                                    "Name": "Road-650 Black, 62",
                                    "Color": "Black",
                                    "ListPrice": "782.99"
                                },
                                {
                                    "ProductID": "768",
                                    "Name": "Road-650 Black, 44",
                                    "Color": "Black",
                                    "ListPrice": "782.99"
                                },
                                {
                                    "ProductID": "769",
                                    "Name": "Road-650 Black, 48",
                                    "Color": "Black",
                                    "ListPrice": "782.99"
                                },
                                {
                                    "ProductID": "770",
                                    "Name": "Road-650 Black, 52",
                                    "Color": "Black",
                                    "ListPrice": "782.99"
                                },
                                {
                                    "ProductID": "771",
                                    "Name": "Mountain-100 Silver, 38",
                                    "Color": "Silver",
                                    "ListPrice": "3399.99"
                                },
                                {
                                    "ProductID": "772",
                                    "Name": "Mountain-100 Silver, 42",
                                    "Color": "Silver",
                                    "ListPrice": "3399.99"
                                },
                                {
                                    "ProductID": "773",
                                    "Name": "Mountain-100 Silver, 44",
                                    "Color": "Silver",
                                    "ListPrice": "3399.99"
                                },
                                {
                                    "ProductID": "774",
                                    "Name": "Mountain-100 Silver, 48",
                                    "Color": "Silver",
                                    "ListPrice": "3399.99"
                                },
                                {
                                    "ProductID": "775",
                                    "Name": "Mountain-100 Black, 38",
                                    "Color": "Black",
                                    "ListPrice": "3374.99"
                                },
                                {
                                    "ProductID": "776",
                                    "Name": "Mountain-100 Black, 42",
                                    "Color": "Black",
                                    "ListPrice": "3374.99"
                                },
                                {
                                    "ProductID": "777",
                                    "Name": "Mountain-100 Black, 44",
                                    "Color": "Black",
                                    "ListPrice": "3374.99"
                                },
                                {
                                    "ProductID": "778",
                                    "Name": "Mountain-100 Black, 48",
                                    "Color": "Black",
                                    "ListPrice": "3374.99"
                                },
                                {
                                    "ProductID": "779",
                                    "Name": "Mountain-200 Silver, 38",
                                    "Color": "Silver",
                                    "ListPrice": "2319.99"
                                },
                                {
                                    "ProductID": "780",
                                    "Name": "Mountain-200 Silver, 42",
                                    "Color": "Silver",
                                    "ListPrice": "2319.99"
                                },
                                {
                                    "ProductID": "781",
                                    "Name": "Mountain-200 Silver, 46",
                                    "Color": "Silver",
                                    "ListPrice": "2319.99"
                                },
                                {
                                    "ProductID": "782",
                                    "Name": "Mountain-200 Black, 38",
                                    "Color": "Black",
                                    "ListPrice": "2294.99"
                                },
                                {
                                    "ProductID": "783",
                                    "Name": "Mountain-200 Black, 42",
                                    "Color": "Black",
                                    "ListPrice": "2294.99"
                                },
                                {
                                    "ProductID": "784",
                                    "Name": "Mountain-200 Black, 46",
                                    "Color": "Black",
                                    "ListPrice": "2294.99"
                                },
                                {
                                    "ProductID": "785",
                                    "Name": "Mountain-300 Black, 38",
                                    "Color": "Black",
                                    "ListPrice": "1079.99"
                                },
                                {
                                    "ProductID": "786",
                                    "Name": "Mountain-300 Black, 40",
                                    "Color": "Black",
                                    "ListPrice": "1079.99"
                                },
                                {
                                    "ProductID": "787",
                                    "Name": "Mountain-300 Black, 44",
                                    "Color": "Black",
                                    "ListPrice": "1079.99"
                                },
                                {
                                    "ProductID": "788",
                                    "Name": "Mountain-300 Black, 48",
                                    "Color": "Black",
                                    "ListPrice": "1079.99"
                                },
                                {
                                    "ProductID": "789",
                                    "Name": "Road-250 Red, 44",
                                    "Color": "Red",
                                    "ListPrice": "2443.35"
                                },
                                {
                                    "ProductID": "790",
                                    "Name": "Road-250 Red, 48",
                                    "Color": "Red",
                                    "ListPrice": "2443.35"
                                },
                                {
                                    "ProductID": "791",
                                    "Name": "Road-250 Red, 52",
                                    "Color": "Red",
                                    "ListPrice": "2443.35"
                                },
                                {
                                    "ProductID": "792",
                                    "Name": "Road-250 Red, 58",
                                    "Color": "Red",
                                    "ListPrice": "2443.35"
                                },
                                {
                                    "ProductID": "793",
                                    "Name": "Road-250 Black, 44",
                                    "Color": "Black",
                                    "ListPrice": "2443.35"
                                },
                                {
                                    "ProductID": "794",
                                    "Name": "Road-250 Black, 48",
                                    "Color": "Black",
                                    "ListPrice": "2443.35"
                                },
                                {
                                    "ProductID": "795",
                                    "Name": "Road-250 Black, 52",
                                    "Color": "Black",
                                    "ListPrice": "2443.35"
                                },
                                {
                                    "ProductID": "796",
                                    "Name": "Road-250 Black, 58",
                                    "Color": "Black",
                                    "ListPrice": "2443.35"
                                },
                                {
                                    "ProductID": "797",
                                    "Name": "Road-550-W Yellow, 38",
                                    "Color": "Yellow",
                                    "ListPrice": "1120.49"
                                },
                                {
                                    "ProductID": "798",
                                    "Name": "Road-550-W Yellow, 40",
                                    "Color": "Yellow",
                                    "ListPrice": "1120.49"
                                },
                                {
                                    "ProductID": "799",
                                    "Name": "Road-550-W Yellow, 42",
                                    "Color": "Yellow",
                                    "ListPrice": "1120.49"
                                },
                                {
                                    "ProductID": "800",
                                    "Name": "Road-550-W Yellow, 44",
                                    "Color": "Yellow",
                                    "ListPrice": "1120.49"
                                },
                                {
                                    "ProductID": "801",
                                    "Name": "Road-550-W Yellow, 48",
                                    "Color": "Yellow",
                                    "ListPrice": "1120.49"
                                },
                                {
                                    "ProductID": "814",
                                    "Name": "ML Mountain Frame - Black, 38",
                                    "Color": "Black",
                                    "ListPrice": "348.76"
                                },
                                {
                                    "ProductID": "815",
                                    "Name": "LL Mountain Front Wheel",
                                    "Color": "Black",
                                    "ListPrice": "60.745"
                                },
                                {
                                    "ProductID": "816",
                                    "Name": "ML Mountain Front Wheel",
                                    "Color": "Black",
                                    "ListPrice": "209.025"
                                },
                                {
                                    "ProductID": "817",
                                    "Name": "HL Mountain Front Wheel",
                                    "Color": "Black",
                                    "ListPrice": "300.215"
                                },
                                {
                                    "ProductID": "818",
                                    "Name": "LL Road Front Wheel",
                                    "Color": "Black",
                                    "ListPrice": "85.565"
                                },
                                {
                                    "ProductID": "819",
                                    "Name": "ML Road Front Wheel",
                                    "Color": "Black",
                                    "ListPrice": "248.385"
                                },
                                {
                                    "ProductID": "820",
                                    "Name": "HL Road Front Wheel",
                                    "Color": "Black",
                                    "ListPrice": "330.06"
                                },
                                {
                                    "ProductID": "821",
                                    "Name": "Touring Front Wheel",
                                    "Color": "Black",
                                    "ListPrice": "218.01"
                                },
                                {
                                    "ProductID": "822",
                                    "Name": "ML Road Frame-W - Yellow, 38",
                                    "Color": "Yellow",
                                    "ListPrice": "594.83"
                                },
                                {
                                    "ProductID": "823",
                                    "Name": "LL Mountain Rear Wheel",
                                    "Color": "Black",
                                    "ListPrice": "87.745"
                                },
                                {
                                    "ProductID": "824",
                                    "Name": "ML Mountain Rear Wheel",
                                    "Color": "Black",
                                    "ListPrice": "236.025"
                                },
                                {
                                    "ProductID": "825",
                                    "Name": "HL Mountain Rear Wheel",
                                    "Color": "Black",
                                    "ListPrice": "327.215"
                                },
                                {
                                    "ProductID": "826",
                                    "Name": "LL Road Rear Wheel",
                                    "Color": "Black",
                                    "ListPrice": "112.565"
                                },
                                {
                                    "ProductID": "827",
                                    "Name": "ML Road Rear Wheel",
                                    "Color": "Black",
                                    "ListPrice": "275.385"
                                },
                                {
                                    "ProductID": "828",
                                    "Name": "HL Road Rear Wheel",
                                    "Color": "Black",
                                    "ListPrice": "357.06"
                                },
                                {
                                    "ProductID": "829",
                                    "Name": "Touring Rear Wheel",
                                    "Color": "Black",
                                    "ListPrice": "245.01"
                                },
                                {
                                    "ProductID": "830",
                                    "Name": "ML Mountain Frame - Black, 40",
                                    "Color": "Black",
                                    "ListPrice": "348.76"
                                },
                                {
                                    "ProductID": "831",
                                    "Name": "ML Mountain Frame - Black, 44",
                                    "Color": "Black",
                                    "ListPrice": "348.76"
                                },
                                {
                                    "ProductID": "832",
                                    "Name": "ML Mountain Frame - Black, 48",
                                    "Color": "Black",
                                    "ListPrice": "348.76"
                                },
                                {
                                    "ProductID": "833",
                                    "Name": "ML Road Frame-W - Yellow, 40",
                                    "Color": "Yellow",
                                    "ListPrice": "594.83"
                                },
                                {
                                    "ProductID": "834",
                                    "Name": "ML Road Frame-W - Yellow, 42",
                                    "Color": "Yellow",
                                    "ListPrice": "594.83"
                                },
                                {
                                    "ProductID": "835",
                                    "Name": "ML Road Frame-W - Yellow, 44",
                                    "Color": "Yellow",
                                    "ListPrice": "594.83"
                                },
                                {
                                    "ProductID": "836",
                                    "Name": "ML Road Frame-W - Yellow, 48",
                                    "Color": "Yellow",
                                    "ListPrice": "594.83"
                                },
                                {
                                    "ProductID": "837",
                                    "Name": "HL Road Frame - Black, 62",
                                    "Color": "Black",
                                    "ListPrice": "1431.50"
                                },
                                {
                                    "ProductID": "838",
                                    "Name": "HL Road Frame - Black, 44",
                                    "Color": "Black",
                                    "ListPrice": "1431.50"
                                },
                                {
                                    "ProductID": "839",
                                    "Name": "HL Road Frame - Black, 48",
                                    "Color": "Black",
                                    "ListPrice": "1431.50"
                                },
                                {
                                    "ProductID": "840",
                                    "Name": "HL Road Frame - Black, 52",
                                    "Color": "Black",
                                    "ListPrice": "1431.50"
                                },
                                {
                                    "ProductID": "841",
                                    "Name": "Men's Sports Shorts, S",
                                    "Color": "Black",
                                    "ListPrice": "59.99"
                                },
                                {
                                    "ProductID": "842",
                                    "Name": "Touring-Panniers, Large",
                                    "Color": "Grey",
                                    "ListPrice": "125.00"
                                },
                                {
                                    "ProductID": "849",
                                    "Name": "Men's Sports Shorts, M",
                                    "Color": "Black",
                                    "ListPrice": "59.99"
                                },
                                {
                                    "ProductID": "850",
                                    "Name": "Men's Sports Shorts, L",
                                    "Color": "Black",
                                    "ListPrice": "59.99"
                                },
                                {
                                    "ProductID": "851",
                                    "Name": "Men's Sports Shorts, XL",
                                    "Color": "Black",
                                    "ListPrice": "59.99"
                                },
                                {
                                    "ProductID": "852",
                                    "Name": "Women's Tights, S",
                                    "Color": "Black",
                                    "ListPrice": "74.99"
                                },
                                {
                                    "ProductID": "853",
                                    "Name": "Women's Tights, M",
                                    "Color": "Black",
                                    "ListPrice": "74.99"
                                },
                                {
                                    "ProductID": "854",
                                    "Name": "Women's Tights, L",
                                    "Color": "Black",
                                    "ListPrice": "74.99"
                                },
                                {
                                    "ProductID": "855",
                                    "Name": "Men's Bib-Shorts, S",
                                    "Color": "Multi",
                                    "ListPrice": "89.99"
                                },
                                {
                                    "ProductID": "856",
                                    "Name": "Men's Bib-Shorts, M",
                                    "Color": "Multi",
                                    "ListPrice": "89.99"
                                },
                                {
                                    "ProductID": "857",
                                    "Name": "Men's Bib-Shorts, L",
                                    "Color": "Multi",
                                    "ListPrice": "89.99"
                                },
                                {
                                    "ProductID": "858",
                                    "Name": "Half-Finger Gloves, S",
                                    "Color": "Black",
                                    "ListPrice": "24.49"
                                },
                                {
                                    "ProductID": "859",
                                    "Name": "Half-Finger Gloves, M",
                                    "Color": "Black",
                                    "ListPrice": "24.49"
                                },
                                {
                                    "ProductID": "860",
                                    "Name": "Half-Finger Gloves, L",
                                    "Color": "Black",
                                    "ListPrice": "24.49"
                                },
                                {
                                    "ProductID": "861",
                                    "Name": "Full-Finger Gloves, S",
                                    "Color": "Black",
                                    "ListPrice": "37.99"
                                },
                                {
                                    "ProductID": "862",
                                    "Name": "Full-Finger Gloves, M",
                                    "Color": "Black",
                                    "ListPrice": "37.99"
                                },
                                {
                                    "ProductID": "863",
                                    "Name": "Full-Finger Gloves, L",
                                    "Color": "Black",
                                    "ListPrice": "37.99"
                                },
                                {
                                    "ProductID": "864",
                                    "Name": "Classic Vest, S",
                                    "Color": "Blue",
                                    "ListPrice": "63.50"
                                },
                                {
                                    "ProductID": "865",
                                    "Name": "Classic Vest, M",
                                    "Color": "Blue",
                                    "ListPrice": "63.50"
                                },
                                {
                                    "ProductID": "866",
                                    "Name": "Classic Vest, L",
                                    "Color": "Blue",
                                    "ListPrice": "63.50"
                                },
                                {
                                    "ProductID": "867",
                                    "Name": "Women's Mountain Shorts, S",
                                    "Color": "Black",
                                    "ListPrice": "69.99"
                                },
                                {
                                    "ProductID": "868",
                                    "Name": "Women's Mountain Shorts, M",
                                    "Color": "Black",
                                    "ListPrice": "69.99"
                                },
                                {
                                    "ProductID": "869",
                                    "Name": "Women's Mountain Shorts, L",
                                    "Color": "Black",
                                    "ListPrice": "69.99"
                                },
                                {
                                    "ProductID": "874",
                                    "Name": "Racing Socks, M",
                                    "Color": "White",
                                    "ListPrice": "8.99"
                                },
                                {
                                    "ProductID": "875",
                                    "Name": "Racing Socks, L",
                                    "Color": "White",
                                    "ListPrice": "8.99"
                                },
                                {
                                    "ProductID": "880",
                                    "Name": "Hydration Pack - 70 oz.",
                                    "Color": "Silver",
                                    "ListPrice": "54.99"
                                },
                                {
                                    "ProductID": "881",
                                    "Name": "Short-Sleeve Classic Jersey, S",
                                    "Color": "Yellow",
                                    "ListPrice": "53.99"
                                },
                                {
                                    "ProductID": "882",
                                    "Name": "Short-Sleeve Classic Jersey, M",
                                    "Color": "Yellow",
                                    "ListPrice": "53.99"
                                },
                                {
                                    "ProductID": "883",
                                    "Name": "Short-Sleeve Classic Jersey, L",
                                    "Color": "Yellow",
                                    "ListPrice": "53.99"
                                },
                                {
                                    "ProductID": "884",
                                    "Name": "Short-Sleeve Classic Jersey, XL",
                                    "Color": "Yellow",
                                    "ListPrice": "53.99"
                                },
                                {
                                    "ProductID": "885",
                                    "Name": "HL Touring Frame - Yellow, 60",
                                    "Color": "Yellow",
                                    "ListPrice": "1003.91"
                                },
                                {
                                    "ProductID": "886",
                                    "Name": "LL Touring Frame - Yellow, 62",
                                    "Color": "Yellow",
                                    "ListPrice": "333.42"
                                },
                                {
                                    "ProductID": "887",
                                    "Name": "HL Touring Frame - Yellow, 46",
                                    "Color": "Yellow",
                                    "ListPrice": "1003.91"
                                },
                                {
                                    "ProductID": "888",
                                    "Name": "HL Touring Frame - Yellow, 50",
                                    "Color": "Yellow",
                                    "ListPrice": "1003.91"
                                },
                                {
                                    "ProductID": "889",
                                    "Name": "HL Touring Frame - Yellow, 54",
                                    "Color": "Yellow",
                                    "ListPrice": "1003.91"
                                },
                                {
                                    "ProductID": "890",
                                    "Name": "HL Touring Frame - Blue, 46",
                                    "Color": "Blue",
                                    "ListPrice": "1003.91"
                                },
                                {
                                    "ProductID": "891",
                                    "Name": "HL Touring Frame - Blue, 50",
                                    "Color": "Blue",
                                    "ListPrice": "1003.91"
                                },
                                {
                                    "ProductID": "892",
                                    "Name": "HL Touring Frame - Blue, 54",
                                    "Color": "Blue",
                                    "ListPrice": "1003.91"
                                },
                                {
                                    "ProductID": "893",
                                    "Name": "HL Touring Frame - Blue, 60",
                                    "Color": "Blue",
                                    "ListPrice": "1003.91"
                                },
                                {
                                    "ProductID": "894",
                                    "Name": "Rear Derailleur",
                                    "Color": "Silver",
                                    "ListPrice": "121.46"
                                },
                                {
                                    "ProductID": "895",
                                    "Name": "LL Touring Frame - Blue, 50",
                                    "Color": "Blue",
                                    "ListPrice": "333.42"
                                },
                                {
                                    "ProductID": "896",
                                    "Name": "LL Touring Frame - Blue, 54",
                                    "Color": "Blue",
                                    "ListPrice": "333.42"
                                },
                                {
                                    "ProductID": "897",
                                    "Name": "LL Touring Frame - Blue, 58",
                                    "Color": "Blue",
                                    "ListPrice": "333.42"
                                },
                                {
                                    "ProductID": "898",
                                    "Name": "LL Touring Frame - Blue, 62",
                                    "Color": "Blue",
                                    "ListPrice": "333.42"
                                },
                                {
                                    "ProductID": "899",
                                    "Name": "LL Touring Frame - Yellow, 44",
                                    "Color": "Yellow",
                                    "ListPrice": "333.42"
                                },
                                {
                                    "ProductID": "900",
                                    "Name": "LL Touring Frame - Yellow, 50",
                                    "Color": "Yellow",
                                    "ListPrice": "333.42"
                                },
                                {
                                    "ProductID": "901",
                                    "Name": "LL Touring Frame - Yellow, 54",
                                    "Color": "Yellow",
                                    "ListPrice": "333.42"
                                },
                                {
                                    "ProductID": "902",
                                    "Name": "LL Touring Frame - Yellow, 58",
                                    "Color": "Yellow",
                                    "ListPrice": "333.42"
                                },
                                {
                                    "ProductID": "903",
                                    "Name": "LL Touring Frame - Blue, 44",
                                    "Color": "Blue",
                                    "ListPrice": "333.42"
                                },
                                {
                                    "ProductID": "904",
                                    "Name": "ML Mountain Frame-W - Silver, 40",
                                    "Color": "Silver",
                                    "ListPrice": "364.09"
                                },
                                {
                                    "ProductID": "905",
                                    "Name": "ML Mountain Frame-W - Silver, 42",
                                    "Color": "Silver",
                                    "ListPrice": "364.09"
                                },
                                {
                                    "ProductID": "906",
                                    "Name": "ML Mountain Frame-W - Silver, 46",
                                    "Color": "Silver",
                                    "ListPrice": "364.09"
                                },
                                {
                                    "ProductID": "907",
                                    "Name": "Rear Brakes",
                                    "Color": "Silver",
                                    "ListPrice": "106.50"
                                },
                                {
                                    "ProductID": "917",
                                    "Name": "LL Mountain Frame - Silver, 42",
                                    "Color": "Silver",
                                    "ListPrice": "264.05"
                                },
                                {
                                    "ProductID": "918",
                                    "Name": "LL Mountain Frame - Silver, 44",
                                    "Color": "Silver",
                                    "ListPrice": "264.05"
                                },
                                {
                                    "ProductID": "919",
                                    "Name": "LL Mountain Frame - Silver, 48",
                                    "Color": "Silver",
                                    "ListPrice": "264.05"
                                },
                                {
                                    "ProductID": "920",
                                    "Name": "LL Mountain Frame - Silver, 52",
                                    "Color": "Silver",
                                    "ListPrice": "264.05"
                                },
                                {
                                    "ProductID": "924",
                                    "Name": "LL Mountain Frame - Black, 42",
                                    "Color": "Black",
                                    "ListPrice": "249.79"
                                },
                                {
                                    "ProductID": "925",
                                    "Name": "LL Mountain Frame - Black, 44",
                                    "Color": "Black",
                                    "ListPrice": "249.79"
                                },
                                {
                                    "ProductID": "926",
                                    "Name": "LL Mountain Frame - Black, 48",
                                    "Color": "Black",
                                    "ListPrice": "249.79"
                                },
                                {
                                    "ProductID": "927",
                                    "Name": "LL Mountain Frame - Black, 52",
                                    "Color": "Black",
                                    "ListPrice": "249.79"
                                },
                                {
                                    "ProductID": "935",
                                    "Name": "LL Mountain Pedal",
                                    "Color": "Silver/Black",
                                    "ListPrice": "40.49"
                                },
                                {
                                    "ProductID": "936",
                                    "Name": "ML Mountain Pedal",
                                    "Color": "Silver/Black",
                                    "ListPrice": "62.09"
                                },
                                {
                                    "ProductID": "937",
                                    "Name": "HL Mountain Pedal",
                                    "Color": "Silver/Black",
                                    "ListPrice": "80.99"
                                },
                                {
                                    "ProductID": "938",
                                    "Name": "LL Road Pedal",
                                    "Color": "Silver/Black",
                                    "ListPrice": "40.49"
                                },
                                {
                                    "ProductID": "939",
                                    "Name": "ML Road Pedal",
                                    "Color": "Silver/Black",
                                    "ListPrice": "62.09"
                                },
                                {
                                    "ProductID": "940",
                                    "Name": "HL Road Pedal",
                                    "Color": "Silver/Black",
                                    "ListPrice": "80.99"
                                },
                                {
                                    "ProductID": "941",
                                    "Name": "Touring Pedal",
                                    "Color": "Silver/Black",
                                    "ListPrice": "80.99"
                                },
                                {
                                    "ProductID": "942",
                                    "Name": "ML Mountain Frame-W - Silver, 38",
                                    "Color": "Silver",
                                    "ListPrice": "364.09"
                                },
                                {
                                    "ProductID": "943",
                                    "Name": "LL Mountain Frame - Black, 40",
                                    "Color": "Black",
                                    "ListPrice": "249.79"
                                },
                                {
                                    "ProductID": "944",
                                    "Name": "LL Mountain Frame - Silver, 40",
                                    "Color": "Silver",
                                    "ListPrice": "264.05"
                                },
                                {
                                    "ProductID": "945",
                                    "Name": "Front Derailleur",
                                    "Color": "Silver",
                                    "ListPrice": "91.49"
                                },
                                {
                                    "ProductID": "948",
                                    "Name": "Front Brakes",
                                    "Color": "Silver",
                                    "ListPrice": "106.50"
                                },
                                {
                                    "ProductID": "949",
                                    "Name": "LL Crankset",
                                    "Color": "Black",
                                    "ListPrice": "175.49"
                                },
                                {
                                    "ProductID": "950",
                                    "Name": "ML Crankset",
                                    "Color": "Black",
                                    "ListPrice": "256.49"
                                },
                                {
                                    "ProductID": "951",
                                    "Name": "HL Crankset",
                                    "Color": "Black",
                                    "ListPrice": "404.99"
                                },
                                {
                                    "ProductID": "952",
                                    "Name": "Chain",
                                    "Color": "Silver",
                                    "ListPrice": "20.24"
                                },
                                {
                                    "ProductID": "953",
                                    "Name": "Touring-2000 Blue, 60",
                                    "Color": "Blue",
                                    "ListPrice": "1214.85"
                                },
                                {
                                    "ProductID": "954",
                                    "Name": "Touring-1000 Yellow, 46",
                                    "Color": "Yellow",
                                    "ListPrice": "2384.07"
                                },
                                {
                                    "ProductID": "955",
                                    "Name": "Touring-1000 Yellow, 50",
                                    "Color": "Yellow",
                                    "ListPrice": "2384.07"
                                },
                                {
                                    "ProductID": "956",
                                    "Name": "Touring-1000 Yellow, 54",
                                    "Color": "Yellow",
                                    "ListPrice": "2384.07"
                                },
                                {
                                    "ProductID": "957",
                                    "Name": "Touring-1000 Yellow, 60",
                                    "Color": "Yellow",
                                    "ListPrice": "2384.07"
                                },
                                {
                                    "ProductID": "958",
                                    "Name": "Touring-3000 Blue, 54",
                                    "Color": "Blue",
                                    "ListPrice": "742.35"
                                },
                                {
                                    "ProductID": "959",
                                    "Name": "Touring-3000 Blue, 58",
                                    "Color": "Blue",
                                    "ListPrice": "742.35"
                                },
                                {
                                    "ProductID": "960",
                                    "Name": "Touring-3000 Blue, 62",
                                    "Color": "Blue",
                                    "ListPrice": "742.35"
                                },
                                {
                                    "ProductID": "961",
                                    "Name": "Touring-3000 Yellow, 44",
                                    "Color": "Yellow",
                                    "ListPrice": "742.35"
                                },
                                {
                                    "ProductID": "962",
                                    "Name": "Touring-3000 Yellow, 50",
                                    "Color": "Yellow",
                                    "ListPrice": "742.35"
                                },
                                {
                                    "ProductID": "963",
                                    "Name": "Touring-3000 Yellow, 54",
                                    "Color": "Yellow",
                                    "ListPrice": "742.35"
                                },
                                {
                                    "ProductID": "964",
                                    "Name": "Touring-3000 Yellow, 58",
                                    "Color": "Yellow",
                                    "ListPrice": "742.35"
                                },
                                {
                                    "ProductID": "965",
                                    "Name": "Touring-3000 Yellow, 62",
                                    "Color": "Yellow",
                                    "ListPrice": "742.35"
                                },
                                {
                                    "ProductID": "966",
                                    "Name": "Touring-1000 Blue, 46",
                                    "Color": "Blue",
                                    "ListPrice": "2384.07"
                                },
                                {
                                    "ProductID": "967",
                                    "Name": "Touring-1000 Blue, 50",
                                    "Color": "Blue",
                                    "ListPrice": "2384.07"
                                },
                                {
                                    "ProductID": "968",
                                    "Name": "Touring-1000 Blue, 54",
                                    "Color": "Blue",
                                    "ListPrice": "2384.07"
                                },
                                {
                                    "ProductID": "969",
                                    "Name": "Touring-1000 Blue, 60",
                                    "Color": "Blue",
                                    "ListPrice": "2384.07"
                                },
                                {
                                    "ProductID": "970",
                                    "Name": "Touring-2000 Blue, 46",
                                    "Color": "Blue",
                                    "ListPrice": "1214.85"
                                },
                                {
                                    "ProductID": "971",
                                    "Name": "Touring-2000 Blue, 50",
                                    "Color": "Blue",
                                    "ListPrice": "1214.85"
                                },
                                {
                                    "ProductID": "972",
                                    "Name": "Touring-2000 Blue, 54",
                                    "Color": "Blue",
                                    "ListPrice": "1214.85"
                                },
                                {
                                    "ProductID": "973",
                                    "Name": "Road-350-W Yellow, 40",
                                    "Color": "Yellow",
                                    "ListPrice": "1700.99"
                                },
                                {
                                    "ProductID": "974",
                                    "Name": "Road-350-W Yellow, 42",
                                    "Color": "Yellow",
                                    "ListPrice": "1700.99"
                                },
                                {
                                    "ProductID": "975",
                                    "Name": "Road-350-W Yellow, 44",
                                    "Color": "Yellow",
                                    "ListPrice": "1700.99"
                                },
                                {
                                    "ProductID": "976",
                                    "Name": "Road-350-W Yellow, 48",
                                    "Color": "Yellow",
                                    "ListPrice": "1700.99"
                                },
                                {
                                    "ProductID": "977",
                                    "Name": "Road-750 Black, 58",
                                    "Color": "Black",
                                    "ListPrice": "539.99"
                                },
                                {
                                    "ProductID": "978",
                                    "Name": "Touring-3000 Blue, 44",
                                    "Color": "Blue",
                                    "ListPrice": "742.35"
                                },
                                {
                                    "ProductID": "979",
                                    "Name": "Touring-3000 Blue, 50",
                                    "Color": "Blue",
                                    "ListPrice": "742.35"
                                },
                                {
                                    "ProductID": "980",
                                    "Name": "Mountain-400-W Silver, 38",
                                    "Color": "Silver",
                                    "ListPrice": "769.49"
                                },
                                {
                                    "ProductID": "981",
                                    "Name": "Mountain-400-W Silver, 40",
                                    "Color": "Silver",
                                    "ListPrice": "769.49"
                                },
                                {
                                    "ProductID": "982",
                                    "Name": "Mountain-400-W Silver, 42",
                                    "Color": "Silver",
                                    "ListPrice": "769.49"
                                },
                                {
                                    "ProductID": "983",
                                    "Name": "Mountain-400-W Silver, 46",
                                    "Color": "Silver",
                                    "ListPrice": "769.49"
                                },
                                {
                                    "ProductID": "984",
                                    "Name": "Mountain-500 Silver, 40",
                                    "Color": "Silver",
                                    "ListPrice": "564.99"
                                },
                                {
                                    "ProductID": "985",
                                    "Name": "Mountain-500 Silver, 42",
                                    "Color": "Silver",
                                    "ListPrice": "564.99"
                                },
                                {
                                    "ProductID": "986",
                                    "Name": "Mountain-500 Silver, 44",
                                    "Color": "Silver",
                                    "ListPrice": "564.99"
                                },
                                {
                                    "ProductID": "987",
                                    "Name": "Mountain-500 Silver, 48",
                                    "Color": "Silver",
                                    "ListPrice": "564.99"
                                },
                                {
                                    "ProductID": "988",
                                    "Name": "Mountain-500 Silver, 52",
                                    "Color": "Silver",
                                    "ListPrice": "564.99"
                                },
                                {
                                    "ProductID": "989",
                                    "Name": "Mountain-500 Black, 40",
                                    "Color": "Black",
                                    "ListPrice": "539.99"
                                },
                                {
                                    "ProductID": "990",
                                    "Name": "Mountain-500 Black, 42",
                                    "Color": "Black",
                                    "ListPrice": "539.99"
                                },
                                {
                                    "ProductID": "991",
                                    "Name": "Mountain-500 Black, 44",
                                    "Color": "Black",
                                    "ListPrice": "539.99"
                                },
                                {
                                    "ProductID": "992",
                                    "Name": "Mountain-500 Black, 48",
                                    "Color": "Black",
                                    "ListPrice": "539.99"
                                },
                                {
                                    "ProductID": "993",
                                    "Name": "Mountain-500 Black, 52",
                                    "Color": "Black",
                                    "ListPrice": "539.99"
                                },
                                {
                                    "ProductID": "997",
                                    "Name": "Road-750 Black, 44",
                                    "Color": "Black",
                                    "ListPrice": "539.99"
                                },
                                {
                                    "ProductID": "998",
                                    "Name": "Road-750 Black, 48",
                                    "Color": "Black",
                                    "ListPrice": "539.99"
                                },
                                {
                                    "ProductID": "999",
                                    "Name": "Road-750 Black, 52",
                                    "Color": "Black",
                                    "ListPrice": "539.99"
                                }
                            ]
                        },
                        "text/html": [
                            "<table>",
                            "<tr><th>ProductID</th><th>Name</th><th>Color</th><th>ListPrice</th></tr>",
                            "<tr><td>317</td><td>LL Crankarm</td><td>Black</td><td>0.00</td></tr>",
                            "<tr><td>318</td><td>ML Crankarm</td><td>Black</td><td>0.00</td></tr>",
                            "<tr><td>319</td><td>HL Crankarm</td><td>Black</td><td>0.00</td></tr>",
                            "<tr><td>320</td><td>Chainring Bolts</td><td>Silver</td><td>0.00</td></tr>",
                            "<tr><td>321</td><td>Chainring Nut</td><td>Silver</td><td>0.00</td></tr>",
                            "<tr><td>322</td><td>Chainring</td><td>Black</td><td>0.00</td></tr>",
                            "<tr><td>332</td><td>Freewheel</td><td>Silver</td><td>0.00</td></tr>",
                            "<tr><td>351</td><td>Front Derailleur Cage</td><td>Silver</td><td>0.00</td></tr>",
                            "<tr><td>352</td><td>Front Derailleur Linkage</td><td>Silver</td><td>0.00</td></tr>",
                            "<tr><td>461</td><td>Lock Ring</td><td>Silver</td><td>0.00</td></tr>",
                            "<tr><td>679</td><td>Rear Derailleur Cage</td><td>Silver</td><td>0.00</td></tr>",
                            "<tr><td>680</td><td>HL Road Frame - Black, 58</td><td>Black</td><td>1431.50</td></tr>",
                            "<tr><td>706</td><td>HL Road Frame - Red, 58</td><td>Red</td><td>1431.50</td></tr>",
                            "<tr><td>707</td><td>Sport-100 Helmet, Red</td><td>Red</td><td>34.99</td></tr>",
                            "<tr><td>708</td><td>Sport-100 Helmet, Black</td><td>Black</td><td>34.99</td></tr>",
                            "<tr><td>709</td><td>Mountain Bike Socks, M</td><td>White</td><td>9.50</td></tr>",
                            "<tr><td>710</td><td>Mountain Bike Socks, L</td><td>White</td><td>9.50</td></tr>",
                            "<tr><td>711</td><td>Sport-100 Helmet, Blue</td><td>Blue</td><td>34.99</td></tr>",
                            "<tr><td>712</td><td>AWC Logo Cap</td><td>Multi</td><td>8.99</td></tr>",
                            "<tr><td>713</td><td>Long-Sleeve Logo Jersey, S</td><td>Multi</td><td>49.99</td></tr>",
                            "<tr><td>714</td><td>Long-Sleeve Logo Jersey, M</td><td>Multi</td><td>49.99</td></tr>",
                            "<tr><td>715</td><td>Long-Sleeve Logo Jersey, L</td><td>Multi</td><td>49.99</td></tr>",
                            "<tr><td>716</td><td>Long-Sleeve Logo Jersey, XL</td><td>Multi</td><td>49.99</td></tr>",
                            "<tr><td>717</td><td>HL Road Frame - Red, 62</td><td>Red</td><td>1431.50</td></tr>",
                            "<tr><td>718</td><td>HL Road Frame - Red, 44</td><td>Red</td><td>1431.50</td></tr>",
                            "<tr><td>719</td><td>HL Road Frame - Red, 48</td><td>Red</td><td>1431.50</td></tr>",
                            "<tr><td>720</td><td>HL Road Frame - Red, 52</td><td>Red</td><td>1431.50</td></tr>",
                            "<tr><td>721</td><td>HL Road Frame - Red, 56</td><td>Red</td><td>1431.50</td></tr>",
                            "<tr><td>722</td><td>LL Road Frame - Black, 58</td><td>Black</td><td>337.22</td></tr>",
                            "<tr><td>723</td><td>LL Road Frame - Black, 60</td><td>Black</td><td>337.22</td></tr>",
                            "<tr><td>724</td><td>LL Road Frame - Black, 62</td><td>Black</td><td>337.22</td></tr>",
                            "<tr><td>725</td><td>LL Road Frame - Red, 44</td><td>Red</td><td>337.22</td></tr>",
                            "<tr><td>726</td><td>LL Road Frame - Red, 48</td><td>Red</td><td>337.22</td></tr>",
                            "<tr><td>727</td><td>LL Road Frame - Red, 52</td><td>Red</td><td>337.22</td></tr>",
                            "<tr><td>728</td><td>LL Road Frame - Red, 58</td><td>Red</td><td>337.22</td></tr>",
                            "<tr><td>729</td><td>LL Road Frame - Red, 60</td><td>Red</td><td>337.22</td></tr>",
                            "<tr><td>730</td><td>LL Road Frame - Red, 62</td><td>Red</td><td>337.22</td></tr>",
                            "<tr><td>731</td><td>ML Road Frame - Red, 44</td><td>Red</td><td>594.83</td></tr>",
                            "<tr><td>732</td><td>ML Road Frame - Red, 48</td><td>Red</td><td>594.83</td></tr>",
                            "<tr><td>733</td><td>ML Road Frame - Red, 52</td><td>Red</td><td>594.83</td></tr>",
                            "<tr><td>734</td><td>ML Road Frame - Red, 58</td><td>Red</td><td>594.83</td></tr>",
                            "<tr><td>735</td><td>ML Road Frame - Red, 60</td><td>Red</td><td>594.83</td></tr>",
                            "<tr><td>736</td><td>LL Road Frame - Black, 44</td><td>Black</td><td>337.22</td></tr>",
                            "<tr><td>737</td><td>LL Road Frame - Black, 48</td><td>Black</td><td>337.22</td></tr>",
                            "<tr><td>738</td><td>LL Road Frame - Black, 52</td><td>Black</td><td>337.22</td></tr>",
                            "<tr><td>739</td><td>HL Mountain Frame - Silver, 42</td><td>Silver</td><td>1364.50</td></tr>",
                            "<tr><td>740</td><td>HL Mountain Frame - Silver, 44</td><td>Silver</td><td>1364.50</td></tr>",
                            "<tr><td>741</td><td>HL Mountain Frame - Silver, 48</td><td>Silver</td><td>1364.50</td></tr>",
                            "<tr><td>742</td><td>HL Mountain Frame - Silver, 46</td><td>Silver</td><td>1364.50</td></tr>",
                            "<tr><td>743</td><td>HL Mountain Frame - Black, 42</td><td>Black</td><td>1349.60</td></tr>",
                            "<tr><td>744</td><td>HL Mountain Frame - Black, 44</td><td>Black</td><td>1349.60</td></tr>",
                            "<tr><td>745</td><td>HL Mountain Frame - Black, 48</td><td>Black</td><td>1349.60</td></tr>",
                            "<tr><td>746</td><td>HL Mountain Frame - Black, 46</td><td>Black</td><td>1349.60</td></tr>",
                            "<tr><td>747</td><td>HL Mountain Frame - Black, 38</td><td>Black</td><td>1349.60</td></tr>",
                            "<tr><td>748</td><td>HL Mountain Frame - Silver, 38</td><td>Silver</td><td>1364.50</td></tr>",
                            "<tr><td>749</td><td>Road-150 Red, 62</td><td>Red</td><td>3578.27</td></tr>",
                            "<tr><td>750</td><td>Road-150 Red, 44</td><td>Red</td><td>3578.27</td></tr>",
                            "<tr><td>751</td><td>Road-150 Red, 48</td><td>Red</td><td>3578.27</td></tr>",
                            "<tr><td>752</td><td>Road-150 Red, 52</td><td>Red</td><td>3578.27</td></tr>",
                            "<tr><td>753</td><td>Road-150 Red, 56</td><td>Red</td><td>3578.27</td></tr>",
                            "<tr><td>754</td><td>Road-450 Red, 58</td><td>Red</td><td>1457.99</td></tr>",
                            "<tr><td>755</td><td>Road-450 Red, 60</td><td>Red</td><td>1457.99</td></tr>",
                            "<tr><td>756</td><td>Road-450 Red, 44</td><td>Red</td><td>1457.99</td></tr>",
                            "<tr><td>757</td><td>Road-450 Red, 48</td><td>Red</td><td>1457.99</td></tr>",
                            "<tr><td>758</td><td>Road-450 Red, 52</td><td>Red</td><td>1457.99</td></tr>",
                            "<tr><td>759</td><td>Road-650 Red, 58</td><td>Red</td><td>782.99</td></tr>",
                            "<tr><td>760</td><td>Road-650 Red, 60</td><td>Red</td><td>782.99</td></tr>",
                            "<tr><td>761</td><td>Road-650 Red, 62</td><td>Red</td><td>782.99</td></tr>",
                            "<tr><td>762</td><td>Road-650 Red, 44</td><td>Red</td><td>782.99</td></tr>",
                            "<tr><td>763</td><td>Road-650 Red, 48</td><td>Red</td><td>782.99</td></tr>",
                            "<tr><td>764</td><td>Road-650 Red, 52</td><td>Red</td><td>782.99</td></tr>",
                            "<tr><td>765</td><td>Road-650 Black, 58</td><td>Black</td><td>782.99</td></tr>",
                            "<tr><td>766</td><td>Road-650 Black, 60</td><td>Black</td><td>782.99</td></tr>",
                            "<tr><td>767</td><td>Road-650 Black, 62</td><td>Black</td><td>782.99</td></tr>",
                            "<tr><td>768</td><td>Road-650 Black, 44</td><td>Black</td><td>782.99</td></tr>",
                            "<tr><td>769</td><td>Road-650 Black, 48</td><td>Black</td><td>782.99</td></tr>",
                            "<tr><td>770</td><td>Road-650 Black, 52</td><td>Black</td><td>782.99</td></tr>",
                            "<tr><td>771</td><td>Mountain-100 Silver, 38</td><td>Silver</td><td>3399.99</td></tr>",
                            "<tr><td>772</td><td>Mountain-100 Silver, 42</td><td>Silver</td><td>3399.99</td></tr>",
                            "<tr><td>773</td><td>Mountain-100 Silver, 44</td><td>Silver</td><td>3399.99</td></tr>",
                            "<tr><td>774</td><td>Mountain-100 Silver, 48</td><td>Silver</td><td>3399.99</td></tr>",
                            "<tr><td>775</td><td>Mountain-100 Black, 38</td><td>Black</td><td>3374.99</td></tr>",
                            "<tr><td>776</td><td>Mountain-100 Black, 42</td><td>Black</td><td>3374.99</td></tr>",
                            "<tr><td>777</td><td>Mountain-100 Black, 44</td><td>Black</td><td>3374.99</td></tr>",
                            "<tr><td>778</td><td>Mountain-100 Black, 48</td><td>Black</td><td>3374.99</td></tr>",
                            "<tr><td>779</td><td>Mountain-200 Silver, 38</td><td>Silver</td><td>2319.99</td></tr>",
                            "<tr><td>780</td><td>Mountain-200 Silver, 42</td><td>Silver</td><td>2319.99</td></tr>",
                            "<tr><td>781</td><td>Mountain-200 Silver, 46</td><td>Silver</td><td>2319.99</td></tr>",
                            "<tr><td>782</td><td>Mountain-200 Black, 38</td><td>Black</td><td>2294.99</td></tr>",
                            "<tr><td>783</td><td>Mountain-200 Black, 42</td><td>Black</td><td>2294.99</td></tr>",
                            "<tr><td>784</td><td>Mountain-200 Black, 46</td><td>Black</td><td>2294.99</td></tr>",
                            "<tr><td>785</td><td>Mountain-300 Black, 38</td><td>Black</td><td>1079.99</td></tr>",
                            "<tr><td>786</td><td>Mountain-300 Black, 40</td><td>Black</td><td>1079.99</td></tr>",
                            "<tr><td>787</td><td>Mountain-300 Black, 44</td><td>Black</td><td>1079.99</td></tr>",
                            "<tr><td>788</td><td>Mountain-300 Black, 48</td><td>Black</td><td>1079.99</td></tr>",
                            "<tr><td>789</td><td>Road-250 Red, 44</td><td>Red</td><td>2443.35</td></tr>",
                            "<tr><td>790</td><td>Road-250 Red, 48</td><td>Red</td><td>2443.35</td></tr>",
                            "<tr><td>791</td><td>Road-250 Red, 52</td><td>Red</td><td>2443.35</td></tr>",
                            "<tr><td>792</td><td>Road-250 Red, 58</td><td>Red</td><td>2443.35</td></tr>",
                            "<tr><td>793</td><td>Road-250 Black, 44</td><td>Black</td><td>2443.35</td></tr>",
                            "<tr><td>794</td><td>Road-250 Black, 48</td><td>Black</td><td>2443.35</td></tr>",
                            "<tr><td>795</td><td>Road-250 Black, 52</td><td>Black</td><td>2443.35</td></tr>",
                            "<tr><td>796</td><td>Road-250 Black, 58</td><td>Black</td><td>2443.35</td></tr>",
                            "<tr><td>797</td><td>Road-550-W Yellow, 38</td><td>Yellow</td><td>1120.49</td></tr>",
                            "<tr><td>798</td><td>Road-550-W Yellow, 40</td><td>Yellow</td><td>1120.49</td></tr>",
                            "<tr><td>799</td><td>Road-550-W Yellow, 42</td><td>Yellow</td><td>1120.49</td></tr>",
                            "<tr><td>800</td><td>Road-550-W Yellow, 44</td><td>Yellow</td><td>1120.49</td></tr>",
                            "<tr><td>801</td><td>Road-550-W Yellow, 48</td><td>Yellow</td><td>1120.49</td></tr>",
                            "<tr><td>814</td><td>ML Mountain Frame - Black, 38</td><td>Black</td><td>348.76</td></tr>",
                            "<tr><td>815</td><td>LL Mountain Front Wheel</td><td>Black</td><td>60.745</td></tr>",
                            "<tr><td>816</td><td>ML Mountain Front Wheel</td><td>Black</td><td>209.025</td></tr>",
                            "<tr><td>817</td><td>HL Mountain Front Wheel</td><td>Black</td><td>300.215</td></tr>",
                            "<tr><td>818</td><td>LL Road Front Wheel</td><td>Black</td><td>85.565</td></tr>",
                            "<tr><td>819</td><td>ML Road Front Wheel</td><td>Black</td><td>248.385</td></tr>",
                            "<tr><td>820</td><td>HL Road Front Wheel</td><td>Black</td><td>330.06</td></tr>",
                            "<tr><td>821</td><td>Touring Front Wheel</td><td>Black</td><td>218.01</td></tr>",
                            "<tr><td>822</td><td>ML Road Frame-W - Yellow, 38</td><td>Yellow</td><td>594.83</td></tr>",
                            "<tr><td>823</td><td>LL Mountain Rear Wheel</td><td>Black</td><td>87.745</td></tr>",
                            "<tr><td>824</td><td>ML Mountain Rear Wheel</td><td>Black</td><td>236.025</td></tr>",
                            "<tr><td>825</td><td>HL Mountain Rear Wheel</td><td>Black</td><td>327.215</td></tr>",
                            "<tr><td>826</td><td>LL Road Rear Wheel</td><td>Black</td><td>112.565</td></tr>",
                            "<tr><td>827</td><td>ML Road Rear Wheel</td><td>Black</td><td>275.385</td></tr>",
                            "<tr><td>828</td><td>HL Road Rear Wheel</td><td>Black</td><td>357.06</td></tr>",
                            "<tr><td>829</td><td>Touring Rear Wheel</td><td>Black</td><td>245.01</td></tr>",
                            "<tr><td>830</td><td>ML Mountain Frame - Black, 40</td><td>Black</td><td>348.76</td></tr>",
                            "<tr><td>831</td><td>ML Mountain Frame - Black, 44</td><td>Black</td><td>348.76</td></tr>",
                            "<tr><td>832</td><td>ML Mountain Frame - Black, 48</td><td>Black</td><td>348.76</td></tr>",
                            "<tr><td>833</td><td>ML Road Frame-W - Yellow, 40</td><td>Yellow</td><td>594.83</td></tr>",
                            "<tr><td>834</td><td>ML Road Frame-W - Yellow, 42</td><td>Yellow</td><td>594.83</td></tr>",
                            "<tr><td>835</td><td>ML Road Frame-W - Yellow, 44</td><td>Yellow</td><td>594.83</td></tr>",
                            "<tr><td>836</td><td>ML Road Frame-W - Yellow, 48</td><td>Yellow</td><td>594.83</td></tr>",
                            "<tr><td>837</td><td>HL Road Frame - Black, 62</td><td>Black</td><td>1431.50</td></tr>",
                            "<tr><td>838</td><td>HL Road Frame - Black, 44</td><td>Black</td><td>1431.50</td></tr>",
                            "<tr><td>839</td><td>HL Road Frame - Black, 48</td><td>Black</td><td>1431.50</td></tr>",
                            "<tr><td>840</td><td>HL Road Frame - Black, 52</td><td>Black</td><td>1431.50</td></tr>",
                            "<tr><td>841</td><td>Men&#39;s Sports Shorts, S</td><td>Black</td><td>59.99</td></tr>",
                            "<tr><td>842</td><td>Touring-Panniers, Large</td><td>Grey</td><td>125.00</td></tr>",
                            "<tr><td>849</td><td>Men&#39;s Sports Shorts, M</td><td>Black</td><td>59.99</td></tr>",
                            "<tr><td>850</td><td>Men&#39;s Sports Shorts, L</td><td>Black</td><td>59.99</td></tr>",
                            "<tr><td>851</td><td>Men&#39;s Sports Shorts, XL</td><td>Black</td><td>59.99</td></tr>",
                            "<tr><td>852</td><td>Women&#39;s Tights, S</td><td>Black</td><td>74.99</td></tr>",
                            "<tr><td>853</td><td>Women&#39;s Tights, M</td><td>Black</td><td>74.99</td></tr>",
                            "<tr><td>854</td><td>Women&#39;s Tights, L</td><td>Black</td><td>74.99</td></tr>",
                            "<tr><td>855</td><td>Men&#39;s Bib-Shorts, S</td><td>Multi</td><td>89.99</td></tr>",
                            "<tr><td>856</td><td>Men&#39;s Bib-Shorts, M</td><td>Multi</td><td>89.99</td></tr>",
                            "<tr><td>857</td><td>Men&#39;s Bib-Shorts, L</td><td>Multi</td><td>89.99</td></tr>",
                            "<tr><td>858</td><td>Half-Finger Gloves, S</td><td>Black</td><td>24.49</td></tr>",
                            "<tr><td>859</td><td>Half-Finger Gloves, M</td><td>Black</td><td>24.49</td></tr>",
                            "<tr><td>860</td><td>Half-Finger Gloves, L</td><td>Black</td><td>24.49</td></tr>",
                            "<tr><td>861</td><td>Full-Finger Gloves, S</td><td>Black</td><td>37.99</td></tr>",
                            "<tr><td>862</td><td>Full-Finger Gloves, M</td><td>Black</td><td>37.99</td></tr>",
                            "<tr><td>863</td><td>Full-Finger Gloves, L</td><td>Black</td><td>37.99</td></tr>",
                            "<tr><td>864</td><td>Classic Vest, S</td><td>Blue</td><td>63.50</td></tr>",
                            "<tr><td>865</td><td>Classic Vest, M</td><td>Blue</td><td>63.50</td></tr>",
                            "<tr><td>866</td><td>Classic Vest, L</td><td>Blue</td><td>63.50</td></tr>",
                            "<tr><td>867</td><td>Women&#39;s Mountain Shorts, S</td><td>Black</td><td>69.99</td></tr>",
                            "<tr><td>868</td><td>Women&#39;s Mountain Shorts, M</td><td>Black</td><td>69.99</td></tr>",
                            "<tr><td>869</td><td>Women&#39;s Mountain Shorts, L</td><td>Black</td><td>69.99</td></tr>",
                            "<tr><td>874</td><td>Racing Socks, M</td><td>White</td><td>8.99</td></tr>",
                            "<tr><td>875</td><td>Racing Socks, L</td><td>White</td><td>8.99</td></tr>",
                            "<tr><td>880</td><td>Hydration Pack - 70 oz.</td><td>Silver</td><td>54.99</td></tr>",
                            "<tr><td>881</td><td>Short-Sleeve Classic Jersey, S</td><td>Yellow</td><td>53.99</td></tr>",
                            "<tr><td>882</td><td>Short-Sleeve Classic Jersey, M</td><td>Yellow</td><td>53.99</td></tr>",
                            "<tr><td>883</td><td>Short-Sleeve Classic Jersey, L</td><td>Yellow</td><td>53.99</td></tr>",
                            "<tr><td>884</td><td>Short-Sleeve Classic Jersey, XL</td><td>Yellow</td><td>53.99</td></tr>",
                            "<tr><td>885</td><td>HL Touring Frame - Yellow, 60</td><td>Yellow</td><td>1003.91</td></tr>",
                            "<tr><td>886</td><td>LL Touring Frame - Yellow, 62</td><td>Yellow</td><td>333.42</td></tr>",
                            "<tr><td>887</td><td>HL Touring Frame - Yellow, 46</td><td>Yellow</td><td>1003.91</td></tr>",
                            "<tr><td>888</td><td>HL Touring Frame - Yellow, 50</td><td>Yellow</td><td>1003.91</td></tr>",
                            "<tr><td>889</td><td>HL Touring Frame - Yellow, 54</td><td>Yellow</td><td>1003.91</td></tr>",
                            "<tr><td>890</td><td>HL Touring Frame - Blue, 46</td><td>Blue</td><td>1003.91</td></tr>",
                            "<tr><td>891</td><td>HL Touring Frame - Blue, 50</td><td>Blue</td><td>1003.91</td></tr>",
                            "<tr><td>892</td><td>HL Touring Frame - Blue, 54</td><td>Blue</td><td>1003.91</td></tr>",
                            "<tr><td>893</td><td>HL Touring Frame - Blue, 60</td><td>Blue</td><td>1003.91</td></tr>",
                            "<tr><td>894</td><td>Rear Derailleur</td><td>Silver</td><td>121.46</td></tr>",
                            "<tr><td>895</td><td>LL Touring Frame - Blue, 50</td><td>Blue</td><td>333.42</td></tr>",
                            "<tr><td>896</td><td>LL Touring Frame - Blue, 54</td><td>Blue</td><td>333.42</td></tr>",
                            "<tr><td>897</td><td>LL Touring Frame - Blue, 58</td><td>Blue</td><td>333.42</td></tr>",
                            "<tr><td>898</td><td>LL Touring Frame - Blue, 62</td><td>Blue</td><td>333.42</td></tr>",
                            "<tr><td>899</td><td>LL Touring Frame - Yellow, 44</td><td>Yellow</td><td>333.42</td></tr>",
                            "<tr><td>900</td><td>LL Touring Frame - Yellow, 50</td><td>Yellow</td><td>333.42</td></tr>",
                            "<tr><td>901</td><td>LL Touring Frame - Yellow, 54</td><td>Yellow</td><td>333.42</td></tr>",
                            "<tr><td>902</td><td>LL Touring Frame - Yellow, 58</td><td>Yellow</td><td>333.42</td></tr>",
                            "<tr><td>903</td><td>LL Touring Frame - Blue, 44</td><td>Blue</td><td>333.42</td></tr>",
                            "<tr><td>904</td><td>ML Mountain Frame-W - Silver, 40</td><td>Silver</td><td>364.09</td></tr>",
                            "<tr><td>905</td><td>ML Mountain Frame-W - Silver, 42</td><td>Silver</td><td>364.09</td></tr>",
                            "<tr><td>906</td><td>ML Mountain Frame-W - Silver, 46</td><td>Silver</td><td>364.09</td></tr>",
                            "<tr><td>907</td><td>Rear Brakes</td><td>Silver</td><td>106.50</td></tr>",
                            "<tr><td>917</td><td>LL Mountain Frame - Silver, 42</td><td>Silver</td><td>264.05</td></tr>",
                            "<tr><td>918</td><td>LL Mountain Frame - Silver, 44</td><td>Silver</td><td>264.05</td></tr>",
                            "<tr><td>919</td><td>LL Mountain Frame - Silver, 48</td><td>Silver</td><td>264.05</td></tr>",
                            "<tr><td>920</td><td>LL Mountain Frame - Silver, 52</td><td>Silver</td><td>264.05</td></tr>",
                            "<tr><td>924</td><td>LL Mountain Frame - Black, 42</td><td>Black</td><td>249.79</td></tr>",
                            "<tr><td>925</td><td>LL Mountain Frame - Black, 44</td><td>Black</td><td>249.79</td></tr>",
                            "<tr><td>926</td><td>LL Mountain Frame - Black, 48</td><td>Black</td><td>249.79</td></tr>",
                            "<tr><td>927</td><td>LL Mountain Frame - Black, 52</td><td>Black</td><td>249.79</td></tr>",
                            "<tr><td>935</td><td>LL Mountain Pedal</td><td>Silver/Black</td><td>40.49</td></tr>",
                            "<tr><td>936</td><td>ML Mountain Pedal</td><td>Silver/Black</td><td>62.09</td></tr>",
                            "<tr><td>937</td><td>HL Mountain Pedal</td><td>Silver/Black</td><td>80.99</td></tr>",
                            "<tr><td>938</td><td>LL Road Pedal</td><td>Silver/Black</td><td>40.49</td></tr>",
                            "<tr><td>939</td><td>ML Road Pedal</td><td>Silver/Black</td><td>62.09</td></tr>",
                            "<tr><td>940</td><td>HL Road Pedal</td><td>Silver/Black</td><td>80.99</td></tr>",
                            "<tr><td>941</td><td>Touring Pedal</td><td>Silver/Black</td><td>80.99</td></tr>",
                            "<tr><td>942</td><td>ML Mountain Frame-W - Silver, 38</td><td>Silver</td><td>364.09</td></tr>",
                            "<tr><td>943</td><td>LL Mountain Frame - Black, 40</td><td>Black</td><td>249.79</td></tr>",
                            "<tr><td>944</td><td>LL Mountain Frame - Silver, 40</td><td>Silver</td><td>264.05</td></tr>",
                            "<tr><td>945</td><td>Front Derailleur</td><td>Silver</td><td>91.49</td></tr>",
                            "<tr><td>948</td><td>Front Brakes</td><td>Silver</td><td>106.50</td></tr>",
                            "<tr><td>949</td><td>LL Crankset</td><td>Black</td><td>175.49</td></tr>",
                            "<tr><td>950</td><td>ML Crankset</td><td>Black</td><td>256.49</td></tr>",
                            "<tr><td>951</td><td>HL Crankset</td><td>Black</td><td>404.99</td></tr>",
                            "<tr><td>952</td><td>Chain</td><td>Silver</td><td>20.24</td></tr>",
                            "<tr><td>953</td><td>Touring-2000 Blue, 60</td><td>Blue</td><td>1214.85</td></tr>",
                            "<tr><td>954</td><td>Touring-1000 Yellow, 46</td><td>Yellow</td><td>2384.07</td></tr>",
                            "<tr><td>955</td><td>Touring-1000 Yellow, 50</td><td>Yellow</td><td>2384.07</td></tr>",
                            "<tr><td>956</td><td>Touring-1000 Yellow, 54</td><td>Yellow</td><td>2384.07</td></tr>",
                            "<tr><td>957</td><td>Touring-1000 Yellow, 60</td><td>Yellow</td><td>2384.07</td></tr>",
                            "<tr><td>958</td><td>Touring-3000 Blue, 54</td><td>Blue</td><td>742.35</td></tr>",
                            "<tr><td>959</td><td>Touring-3000 Blue, 58</td><td>Blue</td><td>742.35</td></tr>",
                            "<tr><td>960</td><td>Touring-3000 Blue, 62</td><td>Blue</td><td>742.35</td></tr>",
                            "<tr><td>961</td><td>Touring-3000 Yellow, 44</td><td>Yellow</td><td>742.35</td></tr>",
                            "<tr><td>962</td><td>Touring-3000 Yellow, 50</td><td>Yellow</td><td>742.35</td></tr>",
                            "<tr><td>963</td><td>Touring-3000 Yellow, 54</td><td>Yellow</td><td>742.35</td></tr>",
                            "<tr><td>964</td><td>Touring-3000 Yellow, 58</td><td>Yellow</td><td>742.35</td></tr>",
                            "<tr><td>965</td><td>Touring-3000 Yellow, 62</td><td>Yellow</td><td>742.35</td></tr>",
                            "<tr><td>966</td><td>Touring-1000 Blue, 46</td><td>Blue</td><td>2384.07</td></tr>",
                            "<tr><td>967</td><td>Touring-1000 Blue, 50</td><td>Blue</td><td>2384.07</td></tr>",
                            "<tr><td>968</td><td>Touring-1000 Blue, 54</td><td>Blue</td><td>2384.07</td></tr>",
                            "<tr><td>969</td><td>Touring-1000 Blue, 60</td><td>Blue</td><td>2384.07</td></tr>",
                            "<tr><td>970</td><td>Touring-2000 Blue, 46</td><td>Blue</td><td>1214.85</td></tr>",
                            "<tr><td>971</td><td>Touring-2000 Blue, 50</td><td>Blue</td><td>1214.85</td></tr>",
                            "<tr><td>972</td><td>Touring-2000 Blue, 54</td><td>Blue</td><td>1214.85</td></tr>",
                            "<tr><td>973</td><td>Road-350-W Yellow, 40</td><td>Yellow</td><td>1700.99</td></tr>",
                            "<tr><td>974</td><td>Road-350-W Yellow, 42</td><td>Yellow</td><td>1700.99</td></tr>",
                            "<tr><td>975</td><td>Road-350-W Yellow, 44</td><td>Yellow</td><td>1700.99</td></tr>",
                            "<tr><td>976</td><td>Road-350-W Yellow, 48</td><td>Yellow</td><td>1700.99</td></tr>",
                            "<tr><td>977</td><td>Road-750 Black, 58</td><td>Black</td><td>539.99</td></tr>",
                            "<tr><td>978</td><td>Touring-3000 Blue, 44</td><td>Blue</td><td>742.35</td></tr>",
                            "<tr><td>979</td><td>Touring-3000 Blue, 50</td><td>Blue</td><td>742.35</td></tr>",
                            "<tr><td>980</td><td>Mountain-400-W Silver, 38</td><td>Silver</td><td>769.49</td></tr>",
                            "<tr><td>981</td><td>Mountain-400-W Silver, 40</td><td>Silver</td><td>769.49</td></tr>",
                            "<tr><td>982</td><td>Mountain-400-W Silver, 42</td><td>Silver</td><td>769.49</td></tr>",
                            "<tr><td>983</td><td>Mountain-400-W Silver, 46</td><td>Silver</td><td>769.49</td></tr>",
                            "<tr><td>984</td><td>Mountain-500 Silver, 40</td><td>Silver</td><td>564.99</td></tr>",
                            "<tr><td>985</td><td>Mountain-500 Silver, 42</td><td>Silver</td><td>564.99</td></tr>",
                            "<tr><td>986</td><td>Mountain-500 Silver, 44</td><td>Silver</td><td>564.99</td></tr>",
                            "<tr><td>987</td><td>Mountain-500 Silver, 48</td><td>Silver</td><td>564.99</td></tr>",
                            "<tr><td>988</td><td>Mountain-500 Silver, 52</td><td>Silver</td><td>564.99</td></tr>",
                            "<tr><td>989</td><td>Mountain-500 Black, 40</td><td>Black</td><td>539.99</td></tr>",
                            "<tr><td>990</td><td>Mountain-500 Black, 42</td><td>Black</td><td>539.99</td></tr>",
                            "<tr><td>991</td><td>Mountain-500 Black, 44</td><td>Black</td><td>539.99</td></tr>",
                            "<tr><td>992</td><td>Mountain-500 Black, 48</td><td>Black</td><td>539.99</td></tr>",
                            "<tr><td>993</td><td>Mountain-500 Black, 52</td><td>Black</td><td>539.99</td></tr>",
                            "<tr><td>997</td><td>Road-750 Black, 44</td><td>Black</td><td>539.99</td></tr>",
                            "<tr><td>998</td><td>Road-750 Black, 48</td><td>Black</td><td>539.99</td></tr>",
                            "<tr><td>999</td><td>Road-750 Black, 52</td><td>Black</td><td>539.99</td></tr>",
                            "</table>"
                        ]
                    }
                }
            ],
            "execution_count": 85
        },
        {
            "cell_type": "markdown",
            "source": [
                "5.  Write a query that retrieves the columns ProductID, Name, Color and ListPrice from the Production.Product table, the rows that are not NULL for the column Color, and the column ListPrice has a value greater than zero.\n"
            ],
            "metadata": {
                "azdata_cell_guid": "112fae3b-919a-4b6e-a3e2-f6e8ca9cc004",
                "language": ""
            },
            "attachments": {}
        },
        {
            "cell_type": "code",
            "source": [
                "SELECT ProductID, Name, Color, ListPrice\n",
                "FROM Production.Product\n",
                "WHERE Color IS NOT NULL AND ListPrice > 0"
            ],
            "metadata": {
                "azdata_cell_guid": "bc39e047-9b62-4c44-a595-c10507337afd",
                "language": "sql"
            },
            "outputs": [
                {
                    "output_type": "display_data",
                    "data": {
                        "text/html": "(245 rows affected)"
                    },
                    "metadata": {}
                },
                {
                    "output_type": "display_data",
                    "data": {
                        "text/html": "Total execution time: 00:00:00.008"
                    },
                    "metadata": {}
                },
                {
                    "output_type": "execute_result",
                    "metadata": {},
                    "execution_count": 86,
                    "data": {
                        "application/vnd.dataresource+json": {
                            "schema": {
                                "fields": [
                                    {
                                        "name": "ProductID"
                                    },
                                    {
                                        "name": "Name"
                                    },
                                    {
                                        "name": "Color"
                                    },
                                    {
                                        "name": "ListPrice"
                                    }
                                ]
                            },
                            "data": [
                                {
                                    "ProductID": "680",
                                    "Name": "HL Road Frame - Black, 58",
                                    "Color": "Black",
                                    "ListPrice": "1431.50"
                                },
                                {
                                    "ProductID": "706",
                                    "Name": "HL Road Frame - Red, 58",
                                    "Color": "Red",
                                    "ListPrice": "1431.50"
                                },
                                {
                                    "ProductID": "707",
                                    "Name": "Sport-100 Helmet, Red",
                                    "Color": "Red",
                                    "ListPrice": "34.99"
                                },
                                {
                                    "ProductID": "708",
                                    "Name": "Sport-100 Helmet, Black",
                                    "Color": "Black",
                                    "ListPrice": "34.99"
                                },
                                {
                                    "ProductID": "709",
                                    "Name": "Mountain Bike Socks, M",
                                    "Color": "White",
                                    "ListPrice": "9.50"
                                },
                                {
                                    "ProductID": "710",
                                    "Name": "Mountain Bike Socks, L",
                                    "Color": "White",
                                    "ListPrice": "9.50"
                                },
                                {
                                    "ProductID": "711",
                                    "Name": "Sport-100 Helmet, Blue",
                                    "Color": "Blue",
                                    "ListPrice": "34.99"
                                },
                                {
                                    "ProductID": "712",
                                    "Name": "AWC Logo Cap",
                                    "Color": "Multi",
                                    "ListPrice": "8.99"
                                },
                                {
                                    "ProductID": "713",
                                    "Name": "Long-Sleeve Logo Jersey, S",
                                    "Color": "Multi",
                                    "ListPrice": "49.99"
                                },
                                {
                                    "ProductID": "714",
                                    "Name": "Long-Sleeve Logo Jersey, M",
                                    "Color": "Multi",
                                    "ListPrice": "49.99"
                                },
                                {
                                    "ProductID": "715",
                                    "Name": "Long-Sleeve Logo Jersey, L",
                                    "Color": "Multi",
                                    "ListPrice": "49.99"
                                },
                                {
                                    "ProductID": "716",
                                    "Name": "Long-Sleeve Logo Jersey, XL",
                                    "Color": "Multi",
                                    "ListPrice": "49.99"
                                },
                                {
                                    "ProductID": "717",
                                    "Name": "HL Road Frame - Red, 62",
                                    "Color": "Red",
                                    "ListPrice": "1431.50"
                                },
                                {
                                    "ProductID": "718",
                                    "Name": "HL Road Frame - Red, 44",
                                    "Color": "Red",
                                    "ListPrice": "1431.50"
                                },
                                {
                                    "ProductID": "719",
                                    "Name": "HL Road Frame - Red, 48",
                                    "Color": "Red",
                                    "ListPrice": "1431.50"
                                },
                                {
                                    "ProductID": "720",
                                    "Name": "HL Road Frame - Red, 52",
                                    "Color": "Red",
                                    "ListPrice": "1431.50"
                                },
                                {
                                    "ProductID": "721",
                                    "Name": "HL Road Frame - Red, 56",
                                    "Color": "Red",
                                    "ListPrice": "1431.50"
                                },
                                {
                                    "ProductID": "722",
                                    "Name": "LL Road Frame - Black, 58",
                                    "Color": "Black",
                                    "ListPrice": "337.22"
                                },
                                {
                                    "ProductID": "723",
                                    "Name": "LL Road Frame - Black, 60",
                                    "Color": "Black",
                                    "ListPrice": "337.22"
                                },
                                {
                                    "ProductID": "724",
                                    "Name": "LL Road Frame - Black, 62",
                                    "Color": "Black",
                                    "ListPrice": "337.22"
                                },
                                {
                                    "ProductID": "725",
                                    "Name": "LL Road Frame - Red, 44",
                                    "Color": "Red",
                                    "ListPrice": "337.22"
                                },
                                {
                                    "ProductID": "726",
                                    "Name": "LL Road Frame - Red, 48",
                                    "Color": "Red",
                                    "ListPrice": "337.22"
                                },
                                {
                                    "ProductID": "727",
                                    "Name": "LL Road Frame - Red, 52",
                                    "Color": "Red",
                                    "ListPrice": "337.22"
                                },
                                {
                                    "ProductID": "728",
                                    "Name": "LL Road Frame - Red, 58",
                                    "Color": "Red",
                                    "ListPrice": "337.22"
                                },
                                {
                                    "ProductID": "729",
                                    "Name": "LL Road Frame - Red, 60",
                                    "Color": "Red",
                                    "ListPrice": "337.22"
                                },
                                {
                                    "ProductID": "730",
                                    "Name": "LL Road Frame - Red, 62",
                                    "Color": "Red",
                                    "ListPrice": "337.22"
                                },
                                {
                                    "ProductID": "731",
                                    "Name": "ML Road Frame - Red, 44",
                                    "Color": "Red",
                                    "ListPrice": "594.83"
                                },
                                {
                                    "ProductID": "732",
                                    "Name": "ML Road Frame - Red, 48",
                                    "Color": "Red",
                                    "ListPrice": "594.83"
                                },
                                {
                                    "ProductID": "733",
                                    "Name": "ML Road Frame - Red, 52",
                                    "Color": "Red",
                                    "ListPrice": "594.83"
                                },
                                {
                                    "ProductID": "734",
                                    "Name": "ML Road Frame - Red, 58",
                                    "Color": "Red",
                                    "ListPrice": "594.83"
                                },
                                {
                                    "ProductID": "735",
                                    "Name": "ML Road Frame - Red, 60",
                                    "Color": "Red",
                                    "ListPrice": "594.83"
                                },
                                {
                                    "ProductID": "736",
                                    "Name": "LL Road Frame - Black, 44",
                                    "Color": "Black",
                                    "ListPrice": "337.22"
                                },
                                {
                                    "ProductID": "737",
                                    "Name": "LL Road Frame - Black, 48",
                                    "Color": "Black",
                                    "ListPrice": "337.22"
                                },
                                {
                                    "ProductID": "738",
                                    "Name": "LL Road Frame - Black, 52",
                                    "Color": "Black",
                                    "ListPrice": "337.22"
                                },
                                {
                                    "ProductID": "739",
                                    "Name": "HL Mountain Frame - Silver, 42",
                                    "Color": "Silver",
                                    "ListPrice": "1364.50"
                                },
                                {
                                    "ProductID": "740",
                                    "Name": "HL Mountain Frame - Silver, 44",
                                    "Color": "Silver",
                                    "ListPrice": "1364.50"
                                },
                                {
                                    "ProductID": "741",
                                    "Name": "HL Mountain Frame - Silver, 48",
                                    "Color": "Silver",
                                    "ListPrice": "1364.50"
                                },
                                {
                                    "ProductID": "742",
                                    "Name": "HL Mountain Frame - Silver, 46",
                                    "Color": "Silver",
                                    "ListPrice": "1364.50"
                                },
                                {
                                    "ProductID": "743",
                                    "Name": "HL Mountain Frame - Black, 42",
                                    "Color": "Black",
                                    "ListPrice": "1349.60"
                                },
                                {
                                    "ProductID": "744",
                                    "Name": "HL Mountain Frame - Black, 44",
                                    "Color": "Black",
                                    "ListPrice": "1349.60"
                                },
                                {
                                    "ProductID": "745",
                                    "Name": "HL Mountain Frame - Black, 48",
                                    "Color": "Black",
                                    "ListPrice": "1349.60"
                                },
                                {
                                    "ProductID": "746",
                                    "Name": "HL Mountain Frame - Black, 46",
                                    "Color": "Black",
                                    "ListPrice": "1349.60"
                                },
                                {
                                    "ProductID": "747",
                                    "Name": "HL Mountain Frame - Black, 38",
                                    "Color": "Black",
                                    "ListPrice": "1349.60"
                                },
                                {
                                    "ProductID": "748",
                                    "Name": "HL Mountain Frame - Silver, 38",
                                    "Color": "Silver",
                                    "ListPrice": "1364.50"
                                },
                                {
                                    "ProductID": "749",
                                    "Name": "Road-150 Red, 62",
                                    "Color": "Red",
                                    "ListPrice": "3578.27"
                                },
                                {
                                    "ProductID": "750",
                                    "Name": "Road-150 Red, 44",
                                    "Color": "Red",
                                    "ListPrice": "3578.27"
                                },
                                {
                                    "ProductID": "751",
                                    "Name": "Road-150 Red, 48",
                                    "Color": "Red",
                                    "ListPrice": "3578.27"
                                },
                                {
                                    "ProductID": "752",
                                    "Name": "Road-150 Red, 52",
                                    "Color": "Red",
                                    "ListPrice": "3578.27"
                                },
                                {
                                    "ProductID": "753",
                                    "Name": "Road-150 Red, 56",
                                    "Color": "Red",
                                    "ListPrice": "3578.27"
                                },
                                {
                                    "ProductID": "754",
                                    "Name": "Road-450 Red, 58",
                                    "Color": "Red",
                                    "ListPrice": "1457.99"
                                },
                                {
                                    "ProductID": "755",
                                    "Name": "Road-450 Red, 60",
                                    "Color": "Red",
                                    "ListPrice": "1457.99"
                                },
                                {
                                    "ProductID": "756",
                                    "Name": "Road-450 Red, 44",
                                    "Color": "Red",
                                    "ListPrice": "1457.99"
                                },
                                {
                                    "ProductID": "757",
                                    "Name": "Road-450 Red, 48",
                                    "Color": "Red",
                                    "ListPrice": "1457.99"
                                },
                                {
                                    "ProductID": "758",
                                    "Name": "Road-450 Red, 52",
                                    "Color": "Red",
                                    "ListPrice": "1457.99"
                                },
                                {
                                    "ProductID": "759",
                                    "Name": "Road-650 Red, 58",
                                    "Color": "Red",
                                    "ListPrice": "782.99"
                                },
                                {
                                    "ProductID": "760",
                                    "Name": "Road-650 Red, 60",
                                    "Color": "Red",
                                    "ListPrice": "782.99"
                                },
                                {
                                    "ProductID": "761",
                                    "Name": "Road-650 Red, 62",
                                    "Color": "Red",
                                    "ListPrice": "782.99"
                                },
                                {
                                    "ProductID": "762",
                                    "Name": "Road-650 Red, 44",
                                    "Color": "Red",
                                    "ListPrice": "782.99"
                                },
                                {
                                    "ProductID": "763",
                                    "Name": "Road-650 Red, 48",
                                    "Color": "Red",
                                    "ListPrice": "782.99"
                                },
                                {
                                    "ProductID": "764",
                                    "Name": "Road-650 Red, 52",
                                    "Color": "Red",
                                    "ListPrice": "782.99"
                                },
                                {
                                    "ProductID": "765",
                                    "Name": "Road-650 Black, 58",
                                    "Color": "Black",
                                    "ListPrice": "782.99"
                                },
                                {
                                    "ProductID": "766",
                                    "Name": "Road-650 Black, 60",
                                    "Color": "Black",
                                    "ListPrice": "782.99"
                                },
                                {
                                    "ProductID": "767",
                                    "Name": "Road-650 Black, 62",
                                    "Color": "Black",
                                    "ListPrice": "782.99"
                                },
                                {
                                    "ProductID": "768",
                                    "Name": "Road-650 Black, 44",
                                    "Color": "Black",
                                    "ListPrice": "782.99"
                                },
                                {
                                    "ProductID": "769",
                                    "Name": "Road-650 Black, 48",
                                    "Color": "Black",
                                    "ListPrice": "782.99"
                                },
                                {
                                    "ProductID": "770",
                                    "Name": "Road-650 Black, 52",
                                    "Color": "Black",
                                    "ListPrice": "782.99"
                                },
                                {
                                    "ProductID": "771",
                                    "Name": "Mountain-100 Silver, 38",
                                    "Color": "Silver",
                                    "ListPrice": "3399.99"
                                },
                                {
                                    "ProductID": "772",
                                    "Name": "Mountain-100 Silver, 42",
                                    "Color": "Silver",
                                    "ListPrice": "3399.99"
                                },
                                {
                                    "ProductID": "773",
                                    "Name": "Mountain-100 Silver, 44",
                                    "Color": "Silver",
                                    "ListPrice": "3399.99"
                                },
                                {
                                    "ProductID": "774",
                                    "Name": "Mountain-100 Silver, 48",
                                    "Color": "Silver",
                                    "ListPrice": "3399.99"
                                },
                                {
                                    "ProductID": "775",
                                    "Name": "Mountain-100 Black, 38",
                                    "Color": "Black",
                                    "ListPrice": "3374.99"
                                },
                                {
                                    "ProductID": "776",
                                    "Name": "Mountain-100 Black, 42",
                                    "Color": "Black",
                                    "ListPrice": "3374.99"
                                },
                                {
                                    "ProductID": "777",
                                    "Name": "Mountain-100 Black, 44",
                                    "Color": "Black",
                                    "ListPrice": "3374.99"
                                },
                                {
                                    "ProductID": "778",
                                    "Name": "Mountain-100 Black, 48",
                                    "Color": "Black",
                                    "ListPrice": "3374.99"
                                },
                                {
                                    "ProductID": "779",
                                    "Name": "Mountain-200 Silver, 38",
                                    "Color": "Silver",
                                    "ListPrice": "2319.99"
                                },
                                {
                                    "ProductID": "780",
                                    "Name": "Mountain-200 Silver, 42",
                                    "Color": "Silver",
                                    "ListPrice": "2319.99"
                                },
                                {
                                    "ProductID": "781",
                                    "Name": "Mountain-200 Silver, 46",
                                    "Color": "Silver",
                                    "ListPrice": "2319.99"
                                },
                                {
                                    "ProductID": "782",
                                    "Name": "Mountain-200 Black, 38",
                                    "Color": "Black",
                                    "ListPrice": "2294.99"
                                },
                                {
                                    "ProductID": "783",
                                    "Name": "Mountain-200 Black, 42",
                                    "Color": "Black",
                                    "ListPrice": "2294.99"
                                },
                                {
                                    "ProductID": "784",
                                    "Name": "Mountain-200 Black, 46",
                                    "Color": "Black",
                                    "ListPrice": "2294.99"
                                },
                                {
                                    "ProductID": "785",
                                    "Name": "Mountain-300 Black, 38",
                                    "Color": "Black",
                                    "ListPrice": "1079.99"
                                },
                                {
                                    "ProductID": "786",
                                    "Name": "Mountain-300 Black, 40",
                                    "Color": "Black",
                                    "ListPrice": "1079.99"
                                },
                                {
                                    "ProductID": "787",
                                    "Name": "Mountain-300 Black, 44",
                                    "Color": "Black",
                                    "ListPrice": "1079.99"
                                },
                                {
                                    "ProductID": "788",
                                    "Name": "Mountain-300 Black, 48",
                                    "Color": "Black",
                                    "ListPrice": "1079.99"
                                },
                                {
                                    "ProductID": "789",
                                    "Name": "Road-250 Red, 44",
                                    "Color": "Red",
                                    "ListPrice": "2443.35"
                                },
                                {
                                    "ProductID": "790",
                                    "Name": "Road-250 Red, 48",
                                    "Color": "Red",
                                    "ListPrice": "2443.35"
                                },
                                {
                                    "ProductID": "791",
                                    "Name": "Road-250 Red, 52",
                                    "Color": "Red",
                                    "ListPrice": "2443.35"
                                },
                                {
                                    "ProductID": "792",
                                    "Name": "Road-250 Red, 58",
                                    "Color": "Red",
                                    "ListPrice": "2443.35"
                                },
                                {
                                    "ProductID": "793",
                                    "Name": "Road-250 Black, 44",
                                    "Color": "Black",
                                    "ListPrice": "2443.35"
                                },
                                {
                                    "ProductID": "794",
                                    "Name": "Road-250 Black, 48",
                                    "Color": "Black",
                                    "ListPrice": "2443.35"
                                },
                                {
                                    "ProductID": "795",
                                    "Name": "Road-250 Black, 52",
                                    "Color": "Black",
                                    "ListPrice": "2443.35"
                                },
                                {
                                    "ProductID": "796",
                                    "Name": "Road-250 Black, 58",
                                    "Color": "Black",
                                    "ListPrice": "2443.35"
                                },
                                {
                                    "ProductID": "797",
                                    "Name": "Road-550-W Yellow, 38",
                                    "Color": "Yellow",
                                    "ListPrice": "1120.49"
                                },
                                {
                                    "ProductID": "798",
                                    "Name": "Road-550-W Yellow, 40",
                                    "Color": "Yellow",
                                    "ListPrice": "1120.49"
                                },
                                {
                                    "ProductID": "799",
                                    "Name": "Road-550-W Yellow, 42",
                                    "Color": "Yellow",
                                    "ListPrice": "1120.49"
                                },
                                {
                                    "ProductID": "800",
                                    "Name": "Road-550-W Yellow, 44",
                                    "Color": "Yellow",
                                    "ListPrice": "1120.49"
                                },
                                {
                                    "ProductID": "801",
                                    "Name": "Road-550-W Yellow, 48",
                                    "Color": "Yellow",
                                    "ListPrice": "1120.49"
                                },
                                {
                                    "ProductID": "814",
                                    "Name": "ML Mountain Frame - Black, 38",
                                    "Color": "Black",
                                    "ListPrice": "348.76"
                                },
                                {
                                    "ProductID": "815",
                                    "Name": "LL Mountain Front Wheel",
                                    "Color": "Black",
                                    "ListPrice": "60.745"
                                },
                                {
                                    "ProductID": "816",
                                    "Name": "ML Mountain Front Wheel",
                                    "Color": "Black",
                                    "ListPrice": "209.025"
                                },
                                {
                                    "ProductID": "817",
                                    "Name": "HL Mountain Front Wheel",
                                    "Color": "Black",
                                    "ListPrice": "300.215"
                                },
                                {
                                    "ProductID": "818",
                                    "Name": "LL Road Front Wheel",
                                    "Color": "Black",
                                    "ListPrice": "85.565"
                                },
                                {
                                    "ProductID": "819",
                                    "Name": "ML Road Front Wheel",
                                    "Color": "Black",
                                    "ListPrice": "248.385"
                                },
                                {
                                    "ProductID": "820",
                                    "Name": "HL Road Front Wheel",
                                    "Color": "Black",
                                    "ListPrice": "330.06"
                                },
                                {
                                    "ProductID": "821",
                                    "Name": "Touring Front Wheel",
                                    "Color": "Black",
                                    "ListPrice": "218.01"
                                },
                                {
                                    "ProductID": "822",
                                    "Name": "ML Road Frame-W - Yellow, 38",
                                    "Color": "Yellow",
                                    "ListPrice": "594.83"
                                },
                                {
                                    "ProductID": "823",
                                    "Name": "LL Mountain Rear Wheel",
                                    "Color": "Black",
                                    "ListPrice": "87.745"
                                },
                                {
                                    "ProductID": "824",
                                    "Name": "ML Mountain Rear Wheel",
                                    "Color": "Black",
                                    "ListPrice": "236.025"
                                },
                                {
                                    "ProductID": "825",
                                    "Name": "HL Mountain Rear Wheel",
                                    "Color": "Black",
                                    "ListPrice": "327.215"
                                },
                                {
                                    "ProductID": "826",
                                    "Name": "LL Road Rear Wheel",
                                    "Color": "Black",
                                    "ListPrice": "112.565"
                                },
                                {
                                    "ProductID": "827",
                                    "Name": "ML Road Rear Wheel",
                                    "Color": "Black",
                                    "ListPrice": "275.385"
                                },
                                {
                                    "ProductID": "828",
                                    "Name": "HL Road Rear Wheel",
                                    "Color": "Black",
                                    "ListPrice": "357.06"
                                },
                                {
                                    "ProductID": "829",
                                    "Name": "Touring Rear Wheel",
                                    "Color": "Black",
                                    "ListPrice": "245.01"
                                },
                                {
                                    "ProductID": "830",
                                    "Name": "ML Mountain Frame - Black, 40",
                                    "Color": "Black",
                                    "ListPrice": "348.76"
                                },
                                {
                                    "ProductID": "831",
                                    "Name": "ML Mountain Frame - Black, 44",
                                    "Color": "Black",
                                    "ListPrice": "348.76"
                                },
                                {
                                    "ProductID": "832",
                                    "Name": "ML Mountain Frame - Black, 48",
                                    "Color": "Black",
                                    "ListPrice": "348.76"
                                },
                                {
                                    "ProductID": "833",
                                    "Name": "ML Road Frame-W - Yellow, 40",
                                    "Color": "Yellow",
                                    "ListPrice": "594.83"
                                },
                                {
                                    "ProductID": "834",
                                    "Name": "ML Road Frame-W - Yellow, 42",
                                    "Color": "Yellow",
                                    "ListPrice": "594.83"
                                },
                                {
                                    "ProductID": "835",
                                    "Name": "ML Road Frame-W - Yellow, 44",
                                    "Color": "Yellow",
                                    "ListPrice": "594.83"
                                },
                                {
                                    "ProductID": "836",
                                    "Name": "ML Road Frame-W - Yellow, 48",
                                    "Color": "Yellow",
                                    "ListPrice": "594.83"
                                },
                                {
                                    "ProductID": "837",
                                    "Name": "HL Road Frame - Black, 62",
                                    "Color": "Black",
                                    "ListPrice": "1431.50"
                                },
                                {
                                    "ProductID": "838",
                                    "Name": "HL Road Frame - Black, 44",
                                    "Color": "Black",
                                    "ListPrice": "1431.50"
                                },
                                {
                                    "ProductID": "839",
                                    "Name": "HL Road Frame - Black, 48",
                                    "Color": "Black",
                                    "ListPrice": "1431.50"
                                },
                                {
                                    "ProductID": "840",
                                    "Name": "HL Road Frame - Black, 52",
                                    "Color": "Black",
                                    "ListPrice": "1431.50"
                                },
                                {
                                    "ProductID": "841",
                                    "Name": "Men's Sports Shorts, S",
                                    "Color": "Black",
                                    "ListPrice": "59.99"
                                },
                                {
                                    "ProductID": "842",
                                    "Name": "Touring-Panniers, Large",
                                    "Color": "Grey",
                                    "ListPrice": "125.00"
                                },
                                {
                                    "ProductID": "849",
                                    "Name": "Men's Sports Shorts, M",
                                    "Color": "Black",
                                    "ListPrice": "59.99"
                                },
                                {
                                    "ProductID": "850",
                                    "Name": "Men's Sports Shorts, L",
                                    "Color": "Black",
                                    "ListPrice": "59.99"
                                },
                                {
                                    "ProductID": "851",
                                    "Name": "Men's Sports Shorts, XL",
                                    "Color": "Black",
                                    "ListPrice": "59.99"
                                },
                                {
                                    "ProductID": "852",
                                    "Name": "Women's Tights, S",
                                    "Color": "Black",
                                    "ListPrice": "74.99"
                                },
                                {
                                    "ProductID": "853",
                                    "Name": "Women's Tights, M",
                                    "Color": "Black",
                                    "ListPrice": "74.99"
                                },
                                {
                                    "ProductID": "854",
                                    "Name": "Women's Tights, L",
                                    "Color": "Black",
                                    "ListPrice": "74.99"
                                },
                                {
                                    "ProductID": "855",
                                    "Name": "Men's Bib-Shorts, S",
                                    "Color": "Multi",
                                    "ListPrice": "89.99"
                                },
                                {
                                    "ProductID": "856",
                                    "Name": "Men's Bib-Shorts, M",
                                    "Color": "Multi",
                                    "ListPrice": "89.99"
                                },
                                {
                                    "ProductID": "857",
                                    "Name": "Men's Bib-Shorts, L",
                                    "Color": "Multi",
                                    "ListPrice": "89.99"
                                },
                                {
                                    "ProductID": "858",
                                    "Name": "Half-Finger Gloves, S",
                                    "Color": "Black",
                                    "ListPrice": "24.49"
                                },
                                {
                                    "ProductID": "859",
                                    "Name": "Half-Finger Gloves, M",
                                    "Color": "Black",
                                    "ListPrice": "24.49"
                                },
                                {
                                    "ProductID": "860",
                                    "Name": "Half-Finger Gloves, L",
                                    "Color": "Black",
                                    "ListPrice": "24.49"
                                },
                                {
                                    "ProductID": "861",
                                    "Name": "Full-Finger Gloves, S",
                                    "Color": "Black",
                                    "ListPrice": "37.99"
                                },
                                {
                                    "ProductID": "862",
                                    "Name": "Full-Finger Gloves, M",
                                    "Color": "Black",
                                    "ListPrice": "37.99"
                                },
                                {
                                    "ProductID": "863",
                                    "Name": "Full-Finger Gloves, L",
                                    "Color": "Black",
                                    "ListPrice": "37.99"
                                },
                                {
                                    "ProductID": "864",
                                    "Name": "Classic Vest, S",
                                    "Color": "Blue",
                                    "ListPrice": "63.50"
                                },
                                {
                                    "ProductID": "865",
                                    "Name": "Classic Vest, M",
                                    "Color": "Blue",
                                    "ListPrice": "63.50"
                                },
                                {
                                    "ProductID": "866",
                                    "Name": "Classic Vest, L",
                                    "Color": "Blue",
                                    "ListPrice": "63.50"
                                },
                                {
                                    "ProductID": "867",
                                    "Name": "Women's Mountain Shorts, S",
                                    "Color": "Black",
                                    "ListPrice": "69.99"
                                },
                                {
                                    "ProductID": "868",
                                    "Name": "Women's Mountain Shorts, M",
                                    "Color": "Black",
                                    "ListPrice": "69.99"
                                },
                                {
                                    "ProductID": "869",
                                    "Name": "Women's Mountain Shorts, L",
                                    "Color": "Black",
                                    "ListPrice": "69.99"
                                },
                                {
                                    "ProductID": "874",
                                    "Name": "Racing Socks, M",
                                    "Color": "White",
                                    "ListPrice": "8.99"
                                },
                                {
                                    "ProductID": "875",
                                    "Name": "Racing Socks, L",
                                    "Color": "White",
                                    "ListPrice": "8.99"
                                },
                                {
                                    "ProductID": "880",
                                    "Name": "Hydration Pack - 70 oz.",
                                    "Color": "Silver",
                                    "ListPrice": "54.99"
                                },
                                {
                                    "ProductID": "881",
                                    "Name": "Short-Sleeve Classic Jersey, S",
                                    "Color": "Yellow",
                                    "ListPrice": "53.99"
                                },
                                {
                                    "ProductID": "882",
                                    "Name": "Short-Sleeve Classic Jersey, M",
                                    "Color": "Yellow",
                                    "ListPrice": "53.99"
                                },
                                {
                                    "ProductID": "883",
                                    "Name": "Short-Sleeve Classic Jersey, L",
                                    "Color": "Yellow",
                                    "ListPrice": "53.99"
                                },
                                {
                                    "ProductID": "884",
                                    "Name": "Short-Sleeve Classic Jersey, XL",
                                    "Color": "Yellow",
                                    "ListPrice": "53.99"
                                },
                                {
                                    "ProductID": "885",
                                    "Name": "HL Touring Frame - Yellow, 60",
                                    "Color": "Yellow",
                                    "ListPrice": "1003.91"
                                },
                                {
                                    "ProductID": "886",
                                    "Name": "LL Touring Frame - Yellow, 62",
                                    "Color": "Yellow",
                                    "ListPrice": "333.42"
                                },
                                {
                                    "ProductID": "887",
                                    "Name": "HL Touring Frame - Yellow, 46",
                                    "Color": "Yellow",
                                    "ListPrice": "1003.91"
                                },
                                {
                                    "ProductID": "888",
                                    "Name": "HL Touring Frame - Yellow, 50",
                                    "Color": "Yellow",
                                    "ListPrice": "1003.91"
                                },
                                {
                                    "ProductID": "889",
                                    "Name": "HL Touring Frame - Yellow, 54",
                                    "Color": "Yellow",
                                    "ListPrice": "1003.91"
                                },
                                {
                                    "ProductID": "890",
                                    "Name": "HL Touring Frame - Blue, 46",
                                    "Color": "Blue",
                                    "ListPrice": "1003.91"
                                },
                                {
                                    "ProductID": "891",
                                    "Name": "HL Touring Frame - Blue, 50",
                                    "Color": "Blue",
                                    "ListPrice": "1003.91"
                                },
                                {
                                    "ProductID": "892",
                                    "Name": "HL Touring Frame - Blue, 54",
                                    "Color": "Blue",
                                    "ListPrice": "1003.91"
                                },
                                {
                                    "ProductID": "893",
                                    "Name": "HL Touring Frame - Blue, 60",
                                    "Color": "Blue",
                                    "ListPrice": "1003.91"
                                },
                                {
                                    "ProductID": "894",
                                    "Name": "Rear Derailleur",
                                    "Color": "Silver",
                                    "ListPrice": "121.46"
                                },
                                {
                                    "ProductID": "895",
                                    "Name": "LL Touring Frame - Blue, 50",
                                    "Color": "Blue",
                                    "ListPrice": "333.42"
                                },
                                {
                                    "ProductID": "896",
                                    "Name": "LL Touring Frame - Blue, 54",
                                    "Color": "Blue",
                                    "ListPrice": "333.42"
                                },
                                {
                                    "ProductID": "897",
                                    "Name": "LL Touring Frame - Blue, 58",
                                    "Color": "Blue",
                                    "ListPrice": "333.42"
                                },
                                {
                                    "ProductID": "898",
                                    "Name": "LL Touring Frame - Blue, 62",
                                    "Color": "Blue",
                                    "ListPrice": "333.42"
                                },
                                {
                                    "ProductID": "899",
                                    "Name": "LL Touring Frame - Yellow, 44",
                                    "Color": "Yellow",
                                    "ListPrice": "333.42"
                                },
                                {
                                    "ProductID": "900",
                                    "Name": "LL Touring Frame - Yellow, 50",
                                    "Color": "Yellow",
                                    "ListPrice": "333.42"
                                },
                                {
                                    "ProductID": "901",
                                    "Name": "LL Touring Frame - Yellow, 54",
                                    "Color": "Yellow",
                                    "ListPrice": "333.42"
                                },
                                {
                                    "ProductID": "902",
                                    "Name": "LL Touring Frame - Yellow, 58",
                                    "Color": "Yellow",
                                    "ListPrice": "333.42"
                                },
                                {
                                    "ProductID": "903",
                                    "Name": "LL Touring Frame - Blue, 44",
                                    "Color": "Blue",
                                    "ListPrice": "333.42"
                                },
                                {
                                    "ProductID": "904",
                                    "Name": "ML Mountain Frame-W - Silver, 40",
                                    "Color": "Silver",
                                    "ListPrice": "364.09"
                                },
                                {
                                    "ProductID": "905",
                                    "Name": "ML Mountain Frame-W - Silver, 42",
                                    "Color": "Silver",
                                    "ListPrice": "364.09"
                                },
                                {
                                    "ProductID": "906",
                                    "Name": "ML Mountain Frame-W - Silver, 46",
                                    "Color": "Silver",
                                    "ListPrice": "364.09"
                                },
                                {
                                    "ProductID": "907",
                                    "Name": "Rear Brakes",
                                    "Color": "Silver",
                                    "ListPrice": "106.50"
                                },
                                {
                                    "ProductID": "917",
                                    "Name": "LL Mountain Frame - Silver, 42",
                                    "Color": "Silver",
                                    "ListPrice": "264.05"
                                },
                                {
                                    "ProductID": "918",
                                    "Name": "LL Mountain Frame - Silver, 44",
                                    "Color": "Silver",
                                    "ListPrice": "264.05"
                                },
                                {
                                    "ProductID": "919",
                                    "Name": "LL Mountain Frame - Silver, 48",
                                    "Color": "Silver",
                                    "ListPrice": "264.05"
                                },
                                {
                                    "ProductID": "920",
                                    "Name": "LL Mountain Frame - Silver, 52",
                                    "Color": "Silver",
                                    "ListPrice": "264.05"
                                },
                                {
                                    "ProductID": "924",
                                    "Name": "LL Mountain Frame - Black, 42",
                                    "Color": "Black",
                                    "ListPrice": "249.79"
                                },
                                {
                                    "ProductID": "925",
                                    "Name": "LL Mountain Frame - Black, 44",
                                    "Color": "Black",
                                    "ListPrice": "249.79"
                                },
                                {
                                    "ProductID": "926",
                                    "Name": "LL Mountain Frame - Black, 48",
                                    "Color": "Black",
                                    "ListPrice": "249.79"
                                },
                                {
                                    "ProductID": "927",
                                    "Name": "LL Mountain Frame - Black, 52",
                                    "Color": "Black",
                                    "ListPrice": "249.79"
                                },
                                {
                                    "ProductID": "935",
                                    "Name": "LL Mountain Pedal",
                                    "Color": "Silver/Black",
                                    "ListPrice": "40.49"
                                },
                                {
                                    "ProductID": "936",
                                    "Name": "ML Mountain Pedal",
                                    "Color": "Silver/Black",
                                    "ListPrice": "62.09"
                                },
                                {
                                    "ProductID": "937",
                                    "Name": "HL Mountain Pedal",
                                    "Color": "Silver/Black",
                                    "ListPrice": "80.99"
                                },
                                {
                                    "ProductID": "938",
                                    "Name": "LL Road Pedal",
                                    "Color": "Silver/Black",
                                    "ListPrice": "40.49"
                                },
                                {
                                    "ProductID": "939",
                                    "Name": "ML Road Pedal",
                                    "Color": "Silver/Black",
                                    "ListPrice": "62.09"
                                },
                                {
                                    "ProductID": "940",
                                    "Name": "HL Road Pedal",
                                    "Color": "Silver/Black",
                                    "ListPrice": "80.99"
                                },
                                {
                                    "ProductID": "941",
                                    "Name": "Touring Pedal",
                                    "Color": "Silver/Black",
                                    "ListPrice": "80.99"
                                },
                                {
                                    "ProductID": "942",
                                    "Name": "ML Mountain Frame-W - Silver, 38",
                                    "Color": "Silver",
                                    "ListPrice": "364.09"
                                },
                                {
                                    "ProductID": "943",
                                    "Name": "LL Mountain Frame - Black, 40",
                                    "Color": "Black",
                                    "ListPrice": "249.79"
                                },
                                {
                                    "ProductID": "944",
                                    "Name": "LL Mountain Frame - Silver, 40",
                                    "Color": "Silver",
                                    "ListPrice": "264.05"
                                },
                                {
                                    "ProductID": "945",
                                    "Name": "Front Derailleur",
                                    "Color": "Silver",
                                    "ListPrice": "91.49"
                                },
                                {
                                    "ProductID": "948",
                                    "Name": "Front Brakes",
                                    "Color": "Silver",
                                    "ListPrice": "106.50"
                                },
                                {
                                    "ProductID": "949",
                                    "Name": "LL Crankset",
                                    "Color": "Black",
                                    "ListPrice": "175.49"
                                },
                                {
                                    "ProductID": "950",
                                    "Name": "ML Crankset",
                                    "Color": "Black",
                                    "ListPrice": "256.49"
                                },
                                {
                                    "ProductID": "951",
                                    "Name": "HL Crankset",
                                    "Color": "Black",
                                    "ListPrice": "404.99"
                                },
                                {
                                    "ProductID": "952",
                                    "Name": "Chain",
                                    "Color": "Silver",
                                    "ListPrice": "20.24"
                                },
                                {
                                    "ProductID": "953",
                                    "Name": "Touring-2000 Blue, 60",
                                    "Color": "Blue",
                                    "ListPrice": "1214.85"
                                },
                                {
                                    "ProductID": "954",
                                    "Name": "Touring-1000 Yellow, 46",
                                    "Color": "Yellow",
                                    "ListPrice": "2384.07"
                                },
                                {
                                    "ProductID": "955",
                                    "Name": "Touring-1000 Yellow, 50",
                                    "Color": "Yellow",
                                    "ListPrice": "2384.07"
                                },
                                {
                                    "ProductID": "956",
                                    "Name": "Touring-1000 Yellow, 54",
                                    "Color": "Yellow",
                                    "ListPrice": "2384.07"
                                },
                                {
                                    "ProductID": "957",
                                    "Name": "Touring-1000 Yellow, 60",
                                    "Color": "Yellow",
                                    "ListPrice": "2384.07"
                                },
                                {
                                    "ProductID": "958",
                                    "Name": "Touring-3000 Blue, 54",
                                    "Color": "Blue",
                                    "ListPrice": "742.35"
                                },
                                {
                                    "ProductID": "959",
                                    "Name": "Touring-3000 Blue, 58",
                                    "Color": "Blue",
                                    "ListPrice": "742.35"
                                },
                                {
                                    "ProductID": "960",
                                    "Name": "Touring-3000 Blue, 62",
                                    "Color": "Blue",
                                    "ListPrice": "742.35"
                                },
                                {
                                    "ProductID": "961",
                                    "Name": "Touring-3000 Yellow, 44",
                                    "Color": "Yellow",
                                    "ListPrice": "742.35"
                                },
                                {
                                    "ProductID": "962",
                                    "Name": "Touring-3000 Yellow, 50",
                                    "Color": "Yellow",
                                    "ListPrice": "742.35"
                                },
                                {
                                    "ProductID": "963",
                                    "Name": "Touring-3000 Yellow, 54",
                                    "Color": "Yellow",
                                    "ListPrice": "742.35"
                                },
                                {
                                    "ProductID": "964",
                                    "Name": "Touring-3000 Yellow, 58",
                                    "Color": "Yellow",
                                    "ListPrice": "742.35"
                                },
                                {
                                    "ProductID": "965",
                                    "Name": "Touring-3000 Yellow, 62",
                                    "Color": "Yellow",
                                    "ListPrice": "742.35"
                                },
                                {
                                    "ProductID": "966",
                                    "Name": "Touring-1000 Blue, 46",
                                    "Color": "Blue",
                                    "ListPrice": "2384.07"
                                },
                                {
                                    "ProductID": "967",
                                    "Name": "Touring-1000 Blue, 50",
                                    "Color": "Blue",
                                    "ListPrice": "2384.07"
                                },
                                {
                                    "ProductID": "968",
                                    "Name": "Touring-1000 Blue, 54",
                                    "Color": "Blue",
                                    "ListPrice": "2384.07"
                                },
                                {
                                    "ProductID": "969",
                                    "Name": "Touring-1000 Blue, 60",
                                    "Color": "Blue",
                                    "ListPrice": "2384.07"
                                },
                                {
                                    "ProductID": "970",
                                    "Name": "Touring-2000 Blue, 46",
                                    "Color": "Blue",
                                    "ListPrice": "1214.85"
                                },
                                {
                                    "ProductID": "971",
                                    "Name": "Touring-2000 Blue, 50",
                                    "Color": "Blue",
                                    "ListPrice": "1214.85"
                                },
                                {
                                    "ProductID": "972",
                                    "Name": "Touring-2000 Blue, 54",
                                    "Color": "Blue",
                                    "ListPrice": "1214.85"
                                },
                                {
                                    "ProductID": "973",
                                    "Name": "Road-350-W Yellow, 40",
                                    "Color": "Yellow",
                                    "ListPrice": "1700.99"
                                },
                                {
                                    "ProductID": "974",
                                    "Name": "Road-350-W Yellow, 42",
                                    "Color": "Yellow",
                                    "ListPrice": "1700.99"
                                },
                                {
                                    "ProductID": "975",
                                    "Name": "Road-350-W Yellow, 44",
                                    "Color": "Yellow",
                                    "ListPrice": "1700.99"
                                },
                                {
                                    "ProductID": "976",
                                    "Name": "Road-350-W Yellow, 48",
                                    "Color": "Yellow",
                                    "ListPrice": "1700.99"
                                },
                                {
                                    "ProductID": "977",
                                    "Name": "Road-750 Black, 58",
                                    "Color": "Black",
                                    "ListPrice": "539.99"
                                },
                                {
                                    "ProductID": "978",
                                    "Name": "Touring-3000 Blue, 44",
                                    "Color": "Blue",
                                    "ListPrice": "742.35"
                                },
                                {
                                    "ProductID": "979",
                                    "Name": "Touring-3000 Blue, 50",
                                    "Color": "Blue",
                                    "ListPrice": "742.35"
                                },
                                {
                                    "ProductID": "980",
                                    "Name": "Mountain-400-W Silver, 38",
                                    "Color": "Silver",
                                    "ListPrice": "769.49"
                                },
                                {
                                    "ProductID": "981",
                                    "Name": "Mountain-400-W Silver, 40",
                                    "Color": "Silver",
                                    "ListPrice": "769.49"
                                },
                                {
                                    "ProductID": "982",
                                    "Name": "Mountain-400-W Silver, 42",
                                    "Color": "Silver",
                                    "ListPrice": "769.49"
                                },
                                {
                                    "ProductID": "983",
                                    "Name": "Mountain-400-W Silver, 46",
                                    "Color": "Silver",
                                    "ListPrice": "769.49"
                                },
                                {
                                    "ProductID": "984",
                                    "Name": "Mountain-500 Silver, 40",
                                    "Color": "Silver",
                                    "ListPrice": "564.99"
                                },
                                {
                                    "ProductID": "985",
                                    "Name": "Mountain-500 Silver, 42",
                                    "Color": "Silver",
                                    "ListPrice": "564.99"
                                },
                                {
                                    "ProductID": "986",
                                    "Name": "Mountain-500 Silver, 44",
                                    "Color": "Silver",
                                    "ListPrice": "564.99"
                                },
                                {
                                    "ProductID": "987",
                                    "Name": "Mountain-500 Silver, 48",
                                    "Color": "Silver",
                                    "ListPrice": "564.99"
                                },
                                {
                                    "ProductID": "988",
                                    "Name": "Mountain-500 Silver, 52",
                                    "Color": "Silver",
                                    "ListPrice": "564.99"
                                },
                                {
                                    "ProductID": "989",
                                    "Name": "Mountain-500 Black, 40",
                                    "Color": "Black",
                                    "ListPrice": "539.99"
                                },
                                {
                                    "ProductID": "990",
                                    "Name": "Mountain-500 Black, 42",
                                    "Color": "Black",
                                    "ListPrice": "539.99"
                                },
                                {
                                    "ProductID": "991",
                                    "Name": "Mountain-500 Black, 44",
                                    "Color": "Black",
                                    "ListPrice": "539.99"
                                },
                                {
                                    "ProductID": "992",
                                    "Name": "Mountain-500 Black, 48",
                                    "Color": "Black",
                                    "ListPrice": "539.99"
                                },
                                {
                                    "ProductID": "993",
                                    "Name": "Mountain-500 Black, 52",
                                    "Color": "Black",
                                    "ListPrice": "539.99"
                                },
                                {
                                    "ProductID": "997",
                                    "Name": "Road-750 Black, 44",
                                    "Color": "Black",
                                    "ListPrice": "539.99"
                                },
                                {
                                    "ProductID": "998",
                                    "Name": "Road-750 Black, 48",
                                    "Color": "Black",
                                    "ListPrice": "539.99"
                                },
                                {
                                    "ProductID": "999",
                                    "Name": "Road-750 Black, 52",
                                    "Color": "Black",
                                    "ListPrice": "539.99"
                                }
                            ]
                        },
                        "text/html": [
                            "<table>",
                            "<tr><th>ProductID</th><th>Name</th><th>Color</th><th>ListPrice</th></tr>",
                            "<tr><td>680</td><td>HL Road Frame - Black, 58</td><td>Black</td><td>1431.50</td></tr>",
                            "<tr><td>706</td><td>HL Road Frame - Red, 58</td><td>Red</td><td>1431.50</td></tr>",
                            "<tr><td>707</td><td>Sport-100 Helmet, Red</td><td>Red</td><td>34.99</td></tr>",
                            "<tr><td>708</td><td>Sport-100 Helmet, Black</td><td>Black</td><td>34.99</td></tr>",
                            "<tr><td>709</td><td>Mountain Bike Socks, M</td><td>White</td><td>9.50</td></tr>",
                            "<tr><td>710</td><td>Mountain Bike Socks, L</td><td>White</td><td>9.50</td></tr>",
                            "<tr><td>711</td><td>Sport-100 Helmet, Blue</td><td>Blue</td><td>34.99</td></tr>",
                            "<tr><td>712</td><td>AWC Logo Cap</td><td>Multi</td><td>8.99</td></tr>",
                            "<tr><td>713</td><td>Long-Sleeve Logo Jersey, S</td><td>Multi</td><td>49.99</td></tr>",
                            "<tr><td>714</td><td>Long-Sleeve Logo Jersey, M</td><td>Multi</td><td>49.99</td></tr>",
                            "<tr><td>715</td><td>Long-Sleeve Logo Jersey, L</td><td>Multi</td><td>49.99</td></tr>",
                            "<tr><td>716</td><td>Long-Sleeve Logo Jersey, XL</td><td>Multi</td><td>49.99</td></tr>",
                            "<tr><td>717</td><td>HL Road Frame - Red, 62</td><td>Red</td><td>1431.50</td></tr>",
                            "<tr><td>718</td><td>HL Road Frame - Red, 44</td><td>Red</td><td>1431.50</td></tr>",
                            "<tr><td>719</td><td>HL Road Frame - Red, 48</td><td>Red</td><td>1431.50</td></tr>",
                            "<tr><td>720</td><td>HL Road Frame - Red, 52</td><td>Red</td><td>1431.50</td></tr>",
                            "<tr><td>721</td><td>HL Road Frame - Red, 56</td><td>Red</td><td>1431.50</td></tr>",
                            "<tr><td>722</td><td>LL Road Frame - Black, 58</td><td>Black</td><td>337.22</td></tr>",
                            "<tr><td>723</td><td>LL Road Frame - Black, 60</td><td>Black</td><td>337.22</td></tr>",
                            "<tr><td>724</td><td>LL Road Frame - Black, 62</td><td>Black</td><td>337.22</td></tr>",
                            "<tr><td>725</td><td>LL Road Frame - Red, 44</td><td>Red</td><td>337.22</td></tr>",
                            "<tr><td>726</td><td>LL Road Frame - Red, 48</td><td>Red</td><td>337.22</td></tr>",
                            "<tr><td>727</td><td>LL Road Frame - Red, 52</td><td>Red</td><td>337.22</td></tr>",
                            "<tr><td>728</td><td>LL Road Frame - Red, 58</td><td>Red</td><td>337.22</td></tr>",
                            "<tr><td>729</td><td>LL Road Frame - Red, 60</td><td>Red</td><td>337.22</td></tr>",
                            "<tr><td>730</td><td>LL Road Frame - Red, 62</td><td>Red</td><td>337.22</td></tr>",
                            "<tr><td>731</td><td>ML Road Frame - Red, 44</td><td>Red</td><td>594.83</td></tr>",
                            "<tr><td>732</td><td>ML Road Frame - Red, 48</td><td>Red</td><td>594.83</td></tr>",
                            "<tr><td>733</td><td>ML Road Frame - Red, 52</td><td>Red</td><td>594.83</td></tr>",
                            "<tr><td>734</td><td>ML Road Frame - Red, 58</td><td>Red</td><td>594.83</td></tr>",
                            "<tr><td>735</td><td>ML Road Frame - Red, 60</td><td>Red</td><td>594.83</td></tr>",
                            "<tr><td>736</td><td>LL Road Frame - Black, 44</td><td>Black</td><td>337.22</td></tr>",
                            "<tr><td>737</td><td>LL Road Frame - Black, 48</td><td>Black</td><td>337.22</td></tr>",
                            "<tr><td>738</td><td>LL Road Frame - Black, 52</td><td>Black</td><td>337.22</td></tr>",
                            "<tr><td>739</td><td>HL Mountain Frame - Silver, 42</td><td>Silver</td><td>1364.50</td></tr>",
                            "<tr><td>740</td><td>HL Mountain Frame - Silver, 44</td><td>Silver</td><td>1364.50</td></tr>",
                            "<tr><td>741</td><td>HL Mountain Frame - Silver, 48</td><td>Silver</td><td>1364.50</td></tr>",
                            "<tr><td>742</td><td>HL Mountain Frame - Silver, 46</td><td>Silver</td><td>1364.50</td></tr>",
                            "<tr><td>743</td><td>HL Mountain Frame - Black, 42</td><td>Black</td><td>1349.60</td></tr>",
                            "<tr><td>744</td><td>HL Mountain Frame - Black, 44</td><td>Black</td><td>1349.60</td></tr>",
                            "<tr><td>745</td><td>HL Mountain Frame - Black, 48</td><td>Black</td><td>1349.60</td></tr>",
                            "<tr><td>746</td><td>HL Mountain Frame - Black, 46</td><td>Black</td><td>1349.60</td></tr>",
                            "<tr><td>747</td><td>HL Mountain Frame - Black, 38</td><td>Black</td><td>1349.60</td></tr>",
                            "<tr><td>748</td><td>HL Mountain Frame - Silver, 38</td><td>Silver</td><td>1364.50</td></tr>",
                            "<tr><td>749</td><td>Road-150 Red, 62</td><td>Red</td><td>3578.27</td></tr>",
                            "<tr><td>750</td><td>Road-150 Red, 44</td><td>Red</td><td>3578.27</td></tr>",
                            "<tr><td>751</td><td>Road-150 Red, 48</td><td>Red</td><td>3578.27</td></tr>",
                            "<tr><td>752</td><td>Road-150 Red, 52</td><td>Red</td><td>3578.27</td></tr>",
                            "<tr><td>753</td><td>Road-150 Red, 56</td><td>Red</td><td>3578.27</td></tr>",
                            "<tr><td>754</td><td>Road-450 Red, 58</td><td>Red</td><td>1457.99</td></tr>",
                            "<tr><td>755</td><td>Road-450 Red, 60</td><td>Red</td><td>1457.99</td></tr>",
                            "<tr><td>756</td><td>Road-450 Red, 44</td><td>Red</td><td>1457.99</td></tr>",
                            "<tr><td>757</td><td>Road-450 Red, 48</td><td>Red</td><td>1457.99</td></tr>",
                            "<tr><td>758</td><td>Road-450 Red, 52</td><td>Red</td><td>1457.99</td></tr>",
                            "<tr><td>759</td><td>Road-650 Red, 58</td><td>Red</td><td>782.99</td></tr>",
                            "<tr><td>760</td><td>Road-650 Red, 60</td><td>Red</td><td>782.99</td></tr>",
                            "<tr><td>761</td><td>Road-650 Red, 62</td><td>Red</td><td>782.99</td></tr>",
                            "<tr><td>762</td><td>Road-650 Red, 44</td><td>Red</td><td>782.99</td></tr>",
                            "<tr><td>763</td><td>Road-650 Red, 48</td><td>Red</td><td>782.99</td></tr>",
                            "<tr><td>764</td><td>Road-650 Red, 52</td><td>Red</td><td>782.99</td></tr>",
                            "<tr><td>765</td><td>Road-650 Black, 58</td><td>Black</td><td>782.99</td></tr>",
                            "<tr><td>766</td><td>Road-650 Black, 60</td><td>Black</td><td>782.99</td></tr>",
                            "<tr><td>767</td><td>Road-650 Black, 62</td><td>Black</td><td>782.99</td></tr>",
                            "<tr><td>768</td><td>Road-650 Black, 44</td><td>Black</td><td>782.99</td></tr>",
                            "<tr><td>769</td><td>Road-650 Black, 48</td><td>Black</td><td>782.99</td></tr>",
                            "<tr><td>770</td><td>Road-650 Black, 52</td><td>Black</td><td>782.99</td></tr>",
                            "<tr><td>771</td><td>Mountain-100 Silver, 38</td><td>Silver</td><td>3399.99</td></tr>",
                            "<tr><td>772</td><td>Mountain-100 Silver, 42</td><td>Silver</td><td>3399.99</td></tr>",
                            "<tr><td>773</td><td>Mountain-100 Silver, 44</td><td>Silver</td><td>3399.99</td></tr>",
                            "<tr><td>774</td><td>Mountain-100 Silver, 48</td><td>Silver</td><td>3399.99</td></tr>",
                            "<tr><td>775</td><td>Mountain-100 Black, 38</td><td>Black</td><td>3374.99</td></tr>",
                            "<tr><td>776</td><td>Mountain-100 Black, 42</td><td>Black</td><td>3374.99</td></tr>",
                            "<tr><td>777</td><td>Mountain-100 Black, 44</td><td>Black</td><td>3374.99</td></tr>",
                            "<tr><td>778</td><td>Mountain-100 Black, 48</td><td>Black</td><td>3374.99</td></tr>",
                            "<tr><td>779</td><td>Mountain-200 Silver, 38</td><td>Silver</td><td>2319.99</td></tr>",
                            "<tr><td>780</td><td>Mountain-200 Silver, 42</td><td>Silver</td><td>2319.99</td></tr>",
                            "<tr><td>781</td><td>Mountain-200 Silver, 46</td><td>Silver</td><td>2319.99</td></tr>",
                            "<tr><td>782</td><td>Mountain-200 Black, 38</td><td>Black</td><td>2294.99</td></tr>",
                            "<tr><td>783</td><td>Mountain-200 Black, 42</td><td>Black</td><td>2294.99</td></tr>",
                            "<tr><td>784</td><td>Mountain-200 Black, 46</td><td>Black</td><td>2294.99</td></tr>",
                            "<tr><td>785</td><td>Mountain-300 Black, 38</td><td>Black</td><td>1079.99</td></tr>",
                            "<tr><td>786</td><td>Mountain-300 Black, 40</td><td>Black</td><td>1079.99</td></tr>",
                            "<tr><td>787</td><td>Mountain-300 Black, 44</td><td>Black</td><td>1079.99</td></tr>",
                            "<tr><td>788</td><td>Mountain-300 Black, 48</td><td>Black</td><td>1079.99</td></tr>",
                            "<tr><td>789</td><td>Road-250 Red, 44</td><td>Red</td><td>2443.35</td></tr>",
                            "<tr><td>790</td><td>Road-250 Red, 48</td><td>Red</td><td>2443.35</td></tr>",
                            "<tr><td>791</td><td>Road-250 Red, 52</td><td>Red</td><td>2443.35</td></tr>",
                            "<tr><td>792</td><td>Road-250 Red, 58</td><td>Red</td><td>2443.35</td></tr>",
                            "<tr><td>793</td><td>Road-250 Black, 44</td><td>Black</td><td>2443.35</td></tr>",
                            "<tr><td>794</td><td>Road-250 Black, 48</td><td>Black</td><td>2443.35</td></tr>",
                            "<tr><td>795</td><td>Road-250 Black, 52</td><td>Black</td><td>2443.35</td></tr>",
                            "<tr><td>796</td><td>Road-250 Black, 58</td><td>Black</td><td>2443.35</td></tr>",
                            "<tr><td>797</td><td>Road-550-W Yellow, 38</td><td>Yellow</td><td>1120.49</td></tr>",
                            "<tr><td>798</td><td>Road-550-W Yellow, 40</td><td>Yellow</td><td>1120.49</td></tr>",
                            "<tr><td>799</td><td>Road-550-W Yellow, 42</td><td>Yellow</td><td>1120.49</td></tr>",
                            "<tr><td>800</td><td>Road-550-W Yellow, 44</td><td>Yellow</td><td>1120.49</td></tr>",
                            "<tr><td>801</td><td>Road-550-W Yellow, 48</td><td>Yellow</td><td>1120.49</td></tr>",
                            "<tr><td>814</td><td>ML Mountain Frame - Black, 38</td><td>Black</td><td>348.76</td></tr>",
                            "<tr><td>815</td><td>LL Mountain Front Wheel</td><td>Black</td><td>60.745</td></tr>",
                            "<tr><td>816</td><td>ML Mountain Front Wheel</td><td>Black</td><td>209.025</td></tr>",
                            "<tr><td>817</td><td>HL Mountain Front Wheel</td><td>Black</td><td>300.215</td></tr>",
                            "<tr><td>818</td><td>LL Road Front Wheel</td><td>Black</td><td>85.565</td></tr>",
                            "<tr><td>819</td><td>ML Road Front Wheel</td><td>Black</td><td>248.385</td></tr>",
                            "<tr><td>820</td><td>HL Road Front Wheel</td><td>Black</td><td>330.06</td></tr>",
                            "<tr><td>821</td><td>Touring Front Wheel</td><td>Black</td><td>218.01</td></tr>",
                            "<tr><td>822</td><td>ML Road Frame-W - Yellow, 38</td><td>Yellow</td><td>594.83</td></tr>",
                            "<tr><td>823</td><td>LL Mountain Rear Wheel</td><td>Black</td><td>87.745</td></tr>",
                            "<tr><td>824</td><td>ML Mountain Rear Wheel</td><td>Black</td><td>236.025</td></tr>",
                            "<tr><td>825</td><td>HL Mountain Rear Wheel</td><td>Black</td><td>327.215</td></tr>",
                            "<tr><td>826</td><td>LL Road Rear Wheel</td><td>Black</td><td>112.565</td></tr>",
                            "<tr><td>827</td><td>ML Road Rear Wheel</td><td>Black</td><td>275.385</td></tr>",
                            "<tr><td>828</td><td>HL Road Rear Wheel</td><td>Black</td><td>357.06</td></tr>",
                            "<tr><td>829</td><td>Touring Rear Wheel</td><td>Black</td><td>245.01</td></tr>",
                            "<tr><td>830</td><td>ML Mountain Frame - Black, 40</td><td>Black</td><td>348.76</td></tr>",
                            "<tr><td>831</td><td>ML Mountain Frame - Black, 44</td><td>Black</td><td>348.76</td></tr>",
                            "<tr><td>832</td><td>ML Mountain Frame - Black, 48</td><td>Black</td><td>348.76</td></tr>",
                            "<tr><td>833</td><td>ML Road Frame-W - Yellow, 40</td><td>Yellow</td><td>594.83</td></tr>",
                            "<tr><td>834</td><td>ML Road Frame-W - Yellow, 42</td><td>Yellow</td><td>594.83</td></tr>",
                            "<tr><td>835</td><td>ML Road Frame-W - Yellow, 44</td><td>Yellow</td><td>594.83</td></tr>",
                            "<tr><td>836</td><td>ML Road Frame-W - Yellow, 48</td><td>Yellow</td><td>594.83</td></tr>",
                            "<tr><td>837</td><td>HL Road Frame - Black, 62</td><td>Black</td><td>1431.50</td></tr>",
                            "<tr><td>838</td><td>HL Road Frame - Black, 44</td><td>Black</td><td>1431.50</td></tr>",
                            "<tr><td>839</td><td>HL Road Frame - Black, 48</td><td>Black</td><td>1431.50</td></tr>",
                            "<tr><td>840</td><td>HL Road Frame - Black, 52</td><td>Black</td><td>1431.50</td></tr>",
                            "<tr><td>841</td><td>Men&#39;s Sports Shorts, S</td><td>Black</td><td>59.99</td></tr>",
                            "<tr><td>842</td><td>Touring-Panniers, Large</td><td>Grey</td><td>125.00</td></tr>",
                            "<tr><td>849</td><td>Men&#39;s Sports Shorts, M</td><td>Black</td><td>59.99</td></tr>",
                            "<tr><td>850</td><td>Men&#39;s Sports Shorts, L</td><td>Black</td><td>59.99</td></tr>",
                            "<tr><td>851</td><td>Men&#39;s Sports Shorts, XL</td><td>Black</td><td>59.99</td></tr>",
                            "<tr><td>852</td><td>Women&#39;s Tights, S</td><td>Black</td><td>74.99</td></tr>",
                            "<tr><td>853</td><td>Women&#39;s Tights, M</td><td>Black</td><td>74.99</td></tr>",
                            "<tr><td>854</td><td>Women&#39;s Tights, L</td><td>Black</td><td>74.99</td></tr>",
                            "<tr><td>855</td><td>Men&#39;s Bib-Shorts, S</td><td>Multi</td><td>89.99</td></tr>",
                            "<tr><td>856</td><td>Men&#39;s Bib-Shorts, M</td><td>Multi</td><td>89.99</td></tr>",
                            "<tr><td>857</td><td>Men&#39;s Bib-Shorts, L</td><td>Multi</td><td>89.99</td></tr>",
                            "<tr><td>858</td><td>Half-Finger Gloves, S</td><td>Black</td><td>24.49</td></tr>",
                            "<tr><td>859</td><td>Half-Finger Gloves, M</td><td>Black</td><td>24.49</td></tr>",
                            "<tr><td>860</td><td>Half-Finger Gloves, L</td><td>Black</td><td>24.49</td></tr>",
                            "<tr><td>861</td><td>Full-Finger Gloves, S</td><td>Black</td><td>37.99</td></tr>",
                            "<tr><td>862</td><td>Full-Finger Gloves, M</td><td>Black</td><td>37.99</td></tr>",
                            "<tr><td>863</td><td>Full-Finger Gloves, L</td><td>Black</td><td>37.99</td></tr>",
                            "<tr><td>864</td><td>Classic Vest, S</td><td>Blue</td><td>63.50</td></tr>",
                            "<tr><td>865</td><td>Classic Vest, M</td><td>Blue</td><td>63.50</td></tr>",
                            "<tr><td>866</td><td>Classic Vest, L</td><td>Blue</td><td>63.50</td></tr>",
                            "<tr><td>867</td><td>Women&#39;s Mountain Shorts, S</td><td>Black</td><td>69.99</td></tr>",
                            "<tr><td>868</td><td>Women&#39;s Mountain Shorts, M</td><td>Black</td><td>69.99</td></tr>",
                            "<tr><td>869</td><td>Women&#39;s Mountain Shorts, L</td><td>Black</td><td>69.99</td></tr>",
                            "<tr><td>874</td><td>Racing Socks, M</td><td>White</td><td>8.99</td></tr>",
                            "<tr><td>875</td><td>Racing Socks, L</td><td>White</td><td>8.99</td></tr>",
                            "<tr><td>880</td><td>Hydration Pack - 70 oz.</td><td>Silver</td><td>54.99</td></tr>",
                            "<tr><td>881</td><td>Short-Sleeve Classic Jersey, S</td><td>Yellow</td><td>53.99</td></tr>",
                            "<tr><td>882</td><td>Short-Sleeve Classic Jersey, M</td><td>Yellow</td><td>53.99</td></tr>",
                            "<tr><td>883</td><td>Short-Sleeve Classic Jersey, L</td><td>Yellow</td><td>53.99</td></tr>",
                            "<tr><td>884</td><td>Short-Sleeve Classic Jersey, XL</td><td>Yellow</td><td>53.99</td></tr>",
                            "<tr><td>885</td><td>HL Touring Frame - Yellow, 60</td><td>Yellow</td><td>1003.91</td></tr>",
                            "<tr><td>886</td><td>LL Touring Frame - Yellow, 62</td><td>Yellow</td><td>333.42</td></tr>",
                            "<tr><td>887</td><td>HL Touring Frame - Yellow, 46</td><td>Yellow</td><td>1003.91</td></tr>",
                            "<tr><td>888</td><td>HL Touring Frame - Yellow, 50</td><td>Yellow</td><td>1003.91</td></tr>",
                            "<tr><td>889</td><td>HL Touring Frame - Yellow, 54</td><td>Yellow</td><td>1003.91</td></tr>",
                            "<tr><td>890</td><td>HL Touring Frame - Blue, 46</td><td>Blue</td><td>1003.91</td></tr>",
                            "<tr><td>891</td><td>HL Touring Frame - Blue, 50</td><td>Blue</td><td>1003.91</td></tr>",
                            "<tr><td>892</td><td>HL Touring Frame - Blue, 54</td><td>Blue</td><td>1003.91</td></tr>",
                            "<tr><td>893</td><td>HL Touring Frame - Blue, 60</td><td>Blue</td><td>1003.91</td></tr>",
                            "<tr><td>894</td><td>Rear Derailleur</td><td>Silver</td><td>121.46</td></tr>",
                            "<tr><td>895</td><td>LL Touring Frame - Blue, 50</td><td>Blue</td><td>333.42</td></tr>",
                            "<tr><td>896</td><td>LL Touring Frame - Blue, 54</td><td>Blue</td><td>333.42</td></tr>",
                            "<tr><td>897</td><td>LL Touring Frame - Blue, 58</td><td>Blue</td><td>333.42</td></tr>",
                            "<tr><td>898</td><td>LL Touring Frame - Blue, 62</td><td>Blue</td><td>333.42</td></tr>",
                            "<tr><td>899</td><td>LL Touring Frame - Yellow, 44</td><td>Yellow</td><td>333.42</td></tr>",
                            "<tr><td>900</td><td>LL Touring Frame - Yellow, 50</td><td>Yellow</td><td>333.42</td></tr>",
                            "<tr><td>901</td><td>LL Touring Frame - Yellow, 54</td><td>Yellow</td><td>333.42</td></tr>",
                            "<tr><td>902</td><td>LL Touring Frame - Yellow, 58</td><td>Yellow</td><td>333.42</td></tr>",
                            "<tr><td>903</td><td>LL Touring Frame - Blue, 44</td><td>Blue</td><td>333.42</td></tr>",
                            "<tr><td>904</td><td>ML Mountain Frame-W - Silver, 40</td><td>Silver</td><td>364.09</td></tr>",
                            "<tr><td>905</td><td>ML Mountain Frame-W - Silver, 42</td><td>Silver</td><td>364.09</td></tr>",
                            "<tr><td>906</td><td>ML Mountain Frame-W - Silver, 46</td><td>Silver</td><td>364.09</td></tr>",
                            "<tr><td>907</td><td>Rear Brakes</td><td>Silver</td><td>106.50</td></tr>",
                            "<tr><td>917</td><td>LL Mountain Frame - Silver, 42</td><td>Silver</td><td>264.05</td></tr>",
                            "<tr><td>918</td><td>LL Mountain Frame - Silver, 44</td><td>Silver</td><td>264.05</td></tr>",
                            "<tr><td>919</td><td>LL Mountain Frame - Silver, 48</td><td>Silver</td><td>264.05</td></tr>",
                            "<tr><td>920</td><td>LL Mountain Frame - Silver, 52</td><td>Silver</td><td>264.05</td></tr>",
                            "<tr><td>924</td><td>LL Mountain Frame - Black, 42</td><td>Black</td><td>249.79</td></tr>",
                            "<tr><td>925</td><td>LL Mountain Frame - Black, 44</td><td>Black</td><td>249.79</td></tr>",
                            "<tr><td>926</td><td>LL Mountain Frame - Black, 48</td><td>Black</td><td>249.79</td></tr>",
                            "<tr><td>927</td><td>LL Mountain Frame - Black, 52</td><td>Black</td><td>249.79</td></tr>",
                            "<tr><td>935</td><td>LL Mountain Pedal</td><td>Silver/Black</td><td>40.49</td></tr>",
                            "<tr><td>936</td><td>ML Mountain Pedal</td><td>Silver/Black</td><td>62.09</td></tr>",
                            "<tr><td>937</td><td>HL Mountain Pedal</td><td>Silver/Black</td><td>80.99</td></tr>",
                            "<tr><td>938</td><td>LL Road Pedal</td><td>Silver/Black</td><td>40.49</td></tr>",
                            "<tr><td>939</td><td>ML Road Pedal</td><td>Silver/Black</td><td>62.09</td></tr>",
                            "<tr><td>940</td><td>HL Road Pedal</td><td>Silver/Black</td><td>80.99</td></tr>",
                            "<tr><td>941</td><td>Touring Pedal</td><td>Silver/Black</td><td>80.99</td></tr>",
                            "<tr><td>942</td><td>ML Mountain Frame-W - Silver, 38</td><td>Silver</td><td>364.09</td></tr>",
                            "<tr><td>943</td><td>LL Mountain Frame - Black, 40</td><td>Black</td><td>249.79</td></tr>",
                            "<tr><td>944</td><td>LL Mountain Frame - Silver, 40</td><td>Silver</td><td>264.05</td></tr>",
                            "<tr><td>945</td><td>Front Derailleur</td><td>Silver</td><td>91.49</td></tr>",
                            "<tr><td>948</td><td>Front Brakes</td><td>Silver</td><td>106.50</td></tr>",
                            "<tr><td>949</td><td>LL Crankset</td><td>Black</td><td>175.49</td></tr>",
                            "<tr><td>950</td><td>ML Crankset</td><td>Black</td><td>256.49</td></tr>",
                            "<tr><td>951</td><td>HL Crankset</td><td>Black</td><td>404.99</td></tr>",
                            "<tr><td>952</td><td>Chain</td><td>Silver</td><td>20.24</td></tr>",
                            "<tr><td>953</td><td>Touring-2000 Blue, 60</td><td>Blue</td><td>1214.85</td></tr>",
                            "<tr><td>954</td><td>Touring-1000 Yellow, 46</td><td>Yellow</td><td>2384.07</td></tr>",
                            "<tr><td>955</td><td>Touring-1000 Yellow, 50</td><td>Yellow</td><td>2384.07</td></tr>",
                            "<tr><td>956</td><td>Touring-1000 Yellow, 54</td><td>Yellow</td><td>2384.07</td></tr>",
                            "<tr><td>957</td><td>Touring-1000 Yellow, 60</td><td>Yellow</td><td>2384.07</td></tr>",
                            "<tr><td>958</td><td>Touring-3000 Blue, 54</td><td>Blue</td><td>742.35</td></tr>",
                            "<tr><td>959</td><td>Touring-3000 Blue, 58</td><td>Blue</td><td>742.35</td></tr>",
                            "<tr><td>960</td><td>Touring-3000 Blue, 62</td><td>Blue</td><td>742.35</td></tr>",
                            "<tr><td>961</td><td>Touring-3000 Yellow, 44</td><td>Yellow</td><td>742.35</td></tr>",
                            "<tr><td>962</td><td>Touring-3000 Yellow, 50</td><td>Yellow</td><td>742.35</td></tr>",
                            "<tr><td>963</td><td>Touring-3000 Yellow, 54</td><td>Yellow</td><td>742.35</td></tr>",
                            "<tr><td>964</td><td>Touring-3000 Yellow, 58</td><td>Yellow</td><td>742.35</td></tr>",
                            "<tr><td>965</td><td>Touring-3000 Yellow, 62</td><td>Yellow</td><td>742.35</td></tr>",
                            "<tr><td>966</td><td>Touring-1000 Blue, 46</td><td>Blue</td><td>2384.07</td></tr>",
                            "<tr><td>967</td><td>Touring-1000 Blue, 50</td><td>Blue</td><td>2384.07</td></tr>",
                            "<tr><td>968</td><td>Touring-1000 Blue, 54</td><td>Blue</td><td>2384.07</td></tr>",
                            "<tr><td>969</td><td>Touring-1000 Blue, 60</td><td>Blue</td><td>2384.07</td></tr>",
                            "<tr><td>970</td><td>Touring-2000 Blue, 46</td><td>Blue</td><td>1214.85</td></tr>",
                            "<tr><td>971</td><td>Touring-2000 Blue, 50</td><td>Blue</td><td>1214.85</td></tr>",
                            "<tr><td>972</td><td>Touring-2000 Blue, 54</td><td>Blue</td><td>1214.85</td></tr>",
                            "<tr><td>973</td><td>Road-350-W Yellow, 40</td><td>Yellow</td><td>1700.99</td></tr>",
                            "<tr><td>974</td><td>Road-350-W Yellow, 42</td><td>Yellow</td><td>1700.99</td></tr>",
                            "<tr><td>975</td><td>Road-350-W Yellow, 44</td><td>Yellow</td><td>1700.99</td></tr>",
                            "<tr><td>976</td><td>Road-350-W Yellow, 48</td><td>Yellow</td><td>1700.99</td></tr>",
                            "<tr><td>977</td><td>Road-750 Black, 58</td><td>Black</td><td>539.99</td></tr>",
                            "<tr><td>978</td><td>Touring-3000 Blue, 44</td><td>Blue</td><td>742.35</td></tr>",
                            "<tr><td>979</td><td>Touring-3000 Blue, 50</td><td>Blue</td><td>742.35</td></tr>",
                            "<tr><td>980</td><td>Mountain-400-W Silver, 38</td><td>Silver</td><td>769.49</td></tr>",
                            "<tr><td>981</td><td>Mountain-400-W Silver, 40</td><td>Silver</td><td>769.49</td></tr>",
                            "<tr><td>982</td><td>Mountain-400-W Silver, 42</td><td>Silver</td><td>769.49</td></tr>",
                            "<tr><td>983</td><td>Mountain-400-W Silver, 46</td><td>Silver</td><td>769.49</td></tr>",
                            "<tr><td>984</td><td>Mountain-500 Silver, 40</td><td>Silver</td><td>564.99</td></tr>",
                            "<tr><td>985</td><td>Mountain-500 Silver, 42</td><td>Silver</td><td>564.99</td></tr>",
                            "<tr><td>986</td><td>Mountain-500 Silver, 44</td><td>Silver</td><td>564.99</td></tr>",
                            "<tr><td>987</td><td>Mountain-500 Silver, 48</td><td>Silver</td><td>564.99</td></tr>",
                            "<tr><td>988</td><td>Mountain-500 Silver, 52</td><td>Silver</td><td>564.99</td></tr>",
                            "<tr><td>989</td><td>Mountain-500 Black, 40</td><td>Black</td><td>539.99</td></tr>",
                            "<tr><td>990</td><td>Mountain-500 Black, 42</td><td>Black</td><td>539.99</td></tr>",
                            "<tr><td>991</td><td>Mountain-500 Black, 44</td><td>Black</td><td>539.99</td></tr>",
                            "<tr><td>992</td><td>Mountain-500 Black, 48</td><td>Black</td><td>539.99</td></tr>",
                            "<tr><td>993</td><td>Mountain-500 Black, 52</td><td>Black</td><td>539.99</td></tr>",
                            "<tr><td>997</td><td>Road-750 Black, 44</td><td>Black</td><td>539.99</td></tr>",
                            "<tr><td>998</td><td>Road-750 Black, 48</td><td>Black</td><td>539.99</td></tr>",
                            "<tr><td>999</td><td>Road-750 Black, 52</td><td>Black</td><td>539.99</td></tr>",
                            "</table>"
                        ]
                    }
                }
            ],
            "execution_count": 86
        },
        {
            "cell_type": "markdown",
            "source": [
                "6.  Write a query that concatenates the columns Name and Color from the Production.Product table by excluding the rows that are null for color.\n"
            ],
            "metadata": {
                "azdata_cell_guid": "835df6bb-a82a-4231-a6e3-4ccd03c42284",
                "language": ""
            },
            "attachments": {}
        },
        {
            "cell_type": "code",
            "source": [
                "SELECT Name + ' ' + Color \n",
                "FROM Production.Product\n",
                "WHERE color IS NOT NULL"
            ],
            "metadata": {
                "azdata_cell_guid": "4dcaa317-04e2-40d5-aeaf-a3b921e26498",
                "language": "sql",
                "tags": []
            },
            "outputs": [
                {
                    "output_type": "display_data",
                    "data": {
                        "text/html": "(256 rows affected)"
                    },
                    "metadata": {}
                },
                {
                    "output_type": "display_data",
                    "data": {
                        "text/html": "Total execution time: 00:00:00.009"
                    },
                    "metadata": {}
                },
                {
                    "output_type": "execute_result",
                    "metadata": {},
                    "execution_count": 87,
                    "data": {
                        "application/vnd.dataresource+json": {
                            "schema": {
                                "fields": [
                                    {
                                        "name": "(No column name)"
                                    }
                                ]
                            },
                            "data": [
                                {
                                    "(No column name)": "LL Crankarm Black"
                                },
                                {
                                    "(No column name)": "ML Crankarm Black"
                                },
                                {
                                    "(No column name)": "HL Crankarm Black"
                                },
                                {
                                    "(No column name)": "Chainring Bolts Silver"
                                },
                                {
                                    "(No column name)": "Chainring Nut Silver"
                                },
                                {
                                    "(No column name)": "Chainring Black"
                                },
                                {
                                    "(No column name)": "Freewheel Silver"
                                },
                                {
                                    "(No column name)": "Front Derailleur Cage Silver"
                                },
                                {
                                    "(No column name)": "Front Derailleur Linkage Silver"
                                },
                                {
                                    "(No column name)": "Lock Ring Silver"
                                },
                                {
                                    "(No column name)": "Rear Derailleur Cage Silver"
                                },
                                {
                                    "(No column name)": "HL Road Frame - Black, 58 Black"
                                },
                                {
                                    "(No column name)": "HL Road Frame - Red, 58 Red"
                                },
                                {
                                    "(No column name)": "Sport-100 Helmet, Red Red"
                                },
                                {
                                    "(No column name)": "Sport-100 Helmet, Black Black"
                                },
                                {
                                    "(No column name)": "Mountain Bike Socks, M White"
                                },
                                {
                                    "(No column name)": "Mountain Bike Socks, L White"
                                },
                                {
                                    "(No column name)": "Sport-100 Helmet, Blue Blue"
                                },
                                {
                                    "(No column name)": "AWC Logo Cap Multi"
                                },
                                {
                                    "(No column name)": "Long-Sleeve Logo Jersey, S Multi"
                                },
                                {
                                    "(No column name)": "Long-Sleeve Logo Jersey, M Multi"
                                },
                                {
                                    "(No column name)": "Long-Sleeve Logo Jersey, L Multi"
                                },
                                {
                                    "(No column name)": "Long-Sleeve Logo Jersey, XL Multi"
                                },
                                {
                                    "(No column name)": "HL Road Frame - Red, 62 Red"
                                },
                                {
                                    "(No column name)": "HL Road Frame - Red, 44 Red"
                                },
                                {
                                    "(No column name)": "HL Road Frame - Red, 48 Red"
                                },
                                {
                                    "(No column name)": "HL Road Frame - Red, 52 Red"
                                },
                                {
                                    "(No column name)": "HL Road Frame - Red, 56 Red"
                                },
                                {
                                    "(No column name)": "LL Road Frame - Black, 58 Black"
                                },
                                {
                                    "(No column name)": "LL Road Frame - Black, 60 Black"
                                },
                                {
                                    "(No column name)": "LL Road Frame - Black, 62 Black"
                                },
                                {
                                    "(No column name)": "LL Road Frame - Red, 44 Red"
                                },
                                {
                                    "(No column name)": "LL Road Frame - Red, 48 Red"
                                },
                                {
                                    "(No column name)": "LL Road Frame - Red, 52 Red"
                                },
                                {
                                    "(No column name)": "LL Road Frame - Red, 58 Red"
                                },
                                {
                                    "(No column name)": "LL Road Frame - Red, 60 Red"
                                },
                                {
                                    "(No column name)": "LL Road Frame - Red, 62 Red"
                                },
                                {
                                    "(No column name)": "ML Road Frame - Red, 44 Red"
                                },
                                {
                                    "(No column name)": "ML Road Frame - Red, 48 Red"
                                },
                                {
                                    "(No column name)": "ML Road Frame - Red, 52 Red"
                                },
                                {
                                    "(No column name)": "ML Road Frame - Red, 58 Red"
                                },
                                {
                                    "(No column name)": "ML Road Frame - Red, 60 Red"
                                },
                                {
                                    "(No column name)": "LL Road Frame - Black, 44 Black"
                                },
                                {
                                    "(No column name)": "LL Road Frame - Black, 48 Black"
                                },
                                {
                                    "(No column name)": "LL Road Frame - Black, 52 Black"
                                },
                                {
                                    "(No column name)": "HL Mountain Frame - Silver, 42 Silver"
                                },
                                {
                                    "(No column name)": "HL Mountain Frame - Silver, 44 Silver"
                                },
                                {
                                    "(No column name)": "HL Mountain Frame - Silver, 48 Silver"
                                },
                                {
                                    "(No column name)": "HL Mountain Frame - Silver, 46 Silver"
                                },
                                {
                                    "(No column name)": "HL Mountain Frame - Black, 42 Black"
                                },
                                {
                                    "(No column name)": "HL Mountain Frame - Black, 44 Black"
                                },
                                {
                                    "(No column name)": "HL Mountain Frame - Black, 48 Black"
                                },
                                {
                                    "(No column name)": "HL Mountain Frame - Black, 46 Black"
                                },
                                {
                                    "(No column name)": "HL Mountain Frame - Black, 38 Black"
                                },
                                {
                                    "(No column name)": "HL Mountain Frame - Silver, 38 Silver"
                                },
                                {
                                    "(No column name)": "Road-150 Red, 62 Red"
                                },
                                {
                                    "(No column name)": "Road-150 Red, 44 Red"
                                },
                                {
                                    "(No column name)": "Road-150 Red, 48 Red"
                                },
                                {
                                    "(No column name)": "Road-150 Red, 52 Red"
                                },
                                {
                                    "(No column name)": "Road-150 Red, 56 Red"
                                },
                                {
                                    "(No column name)": "Road-450 Red, 58 Red"
                                },
                                {
                                    "(No column name)": "Road-450 Red, 60 Red"
                                },
                                {
                                    "(No column name)": "Road-450 Red, 44 Red"
                                },
                                {
                                    "(No column name)": "Road-450 Red, 48 Red"
                                },
                                {
                                    "(No column name)": "Road-450 Red, 52 Red"
                                },
                                {
                                    "(No column name)": "Road-650 Red, 58 Red"
                                },
                                {
                                    "(No column name)": "Road-650 Red, 60 Red"
                                },
                                {
                                    "(No column name)": "Road-650 Red, 62 Red"
                                },
                                {
                                    "(No column name)": "Road-650 Red, 44 Red"
                                },
                                {
                                    "(No column name)": "Road-650 Red, 48 Red"
                                },
                                {
                                    "(No column name)": "Road-650 Red, 52 Red"
                                },
                                {
                                    "(No column name)": "Road-650 Black, 58 Black"
                                },
                                {
                                    "(No column name)": "Road-650 Black, 60 Black"
                                },
                                {
                                    "(No column name)": "Road-650 Black, 62 Black"
                                },
                                {
                                    "(No column name)": "Road-650 Black, 44 Black"
                                },
                                {
                                    "(No column name)": "Road-650 Black, 48 Black"
                                },
                                {
                                    "(No column name)": "Road-650 Black, 52 Black"
                                },
                                {
                                    "(No column name)": "Mountain-100 Silver, 38 Silver"
                                },
                                {
                                    "(No column name)": "Mountain-100 Silver, 42 Silver"
                                },
                                {
                                    "(No column name)": "Mountain-100 Silver, 44 Silver"
                                },
                                {
                                    "(No column name)": "Mountain-100 Silver, 48 Silver"
                                },
                                {
                                    "(No column name)": "Mountain-100 Black, 38 Black"
                                },
                                {
                                    "(No column name)": "Mountain-100 Black, 42 Black"
                                },
                                {
                                    "(No column name)": "Mountain-100 Black, 44 Black"
                                },
                                {
                                    "(No column name)": "Mountain-100 Black, 48 Black"
                                },
                                {
                                    "(No column name)": "Mountain-200 Silver, 38 Silver"
                                },
                                {
                                    "(No column name)": "Mountain-200 Silver, 42 Silver"
                                },
                                {
                                    "(No column name)": "Mountain-200 Silver, 46 Silver"
                                },
                                {
                                    "(No column name)": "Mountain-200 Black, 38 Black"
                                },
                                {
                                    "(No column name)": "Mountain-200 Black, 42 Black"
                                },
                                {
                                    "(No column name)": "Mountain-200 Black, 46 Black"
                                },
                                {
                                    "(No column name)": "Mountain-300 Black, 38 Black"
                                },
                                {
                                    "(No column name)": "Mountain-300 Black, 40 Black"
                                },
                                {
                                    "(No column name)": "Mountain-300 Black, 44 Black"
                                },
                                {
                                    "(No column name)": "Mountain-300 Black, 48 Black"
                                },
                                {
                                    "(No column name)": "Road-250 Red, 44 Red"
                                },
                                {
                                    "(No column name)": "Road-250 Red, 48 Red"
                                },
                                {
                                    "(No column name)": "Road-250 Red, 52 Red"
                                },
                                {
                                    "(No column name)": "Road-250 Red, 58 Red"
                                },
                                {
                                    "(No column name)": "Road-250 Black, 44 Black"
                                },
                                {
                                    "(No column name)": "Road-250 Black, 48 Black"
                                },
                                {
                                    "(No column name)": "Road-250 Black, 52 Black"
                                },
                                {
                                    "(No column name)": "Road-250 Black, 58 Black"
                                },
                                {
                                    "(No column name)": "Road-550-W Yellow, 38 Yellow"
                                },
                                {
                                    "(No column name)": "Road-550-W Yellow, 40 Yellow"
                                },
                                {
                                    "(No column name)": "Road-550-W Yellow, 42 Yellow"
                                },
                                {
                                    "(No column name)": "Road-550-W Yellow, 44 Yellow"
                                },
                                {
                                    "(No column name)": "Road-550-W Yellow, 48 Yellow"
                                },
                                {
                                    "(No column name)": "ML Mountain Frame - Black, 38 Black"
                                },
                                {
                                    "(No column name)": "LL Mountain Front Wheel Black"
                                },
                                {
                                    "(No column name)": "ML Mountain Front Wheel Black"
                                },
                                {
                                    "(No column name)": "HL Mountain Front Wheel Black"
                                },
                                {
                                    "(No column name)": "LL Road Front Wheel Black"
                                },
                                {
                                    "(No column name)": "ML Road Front Wheel Black"
                                },
                                {
                                    "(No column name)": "HL Road Front Wheel Black"
                                },
                                {
                                    "(No column name)": "Touring Front Wheel Black"
                                },
                                {
                                    "(No column name)": "ML Road Frame-W - Yellow, 38 Yellow"
                                },
                                {
                                    "(No column name)": "LL Mountain Rear Wheel Black"
                                },
                                {
                                    "(No column name)": "ML Mountain Rear Wheel Black"
                                },
                                {
                                    "(No column name)": "HL Mountain Rear Wheel Black"
                                },
                                {
                                    "(No column name)": "LL Road Rear Wheel Black"
                                },
                                {
                                    "(No column name)": "ML Road Rear Wheel Black"
                                },
                                {
                                    "(No column name)": "HL Road Rear Wheel Black"
                                },
                                {
                                    "(No column name)": "Touring Rear Wheel Black"
                                },
                                {
                                    "(No column name)": "ML Mountain Frame - Black, 40 Black"
                                },
                                {
                                    "(No column name)": "ML Mountain Frame - Black, 44 Black"
                                },
                                {
                                    "(No column name)": "ML Mountain Frame - Black, 48 Black"
                                },
                                {
                                    "(No column name)": "ML Road Frame-W - Yellow, 40 Yellow"
                                },
                                {
                                    "(No column name)": "ML Road Frame-W - Yellow, 42 Yellow"
                                },
                                {
                                    "(No column name)": "ML Road Frame-W - Yellow, 44 Yellow"
                                },
                                {
                                    "(No column name)": "ML Road Frame-W - Yellow, 48 Yellow"
                                },
                                {
                                    "(No column name)": "HL Road Frame - Black, 62 Black"
                                },
                                {
                                    "(No column name)": "HL Road Frame - Black, 44 Black"
                                },
                                {
                                    "(No column name)": "HL Road Frame - Black, 48 Black"
                                },
                                {
                                    "(No column name)": "HL Road Frame - Black, 52 Black"
                                },
                                {
                                    "(No column name)": "Men's Sports Shorts, S Black"
                                },
                                {
                                    "(No column name)": "Touring-Panniers, Large Grey"
                                },
                                {
                                    "(No column name)": "Men's Sports Shorts, M Black"
                                },
                                {
                                    "(No column name)": "Men's Sports Shorts, L Black"
                                },
                                {
                                    "(No column name)": "Men's Sports Shorts, XL Black"
                                },
                                {
                                    "(No column name)": "Women's Tights, S Black"
                                },
                                {
                                    "(No column name)": "Women's Tights, M Black"
                                },
                                {
                                    "(No column name)": "Women's Tights, L Black"
                                },
                                {
                                    "(No column name)": "Men's Bib-Shorts, S Multi"
                                },
                                {
                                    "(No column name)": "Men's Bib-Shorts, M Multi"
                                },
                                {
                                    "(No column name)": "Men's Bib-Shorts, L Multi"
                                },
                                {
                                    "(No column name)": "Half-Finger Gloves, S Black"
                                },
                                {
                                    "(No column name)": "Half-Finger Gloves, M Black"
                                },
                                {
                                    "(No column name)": "Half-Finger Gloves, L Black"
                                },
                                {
                                    "(No column name)": "Full-Finger Gloves, S Black"
                                },
                                {
                                    "(No column name)": "Full-Finger Gloves, M Black"
                                },
                                {
                                    "(No column name)": "Full-Finger Gloves, L Black"
                                },
                                {
                                    "(No column name)": "Classic Vest, S Blue"
                                },
                                {
                                    "(No column name)": "Classic Vest, M Blue"
                                },
                                {
                                    "(No column name)": "Classic Vest, L Blue"
                                },
                                {
                                    "(No column name)": "Women's Mountain Shorts, S Black"
                                },
                                {
                                    "(No column name)": "Women's Mountain Shorts, M Black"
                                },
                                {
                                    "(No column name)": "Women's Mountain Shorts, L Black"
                                },
                                {
                                    "(No column name)": "Racing Socks, M White"
                                },
                                {
                                    "(No column name)": "Racing Socks, L White"
                                },
                                {
                                    "(No column name)": "Hydration Pack - 70 oz. Silver"
                                },
                                {
                                    "(No column name)": "Short-Sleeve Classic Jersey, S Yellow"
                                },
                                {
                                    "(No column name)": "Short-Sleeve Classic Jersey, M Yellow"
                                },
                                {
                                    "(No column name)": "Short-Sleeve Classic Jersey, L Yellow"
                                },
                                {
                                    "(No column name)": "Short-Sleeve Classic Jersey, XL Yellow"
                                },
                                {
                                    "(No column name)": "HL Touring Frame - Yellow, 60 Yellow"
                                },
                                {
                                    "(No column name)": "LL Touring Frame - Yellow, 62 Yellow"
                                },
                                {
                                    "(No column name)": "HL Touring Frame - Yellow, 46 Yellow"
                                },
                                {
                                    "(No column name)": "HL Touring Frame - Yellow, 50 Yellow"
                                },
                                {
                                    "(No column name)": "HL Touring Frame - Yellow, 54 Yellow"
                                },
                                {
                                    "(No column name)": "HL Touring Frame - Blue, 46 Blue"
                                },
                                {
                                    "(No column name)": "HL Touring Frame - Blue, 50 Blue"
                                },
                                {
                                    "(No column name)": "HL Touring Frame - Blue, 54 Blue"
                                },
                                {
                                    "(No column name)": "HL Touring Frame - Blue, 60 Blue"
                                },
                                {
                                    "(No column name)": "Rear Derailleur Silver"
                                },
                                {
                                    "(No column name)": "LL Touring Frame - Blue, 50 Blue"
                                },
                                {
                                    "(No column name)": "LL Touring Frame - Blue, 54 Blue"
                                },
                                {
                                    "(No column name)": "LL Touring Frame - Blue, 58 Blue"
                                },
                                {
                                    "(No column name)": "LL Touring Frame - Blue, 62 Blue"
                                },
                                {
                                    "(No column name)": "LL Touring Frame - Yellow, 44 Yellow"
                                },
                                {
                                    "(No column name)": "LL Touring Frame - Yellow, 50 Yellow"
                                },
                                {
                                    "(No column name)": "LL Touring Frame - Yellow, 54 Yellow"
                                },
                                {
                                    "(No column name)": "LL Touring Frame - Yellow, 58 Yellow"
                                },
                                {
                                    "(No column name)": "LL Touring Frame - Blue, 44 Blue"
                                },
                                {
                                    "(No column name)": "ML Mountain Frame-W - Silver, 40 Silver"
                                },
                                {
                                    "(No column name)": "ML Mountain Frame-W - Silver, 42 Silver"
                                },
                                {
                                    "(No column name)": "ML Mountain Frame-W - Silver, 46 Silver"
                                },
                                {
                                    "(No column name)": "Rear Brakes Silver"
                                },
                                {
                                    "(No column name)": "LL Mountain Frame - Silver, 42 Silver"
                                },
                                {
                                    "(No column name)": "LL Mountain Frame - Silver, 44 Silver"
                                },
                                {
                                    "(No column name)": "LL Mountain Frame - Silver, 48 Silver"
                                },
                                {
                                    "(No column name)": "LL Mountain Frame - Silver, 52 Silver"
                                },
                                {
                                    "(No column name)": "LL Mountain Frame - Black, 42 Black"
                                },
                                {
                                    "(No column name)": "LL Mountain Frame - Black, 44 Black"
                                },
                                {
                                    "(No column name)": "LL Mountain Frame - Black, 48 Black"
                                },
                                {
                                    "(No column name)": "LL Mountain Frame - Black, 52 Black"
                                },
                                {
                                    "(No column name)": "LL Mountain Pedal Silver/Black"
                                },
                                {
                                    "(No column name)": "ML Mountain Pedal Silver/Black"
                                },
                                {
                                    "(No column name)": "HL Mountain Pedal Silver/Black"
                                },
                                {
                                    "(No column name)": "LL Road Pedal Silver/Black"
                                },
                                {
                                    "(No column name)": "ML Road Pedal Silver/Black"
                                },
                                {
                                    "(No column name)": "HL Road Pedal Silver/Black"
                                },
                                {
                                    "(No column name)": "Touring Pedal Silver/Black"
                                },
                                {
                                    "(No column name)": "ML Mountain Frame-W - Silver, 38 Silver"
                                },
                                {
                                    "(No column name)": "LL Mountain Frame - Black, 40 Black"
                                },
                                {
                                    "(No column name)": "LL Mountain Frame - Silver, 40 Silver"
                                },
                                {
                                    "(No column name)": "Front Derailleur Silver"
                                },
                                {
                                    "(No column name)": "Front Brakes Silver"
                                },
                                {
                                    "(No column name)": "LL Crankset Black"
                                },
                                {
                                    "(No column name)": "ML Crankset Black"
                                },
                                {
                                    "(No column name)": "HL Crankset Black"
                                },
                                {
                                    "(No column name)": "Chain Silver"
                                },
                                {
                                    "(No column name)": "Touring-2000 Blue, 60 Blue"
                                },
                                {
                                    "(No column name)": "Touring-1000 Yellow, 46 Yellow"
                                },
                                {
                                    "(No column name)": "Touring-1000 Yellow, 50 Yellow"
                                },
                                {
                                    "(No column name)": "Touring-1000 Yellow, 54 Yellow"
                                },
                                {
                                    "(No column name)": "Touring-1000 Yellow, 60 Yellow"
                                },
                                {
                                    "(No column name)": "Touring-3000 Blue, 54 Blue"
                                },
                                {
                                    "(No column name)": "Touring-3000 Blue, 58 Blue"
                                },
                                {
                                    "(No column name)": "Touring-3000 Blue, 62 Blue"
                                },
                                {
                                    "(No column name)": "Touring-3000 Yellow, 44 Yellow"
                                },
                                {
                                    "(No column name)": "Touring-3000 Yellow, 50 Yellow"
                                },
                                {
                                    "(No column name)": "Touring-3000 Yellow, 54 Yellow"
                                },
                                {
                                    "(No column name)": "Touring-3000 Yellow, 58 Yellow"
                                },
                                {
                                    "(No column name)": "Touring-3000 Yellow, 62 Yellow"
                                },
                                {
                                    "(No column name)": "Touring-1000 Blue, 46 Blue"
                                },
                                {
                                    "(No column name)": "Touring-1000 Blue, 50 Blue"
                                },
                                {
                                    "(No column name)": "Touring-1000 Blue, 54 Blue"
                                },
                                {
                                    "(No column name)": "Touring-1000 Blue, 60 Blue"
                                },
                                {
                                    "(No column name)": "Touring-2000 Blue, 46 Blue"
                                },
                                {
                                    "(No column name)": "Touring-2000 Blue, 50 Blue"
                                },
                                {
                                    "(No column name)": "Touring-2000 Blue, 54 Blue"
                                },
                                {
                                    "(No column name)": "Road-350-W Yellow, 40 Yellow"
                                },
                                {
                                    "(No column name)": "Road-350-W Yellow, 42 Yellow"
                                },
                                {
                                    "(No column name)": "Road-350-W Yellow, 44 Yellow"
                                },
                                {
                                    "(No column name)": "Road-350-W Yellow, 48 Yellow"
                                },
                                {
                                    "(No column name)": "Road-750 Black, 58 Black"
                                },
                                {
                                    "(No column name)": "Touring-3000 Blue, 44 Blue"
                                },
                                {
                                    "(No column name)": "Touring-3000 Blue, 50 Blue"
                                },
                                {
                                    "(No column name)": "Mountain-400-W Silver, 38 Silver"
                                },
                                {
                                    "(No column name)": "Mountain-400-W Silver, 40 Silver"
                                },
                                {
                                    "(No column name)": "Mountain-400-W Silver, 42 Silver"
                                },
                                {
                                    "(No column name)": "Mountain-400-W Silver, 46 Silver"
                                },
                                {
                                    "(No column name)": "Mountain-500 Silver, 40 Silver"
                                },
                                {
                                    "(No column name)": "Mountain-500 Silver, 42 Silver"
                                },
                                {
                                    "(No column name)": "Mountain-500 Silver, 44 Silver"
                                },
                                {
                                    "(No column name)": "Mountain-500 Silver, 48 Silver"
                                },
                                {
                                    "(No column name)": "Mountain-500 Silver, 52 Silver"
                                },
                                {
                                    "(No column name)": "Mountain-500 Black, 40 Black"
                                },
                                {
                                    "(No column name)": "Mountain-500 Black, 42 Black"
                                },
                                {
                                    "(No column name)": "Mountain-500 Black, 44 Black"
                                },
                                {
                                    "(No column name)": "Mountain-500 Black, 48 Black"
                                },
                                {
                                    "(No column name)": "Mountain-500 Black, 52 Black"
                                },
                                {
                                    "(No column name)": "Road-750 Black, 44 Black"
                                },
                                {
                                    "(No column name)": "Road-750 Black, 48 Black"
                                },
                                {
                                    "(No column name)": "Road-750 Black, 52 Black"
                                }
                            ]
                        },
                        "text/html": [
                            "<table>",
                            "<tr><th>(No column name)</th></tr>",
                            "<tr><td>LL Crankarm Black</td></tr>",
                            "<tr><td>ML Crankarm Black</td></tr>",
                            "<tr><td>HL Crankarm Black</td></tr>",
                            "<tr><td>Chainring Bolts Silver</td></tr>",
                            "<tr><td>Chainring Nut Silver</td></tr>",
                            "<tr><td>Chainring Black</td></tr>",
                            "<tr><td>Freewheel Silver</td></tr>",
                            "<tr><td>Front Derailleur Cage Silver</td></tr>",
                            "<tr><td>Front Derailleur Linkage Silver</td></tr>",
                            "<tr><td>Lock Ring Silver</td></tr>",
                            "<tr><td>Rear Derailleur Cage Silver</td></tr>",
                            "<tr><td>HL Road Frame - Black, 58 Black</td></tr>",
                            "<tr><td>HL Road Frame - Red, 58 Red</td></tr>",
                            "<tr><td>Sport-100 Helmet, Red Red</td></tr>",
                            "<tr><td>Sport-100 Helmet, Black Black</td></tr>",
                            "<tr><td>Mountain Bike Socks, M White</td></tr>",
                            "<tr><td>Mountain Bike Socks, L White</td></tr>",
                            "<tr><td>Sport-100 Helmet, Blue Blue</td></tr>",
                            "<tr><td>AWC Logo Cap Multi</td></tr>",
                            "<tr><td>Long-Sleeve Logo Jersey, S Multi</td></tr>",
                            "<tr><td>Long-Sleeve Logo Jersey, M Multi</td></tr>",
                            "<tr><td>Long-Sleeve Logo Jersey, L Multi</td></tr>",
                            "<tr><td>Long-Sleeve Logo Jersey, XL Multi</td></tr>",
                            "<tr><td>HL Road Frame - Red, 62 Red</td></tr>",
                            "<tr><td>HL Road Frame - Red, 44 Red</td></tr>",
                            "<tr><td>HL Road Frame - Red, 48 Red</td></tr>",
                            "<tr><td>HL Road Frame - Red, 52 Red</td></tr>",
                            "<tr><td>HL Road Frame - Red, 56 Red</td></tr>",
                            "<tr><td>LL Road Frame - Black, 58 Black</td></tr>",
                            "<tr><td>LL Road Frame - Black, 60 Black</td></tr>",
                            "<tr><td>LL Road Frame - Black, 62 Black</td></tr>",
                            "<tr><td>LL Road Frame - Red, 44 Red</td></tr>",
                            "<tr><td>LL Road Frame - Red, 48 Red</td></tr>",
                            "<tr><td>LL Road Frame - Red, 52 Red</td></tr>",
                            "<tr><td>LL Road Frame - Red, 58 Red</td></tr>",
                            "<tr><td>LL Road Frame - Red, 60 Red</td></tr>",
                            "<tr><td>LL Road Frame - Red, 62 Red</td></tr>",
                            "<tr><td>ML Road Frame - Red, 44 Red</td></tr>",
                            "<tr><td>ML Road Frame - Red, 48 Red</td></tr>",
                            "<tr><td>ML Road Frame - Red, 52 Red</td></tr>",
                            "<tr><td>ML Road Frame - Red, 58 Red</td></tr>",
                            "<tr><td>ML Road Frame - Red, 60 Red</td></tr>",
                            "<tr><td>LL Road Frame - Black, 44 Black</td></tr>",
                            "<tr><td>LL Road Frame - Black, 48 Black</td></tr>",
                            "<tr><td>LL Road Frame - Black, 52 Black</td></tr>",
                            "<tr><td>HL Mountain Frame - Silver, 42 Silver</td></tr>",
                            "<tr><td>HL Mountain Frame - Silver, 44 Silver</td></tr>",
                            "<tr><td>HL Mountain Frame - Silver, 48 Silver</td></tr>",
                            "<tr><td>HL Mountain Frame - Silver, 46 Silver</td></tr>",
                            "<tr><td>HL Mountain Frame - Black, 42 Black</td></tr>",
                            "<tr><td>HL Mountain Frame - Black, 44 Black</td></tr>",
                            "<tr><td>HL Mountain Frame - Black, 48 Black</td></tr>",
                            "<tr><td>HL Mountain Frame - Black, 46 Black</td></tr>",
                            "<tr><td>HL Mountain Frame - Black, 38 Black</td></tr>",
                            "<tr><td>HL Mountain Frame - Silver, 38 Silver</td></tr>",
                            "<tr><td>Road-150 Red, 62 Red</td></tr>",
                            "<tr><td>Road-150 Red, 44 Red</td></tr>",
                            "<tr><td>Road-150 Red, 48 Red</td></tr>",
                            "<tr><td>Road-150 Red, 52 Red</td></tr>",
                            "<tr><td>Road-150 Red, 56 Red</td></tr>",
                            "<tr><td>Road-450 Red, 58 Red</td></tr>",
                            "<tr><td>Road-450 Red, 60 Red</td></tr>",
                            "<tr><td>Road-450 Red, 44 Red</td></tr>",
                            "<tr><td>Road-450 Red, 48 Red</td></tr>",
                            "<tr><td>Road-450 Red, 52 Red</td></tr>",
                            "<tr><td>Road-650 Red, 58 Red</td></tr>",
                            "<tr><td>Road-650 Red, 60 Red</td></tr>",
                            "<tr><td>Road-650 Red, 62 Red</td></tr>",
                            "<tr><td>Road-650 Red, 44 Red</td></tr>",
                            "<tr><td>Road-650 Red, 48 Red</td></tr>",
                            "<tr><td>Road-650 Red, 52 Red</td></tr>",
                            "<tr><td>Road-650 Black, 58 Black</td></tr>",
                            "<tr><td>Road-650 Black, 60 Black</td></tr>",
                            "<tr><td>Road-650 Black, 62 Black</td></tr>",
                            "<tr><td>Road-650 Black, 44 Black</td></tr>",
                            "<tr><td>Road-650 Black, 48 Black</td></tr>",
                            "<tr><td>Road-650 Black, 52 Black</td></tr>",
                            "<tr><td>Mountain-100 Silver, 38 Silver</td></tr>",
                            "<tr><td>Mountain-100 Silver, 42 Silver</td></tr>",
                            "<tr><td>Mountain-100 Silver, 44 Silver</td></tr>",
                            "<tr><td>Mountain-100 Silver, 48 Silver</td></tr>",
                            "<tr><td>Mountain-100 Black, 38 Black</td></tr>",
                            "<tr><td>Mountain-100 Black, 42 Black</td></tr>",
                            "<tr><td>Mountain-100 Black, 44 Black</td></tr>",
                            "<tr><td>Mountain-100 Black, 48 Black</td></tr>",
                            "<tr><td>Mountain-200 Silver, 38 Silver</td></tr>",
                            "<tr><td>Mountain-200 Silver, 42 Silver</td></tr>",
                            "<tr><td>Mountain-200 Silver, 46 Silver</td></tr>",
                            "<tr><td>Mountain-200 Black, 38 Black</td></tr>",
                            "<tr><td>Mountain-200 Black, 42 Black</td></tr>",
                            "<tr><td>Mountain-200 Black, 46 Black</td></tr>",
                            "<tr><td>Mountain-300 Black, 38 Black</td></tr>",
                            "<tr><td>Mountain-300 Black, 40 Black</td></tr>",
                            "<tr><td>Mountain-300 Black, 44 Black</td></tr>",
                            "<tr><td>Mountain-300 Black, 48 Black</td></tr>",
                            "<tr><td>Road-250 Red, 44 Red</td></tr>",
                            "<tr><td>Road-250 Red, 48 Red</td></tr>",
                            "<tr><td>Road-250 Red, 52 Red</td></tr>",
                            "<tr><td>Road-250 Red, 58 Red</td></tr>",
                            "<tr><td>Road-250 Black, 44 Black</td></tr>",
                            "<tr><td>Road-250 Black, 48 Black</td></tr>",
                            "<tr><td>Road-250 Black, 52 Black</td></tr>",
                            "<tr><td>Road-250 Black, 58 Black</td></tr>",
                            "<tr><td>Road-550-W Yellow, 38 Yellow</td></tr>",
                            "<tr><td>Road-550-W Yellow, 40 Yellow</td></tr>",
                            "<tr><td>Road-550-W Yellow, 42 Yellow</td></tr>",
                            "<tr><td>Road-550-W Yellow, 44 Yellow</td></tr>",
                            "<tr><td>Road-550-W Yellow, 48 Yellow</td></tr>",
                            "<tr><td>ML Mountain Frame - Black, 38 Black</td></tr>",
                            "<tr><td>LL Mountain Front Wheel Black</td></tr>",
                            "<tr><td>ML Mountain Front Wheel Black</td></tr>",
                            "<tr><td>HL Mountain Front Wheel Black</td></tr>",
                            "<tr><td>LL Road Front Wheel Black</td></tr>",
                            "<tr><td>ML Road Front Wheel Black</td></tr>",
                            "<tr><td>HL Road Front Wheel Black</td></tr>",
                            "<tr><td>Touring Front Wheel Black</td></tr>",
                            "<tr><td>ML Road Frame-W - Yellow, 38 Yellow</td></tr>",
                            "<tr><td>LL Mountain Rear Wheel Black</td></tr>",
                            "<tr><td>ML Mountain Rear Wheel Black</td></tr>",
                            "<tr><td>HL Mountain Rear Wheel Black</td></tr>",
                            "<tr><td>LL Road Rear Wheel Black</td></tr>",
                            "<tr><td>ML Road Rear Wheel Black</td></tr>",
                            "<tr><td>HL Road Rear Wheel Black</td></tr>",
                            "<tr><td>Touring Rear Wheel Black</td></tr>",
                            "<tr><td>ML Mountain Frame - Black, 40 Black</td></tr>",
                            "<tr><td>ML Mountain Frame - Black, 44 Black</td></tr>",
                            "<tr><td>ML Mountain Frame - Black, 48 Black</td></tr>",
                            "<tr><td>ML Road Frame-W - Yellow, 40 Yellow</td></tr>",
                            "<tr><td>ML Road Frame-W - Yellow, 42 Yellow</td></tr>",
                            "<tr><td>ML Road Frame-W - Yellow, 44 Yellow</td></tr>",
                            "<tr><td>ML Road Frame-W - Yellow, 48 Yellow</td></tr>",
                            "<tr><td>HL Road Frame - Black, 62 Black</td></tr>",
                            "<tr><td>HL Road Frame - Black, 44 Black</td></tr>",
                            "<tr><td>HL Road Frame - Black, 48 Black</td></tr>",
                            "<tr><td>HL Road Frame - Black, 52 Black</td></tr>",
                            "<tr><td>Men&#39;s Sports Shorts, S Black</td></tr>",
                            "<tr><td>Touring-Panniers, Large Grey</td></tr>",
                            "<tr><td>Men&#39;s Sports Shorts, M Black</td></tr>",
                            "<tr><td>Men&#39;s Sports Shorts, L Black</td></tr>",
                            "<tr><td>Men&#39;s Sports Shorts, XL Black</td></tr>",
                            "<tr><td>Women&#39;s Tights, S Black</td></tr>",
                            "<tr><td>Women&#39;s Tights, M Black</td></tr>",
                            "<tr><td>Women&#39;s Tights, L Black</td></tr>",
                            "<tr><td>Men&#39;s Bib-Shorts, S Multi</td></tr>",
                            "<tr><td>Men&#39;s Bib-Shorts, M Multi</td></tr>",
                            "<tr><td>Men&#39;s Bib-Shorts, L Multi</td></tr>",
                            "<tr><td>Half-Finger Gloves, S Black</td></tr>",
                            "<tr><td>Half-Finger Gloves, M Black</td></tr>",
                            "<tr><td>Half-Finger Gloves, L Black</td></tr>",
                            "<tr><td>Full-Finger Gloves, S Black</td></tr>",
                            "<tr><td>Full-Finger Gloves, M Black</td></tr>",
                            "<tr><td>Full-Finger Gloves, L Black</td></tr>",
                            "<tr><td>Classic Vest, S Blue</td></tr>",
                            "<tr><td>Classic Vest, M Blue</td></tr>",
                            "<tr><td>Classic Vest, L Blue</td></tr>",
                            "<tr><td>Women&#39;s Mountain Shorts, S Black</td></tr>",
                            "<tr><td>Women&#39;s Mountain Shorts, M Black</td></tr>",
                            "<tr><td>Women&#39;s Mountain Shorts, L Black</td></tr>",
                            "<tr><td>Racing Socks, M White</td></tr>",
                            "<tr><td>Racing Socks, L White</td></tr>",
                            "<tr><td>Hydration Pack - 70 oz. Silver</td></tr>",
                            "<tr><td>Short-Sleeve Classic Jersey, S Yellow</td></tr>",
                            "<tr><td>Short-Sleeve Classic Jersey, M Yellow</td></tr>",
                            "<tr><td>Short-Sleeve Classic Jersey, L Yellow</td></tr>",
                            "<tr><td>Short-Sleeve Classic Jersey, XL Yellow</td></tr>",
                            "<tr><td>HL Touring Frame - Yellow, 60 Yellow</td></tr>",
                            "<tr><td>LL Touring Frame - Yellow, 62 Yellow</td></tr>",
                            "<tr><td>HL Touring Frame - Yellow, 46 Yellow</td></tr>",
                            "<tr><td>HL Touring Frame - Yellow, 50 Yellow</td></tr>",
                            "<tr><td>HL Touring Frame - Yellow, 54 Yellow</td></tr>",
                            "<tr><td>HL Touring Frame - Blue, 46 Blue</td></tr>",
                            "<tr><td>HL Touring Frame - Blue, 50 Blue</td></tr>",
                            "<tr><td>HL Touring Frame - Blue, 54 Blue</td></tr>",
                            "<tr><td>HL Touring Frame - Blue, 60 Blue</td></tr>",
                            "<tr><td>Rear Derailleur Silver</td></tr>",
                            "<tr><td>LL Touring Frame - Blue, 50 Blue</td></tr>",
                            "<tr><td>LL Touring Frame - Blue, 54 Blue</td></tr>",
                            "<tr><td>LL Touring Frame - Blue, 58 Blue</td></tr>",
                            "<tr><td>LL Touring Frame - Blue, 62 Blue</td></tr>",
                            "<tr><td>LL Touring Frame - Yellow, 44 Yellow</td></tr>",
                            "<tr><td>LL Touring Frame - Yellow, 50 Yellow</td></tr>",
                            "<tr><td>LL Touring Frame - Yellow, 54 Yellow</td></tr>",
                            "<tr><td>LL Touring Frame - Yellow, 58 Yellow</td></tr>",
                            "<tr><td>LL Touring Frame - Blue, 44 Blue</td></tr>",
                            "<tr><td>ML Mountain Frame-W - Silver, 40 Silver</td></tr>",
                            "<tr><td>ML Mountain Frame-W - Silver, 42 Silver</td></tr>",
                            "<tr><td>ML Mountain Frame-W - Silver, 46 Silver</td></tr>",
                            "<tr><td>Rear Brakes Silver</td></tr>",
                            "<tr><td>LL Mountain Frame - Silver, 42 Silver</td></tr>",
                            "<tr><td>LL Mountain Frame - Silver, 44 Silver</td></tr>",
                            "<tr><td>LL Mountain Frame - Silver, 48 Silver</td></tr>",
                            "<tr><td>LL Mountain Frame - Silver, 52 Silver</td></tr>",
                            "<tr><td>LL Mountain Frame - Black, 42 Black</td></tr>",
                            "<tr><td>LL Mountain Frame - Black, 44 Black</td></tr>",
                            "<tr><td>LL Mountain Frame - Black, 48 Black</td></tr>",
                            "<tr><td>LL Mountain Frame - Black, 52 Black</td></tr>",
                            "<tr><td>LL Mountain Pedal Silver/Black</td></tr>",
                            "<tr><td>ML Mountain Pedal Silver/Black</td></tr>",
                            "<tr><td>HL Mountain Pedal Silver/Black</td></tr>",
                            "<tr><td>LL Road Pedal Silver/Black</td></tr>",
                            "<tr><td>ML Road Pedal Silver/Black</td></tr>",
                            "<tr><td>HL Road Pedal Silver/Black</td></tr>",
                            "<tr><td>Touring Pedal Silver/Black</td></tr>",
                            "<tr><td>ML Mountain Frame-W - Silver, 38 Silver</td></tr>",
                            "<tr><td>LL Mountain Frame - Black, 40 Black</td></tr>",
                            "<tr><td>LL Mountain Frame - Silver, 40 Silver</td></tr>",
                            "<tr><td>Front Derailleur Silver</td></tr>",
                            "<tr><td>Front Brakes Silver</td></tr>",
                            "<tr><td>LL Crankset Black</td></tr>",
                            "<tr><td>ML Crankset Black</td></tr>",
                            "<tr><td>HL Crankset Black</td></tr>",
                            "<tr><td>Chain Silver</td></tr>",
                            "<tr><td>Touring-2000 Blue, 60 Blue</td></tr>",
                            "<tr><td>Touring-1000 Yellow, 46 Yellow</td></tr>",
                            "<tr><td>Touring-1000 Yellow, 50 Yellow</td></tr>",
                            "<tr><td>Touring-1000 Yellow, 54 Yellow</td></tr>",
                            "<tr><td>Touring-1000 Yellow, 60 Yellow</td></tr>",
                            "<tr><td>Touring-3000 Blue, 54 Blue</td></tr>",
                            "<tr><td>Touring-3000 Blue, 58 Blue</td></tr>",
                            "<tr><td>Touring-3000 Blue, 62 Blue</td></tr>",
                            "<tr><td>Touring-3000 Yellow, 44 Yellow</td></tr>",
                            "<tr><td>Touring-3000 Yellow, 50 Yellow</td></tr>",
                            "<tr><td>Touring-3000 Yellow, 54 Yellow</td></tr>",
                            "<tr><td>Touring-3000 Yellow, 58 Yellow</td></tr>",
                            "<tr><td>Touring-3000 Yellow, 62 Yellow</td></tr>",
                            "<tr><td>Touring-1000 Blue, 46 Blue</td></tr>",
                            "<tr><td>Touring-1000 Blue, 50 Blue</td></tr>",
                            "<tr><td>Touring-1000 Blue, 54 Blue</td></tr>",
                            "<tr><td>Touring-1000 Blue, 60 Blue</td></tr>",
                            "<tr><td>Touring-2000 Blue, 46 Blue</td></tr>",
                            "<tr><td>Touring-2000 Blue, 50 Blue</td></tr>",
                            "<tr><td>Touring-2000 Blue, 54 Blue</td></tr>",
                            "<tr><td>Road-350-W Yellow, 40 Yellow</td></tr>",
                            "<tr><td>Road-350-W Yellow, 42 Yellow</td></tr>",
                            "<tr><td>Road-350-W Yellow, 44 Yellow</td></tr>",
                            "<tr><td>Road-350-W Yellow, 48 Yellow</td></tr>",
                            "<tr><td>Road-750 Black, 58 Black</td></tr>",
                            "<tr><td>Touring-3000 Blue, 44 Blue</td></tr>",
                            "<tr><td>Touring-3000 Blue, 50 Blue</td></tr>",
                            "<tr><td>Mountain-400-W Silver, 38 Silver</td></tr>",
                            "<tr><td>Mountain-400-W Silver, 40 Silver</td></tr>",
                            "<tr><td>Mountain-400-W Silver, 42 Silver</td></tr>",
                            "<tr><td>Mountain-400-W Silver, 46 Silver</td></tr>",
                            "<tr><td>Mountain-500 Silver, 40 Silver</td></tr>",
                            "<tr><td>Mountain-500 Silver, 42 Silver</td></tr>",
                            "<tr><td>Mountain-500 Silver, 44 Silver</td></tr>",
                            "<tr><td>Mountain-500 Silver, 48 Silver</td></tr>",
                            "<tr><td>Mountain-500 Silver, 52 Silver</td></tr>",
                            "<tr><td>Mountain-500 Black, 40 Black</td></tr>",
                            "<tr><td>Mountain-500 Black, 42 Black</td></tr>",
                            "<tr><td>Mountain-500 Black, 44 Black</td></tr>",
                            "<tr><td>Mountain-500 Black, 48 Black</td></tr>",
                            "<tr><td>Mountain-500 Black, 52 Black</td></tr>",
                            "<tr><td>Road-750 Black, 44 Black</td></tr>",
                            "<tr><td>Road-750 Black, 48 Black</td></tr>",
                            "<tr><td>Road-750 Black, 52 Black</td></tr>",
                            "</table>"
                        ]
                    }
                }
            ],
            "execution_count": 87
        },
        {
            "cell_type": "markdown",
            "source": [
                "\n",
                "7.  Write a query that generates the following result set from Production.Product:\n",
                "    1. NAME: LL Crankarm -- COLOR: Black\n",
                "    2. NAME: ML Crankarm -- COLOR: Black\n",
                "    3. NAME: HL Crankarm -- COLOR: Black\n",
                "    4. NAME: Chainring Bolts -- COLOR: Silver\n",
                "    5. NAME: Chainring Nut -- COLOR: Silver\n",
                "    6. NAME: Chainring -- COLOR: Black          \n",
                "\n"
            ],
            "metadata": {
                "azdata_cell_guid": "2f0c2dc4-ff21-4403-9b03-f93a497f4432",
                "language": ""
            },
            "attachments": {}
        },
        {
            "cell_type": "code",
            "source": [
                "SELECT 'NAME: ' + Name + ' -- COLOR: ' + Color\n",
                "FROM Production.Product\n",
                "WHERE Name LIKE '%Crankarm%' OR Name LIKE '%Chainring%'"
            ],
            "metadata": {
                "azdata_cell_guid": "cd95c96f-14c7-4f37-8fa0-bda792fcbcc2",
                "language": "sql"
            },
            "outputs": [
                {
                    "output_type": "display_data",
                    "data": {
                        "text/html": "(6 rows affected)"
                    },
                    "metadata": {}
                },
                {
                    "output_type": "display_data",
                    "data": {
                        "text/html": "Total execution time: 00:00:00.006"
                    },
                    "metadata": {}
                },
                {
                    "output_type": "execute_result",
                    "metadata": {},
                    "execution_count": 88,
                    "data": {
                        "application/vnd.dataresource+json": {
                            "schema": {
                                "fields": [
                                    {
                                        "name": "(No column name)"
                                    }
                                ]
                            },
                            "data": [
                                {
                                    "(No column name)": "NAME: Chainring -- COLOR: Black"
                                },
                                {
                                    "(No column name)": "NAME: Chainring Bolts -- COLOR: Silver"
                                },
                                {
                                    "(No column name)": "NAME: Chainring Nut -- COLOR: Silver"
                                },
                                {
                                    "(No column name)": "NAME: HL Crankarm -- COLOR: Black"
                                },
                                {
                                    "(No column name)": "NAME: LL Crankarm -- COLOR: Black"
                                },
                                {
                                    "(No column name)": "NAME: ML Crankarm -- COLOR: Black"
                                }
                            ]
                        },
                        "text/html": [
                            "<table>",
                            "<tr><th>(No column name)</th></tr>",
                            "<tr><td>NAME: Chainring -- COLOR: Black</td></tr>",
                            "<tr><td>NAME: Chainring Bolts -- COLOR: Silver</td></tr>",
                            "<tr><td>NAME: Chainring Nut -- COLOR: Silver</td></tr>",
                            "<tr><td>NAME: HL Crankarm -- COLOR: Black</td></tr>",
                            "<tr><td>NAME: LL Crankarm -- COLOR: Black</td></tr>",
                            "<tr><td>NAME: ML Crankarm -- COLOR: Black</td></tr>",
                            "</table>"
                        ]
                    }
                }
            ],
            "execution_count": 88
        },
        {
            "cell_type": "markdown",
            "source": [
                "8.  Write a query to retrieve the to the columns ProductID and Name from the Production.Product table filtered by ProductID from 400 to 500\n"
            ],
            "metadata": {
                "azdata_cell_guid": "06953f0d-71c5-40e0-9d85-e299f3689c56",
                "language": ""
            },
            "attachments": {}
        },
        {
            "cell_type": "code",
            "source": [
                "SELECT ProductID, Name\n",
                "FROM Production.Product\n",
                "WHERE ProductID between 400 AND 500"
            ],
            "metadata": {
                "azdata_cell_guid": "c3cb2689-48f2-4d03-9eab-e98a7d69bf86",
                "language": "sql"
            },
            "outputs": [
                {
                    "output_type": "display_data",
                    "data": {
                        "text/html": "(98 rows affected)"
                    },
                    "metadata": {}
                },
                {
                    "output_type": "display_data",
                    "data": {
                        "text/html": "Total execution time: 00:00:00.004"
                    },
                    "metadata": {}
                },
                {
                    "output_type": "execute_result",
                    "metadata": {},
                    "execution_count": 89,
                    "data": {
                        "application/vnd.dataresource+json": {
                            "schema": {
                                "fields": [
                                    {
                                        "name": "ProductID"
                                    },
                                    {
                                        "name": "Name"
                                    }
                                ]
                            },
                            "data": [
                                {
                                    "ProductID": "400",
                                    "Name": "LL Hub"
                                },
                                {
                                    "ProductID": "401",
                                    "Name": "HL Hub"
                                },
                                {
                                    "ProductID": "402",
                                    "Name": "Keyed Washer"
                                },
                                {
                                    "ProductID": "403",
                                    "Name": "External Lock Washer 3"
                                },
                                {
                                    "ProductID": "404",
                                    "Name": "External Lock Washer 4"
                                },
                                {
                                    "ProductID": "405",
                                    "Name": "External Lock Washer 9"
                                },
                                {
                                    "ProductID": "406",
                                    "Name": "External Lock Washer 5"
                                },
                                {
                                    "ProductID": "407",
                                    "Name": "External Lock Washer 7"
                                },
                                {
                                    "ProductID": "408",
                                    "Name": "External Lock Washer 6"
                                },
                                {
                                    "ProductID": "409",
                                    "Name": "External Lock Washer 1"
                                },
                                {
                                    "ProductID": "410",
                                    "Name": "External Lock Washer 8"
                                },
                                {
                                    "ProductID": "411",
                                    "Name": "External Lock Washer 2"
                                },
                                {
                                    "ProductID": "412",
                                    "Name": "Internal Lock Washer 3"
                                },
                                {
                                    "ProductID": "413",
                                    "Name": "Internal Lock Washer 4"
                                },
                                {
                                    "ProductID": "414",
                                    "Name": "Internal Lock Washer 9"
                                },
                                {
                                    "ProductID": "415",
                                    "Name": "Internal Lock Washer 5"
                                },
                                {
                                    "ProductID": "416",
                                    "Name": "Internal Lock Washer 7"
                                },
                                {
                                    "ProductID": "417",
                                    "Name": "Internal Lock Washer 6"
                                },
                                {
                                    "ProductID": "418",
                                    "Name": "Internal Lock Washer 10"
                                },
                                {
                                    "ProductID": "419",
                                    "Name": "Internal Lock Washer 1"
                                },
                                {
                                    "ProductID": "420",
                                    "Name": "Internal Lock Washer 8"
                                },
                                {
                                    "ProductID": "421",
                                    "Name": "Internal Lock Washer 2"
                                },
                                {
                                    "ProductID": "422",
                                    "Name": "Thin-Jam Lock Nut 9"
                                },
                                {
                                    "ProductID": "423",
                                    "Name": "Thin-Jam Lock Nut 10"
                                },
                                {
                                    "ProductID": "424",
                                    "Name": "Thin-Jam Lock Nut 1"
                                },
                                {
                                    "ProductID": "425",
                                    "Name": "Thin-Jam Lock Nut 2"
                                },
                                {
                                    "ProductID": "426",
                                    "Name": "Thin-Jam Lock Nut 15"
                                },
                                {
                                    "ProductID": "427",
                                    "Name": "Thin-Jam Lock Nut 16"
                                },
                                {
                                    "ProductID": "428",
                                    "Name": "Thin-Jam Lock Nut 5"
                                },
                                {
                                    "ProductID": "429",
                                    "Name": "Thin-Jam Lock Nut 6"
                                },
                                {
                                    "ProductID": "430",
                                    "Name": "Thin-Jam Lock Nut 3"
                                },
                                {
                                    "ProductID": "431",
                                    "Name": "Thin-Jam Lock Nut 4"
                                },
                                {
                                    "ProductID": "432",
                                    "Name": "Thin-Jam Lock Nut 13"
                                },
                                {
                                    "ProductID": "433",
                                    "Name": "Thin-Jam Lock Nut 14"
                                },
                                {
                                    "ProductID": "434",
                                    "Name": "Thin-Jam Lock Nut 7"
                                },
                                {
                                    "ProductID": "435",
                                    "Name": "Thin-Jam Lock Nut 8"
                                },
                                {
                                    "ProductID": "436",
                                    "Name": "Thin-Jam Lock Nut 12"
                                },
                                {
                                    "ProductID": "437",
                                    "Name": "Thin-Jam Lock Nut 11"
                                },
                                {
                                    "ProductID": "438",
                                    "Name": "Lock Nut 5"
                                },
                                {
                                    "ProductID": "439",
                                    "Name": "Lock Nut 6"
                                },
                                {
                                    "ProductID": "440",
                                    "Name": "Lock Nut 16"
                                },
                                {
                                    "ProductID": "441",
                                    "Name": "Lock Nut 17"
                                },
                                {
                                    "ProductID": "442",
                                    "Name": "Lock Nut 7"
                                },
                                {
                                    "ProductID": "443",
                                    "Name": "Lock Nut 8"
                                },
                                {
                                    "ProductID": "444",
                                    "Name": "Lock Nut 9"
                                },
                                {
                                    "ProductID": "445",
                                    "Name": "Lock Nut 22"
                                },
                                {
                                    "ProductID": "446",
                                    "Name": "Lock Nut 23"
                                },
                                {
                                    "ProductID": "447",
                                    "Name": "Lock Nut 12"
                                },
                                {
                                    "ProductID": "448",
                                    "Name": "Lock Nut 13"
                                },
                                {
                                    "ProductID": "449",
                                    "Name": "Lock Nut 1"
                                },
                                {
                                    "ProductID": "450",
                                    "Name": "Lock Nut 10"
                                },
                                {
                                    "ProductID": "451",
                                    "Name": "Lock Nut 11"
                                },
                                {
                                    "ProductID": "452",
                                    "Name": "Lock Nut 2"
                                },
                                {
                                    "ProductID": "453",
                                    "Name": "Lock Nut 20"
                                },
                                {
                                    "ProductID": "454",
                                    "Name": "Lock Nut 21"
                                },
                                {
                                    "ProductID": "455",
                                    "Name": "Lock Nut 3"
                                },
                                {
                                    "ProductID": "456",
                                    "Name": "Lock Nut 14"
                                },
                                {
                                    "ProductID": "457",
                                    "Name": "Lock Nut 15"
                                },
                                {
                                    "ProductID": "458",
                                    "Name": "Lock Nut 4"
                                },
                                {
                                    "ProductID": "459",
                                    "Name": "Lock Nut 19"
                                },
                                {
                                    "ProductID": "460",
                                    "Name": "Lock Nut 18"
                                },
                                {
                                    "ProductID": "461",
                                    "Name": "Lock Ring"
                                },
                                {
                                    "ProductID": "462",
                                    "Name": "Lower Head Race"
                                },
                                {
                                    "ProductID": "463",
                                    "Name": "Lock Washer 4"
                                },
                                {
                                    "ProductID": "464",
                                    "Name": "Lock Washer 5"
                                },
                                {
                                    "ProductID": "465",
                                    "Name": "Lock Washer 10"
                                },
                                {
                                    "ProductID": "466",
                                    "Name": "Lock Washer 6"
                                },
                                {
                                    "ProductID": "467",
                                    "Name": "Lock Washer 13"
                                },
                                {
                                    "ProductID": "468",
                                    "Name": "Lock Washer 8"
                                },
                                {
                                    "ProductID": "469",
                                    "Name": "Lock Washer 1"
                                },
                                {
                                    "ProductID": "470",
                                    "Name": "Lock Washer 7"
                                },
                                {
                                    "ProductID": "471",
                                    "Name": "Lock Washer 12"
                                },
                                {
                                    "ProductID": "472",
                                    "Name": "Lock Washer 2"
                                },
                                {
                                    "ProductID": "473",
                                    "Name": "Lock Washer 9"
                                },
                                {
                                    "ProductID": "474",
                                    "Name": "Lock Washer 3"
                                },
                                {
                                    "ProductID": "475",
                                    "Name": "Lock Washer 11"
                                },
                                {
                                    "ProductID": "476",
                                    "Name": "Metal Angle"
                                },
                                {
                                    "ProductID": "477",
                                    "Name": "Metal Bar 1"
                                },
                                {
                                    "ProductID": "478",
                                    "Name": "Metal Bar 2"
                                },
                                {
                                    "ProductID": "479",
                                    "Name": "Metal Plate 2"
                                },
                                {
                                    "ProductID": "480",
                                    "Name": "Metal Plate 1"
                                },
                                {
                                    "ProductID": "481",
                                    "Name": "Metal Plate 3"
                                },
                                {
                                    "ProductID": "482",
                                    "Name": "Metal Sheet 2"
                                },
                                {
                                    "ProductID": "483",
                                    "Name": "Metal Sheet 3"
                                },
                                {
                                    "ProductID": "484",
                                    "Name": "Metal Sheet 7"
                                },
                                {
                                    "ProductID": "485",
                                    "Name": "Metal Sheet 4"
                                },
                                {
                                    "ProductID": "486",
                                    "Name": "Metal Sheet 5"
                                },
                                {
                                    "ProductID": "487",
                                    "Name": "Metal Sheet 6"
                                },
                                {
                                    "ProductID": "488",
                                    "Name": "Metal Sheet 1"
                                },
                                {
                                    "ProductID": "489",
                                    "Name": "Metal Tread Plate"
                                },
                                {
                                    "ProductID": "490",
                                    "Name": "LL Nipple"
                                },
                                {
                                    "ProductID": "491",
                                    "Name": "HL Nipple"
                                },
                                {
                                    "ProductID": "492",
                                    "Name": "Paint - Black"
                                },
                                {
                                    "ProductID": "493",
                                    "Name": "Paint - Red"
                                },
                                {
                                    "ProductID": "494",
                                    "Name": "Paint - Silver"
                                },
                                {
                                    "ProductID": "495",
                                    "Name": "Paint - Blue"
                                },
                                {
                                    "ProductID": "496",
                                    "Name": "Paint - Yellow"
                                },
                                {
                                    "ProductID": "497",
                                    "Name": "Pinch Bolt"
                                }
                            ]
                        },
                        "text/html": [
                            "<table>",
                            "<tr><th>ProductID</th><th>Name</th></tr>",
                            "<tr><td>400</td><td>LL Hub</td></tr>",
                            "<tr><td>401</td><td>HL Hub</td></tr>",
                            "<tr><td>402</td><td>Keyed Washer</td></tr>",
                            "<tr><td>403</td><td>External Lock Washer 3</td></tr>",
                            "<tr><td>404</td><td>External Lock Washer 4</td></tr>",
                            "<tr><td>405</td><td>External Lock Washer 9</td></tr>",
                            "<tr><td>406</td><td>External Lock Washer 5</td></tr>",
                            "<tr><td>407</td><td>External Lock Washer 7</td></tr>",
                            "<tr><td>408</td><td>External Lock Washer 6</td></tr>",
                            "<tr><td>409</td><td>External Lock Washer 1</td></tr>",
                            "<tr><td>410</td><td>External Lock Washer 8</td></tr>",
                            "<tr><td>411</td><td>External Lock Washer 2</td></tr>",
                            "<tr><td>412</td><td>Internal Lock Washer 3</td></tr>",
                            "<tr><td>413</td><td>Internal Lock Washer 4</td></tr>",
                            "<tr><td>414</td><td>Internal Lock Washer 9</td></tr>",
                            "<tr><td>415</td><td>Internal Lock Washer 5</td></tr>",
                            "<tr><td>416</td><td>Internal Lock Washer 7</td></tr>",
                            "<tr><td>417</td><td>Internal Lock Washer 6</td></tr>",
                            "<tr><td>418</td><td>Internal Lock Washer 10</td></tr>",
                            "<tr><td>419</td><td>Internal Lock Washer 1</td></tr>",
                            "<tr><td>420</td><td>Internal Lock Washer 8</td></tr>",
                            "<tr><td>421</td><td>Internal Lock Washer 2</td></tr>",
                            "<tr><td>422</td><td>Thin-Jam Lock Nut 9</td></tr>",
                            "<tr><td>423</td><td>Thin-Jam Lock Nut 10</td></tr>",
                            "<tr><td>424</td><td>Thin-Jam Lock Nut 1</td></tr>",
                            "<tr><td>425</td><td>Thin-Jam Lock Nut 2</td></tr>",
                            "<tr><td>426</td><td>Thin-Jam Lock Nut 15</td></tr>",
                            "<tr><td>427</td><td>Thin-Jam Lock Nut 16</td></tr>",
                            "<tr><td>428</td><td>Thin-Jam Lock Nut 5</td></tr>",
                            "<tr><td>429</td><td>Thin-Jam Lock Nut 6</td></tr>",
                            "<tr><td>430</td><td>Thin-Jam Lock Nut 3</td></tr>",
                            "<tr><td>431</td><td>Thin-Jam Lock Nut 4</td></tr>",
                            "<tr><td>432</td><td>Thin-Jam Lock Nut 13</td></tr>",
                            "<tr><td>433</td><td>Thin-Jam Lock Nut 14</td></tr>",
                            "<tr><td>434</td><td>Thin-Jam Lock Nut 7</td></tr>",
                            "<tr><td>435</td><td>Thin-Jam Lock Nut 8</td></tr>",
                            "<tr><td>436</td><td>Thin-Jam Lock Nut 12</td></tr>",
                            "<tr><td>437</td><td>Thin-Jam Lock Nut 11</td></tr>",
                            "<tr><td>438</td><td>Lock Nut 5</td></tr>",
                            "<tr><td>439</td><td>Lock Nut 6</td></tr>",
                            "<tr><td>440</td><td>Lock Nut 16</td></tr>",
                            "<tr><td>441</td><td>Lock Nut 17</td></tr>",
                            "<tr><td>442</td><td>Lock Nut 7</td></tr>",
                            "<tr><td>443</td><td>Lock Nut 8</td></tr>",
                            "<tr><td>444</td><td>Lock Nut 9</td></tr>",
                            "<tr><td>445</td><td>Lock Nut 22</td></tr>",
                            "<tr><td>446</td><td>Lock Nut 23</td></tr>",
                            "<tr><td>447</td><td>Lock Nut 12</td></tr>",
                            "<tr><td>448</td><td>Lock Nut 13</td></tr>",
                            "<tr><td>449</td><td>Lock Nut 1</td></tr>",
                            "<tr><td>450</td><td>Lock Nut 10</td></tr>",
                            "<tr><td>451</td><td>Lock Nut 11</td></tr>",
                            "<tr><td>452</td><td>Lock Nut 2</td></tr>",
                            "<tr><td>453</td><td>Lock Nut 20</td></tr>",
                            "<tr><td>454</td><td>Lock Nut 21</td></tr>",
                            "<tr><td>455</td><td>Lock Nut 3</td></tr>",
                            "<tr><td>456</td><td>Lock Nut 14</td></tr>",
                            "<tr><td>457</td><td>Lock Nut 15</td></tr>",
                            "<tr><td>458</td><td>Lock Nut 4</td></tr>",
                            "<tr><td>459</td><td>Lock Nut 19</td></tr>",
                            "<tr><td>460</td><td>Lock Nut 18</td></tr>",
                            "<tr><td>461</td><td>Lock Ring</td></tr>",
                            "<tr><td>462</td><td>Lower Head Race</td></tr>",
                            "<tr><td>463</td><td>Lock Washer 4</td></tr>",
                            "<tr><td>464</td><td>Lock Washer 5</td></tr>",
                            "<tr><td>465</td><td>Lock Washer 10</td></tr>",
                            "<tr><td>466</td><td>Lock Washer 6</td></tr>",
                            "<tr><td>467</td><td>Lock Washer 13</td></tr>",
                            "<tr><td>468</td><td>Lock Washer 8</td></tr>",
                            "<tr><td>469</td><td>Lock Washer 1</td></tr>",
                            "<tr><td>470</td><td>Lock Washer 7</td></tr>",
                            "<tr><td>471</td><td>Lock Washer 12</td></tr>",
                            "<tr><td>472</td><td>Lock Washer 2</td></tr>",
                            "<tr><td>473</td><td>Lock Washer 9</td></tr>",
                            "<tr><td>474</td><td>Lock Washer 3</td></tr>",
                            "<tr><td>475</td><td>Lock Washer 11</td></tr>",
                            "<tr><td>476</td><td>Metal Angle</td></tr>",
                            "<tr><td>477</td><td>Metal Bar 1</td></tr>",
                            "<tr><td>478</td><td>Metal Bar 2</td></tr>",
                            "<tr><td>479</td><td>Metal Plate 2</td></tr>",
                            "<tr><td>480</td><td>Metal Plate 1</td></tr>",
                            "<tr><td>481</td><td>Metal Plate 3</td></tr>",
                            "<tr><td>482</td><td>Metal Sheet 2</td></tr>",
                            "<tr><td>483</td><td>Metal Sheet 3</td></tr>",
                            "<tr><td>484</td><td>Metal Sheet 7</td></tr>",
                            "<tr><td>485</td><td>Metal Sheet 4</td></tr>",
                            "<tr><td>486</td><td>Metal Sheet 5</td></tr>",
                            "<tr><td>487</td><td>Metal Sheet 6</td></tr>",
                            "<tr><td>488</td><td>Metal Sheet 1</td></tr>",
                            "<tr><td>489</td><td>Metal Tread Plate</td></tr>",
                            "<tr><td>490</td><td>LL Nipple</td></tr>",
                            "<tr><td>491</td><td>HL Nipple</td></tr>",
                            "<tr><td>492</td><td>Paint - Black</td></tr>",
                            "<tr><td>493</td><td>Paint - Red</td></tr>",
                            "<tr><td>494</td><td>Paint - Silver</td></tr>",
                            "<tr><td>495</td><td>Paint - Blue</td></tr>",
                            "<tr><td>496</td><td>Paint - Yellow</td></tr>",
                            "<tr><td>497</td><td>Pinch Bolt</td></tr>",
                            "</table>"
                        ]
                    }
                }
            ],
            "execution_count": 89
        },
        {
            "cell_type": "markdown",
            "source": [
                "9.  Write a query to retrieve the to the columns ProductID, Name and color from the Production.Product table restricted to the colors black and blue\n"
            ],
            "metadata": {
                "azdata_cell_guid": "065e606f-2a5f-4e81-92f6-1c593986fc65",
                "language": ""
            },
            "attachments": {}
        },
        {
            "cell_type": "code",
            "source": [
                "SELECT ProductID, Name, Color\n",
                "FROM Production.Product\n",
                "WHERE color IN ('black', 'blue')"
            ],
            "metadata": {
                "azdata_cell_guid": "12a7599e-1178-4162-a954-7f079a906222",
                "language": "sql"
            },
            "outputs": [
                {
                    "output_type": "display_data",
                    "data": {
                        "text/html": "(119 rows affected)"
                    },
                    "metadata": {}
                },
                {
                    "output_type": "display_data",
                    "data": {
                        "text/html": "Total execution time: 00:00:00.003"
                    },
                    "metadata": {}
                },
                {
                    "output_type": "execute_result",
                    "metadata": {},
                    "execution_count": 90,
                    "data": {
                        "application/vnd.dataresource+json": {
                            "schema": {
                                "fields": [
                                    {
                                        "name": "ProductID"
                                    },
                                    {
                                        "name": "Name"
                                    },
                                    {
                                        "name": "Color"
                                    }
                                ]
                            },
                            "data": [
                                {
                                    "ProductID": "317",
                                    "Name": "LL Crankarm",
                                    "Color": "Black"
                                },
                                {
                                    "ProductID": "318",
                                    "Name": "ML Crankarm",
                                    "Color": "Black"
                                },
                                {
                                    "ProductID": "319",
                                    "Name": "HL Crankarm",
                                    "Color": "Black"
                                },
                                {
                                    "ProductID": "322",
                                    "Name": "Chainring",
                                    "Color": "Black"
                                },
                                {
                                    "ProductID": "680",
                                    "Name": "HL Road Frame - Black, 58",
                                    "Color": "Black"
                                },
                                {
                                    "ProductID": "708",
                                    "Name": "Sport-100 Helmet, Black",
                                    "Color": "Black"
                                },
                                {
                                    "ProductID": "711",
                                    "Name": "Sport-100 Helmet, Blue",
                                    "Color": "Blue"
                                },
                                {
                                    "ProductID": "722",
                                    "Name": "LL Road Frame - Black, 58",
                                    "Color": "Black"
                                },
                                {
                                    "ProductID": "723",
                                    "Name": "LL Road Frame - Black, 60",
                                    "Color": "Black"
                                },
                                {
                                    "ProductID": "724",
                                    "Name": "LL Road Frame - Black, 62",
                                    "Color": "Black"
                                },
                                {
                                    "ProductID": "736",
                                    "Name": "LL Road Frame - Black, 44",
                                    "Color": "Black"
                                },
                                {
                                    "ProductID": "737",
                                    "Name": "LL Road Frame - Black, 48",
                                    "Color": "Black"
                                },
                                {
                                    "ProductID": "738",
                                    "Name": "LL Road Frame - Black, 52",
                                    "Color": "Black"
                                },
                                {
                                    "ProductID": "743",
                                    "Name": "HL Mountain Frame - Black, 42",
                                    "Color": "Black"
                                },
                                {
                                    "ProductID": "744",
                                    "Name": "HL Mountain Frame - Black, 44",
                                    "Color": "Black"
                                },
                                {
                                    "ProductID": "745",
                                    "Name": "HL Mountain Frame - Black, 48",
                                    "Color": "Black"
                                },
                                {
                                    "ProductID": "746",
                                    "Name": "HL Mountain Frame - Black, 46",
                                    "Color": "Black"
                                },
                                {
                                    "ProductID": "747",
                                    "Name": "HL Mountain Frame - Black, 38",
                                    "Color": "Black"
                                },
                                {
                                    "ProductID": "765",
                                    "Name": "Road-650 Black, 58",
                                    "Color": "Black"
                                },
                                {
                                    "ProductID": "766",
                                    "Name": "Road-650 Black, 60",
                                    "Color": "Black"
                                },
                                {
                                    "ProductID": "767",
                                    "Name": "Road-650 Black, 62",
                                    "Color": "Black"
                                },
                                {
                                    "ProductID": "768",
                                    "Name": "Road-650 Black, 44",
                                    "Color": "Black"
                                },
                                {
                                    "ProductID": "769",
                                    "Name": "Road-650 Black, 48",
                                    "Color": "Black"
                                },
                                {
                                    "ProductID": "770",
                                    "Name": "Road-650 Black, 52",
                                    "Color": "Black"
                                },
                                {
                                    "ProductID": "775",
                                    "Name": "Mountain-100 Black, 38",
                                    "Color": "Black"
                                },
                                {
                                    "ProductID": "776",
                                    "Name": "Mountain-100 Black, 42",
                                    "Color": "Black"
                                },
                                {
                                    "ProductID": "777",
                                    "Name": "Mountain-100 Black, 44",
                                    "Color": "Black"
                                },
                                {
                                    "ProductID": "778",
                                    "Name": "Mountain-100 Black, 48",
                                    "Color": "Black"
                                },
                                {
                                    "ProductID": "782",
                                    "Name": "Mountain-200 Black, 38",
                                    "Color": "Black"
                                },
                                {
                                    "ProductID": "783",
                                    "Name": "Mountain-200 Black, 42",
                                    "Color": "Black"
                                },
                                {
                                    "ProductID": "784",
                                    "Name": "Mountain-200 Black, 46",
                                    "Color": "Black"
                                },
                                {
                                    "ProductID": "785",
                                    "Name": "Mountain-300 Black, 38",
                                    "Color": "Black"
                                },
                                {
                                    "ProductID": "786",
                                    "Name": "Mountain-300 Black, 40",
                                    "Color": "Black"
                                },
                                {
                                    "ProductID": "787",
                                    "Name": "Mountain-300 Black, 44",
                                    "Color": "Black"
                                },
                                {
                                    "ProductID": "788",
                                    "Name": "Mountain-300 Black, 48",
                                    "Color": "Black"
                                },
                                {
                                    "ProductID": "793",
                                    "Name": "Road-250 Black, 44",
                                    "Color": "Black"
                                },
                                {
                                    "ProductID": "794",
                                    "Name": "Road-250 Black, 48",
                                    "Color": "Black"
                                },
                                {
                                    "ProductID": "795",
                                    "Name": "Road-250 Black, 52",
                                    "Color": "Black"
                                },
                                {
                                    "ProductID": "796",
                                    "Name": "Road-250 Black, 58",
                                    "Color": "Black"
                                },
                                {
                                    "ProductID": "814",
                                    "Name": "ML Mountain Frame - Black, 38",
                                    "Color": "Black"
                                },
                                {
                                    "ProductID": "815",
                                    "Name": "LL Mountain Front Wheel",
                                    "Color": "Black"
                                },
                                {
                                    "ProductID": "816",
                                    "Name": "ML Mountain Front Wheel",
                                    "Color": "Black"
                                },
                                {
                                    "ProductID": "817",
                                    "Name": "HL Mountain Front Wheel",
                                    "Color": "Black"
                                },
                                {
                                    "ProductID": "818",
                                    "Name": "LL Road Front Wheel",
                                    "Color": "Black"
                                },
                                {
                                    "ProductID": "819",
                                    "Name": "ML Road Front Wheel",
                                    "Color": "Black"
                                },
                                {
                                    "ProductID": "820",
                                    "Name": "HL Road Front Wheel",
                                    "Color": "Black"
                                },
                                {
                                    "ProductID": "821",
                                    "Name": "Touring Front Wheel",
                                    "Color": "Black"
                                },
                                {
                                    "ProductID": "823",
                                    "Name": "LL Mountain Rear Wheel",
                                    "Color": "Black"
                                },
                                {
                                    "ProductID": "824",
                                    "Name": "ML Mountain Rear Wheel",
                                    "Color": "Black"
                                },
                                {
                                    "ProductID": "825",
                                    "Name": "HL Mountain Rear Wheel",
                                    "Color": "Black"
                                },
                                {
                                    "ProductID": "826",
                                    "Name": "LL Road Rear Wheel",
                                    "Color": "Black"
                                },
                                {
                                    "ProductID": "827",
                                    "Name": "ML Road Rear Wheel",
                                    "Color": "Black"
                                },
                                {
                                    "ProductID": "828",
                                    "Name": "HL Road Rear Wheel",
                                    "Color": "Black"
                                },
                                {
                                    "ProductID": "829",
                                    "Name": "Touring Rear Wheel",
                                    "Color": "Black"
                                },
                                {
                                    "ProductID": "830",
                                    "Name": "ML Mountain Frame - Black, 40",
                                    "Color": "Black"
                                },
                                {
                                    "ProductID": "831",
                                    "Name": "ML Mountain Frame - Black, 44",
                                    "Color": "Black"
                                },
                                {
                                    "ProductID": "832",
                                    "Name": "ML Mountain Frame - Black, 48",
                                    "Color": "Black"
                                },
                                {
                                    "ProductID": "837",
                                    "Name": "HL Road Frame - Black, 62",
                                    "Color": "Black"
                                },
                                {
                                    "ProductID": "838",
                                    "Name": "HL Road Frame - Black, 44",
                                    "Color": "Black"
                                },
                                {
                                    "ProductID": "839",
                                    "Name": "HL Road Frame - Black, 48",
                                    "Color": "Black"
                                },
                                {
                                    "ProductID": "840",
                                    "Name": "HL Road Frame - Black, 52",
                                    "Color": "Black"
                                },
                                {
                                    "ProductID": "841",
                                    "Name": "Men's Sports Shorts, S",
                                    "Color": "Black"
                                },
                                {
                                    "ProductID": "849",
                                    "Name": "Men's Sports Shorts, M",
                                    "Color": "Black"
                                },
                                {
                                    "ProductID": "850",
                                    "Name": "Men's Sports Shorts, L",
                                    "Color": "Black"
                                },
                                {
                                    "ProductID": "851",
                                    "Name": "Men's Sports Shorts, XL",
                                    "Color": "Black"
                                },
                                {
                                    "ProductID": "852",
                                    "Name": "Women's Tights, S",
                                    "Color": "Black"
                                },
                                {
                                    "ProductID": "853",
                                    "Name": "Women's Tights, M",
                                    "Color": "Black"
                                },
                                {
                                    "ProductID": "854",
                                    "Name": "Women's Tights, L",
                                    "Color": "Black"
                                },
                                {
                                    "ProductID": "858",
                                    "Name": "Half-Finger Gloves, S",
                                    "Color": "Black"
                                },
                                {
                                    "ProductID": "859",
                                    "Name": "Half-Finger Gloves, M",
                                    "Color": "Black"
                                },
                                {
                                    "ProductID": "860",
                                    "Name": "Half-Finger Gloves, L",
                                    "Color": "Black"
                                },
                                {
                                    "ProductID": "861",
                                    "Name": "Full-Finger Gloves, S",
                                    "Color": "Black"
                                },
                                {
                                    "ProductID": "862",
                                    "Name": "Full-Finger Gloves, M",
                                    "Color": "Black"
                                },
                                {
                                    "ProductID": "863",
                                    "Name": "Full-Finger Gloves, L",
                                    "Color": "Black"
                                },
                                {
                                    "ProductID": "864",
                                    "Name": "Classic Vest, S",
                                    "Color": "Blue"
                                },
                                {
                                    "ProductID": "865",
                                    "Name": "Classic Vest, M",
                                    "Color": "Blue"
                                },
                                {
                                    "ProductID": "866",
                                    "Name": "Classic Vest, L",
                                    "Color": "Blue"
                                },
                                {
                                    "ProductID": "867",
                                    "Name": "Women's Mountain Shorts, S",
                                    "Color": "Black"
                                },
                                {
                                    "ProductID": "868",
                                    "Name": "Women's Mountain Shorts, M",
                                    "Color": "Black"
                                },
                                {
                                    "ProductID": "869",
                                    "Name": "Women's Mountain Shorts, L",
                                    "Color": "Black"
                                },
                                {
                                    "ProductID": "890",
                                    "Name": "HL Touring Frame - Blue, 46",
                                    "Color": "Blue"
                                },
                                {
                                    "ProductID": "891",
                                    "Name": "HL Touring Frame - Blue, 50",
                                    "Color": "Blue"
                                },
                                {
                                    "ProductID": "892",
                                    "Name": "HL Touring Frame - Blue, 54",
                                    "Color": "Blue"
                                },
                                {
                                    "ProductID": "893",
                                    "Name": "HL Touring Frame - Blue, 60",
                                    "Color": "Blue"
                                },
                                {
                                    "ProductID": "895",
                                    "Name": "LL Touring Frame - Blue, 50",
                                    "Color": "Blue"
                                },
                                {
                                    "ProductID": "896",
                                    "Name": "LL Touring Frame - Blue, 54",
                                    "Color": "Blue"
                                },
                                {
                                    "ProductID": "897",
                                    "Name": "LL Touring Frame - Blue, 58",
                                    "Color": "Blue"
                                },
                                {
                                    "ProductID": "898",
                                    "Name": "LL Touring Frame - Blue, 62",
                                    "Color": "Blue"
                                },
                                {
                                    "ProductID": "903",
                                    "Name": "LL Touring Frame - Blue, 44",
                                    "Color": "Blue"
                                },
                                {
                                    "ProductID": "924",
                                    "Name": "LL Mountain Frame - Black, 42",
                                    "Color": "Black"
                                },
                                {
                                    "ProductID": "925",
                                    "Name": "LL Mountain Frame - Black, 44",
                                    "Color": "Black"
                                },
                                {
                                    "ProductID": "926",
                                    "Name": "LL Mountain Frame - Black, 48",
                                    "Color": "Black"
                                },
                                {
                                    "ProductID": "927",
                                    "Name": "LL Mountain Frame - Black, 52",
                                    "Color": "Black"
                                },
                                {
                                    "ProductID": "943",
                                    "Name": "LL Mountain Frame - Black, 40",
                                    "Color": "Black"
                                },
                                {
                                    "ProductID": "949",
                                    "Name": "LL Crankset",
                                    "Color": "Black"
                                },
                                {
                                    "ProductID": "950",
                                    "Name": "ML Crankset",
                                    "Color": "Black"
                                },
                                {
                                    "ProductID": "951",
                                    "Name": "HL Crankset",
                                    "Color": "Black"
                                },
                                {
                                    "ProductID": "953",
                                    "Name": "Touring-2000 Blue, 60",
                                    "Color": "Blue"
                                },
                                {
                                    "ProductID": "958",
                                    "Name": "Touring-3000 Blue, 54",
                                    "Color": "Blue"
                                },
                                {
                                    "ProductID": "959",
                                    "Name": "Touring-3000 Blue, 58",
                                    "Color": "Blue"
                                },
                                {
                                    "ProductID": "960",
                                    "Name": "Touring-3000 Blue, 62",
                                    "Color": "Blue"
                                },
                                {
                                    "ProductID": "966",
                                    "Name": "Touring-1000 Blue, 46",
                                    "Color": "Blue"
                                },
                                {
                                    "ProductID": "967",
                                    "Name": "Touring-1000 Blue, 50",
                                    "Color": "Blue"
                                },
                                {
                                    "ProductID": "968",
                                    "Name": "Touring-1000 Blue, 54",
                                    "Color": "Blue"
                                },
                                {
                                    "ProductID": "969",
                                    "Name": "Touring-1000 Blue, 60",
                                    "Color": "Blue"
                                },
                                {
                                    "ProductID": "970",
                                    "Name": "Touring-2000 Blue, 46",
                                    "Color": "Blue"
                                },
                                {
                                    "ProductID": "971",
                                    "Name": "Touring-2000 Blue, 50",
                                    "Color": "Blue"
                                },
                                {
                                    "ProductID": "972",
                                    "Name": "Touring-2000 Blue, 54",
                                    "Color": "Blue"
                                },
                                {
                                    "ProductID": "977",
                                    "Name": "Road-750 Black, 58",
                                    "Color": "Black"
                                },
                                {
                                    "ProductID": "978",
                                    "Name": "Touring-3000 Blue, 44",
                                    "Color": "Blue"
                                },
                                {
                                    "ProductID": "979",
                                    "Name": "Touring-3000 Blue, 50",
                                    "Color": "Blue"
                                },
                                {
                                    "ProductID": "989",
                                    "Name": "Mountain-500 Black, 40",
                                    "Color": "Black"
                                },
                                {
                                    "ProductID": "990",
                                    "Name": "Mountain-500 Black, 42",
                                    "Color": "Black"
                                },
                                {
                                    "ProductID": "991",
                                    "Name": "Mountain-500 Black, 44",
                                    "Color": "Black"
                                },
                                {
                                    "ProductID": "992",
                                    "Name": "Mountain-500 Black, 48",
                                    "Color": "Black"
                                },
                                {
                                    "ProductID": "993",
                                    "Name": "Mountain-500 Black, 52",
                                    "Color": "Black"
                                },
                                {
                                    "ProductID": "997",
                                    "Name": "Road-750 Black, 44",
                                    "Color": "Black"
                                },
                                {
                                    "ProductID": "998",
                                    "Name": "Road-750 Black, 48",
                                    "Color": "Black"
                                },
                                {
                                    "ProductID": "999",
                                    "Name": "Road-750 Black, 52",
                                    "Color": "Black"
                                }
                            ]
                        },
                        "text/html": [
                            "<table>",
                            "<tr><th>ProductID</th><th>Name</th><th>Color</th></tr>",
                            "<tr><td>317</td><td>LL Crankarm</td><td>Black</td></tr>",
                            "<tr><td>318</td><td>ML Crankarm</td><td>Black</td></tr>",
                            "<tr><td>319</td><td>HL Crankarm</td><td>Black</td></tr>",
                            "<tr><td>322</td><td>Chainring</td><td>Black</td></tr>",
                            "<tr><td>680</td><td>HL Road Frame - Black, 58</td><td>Black</td></tr>",
                            "<tr><td>708</td><td>Sport-100 Helmet, Black</td><td>Black</td></tr>",
                            "<tr><td>711</td><td>Sport-100 Helmet, Blue</td><td>Blue</td></tr>",
                            "<tr><td>722</td><td>LL Road Frame - Black, 58</td><td>Black</td></tr>",
                            "<tr><td>723</td><td>LL Road Frame - Black, 60</td><td>Black</td></tr>",
                            "<tr><td>724</td><td>LL Road Frame - Black, 62</td><td>Black</td></tr>",
                            "<tr><td>736</td><td>LL Road Frame - Black, 44</td><td>Black</td></tr>",
                            "<tr><td>737</td><td>LL Road Frame - Black, 48</td><td>Black</td></tr>",
                            "<tr><td>738</td><td>LL Road Frame - Black, 52</td><td>Black</td></tr>",
                            "<tr><td>743</td><td>HL Mountain Frame - Black, 42</td><td>Black</td></tr>",
                            "<tr><td>744</td><td>HL Mountain Frame - Black, 44</td><td>Black</td></tr>",
                            "<tr><td>745</td><td>HL Mountain Frame - Black, 48</td><td>Black</td></tr>",
                            "<tr><td>746</td><td>HL Mountain Frame - Black, 46</td><td>Black</td></tr>",
                            "<tr><td>747</td><td>HL Mountain Frame - Black, 38</td><td>Black</td></tr>",
                            "<tr><td>765</td><td>Road-650 Black, 58</td><td>Black</td></tr>",
                            "<tr><td>766</td><td>Road-650 Black, 60</td><td>Black</td></tr>",
                            "<tr><td>767</td><td>Road-650 Black, 62</td><td>Black</td></tr>",
                            "<tr><td>768</td><td>Road-650 Black, 44</td><td>Black</td></tr>",
                            "<tr><td>769</td><td>Road-650 Black, 48</td><td>Black</td></tr>",
                            "<tr><td>770</td><td>Road-650 Black, 52</td><td>Black</td></tr>",
                            "<tr><td>775</td><td>Mountain-100 Black, 38</td><td>Black</td></tr>",
                            "<tr><td>776</td><td>Mountain-100 Black, 42</td><td>Black</td></tr>",
                            "<tr><td>777</td><td>Mountain-100 Black, 44</td><td>Black</td></tr>",
                            "<tr><td>778</td><td>Mountain-100 Black, 48</td><td>Black</td></tr>",
                            "<tr><td>782</td><td>Mountain-200 Black, 38</td><td>Black</td></tr>",
                            "<tr><td>783</td><td>Mountain-200 Black, 42</td><td>Black</td></tr>",
                            "<tr><td>784</td><td>Mountain-200 Black, 46</td><td>Black</td></tr>",
                            "<tr><td>785</td><td>Mountain-300 Black, 38</td><td>Black</td></tr>",
                            "<tr><td>786</td><td>Mountain-300 Black, 40</td><td>Black</td></tr>",
                            "<tr><td>787</td><td>Mountain-300 Black, 44</td><td>Black</td></tr>",
                            "<tr><td>788</td><td>Mountain-300 Black, 48</td><td>Black</td></tr>",
                            "<tr><td>793</td><td>Road-250 Black, 44</td><td>Black</td></tr>",
                            "<tr><td>794</td><td>Road-250 Black, 48</td><td>Black</td></tr>",
                            "<tr><td>795</td><td>Road-250 Black, 52</td><td>Black</td></tr>",
                            "<tr><td>796</td><td>Road-250 Black, 58</td><td>Black</td></tr>",
                            "<tr><td>814</td><td>ML Mountain Frame - Black, 38</td><td>Black</td></tr>",
                            "<tr><td>815</td><td>LL Mountain Front Wheel</td><td>Black</td></tr>",
                            "<tr><td>816</td><td>ML Mountain Front Wheel</td><td>Black</td></tr>",
                            "<tr><td>817</td><td>HL Mountain Front Wheel</td><td>Black</td></tr>",
                            "<tr><td>818</td><td>LL Road Front Wheel</td><td>Black</td></tr>",
                            "<tr><td>819</td><td>ML Road Front Wheel</td><td>Black</td></tr>",
                            "<tr><td>820</td><td>HL Road Front Wheel</td><td>Black</td></tr>",
                            "<tr><td>821</td><td>Touring Front Wheel</td><td>Black</td></tr>",
                            "<tr><td>823</td><td>LL Mountain Rear Wheel</td><td>Black</td></tr>",
                            "<tr><td>824</td><td>ML Mountain Rear Wheel</td><td>Black</td></tr>",
                            "<tr><td>825</td><td>HL Mountain Rear Wheel</td><td>Black</td></tr>",
                            "<tr><td>826</td><td>LL Road Rear Wheel</td><td>Black</td></tr>",
                            "<tr><td>827</td><td>ML Road Rear Wheel</td><td>Black</td></tr>",
                            "<tr><td>828</td><td>HL Road Rear Wheel</td><td>Black</td></tr>",
                            "<tr><td>829</td><td>Touring Rear Wheel</td><td>Black</td></tr>",
                            "<tr><td>830</td><td>ML Mountain Frame - Black, 40</td><td>Black</td></tr>",
                            "<tr><td>831</td><td>ML Mountain Frame - Black, 44</td><td>Black</td></tr>",
                            "<tr><td>832</td><td>ML Mountain Frame - Black, 48</td><td>Black</td></tr>",
                            "<tr><td>837</td><td>HL Road Frame - Black, 62</td><td>Black</td></tr>",
                            "<tr><td>838</td><td>HL Road Frame - Black, 44</td><td>Black</td></tr>",
                            "<tr><td>839</td><td>HL Road Frame - Black, 48</td><td>Black</td></tr>",
                            "<tr><td>840</td><td>HL Road Frame - Black, 52</td><td>Black</td></tr>",
                            "<tr><td>841</td><td>Men&#39;s Sports Shorts, S</td><td>Black</td></tr>",
                            "<tr><td>849</td><td>Men&#39;s Sports Shorts, M</td><td>Black</td></tr>",
                            "<tr><td>850</td><td>Men&#39;s Sports Shorts, L</td><td>Black</td></tr>",
                            "<tr><td>851</td><td>Men&#39;s Sports Shorts, XL</td><td>Black</td></tr>",
                            "<tr><td>852</td><td>Women&#39;s Tights, S</td><td>Black</td></tr>",
                            "<tr><td>853</td><td>Women&#39;s Tights, M</td><td>Black</td></tr>",
                            "<tr><td>854</td><td>Women&#39;s Tights, L</td><td>Black</td></tr>",
                            "<tr><td>858</td><td>Half-Finger Gloves, S</td><td>Black</td></tr>",
                            "<tr><td>859</td><td>Half-Finger Gloves, M</td><td>Black</td></tr>",
                            "<tr><td>860</td><td>Half-Finger Gloves, L</td><td>Black</td></tr>",
                            "<tr><td>861</td><td>Full-Finger Gloves, S</td><td>Black</td></tr>",
                            "<tr><td>862</td><td>Full-Finger Gloves, M</td><td>Black</td></tr>",
                            "<tr><td>863</td><td>Full-Finger Gloves, L</td><td>Black</td></tr>",
                            "<tr><td>864</td><td>Classic Vest, S</td><td>Blue</td></tr>",
                            "<tr><td>865</td><td>Classic Vest, M</td><td>Blue</td></tr>",
                            "<tr><td>866</td><td>Classic Vest, L</td><td>Blue</td></tr>",
                            "<tr><td>867</td><td>Women&#39;s Mountain Shorts, S</td><td>Black</td></tr>",
                            "<tr><td>868</td><td>Women&#39;s Mountain Shorts, M</td><td>Black</td></tr>",
                            "<tr><td>869</td><td>Women&#39;s Mountain Shorts, L</td><td>Black</td></tr>",
                            "<tr><td>890</td><td>HL Touring Frame - Blue, 46</td><td>Blue</td></tr>",
                            "<tr><td>891</td><td>HL Touring Frame - Blue, 50</td><td>Blue</td></tr>",
                            "<tr><td>892</td><td>HL Touring Frame - Blue, 54</td><td>Blue</td></tr>",
                            "<tr><td>893</td><td>HL Touring Frame - Blue, 60</td><td>Blue</td></tr>",
                            "<tr><td>895</td><td>LL Touring Frame - Blue, 50</td><td>Blue</td></tr>",
                            "<tr><td>896</td><td>LL Touring Frame - Blue, 54</td><td>Blue</td></tr>",
                            "<tr><td>897</td><td>LL Touring Frame - Blue, 58</td><td>Blue</td></tr>",
                            "<tr><td>898</td><td>LL Touring Frame - Blue, 62</td><td>Blue</td></tr>",
                            "<tr><td>903</td><td>LL Touring Frame - Blue, 44</td><td>Blue</td></tr>",
                            "<tr><td>924</td><td>LL Mountain Frame - Black, 42</td><td>Black</td></tr>",
                            "<tr><td>925</td><td>LL Mountain Frame - Black, 44</td><td>Black</td></tr>",
                            "<tr><td>926</td><td>LL Mountain Frame - Black, 48</td><td>Black</td></tr>",
                            "<tr><td>927</td><td>LL Mountain Frame - Black, 52</td><td>Black</td></tr>",
                            "<tr><td>943</td><td>LL Mountain Frame - Black, 40</td><td>Black</td></tr>",
                            "<tr><td>949</td><td>LL Crankset</td><td>Black</td></tr>",
                            "<tr><td>950</td><td>ML Crankset</td><td>Black</td></tr>",
                            "<tr><td>951</td><td>HL Crankset</td><td>Black</td></tr>",
                            "<tr><td>953</td><td>Touring-2000 Blue, 60</td><td>Blue</td></tr>",
                            "<tr><td>958</td><td>Touring-3000 Blue, 54</td><td>Blue</td></tr>",
                            "<tr><td>959</td><td>Touring-3000 Blue, 58</td><td>Blue</td></tr>",
                            "<tr><td>960</td><td>Touring-3000 Blue, 62</td><td>Blue</td></tr>",
                            "<tr><td>966</td><td>Touring-1000 Blue, 46</td><td>Blue</td></tr>",
                            "<tr><td>967</td><td>Touring-1000 Blue, 50</td><td>Blue</td></tr>",
                            "<tr><td>968</td><td>Touring-1000 Blue, 54</td><td>Blue</td></tr>",
                            "<tr><td>969</td><td>Touring-1000 Blue, 60</td><td>Blue</td></tr>",
                            "<tr><td>970</td><td>Touring-2000 Blue, 46</td><td>Blue</td></tr>",
                            "<tr><td>971</td><td>Touring-2000 Blue, 50</td><td>Blue</td></tr>",
                            "<tr><td>972</td><td>Touring-2000 Blue, 54</td><td>Blue</td></tr>",
                            "<tr><td>977</td><td>Road-750 Black, 58</td><td>Black</td></tr>",
                            "<tr><td>978</td><td>Touring-3000 Blue, 44</td><td>Blue</td></tr>",
                            "<tr><td>979</td><td>Touring-3000 Blue, 50</td><td>Blue</td></tr>",
                            "<tr><td>989</td><td>Mountain-500 Black, 40</td><td>Black</td></tr>",
                            "<tr><td>990</td><td>Mountain-500 Black, 42</td><td>Black</td></tr>",
                            "<tr><td>991</td><td>Mountain-500 Black, 44</td><td>Black</td></tr>",
                            "<tr><td>992</td><td>Mountain-500 Black, 48</td><td>Black</td></tr>",
                            "<tr><td>993</td><td>Mountain-500 Black, 52</td><td>Black</td></tr>",
                            "<tr><td>997</td><td>Road-750 Black, 44</td><td>Black</td></tr>",
                            "<tr><td>998</td><td>Road-750 Black, 48</td><td>Black</td></tr>",
                            "<tr><td>999</td><td>Road-750 Black, 52</td><td>Black</td></tr>",
                            "</table>"
                        ]
                    }
                }
            ],
            "execution_count": 90
        },
        {
            "cell_type": "markdown",
            "source": [
                "10. Write a query to get a result set on products that begins with the letter S.\n"
            ],
            "metadata": {
                "azdata_cell_guid": "a48c2c5b-df21-40f1-bbe1-488079778060",
                "language": ""
            },
            "attachments": {}
        },
        {
            "cell_type": "code",
            "source": [
                "SELECT ProductID, Name\n",
                "FROM Production.Product\n",
                "WHERE Name LIKE 'S%'"
            ],
            "metadata": {
                "azdata_cell_guid": "4b40b937-be26-4ea2-9d63-ea64367c371b",
                "language": "sql"
            },
            "outputs": [
                {
                    "output_type": "display_data",
                    "data": {
                        "text/html": "(14 rows affected)"
                    },
                    "metadata": {}
                },
                {
                    "output_type": "display_data",
                    "data": {
                        "text/html": "Total execution time: 00:00:00.002"
                    },
                    "metadata": {}
                },
                {
                    "output_type": "execute_result",
                    "metadata": {},
                    "execution_count": 91,
                    "data": {
                        "application/vnd.dataresource+json": {
                            "schema": {
                                "fields": [
                                    {
                                        "name": "ProductID"
                                    },
                                    {
                                        "name": "Name"
                                    }
                                ]
                            },
                            "data": [
                                {
                                    "ProductID": "528",
                                    "Name": "Seat Lug"
                                },
                                {
                                    "ProductID": "530",
                                    "Name": "Seat Post"
                                },
                                {
                                    "ProductID": "532",
                                    "Name": "Seat Stays"
                                },
                                {
                                    "ProductID": "533",
                                    "Name": "Seat Tube"
                                },
                                {
                                    "ProductID": "883",
                                    "Name": "Short-Sleeve Classic Jersey, L"
                                },
                                {
                                    "ProductID": "882",
                                    "Name": "Short-Sleeve Classic Jersey, M"
                                },
                                {
                                    "ProductID": "881",
                                    "Name": "Short-Sleeve Classic Jersey, S"
                                },
                                {
                                    "ProductID": "884",
                                    "Name": "Short-Sleeve Classic Jersey, XL"
                                },
                                {
                                    "ProductID": "527",
                                    "Name": "Spokes"
                                },
                                {
                                    "ProductID": "708",
                                    "Name": "Sport-100 Helmet, Black"
                                },
                                {
                                    "ProductID": "711",
                                    "Name": "Sport-100 Helmet, Blue"
                                },
                                {
                                    "ProductID": "707",
                                    "Name": "Sport-100 Helmet, Red"
                                },
                                {
                                    "ProductID": "531",
                                    "Name": "Steerer"
                                },
                                {
                                    "ProductID": "529",
                                    "Name": "Stem"
                                }
                            ]
                        },
                        "text/html": [
                            "<table>",
                            "<tr><th>ProductID</th><th>Name</th></tr>",
                            "<tr><td>528</td><td>Seat Lug</td></tr>",
                            "<tr><td>530</td><td>Seat Post</td></tr>",
                            "<tr><td>532</td><td>Seat Stays</td></tr>",
                            "<tr><td>533</td><td>Seat Tube</td></tr>",
                            "<tr><td>883</td><td>Short-Sleeve Classic Jersey, L</td></tr>",
                            "<tr><td>882</td><td>Short-Sleeve Classic Jersey, M</td></tr>",
                            "<tr><td>881</td><td>Short-Sleeve Classic Jersey, S</td></tr>",
                            "<tr><td>884</td><td>Short-Sleeve Classic Jersey, XL</td></tr>",
                            "<tr><td>527</td><td>Spokes</td></tr>",
                            "<tr><td>708</td><td>Sport-100 Helmet, Black</td></tr>",
                            "<tr><td>711</td><td>Sport-100 Helmet, Blue</td></tr>",
                            "<tr><td>707</td><td>Sport-100 Helmet, Red</td></tr>",
                            "<tr><td>531</td><td>Steerer</td></tr>",
                            "<tr><td>529</td><td>Stem</td></tr>",
                            "</table>"
                        ]
                    }
                }
            ],
            "execution_count": 91
        },
        {
            "cell_type": "markdown",
            "source": [
                "11. Write a query that retrieves the columns Name and ListPrice from the Production.Product table. Your result set should look something like the following. Order the result set by the Name column.\n",
                "    1. Name ListPrice\n",
                "    2. Seat Lug 0,00\n",
                "    3. Seat Post 0,00\n",
                "    4. Seat Stays 0,00\n",
                "    5. Seat Tube 0,00\n",
                "    6. Short-Sleeve Classic Jersey, L 53,99\n",
                "    7. Short-Sleeve Classic Jersey, M 53,99\n"
            ],
            "metadata": {
                "azdata_cell_guid": "f1f0c3f3-6acc-41fb-b465-f7f205e07717",
                "language": ""
            },
            "attachments": {}
        },
        {
            "cell_type": "code",
            "source": [
                "SELECT Name, ListPrice\n",
                "FROM Production.Product\n",
                "WHERE Name LIKE 'S%'\n",
                "ORDER BY Name"
            ],
            "metadata": {
                "azdata_cell_guid": "a6989fcf-2340-4daa-8978-47846882f139",
                "language": "sql"
            },
            "outputs": [
                {
                    "output_type": "display_data",
                    "data": {
                        "text/html": "(14 rows affected)"
                    },
                    "metadata": {}
                },
                {
                    "output_type": "display_data",
                    "data": {
                        "text/html": "Total execution time: 00:00:00.006"
                    },
                    "metadata": {}
                },
                {
                    "output_type": "execute_result",
                    "metadata": {},
                    "execution_count": 92,
                    "data": {
                        "application/vnd.dataresource+json": {
                            "schema": {
                                "fields": [
                                    {
                                        "name": "Name"
                                    },
                                    {
                                        "name": "ListPrice"
                                    }
                                ]
                            },
                            "data": [
                                {
                                    "Name": "Seat Lug",
                                    "ListPrice": "0.00"
                                },
                                {
                                    "Name": "Seat Post",
                                    "ListPrice": "0.00"
                                },
                                {
                                    "Name": "Seat Stays",
                                    "ListPrice": "0.00"
                                },
                                {
                                    "Name": "Seat Tube",
                                    "ListPrice": "0.00"
                                },
                                {
                                    "Name": "Short-Sleeve Classic Jersey, L",
                                    "ListPrice": "53.99"
                                },
                                {
                                    "Name": "Short-Sleeve Classic Jersey, M",
                                    "ListPrice": "53.99"
                                },
                                {
                                    "Name": "Short-Sleeve Classic Jersey, S",
                                    "ListPrice": "53.99"
                                },
                                {
                                    "Name": "Short-Sleeve Classic Jersey, XL",
                                    "ListPrice": "53.99"
                                },
                                {
                                    "Name": "Spokes",
                                    "ListPrice": "0.00"
                                },
                                {
                                    "Name": "Sport-100 Helmet, Black",
                                    "ListPrice": "34.99"
                                },
                                {
                                    "Name": "Sport-100 Helmet, Blue",
                                    "ListPrice": "34.99"
                                },
                                {
                                    "Name": "Sport-100 Helmet, Red",
                                    "ListPrice": "34.99"
                                },
                                {
                                    "Name": "Steerer",
                                    "ListPrice": "0.00"
                                },
                                {
                                    "Name": "Stem",
                                    "ListPrice": "0.00"
                                }
                            ]
                        },
                        "text/html": [
                            "<table>",
                            "<tr><th>Name</th><th>ListPrice</th></tr>",
                            "<tr><td>Seat Lug</td><td>0.00</td></tr>",
                            "<tr><td>Seat Post</td><td>0.00</td></tr>",
                            "<tr><td>Seat Stays</td><td>0.00</td></tr>",
                            "<tr><td>Seat Tube</td><td>0.00</td></tr>",
                            "<tr><td>Short-Sleeve Classic Jersey, L</td><td>53.99</td></tr>",
                            "<tr><td>Short-Sleeve Classic Jersey, M</td><td>53.99</td></tr>",
                            "<tr><td>Short-Sleeve Classic Jersey, S</td><td>53.99</td></tr>",
                            "<tr><td>Short-Sleeve Classic Jersey, XL</td><td>53.99</td></tr>",
                            "<tr><td>Spokes</td><td>0.00</td></tr>",
                            "<tr><td>Sport-100 Helmet, Black</td><td>34.99</td></tr>",
                            "<tr><td>Sport-100 Helmet, Blue</td><td>34.99</td></tr>",
                            "<tr><td>Sport-100 Helmet, Red</td><td>34.99</td></tr>",
                            "<tr><td>Steerer</td><td>0.00</td></tr>",
                            "<tr><td>Stem</td><td>0.00</td></tr>",
                            "</table>"
                        ]
                    }
                }
            ],
            "execution_count": 92
        },
        {
            "cell_type": "markdown",
            "source": [
                "12. Write a query that retrieves the columns Name and ListPrice from the Production.Product table. Your result set should look something like the following. Order the result set by the Name column. The products name should start with either 'A' or 'S'\n",
                "\n",
                "    1. Name ListPrice\n",
                "    2. Adjustable Race 0,00\n",
                "    3. All-Purpose Bike Stand 159,00\n",
                "    4. AWC Logo Cap 8,99\n",
                "    5. Seat Lug 0,00\n",
                "    6. Seat Post 0,00\n"
            ],
            "metadata": {
                "azdata_cell_guid": "0f0ac372-577d-4d77-91b4-9a939687edee",
                "language": ""
            },
            "attachments": {}
        },
        {
            "cell_type": "code",
            "source": [
                "SELECT Name, ListPrice\n",
                "FROM Production.Product\n",
                "WHERE Name LIKE 'S%' OR Name LIKE 'A%'\n",
                "ORDER BY Name"
            ],
            "metadata": {
                "azdata_cell_guid": "b1fc378b-9d1f-4c6a-a992-018d7d207116",
                "language": "sql",
                "tags": []
            },
            "outputs": [
                {
                    "output_type": "display_data",
                    "data": {
                        "text/html": "(17 rows affected)"
                    },
                    "metadata": {}
                },
                {
                    "output_type": "display_data",
                    "data": {
                        "text/html": "Total execution time: 00:00:00.005"
                    },
                    "metadata": {}
                },
                {
                    "output_type": "execute_result",
                    "metadata": {},
                    "execution_count": 93,
                    "data": {
                        "application/vnd.dataresource+json": {
                            "schema": {
                                "fields": [
                                    {
                                        "name": "Name"
                                    },
                                    {
                                        "name": "ListPrice"
                                    }
                                ]
                            },
                            "data": [
                                {
                                    "Name": "Adjustable Race",
                                    "ListPrice": "0.00"
                                },
                                {
                                    "Name": "All-Purpose Bike Stand",
                                    "ListPrice": "159.00"
                                },
                                {
                                    "Name": "AWC Logo Cap",
                                    "ListPrice": "8.99"
                                },
                                {
                                    "Name": "Seat Lug",
                                    "ListPrice": "0.00"
                                },
                                {
                                    "Name": "Seat Post",
                                    "ListPrice": "0.00"
                                },
                                {
                                    "Name": "Seat Stays",
                                    "ListPrice": "0.00"
                                },
                                {
                                    "Name": "Seat Tube",
                                    "ListPrice": "0.00"
                                },
                                {
                                    "Name": "Short-Sleeve Classic Jersey, L",
                                    "ListPrice": "53.99"
                                },
                                {
                                    "Name": "Short-Sleeve Classic Jersey, M",
                                    "ListPrice": "53.99"
                                },
                                {
                                    "Name": "Short-Sleeve Classic Jersey, S",
                                    "ListPrice": "53.99"
                                },
                                {
                                    "Name": "Short-Sleeve Classic Jersey, XL",
                                    "ListPrice": "53.99"
                                },
                                {
                                    "Name": "Spokes",
                                    "ListPrice": "0.00"
                                },
                                {
                                    "Name": "Sport-100 Helmet, Black",
                                    "ListPrice": "34.99"
                                },
                                {
                                    "Name": "Sport-100 Helmet, Blue",
                                    "ListPrice": "34.99"
                                },
                                {
                                    "Name": "Sport-100 Helmet, Red",
                                    "ListPrice": "34.99"
                                },
                                {
                                    "Name": "Steerer",
                                    "ListPrice": "0.00"
                                },
                                {
                                    "Name": "Stem",
                                    "ListPrice": "0.00"
                                }
                            ]
                        },
                        "text/html": [
                            "<table>",
                            "<tr><th>Name</th><th>ListPrice</th></tr>",
                            "<tr><td>Adjustable Race</td><td>0.00</td></tr>",
                            "<tr><td>All-Purpose Bike Stand</td><td>159.00</td></tr>",
                            "<tr><td>AWC Logo Cap</td><td>8.99</td></tr>",
                            "<tr><td>Seat Lug</td><td>0.00</td></tr>",
                            "<tr><td>Seat Post</td><td>0.00</td></tr>",
                            "<tr><td>Seat Stays</td><td>0.00</td></tr>",
                            "<tr><td>Seat Tube</td><td>0.00</td></tr>",
                            "<tr><td>Short-Sleeve Classic Jersey, L</td><td>53.99</td></tr>",
                            "<tr><td>Short-Sleeve Classic Jersey, M</td><td>53.99</td></tr>",
                            "<tr><td>Short-Sleeve Classic Jersey, S</td><td>53.99</td></tr>",
                            "<tr><td>Short-Sleeve Classic Jersey, XL</td><td>53.99</td></tr>",
                            "<tr><td>Spokes</td><td>0.00</td></tr>",
                            "<tr><td>Sport-100 Helmet, Black</td><td>34.99</td></tr>",
                            "<tr><td>Sport-100 Helmet, Blue</td><td>34.99</td></tr>",
                            "<tr><td>Sport-100 Helmet, Red</td><td>34.99</td></tr>",
                            "<tr><td>Steerer</td><td>0.00</td></tr>",
                            "<tr><td>Stem</td><td>0.00</td></tr>",
                            "</table>"
                        ]
                    }
                }
            ],
            "execution_count": 93
        },
        {
            "cell_type": "markdown",
            "source": [
                "13. Write a query so you retrieve rows that have a Name that begins with the letters SPO, but is then not followed by the letter K. After this zero or more letters can exists. Order the result set by the Name column.\n",
                "\n",
                "\n"
            ],
            "metadata": {
                "azdata_cell_guid": "786871ca-8334-490e-9854-c083fadf2897",
                "language": ""
            }
        },
        {
            "cell_type": "code",
            "source": [
                "SELECT *\n",
                "FROM Production.Product\n",
                "WHERE Name LIKE '[spo][^k]%'\n",
                "ORDER BY Name"
            ],
            "metadata": {
                "azdata_cell_guid": "855912ac-21b6-408f-8245-01400b936415",
                "language": "sql",
                "tags": []
            },
            "outputs": [
                {
                    "output_type": "display_data",
                    "data": {
                        "text/html": "(21 rows affected)"
                    },
                    "metadata": {}
                },
                {
                    "output_type": "display_data",
                    "data": {
                        "text/html": "Total execution time: 00:00:00.009"
                    },
                    "metadata": {}
                },
                {
                    "output_type": "execute_result",
                    "metadata": {},
                    "execution_count": 94,
                    "data": {
                        "application/vnd.dataresource+json": {
                            "schema": {
                                "fields": [
                                    {
                                        "name": "ProductID"
                                    },
                                    {
                                        "name": "Name"
                                    },
                                    {
                                        "name": "ProductNumber"
                                    },
                                    {
                                        "name": "MakeFlag"
                                    },
                                    {
                                        "name": "FinishedGoodsFlag"
                                    },
                                    {
                                        "name": "Color"
                                    },
                                    {
                                        "name": "SafetyStockLevel"
                                    },
                                    {
                                        "name": "ReorderPoint"
                                    },
                                    {
                                        "name": "StandardCost"
                                    },
                                    {
                                        "name": "ListPrice"
                                    },
                                    {
                                        "name": "Size"
                                    },
                                    {
                                        "name": "SizeUnitMeasureCode"
                                    },
                                    {
                                        "name": "WeightUnitMeasureCode"
                                    },
                                    {
                                        "name": "Weight"
                                    },
                                    {
                                        "name": "DaysToManufacture"
                                    },
                                    {
                                        "name": "ProductLine"
                                    },
                                    {
                                        "name": "Class"
                                    },
                                    {
                                        "name": "Style"
                                    },
                                    {
                                        "name": "ProductSubcategoryID"
                                    },
                                    {
                                        "name": "ProductModelID"
                                    },
                                    {
                                        "name": "SellStartDate"
                                    },
                                    {
                                        "name": "SellEndDate"
                                    },
                                    {
                                        "name": "DiscontinuedDate"
                                    },
                                    {
                                        "name": "rowguid"
                                    },
                                    {
                                        "name": "ModifiedDate"
                                    }
                                ]
                            },
                            "data": [
                                {
                                    "ProductID": "492",
                                    "Name": "Paint - Black",
                                    "ProductNumber": "PA-187B",
                                    "MakeFlag": "0",
                                    "FinishedGoodsFlag": "0",
                                    "Color": "NULL",
                                    "SafetyStockLevel": "60",
                                    "ReorderPoint": "45",
                                    "StandardCost": "0.00",
                                    "ListPrice": "0.00",
                                    "Size": "NULL",
                                    "SizeUnitMeasureCode": "NULL",
                                    "WeightUnitMeasureCode": "NULL",
                                    "Weight": "NULL",
                                    "DaysToManufacture": "0",
                                    "ProductLine": "NULL",
                                    "Class": "NULL",
                                    "Style": "NULL",
                                    "ProductSubcategoryID": "NULL",
                                    "ProductModelID": "NULL",
                                    "SellStartDate": "2008-04-30 00:00:00.000",
                                    "SellEndDate": "NULL",
                                    "DiscontinuedDate": "NULL",
                                    "rowguid": "df20e514-3d47-491b-9454-0911ec3f7d29",
                                    "ModifiedDate": "2014-02-08 10:01:36.827"
                                },
                                {
                                    "ProductID": "495",
                                    "Name": "Paint - Blue",
                                    "ProductNumber": "PA-632U",
                                    "MakeFlag": "0",
                                    "FinishedGoodsFlag": "0",
                                    "Color": "NULL",
                                    "SafetyStockLevel": "60",
                                    "ReorderPoint": "45",
                                    "StandardCost": "0.00",
                                    "ListPrice": "0.00",
                                    "Size": "NULL",
                                    "SizeUnitMeasureCode": "NULL",
                                    "WeightUnitMeasureCode": "NULL",
                                    "Weight": "NULL",
                                    "DaysToManufacture": "0",
                                    "ProductLine": "NULL",
                                    "Class": "NULL",
                                    "Style": "NULL",
                                    "ProductSubcategoryID": "NULL",
                                    "ProductModelID": "NULL",
                                    "SellStartDate": "2008-04-30 00:00:00.000",
                                    "SellEndDate": "NULL",
                                    "DiscontinuedDate": "NULL",
                                    "rowguid": "25a73761-ae90-49d3-8d1d-dd7858db4704",
                                    "ModifiedDate": "2014-02-08 10:01:36.827"
                                },
                                {
                                    "ProductID": "493",
                                    "Name": "Paint - Red",
                                    "ProductNumber": "PA-361R",
                                    "MakeFlag": "0",
                                    "FinishedGoodsFlag": "0",
                                    "Color": "NULL",
                                    "SafetyStockLevel": "60",
                                    "ReorderPoint": "45",
                                    "StandardCost": "0.00",
                                    "ListPrice": "0.00",
                                    "Size": "NULL",
                                    "SizeUnitMeasureCode": "NULL",
                                    "WeightUnitMeasureCode": "NULL",
                                    "Weight": "NULL",
                                    "DaysToManufacture": "0",
                                    "ProductLine": "NULL",
                                    "Class": "NULL",
                                    "Style": "NULL",
                                    "ProductSubcategoryID": "NULL",
                                    "ProductModelID": "NULL",
                                    "SellStartDate": "2008-04-30 00:00:00.000",
                                    "SellEndDate": "NULL",
                                    "DiscontinuedDate": "NULL",
                                    "rowguid": "4c568357-5d21-4ad4-bb85-bb5519b3b50c",
                                    "ModifiedDate": "2014-02-08 10:01:36.827"
                                },
                                {
                                    "ProductID": "494",
                                    "Name": "Paint - Silver",
                                    "ProductNumber": "PA-529S",
                                    "MakeFlag": "0",
                                    "FinishedGoodsFlag": "0",
                                    "Color": "NULL",
                                    "SafetyStockLevel": "60",
                                    "ReorderPoint": "45",
                                    "StandardCost": "0.00",
                                    "ListPrice": "0.00",
                                    "Size": "NULL",
                                    "SizeUnitMeasureCode": "NULL",
                                    "WeightUnitMeasureCode": "NULL",
                                    "Weight": "NULL",
                                    "DaysToManufacture": "0",
                                    "ProductLine": "NULL",
                                    "Class": "NULL",
                                    "Style": "NULL",
                                    "ProductSubcategoryID": "NULL",
                                    "ProductModelID": "NULL",
                                    "SellStartDate": "2008-04-30 00:00:00.000",
                                    "SellEndDate": "NULL",
                                    "DiscontinuedDate": "NULL",
                                    "rowguid": "fa81e47d-7333-49c2-809b-308171ca2fb1",
                                    "ModifiedDate": "2014-02-08 10:01:36.827"
                                },
                                {
                                    "ProductID": "496",
                                    "Name": "Paint - Yellow",
                                    "ProductNumber": "PA-823Y",
                                    "MakeFlag": "0",
                                    "FinishedGoodsFlag": "0",
                                    "Color": "NULL",
                                    "SafetyStockLevel": "60",
                                    "ReorderPoint": "45",
                                    "StandardCost": "0.00",
                                    "ListPrice": "0.00",
                                    "Size": "NULL",
                                    "SizeUnitMeasureCode": "NULL",
                                    "WeightUnitMeasureCode": "NULL",
                                    "Weight": "NULL",
                                    "DaysToManufacture": "0",
                                    "ProductLine": "NULL",
                                    "Class": "NULL",
                                    "Style": "NULL",
                                    "ProductSubcategoryID": "NULL",
                                    "ProductModelID": "NULL",
                                    "SellStartDate": "2008-04-30 00:00:00.000",
                                    "SellEndDate": "NULL",
                                    "DiscontinuedDate": "NULL",
                                    "rowguid": "1c8adb43-9fe8-44a6-b949-8af33ce9486e",
                                    "ModifiedDate": "2014-02-08 10:01:36.827"
                                },
                                {
                                    "ProductID": "873",
                                    "Name": "Patch Kit/8 Patches",
                                    "ProductNumber": "PK-7098",
                                    "MakeFlag": "0",
                                    "FinishedGoodsFlag": "1",
                                    "Color": "NULL",
                                    "SafetyStockLevel": "4",
                                    "ReorderPoint": "3",
                                    "StandardCost": "0.8565",
                                    "ListPrice": "2.29",
                                    "Size": "NULL",
                                    "SizeUnitMeasureCode": "NULL",
                                    "WeightUnitMeasureCode": "NULL",
                                    "Weight": "NULL",
                                    "DaysToManufacture": "0",
                                    "ProductLine": "S ",
                                    "Class": "NULL",
                                    "Style": "NULL",
                                    "ProductSubcategoryID": "37",
                                    "ProductModelID": "114",
                                    "SellStartDate": "2013-05-30 00:00:00.000",
                                    "SellEndDate": "NULL",
                                    "DiscontinuedDate": "NULL",
                                    "rowguid": "36e638e4-68df-411b-930a-daad57221aa6",
                                    "ModifiedDate": "2014-02-08 10:01:36.827"
                                },
                                {
                                    "ProductID": "497",
                                    "Name": "Pinch Bolt",
                                    "ProductNumber": "PB-6109",
                                    "MakeFlag": "0",
                                    "FinishedGoodsFlag": "0",
                                    "Color": "NULL",
                                    "SafetyStockLevel": "1000",
                                    "ReorderPoint": "750",
                                    "StandardCost": "0.00",
                                    "ListPrice": "0.00",
                                    "Size": "NULL",
                                    "SizeUnitMeasureCode": "NULL",
                                    "WeightUnitMeasureCode": "NULL",
                                    "Weight": "NULL",
                                    "DaysToManufacture": "0",
                                    "ProductLine": "NULL",
                                    "Class": "NULL",
                                    "Style": "NULL",
                                    "ProductSubcategoryID": "NULL",
                                    "ProductModelID": "NULL",
                                    "SellStartDate": "2008-04-30 00:00:00.000",
                                    "SellEndDate": "NULL",
                                    "DiscontinuedDate": "NULL",
                                    "rowguid": "f1694c24-dfab-4c92-bc66-6e717db24ea8",
                                    "ModifiedDate": "2014-02-08 10:01:36.827"
                                },
                                {
                                    "ProductID": "528",
                                    "Name": "Seat Lug",
                                    "ProductNumber": "SL-0931",
                                    "MakeFlag": "0",
                                    "FinishedGoodsFlag": "0",
                                    "Color": "NULL",
                                    "SafetyStockLevel": "1000",
                                    "ReorderPoint": "750",
                                    "StandardCost": "0.00",
                                    "ListPrice": "0.00",
                                    "Size": "NULL",
                                    "SizeUnitMeasureCode": "NULL",
                                    "WeightUnitMeasureCode": "NULL",
                                    "Weight": "NULL",
                                    "DaysToManufacture": "0",
                                    "ProductLine": "NULL",
                                    "Class": "NULL",
                                    "Style": "NULL",
                                    "ProductSubcategoryID": "NULL",
                                    "ProductModelID": "NULL",
                                    "SellStartDate": "2008-04-30 00:00:00.000",
                                    "SellEndDate": "NULL",
                                    "DiscontinuedDate": "NULL",
                                    "rowguid": "4a898b1e-9a3b-4beb-9873-a7465934051a",
                                    "ModifiedDate": "2014-02-08 10:01:36.827"
                                },
                                {
                                    "ProductID": "530",
                                    "Name": "Seat Post",
                                    "ProductNumber": "SP-2981",
                                    "MakeFlag": "0",
                                    "FinishedGoodsFlag": "0",
                                    "Color": "NULL",
                                    "SafetyStockLevel": "500",
                                    "ReorderPoint": "375",
                                    "StandardCost": "0.00",
                                    "ListPrice": "0.00",
                                    "Size": "NULL",
                                    "SizeUnitMeasureCode": "NULL",
                                    "WeightUnitMeasureCode": "NULL",
                                    "Weight": "NULL",
                                    "DaysToManufacture": "0",
                                    "ProductLine": "NULL",
                                    "Class": "NULL",
                                    "Style": "NULL",
                                    "ProductSubcategoryID": "NULL",
                                    "ProductModelID": "NULL",
                                    "SellStartDate": "2008-04-30 00:00:00.000",
                                    "SellEndDate": "NULL",
                                    "DiscontinuedDate": "NULL",
                                    "rowguid": "9b4ceb84-4e84-43f3-b326-9b7f22905363",
                                    "ModifiedDate": "2014-02-08 10:01:36.827"
                                },
                                {
                                    "ProductID": "532",
                                    "Name": "Seat Stays",
                                    "ProductNumber": "SS-2985",
                                    "MakeFlag": "1",
                                    "FinishedGoodsFlag": "0",
                                    "Color": "NULL",
                                    "SafetyStockLevel": "800",
                                    "ReorderPoint": "600",
                                    "StandardCost": "0.00",
                                    "ListPrice": "0.00",
                                    "Size": "NULL",
                                    "SizeUnitMeasureCode": "NULL",
                                    "WeightUnitMeasureCode": "NULL",
                                    "Weight": "NULL",
                                    "DaysToManufacture": "1",
                                    "ProductLine": "NULL",
                                    "Class": "NULL",
                                    "Style": "NULL",
                                    "ProductSubcategoryID": "NULL",
                                    "ProductModelID": "NULL",
                                    "SellStartDate": "2008-04-30 00:00:00.000",
                                    "SellEndDate": "NULL",
                                    "DiscontinuedDate": "NULL",
                                    "rowguid": "20c2c611-dffc-49b5-99cf-d89bdd3a91ce",
                                    "ModifiedDate": "2014-02-08 10:01:36.827"
                                },
                                {
                                    "ProductID": "533",
                                    "Name": "Seat Tube",
                                    "ProductNumber": "ST-9828",
                                    "MakeFlag": "1",
                                    "FinishedGoodsFlag": "0",
                                    "Color": "NULL",
                                    "SafetyStockLevel": "500",
                                    "ReorderPoint": "375",
                                    "StandardCost": "0.00",
                                    "ListPrice": "0.00",
                                    "Size": "NULL",
                                    "SizeUnitMeasureCode": "NULL",
                                    "WeightUnitMeasureCode": "NULL",
                                    "Weight": "NULL",
                                    "DaysToManufacture": "1",
                                    "ProductLine": "NULL",
                                    "Class": "NULL",
                                    "Style": "NULL",
                                    "ProductSubcategoryID": "NULL",
                                    "ProductModelID": "NULL",
                                    "SellStartDate": "2008-04-30 00:00:00.000",
                                    "SellEndDate": "NULL",
                                    "DiscontinuedDate": "NULL",
                                    "rowguid": "41f5388b-7253-4002-bcc6-b2a50920d11f",
                                    "ModifiedDate": "2014-02-08 10:01:36.827"
                                },
                                {
                                    "ProductID": "883",
                                    "Name": "Short-Sleeve Classic Jersey, L",
                                    "ProductNumber": "SJ-0194-L",
                                    "MakeFlag": "0",
                                    "FinishedGoodsFlag": "1",
                                    "Color": "Yellow",
                                    "SafetyStockLevel": "4",
                                    "ReorderPoint": "3",
                                    "StandardCost": "41.5723",
                                    "ListPrice": "53.99",
                                    "Size": "L",
                                    "SizeUnitMeasureCode": "NULL",
                                    "WeightUnitMeasureCode": "NULL",
                                    "Weight": "NULL",
                                    "DaysToManufacture": "0",
                                    "ProductLine": "S ",
                                    "Class": "NULL",
                                    "Style": "U ",
                                    "ProductSubcategoryID": "21",
                                    "ProductModelID": "32",
                                    "SellStartDate": "2013-05-30 00:00:00.000",
                                    "SellEndDate": "NULL",
                                    "DiscontinuedDate": "NULL",
                                    "rowguid": "2d9f59b8-9f24-46eb-98ad-553e48bb9db9",
                                    "ModifiedDate": "2014-02-08 10:01:36.827"
                                },
                                {
                                    "ProductID": "882",
                                    "Name": "Short-Sleeve Classic Jersey, M",
                                    "ProductNumber": "SJ-0194-M",
                                    "MakeFlag": "0",
                                    "FinishedGoodsFlag": "1",
                                    "Color": "Yellow",
                                    "SafetyStockLevel": "4",
                                    "ReorderPoint": "3",
                                    "StandardCost": "41.5723",
                                    "ListPrice": "53.99",
                                    "Size": "M",
                                    "SizeUnitMeasureCode": "NULL",
                                    "WeightUnitMeasureCode": "NULL",
                                    "Weight": "NULL",
                                    "DaysToManufacture": "0",
                                    "ProductLine": "S ",
                                    "Class": "NULL",
                                    "Style": "U ",
                                    "ProductSubcategoryID": "21",
                                    "ProductModelID": "32",
                                    "SellStartDate": "2013-05-30 00:00:00.000",
                                    "SellEndDate": "NULL",
                                    "DiscontinuedDate": "NULL",
                                    "rowguid": "bbbf003b-367d-4d71-af71-10f50b6234a0",
                                    "ModifiedDate": "2014-02-08 10:01:36.827"
                                },
                                {
                                    "ProductID": "881",
                                    "Name": "Short-Sleeve Classic Jersey, S",
                                    "ProductNumber": "SJ-0194-S",
                                    "MakeFlag": "0",
                                    "FinishedGoodsFlag": "1",
                                    "Color": "Yellow",
                                    "SafetyStockLevel": "4",
                                    "ReorderPoint": "3",
                                    "StandardCost": "41.5723",
                                    "ListPrice": "53.99",
                                    "Size": "S",
                                    "SizeUnitMeasureCode": "NULL",
                                    "WeightUnitMeasureCode": "NULL",
                                    "Weight": "NULL",
                                    "DaysToManufacture": "0",
                                    "ProductLine": "S ",
                                    "Class": "NULL",
                                    "Style": "U ",
                                    "ProductSubcategoryID": "21",
                                    "ProductModelID": "32",
                                    "SellStartDate": "2013-05-30 00:00:00.000",
                                    "SellEndDate": "NULL",
                                    "DiscontinuedDate": "NULL",
                                    "rowguid": "05b2e20f-2399-4cb3-9b49-b28d6649c104",
                                    "ModifiedDate": "2014-02-08 10:01:36.827"
                                },
                                {
                                    "ProductID": "884",
                                    "Name": "Short-Sleeve Classic Jersey, XL",
                                    "ProductNumber": "SJ-0194-X",
                                    "MakeFlag": "0",
                                    "FinishedGoodsFlag": "1",
                                    "Color": "Yellow",
                                    "SafetyStockLevel": "4",
                                    "ReorderPoint": "3",
                                    "StandardCost": "41.5723",
                                    "ListPrice": "53.99",
                                    "Size": "XL",
                                    "SizeUnitMeasureCode": "NULL",
                                    "WeightUnitMeasureCode": "NULL",
                                    "Weight": "NULL",
                                    "DaysToManufacture": "0",
                                    "ProductLine": "S ",
                                    "Class": "NULL",
                                    "Style": "U ",
                                    "ProductSubcategoryID": "21",
                                    "ProductModelID": "32",
                                    "SellStartDate": "2013-05-30 00:00:00.000",
                                    "SellEndDate": "NULL",
                                    "DiscontinuedDate": "NULL",
                                    "rowguid": "906d42f6-c21f-4d20-b528-02ffdb55fd1e",
                                    "ModifiedDate": "2014-02-08 10:01:36.827"
                                },
                                {
                                    "ProductID": "527",
                                    "Name": "Spokes",
                                    "ProductNumber": "SK-9283",
                                    "MakeFlag": "0",
                                    "FinishedGoodsFlag": "0",
                                    "Color": "NULL",
                                    "SafetyStockLevel": "1000",
                                    "ReorderPoint": "750",
                                    "StandardCost": "0.00",
                                    "ListPrice": "0.00",
                                    "Size": "NULL",
                                    "SizeUnitMeasureCode": "NULL",
                                    "WeightUnitMeasureCode": "NULL",
                                    "Weight": "NULL",
                                    "DaysToManufacture": "0",
                                    "ProductLine": "NULL",
                                    "Class": "NULL",
                                    "Style": "NULL",
                                    "ProductSubcategoryID": "NULL",
                                    "ProductModelID": "NULL",
                                    "SellStartDate": "2008-04-30 00:00:00.000",
                                    "SellEndDate": "NULL",
                                    "DiscontinuedDate": "NULL",
                                    "rowguid": "5aabb729-343b-4084-a235-ccb3da9f29e7",
                                    "ModifiedDate": "2014-02-08 10:01:36.827"
                                },
                                {
                                    "ProductID": "708",
                                    "Name": "Sport-100 Helmet, Black",
                                    "ProductNumber": "HL-U509",
                                    "MakeFlag": "0",
                                    "FinishedGoodsFlag": "1",
                                    "Color": "Black",
                                    "SafetyStockLevel": "4",
                                    "ReorderPoint": "3",
                                    "StandardCost": "13.0863",
                                    "ListPrice": "34.99",
                                    "Size": "NULL",
                                    "SizeUnitMeasureCode": "NULL",
                                    "WeightUnitMeasureCode": "NULL",
                                    "Weight": "NULL",
                                    "DaysToManufacture": "0",
                                    "ProductLine": "S ",
                                    "Class": "NULL",
                                    "Style": "NULL",
                                    "ProductSubcategoryID": "31",
                                    "ProductModelID": "33",
                                    "SellStartDate": "2011-05-31 00:00:00.000",
                                    "SellEndDate": "NULL",
                                    "DiscontinuedDate": "NULL",
                                    "rowguid": "a25a44fb-c2de-4268-958f-110b8d7621e2",
                                    "ModifiedDate": "2014-02-08 10:01:36.827"
                                },
                                {
                                    "ProductID": "711",
                                    "Name": "Sport-100 Helmet, Blue",
                                    "ProductNumber": "HL-U509-B",
                                    "MakeFlag": "0",
                                    "FinishedGoodsFlag": "1",
                                    "Color": "Blue",
                                    "SafetyStockLevel": "4",
                                    "ReorderPoint": "3",
                                    "StandardCost": "13.0863",
                                    "ListPrice": "34.99",
                                    "Size": "NULL",
                                    "SizeUnitMeasureCode": "NULL",
                                    "WeightUnitMeasureCode": "NULL",
                                    "Weight": "NULL",
                                    "DaysToManufacture": "0",
                                    "ProductLine": "S ",
                                    "Class": "NULL",
                                    "Style": "NULL",
                                    "ProductSubcategoryID": "31",
                                    "ProductModelID": "33",
                                    "SellStartDate": "2011-05-31 00:00:00.000",
                                    "SellEndDate": "NULL",
                                    "DiscontinuedDate": "NULL",
                                    "rowguid": "fd7c0858-4179-48c2-865b-abd5dfc7bc1d",
                                    "ModifiedDate": "2014-02-08 10:01:36.827"
                                },
                                {
                                    "ProductID": "707",
                                    "Name": "Sport-100 Helmet, Red",
                                    "ProductNumber": "HL-U509-R",
                                    "MakeFlag": "0",
                                    "FinishedGoodsFlag": "1",
                                    "Color": "Red",
                                    "SafetyStockLevel": "4",
                                    "ReorderPoint": "3",
                                    "StandardCost": "13.0863",
                                    "ListPrice": "34.99",
                                    "Size": "NULL",
                                    "SizeUnitMeasureCode": "NULL",
                                    "WeightUnitMeasureCode": "NULL",
                                    "Weight": "NULL",
                                    "DaysToManufacture": "0",
                                    "ProductLine": "S ",
                                    "Class": "NULL",
                                    "Style": "NULL",
                                    "ProductSubcategoryID": "31",
                                    "ProductModelID": "33",
                                    "SellStartDate": "2011-05-31 00:00:00.000",
                                    "SellEndDate": "NULL",
                                    "DiscontinuedDate": "NULL",
                                    "rowguid": "2e1ef41a-c08a-4ff6-8ada-bde58b64a712",
                                    "ModifiedDate": "2014-02-08 10:01:36.827"
                                },
                                {
                                    "ProductID": "531",
                                    "Name": "Steerer",
                                    "ProductNumber": "SR-2098",
                                    "MakeFlag": "1",
                                    "FinishedGoodsFlag": "0",
                                    "Color": "NULL",
                                    "SafetyStockLevel": "500",
                                    "ReorderPoint": "375",
                                    "StandardCost": "0.00",
                                    "ListPrice": "0.00",
                                    "Size": "NULL",
                                    "SizeUnitMeasureCode": "NULL",
                                    "WeightUnitMeasureCode": "NULL",
                                    "Weight": "NULL",
                                    "DaysToManufacture": "1",
                                    "ProductLine": "NULL",
                                    "Class": "NULL",
                                    "Style": "NULL",
                                    "ProductSubcategoryID": "NULL",
                                    "ProductModelID": "NULL",
                                    "SellStartDate": "2008-04-30 00:00:00.000",
                                    "SellEndDate": "NULL",
                                    "DiscontinuedDate": "NULL",
                                    "rowguid": "f3b140a1-b139-4bb5-b144-1b7cbbee6c9a",
                                    "ModifiedDate": "2014-02-08 10:01:36.827"
                                },
                                {
                                    "ProductID": "529",
                                    "Name": "Stem",
                                    "ProductNumber": "SM-9087",
                                    "MakeFlag": "1",
                                    "FinishedGoodsFlag": "0",
                                    "Color": "NULL",
                                    "SafetyStockLevel": "500",
                                    "ReorderPoint": "375",
                                    "StandardCost": "0.00",
                                    "ListPrice": "0.00",
                                    "Size": "NULL",
                                    "SizeUnitMeasureCode": "NULL",
                                    "WeightUnitMeasureCode": "NULL",
                                    "Weight": "NULL",
                                    "DaysToManufacture": "1",
                                    "ProductLine": "NULL",
                                    "Class": "NULL",
                                    "Style": "NULL",
                                    "ProductSubcategoryID": "NULL",
                                    "ProductModelID": "NULL",
                                    "SellStartDate": "2008-04-30 00:00:00.000",
                                    "SellEndDate": "NULL",
                                    "DiscontinuedDate": "NULL",
                                    "rowguid": "1173306e-b616-4c4a-b715-4e0a483ba2b5",
                                    "ModifiedDate": "2014-02-08 10:01:36.827"
                                }
                            ]
                        },
                        "text/html": [
                            "<table>",
                            "<tr><th>ProductID</th><th>Name</th><th>ProductNumber</th><th>MakeFlag</th><th>FinishedGoodsFlag</th><th>Color</th><th>SafetyStockLevel</th><th>ReorderPoint</th><th>StandardCost</th><th>ListPrice</th><th>Size</th><th>SizeUnitMeasureCode</th><th>WeightUnitMeasureCode</th><th>Weight</th><th>DaysToManufacture</th><th>ProductLine</th><th>Class</th><th>Style</th><th>ProductSubcategoryID</th><th>ProductModelID</th><th>SellStartDate</th><th>SellEndDate</th><th>DiscontinuedDate</th><th>rowguid</th><th>ModifiedDate</th></tr>",
                            "<tr><td>492</td><td>Paint - Black</td><td>PA-187B</td><td>0</td><td>0</td><td>NULL</td><td>60</td><td>45</td><td>0.00</td><td>0.00</td><td>NULL</td><td>NULL</td><td>NULL</td><td>NULL</td><td>0</td><td>NULL</td><td>NULL</td><td>NULL</td><td>NULL</td><td>NULL</td><td>2008-04-30 00:00:00.000</td><td>NULL</td><td>NULL</td><td>df20e514-3d47-491b-9454-0911ec3f7d29</td><td>2014-02-08 10:01:36.827</td></tr>",
                            "<tr><td>495</td><td>Paint - Blue</td><td>PA-632U</td><td>0</td><td>0</td><td>NULL</td><td>60</td><td>45</td><td>0.00</td><td>0.00</td><td>NULL</td><td>NULL</td><td>NULL</td><td>NULL</td><td>0</td><td>NULL</td><td>NULL</td><td>NULL</td><td>NULL</td><td>NULL</td><td>2008-04-30 00:00:00.000</td><td>NULL</td><td>NULL</td><td>25a73761-ae90-49d3-8d1d-dd7858db4704</td><td>2014-02-08 10:01:36.827</td></tr>",
                            "<tr><td>493</td><td>Paint - Red</td><td>PA-361R</td><td>0</td><td>0</td><td>NULL</td><td>60</td><td>45</td><td>0.00</td><td>0.00</td><td>NULL</td><td>NULL</td><td>NULL</td><td>NULL</td><td>0</td><td>NULL</td><td>NULL</td><td>NULL</td><td>NULL</td><td>NULL</td><td>2008-04-30 00:00:00.000</td><td>NULL</td><td>NULL</td><td>4c568357-5d21-4ad4-bb85-bb5519b3b50c</td><td>2014-02-08 10:01:36.827</td></tr>",
                            "<tr><td>494</td><td>Paint - Silver</td><td>PA-529S</td><td>0</td><td>0</td><td>NULL</td><td>60</td><td>45</td><td>0.00</td><td>0.00</td><td>NULL</td><td>NULL</td><td>NULL</td><td>NULL</td><td>0</td><td>NULL</td><td>NULL</td><td>NULL</td><td>NULL</td><td>NULL</td><td>2008-04-30 00:00:00.000</td><td>NULL</td><td>NULL</td><td>fa81e47d-7333-49c2-809b-308171ca2fb1</td><td>2014-02-08 10:01:36.827</td></tr>",
                            "<tr><td>496</td><td>Paint - Yellow</td><td>PA-823Y</td><td>0</td><td>0</td><td>NULL</td><td>60</td><td>45</td><td>0.00</td><td>0.00</td><td>NULL</td><td>NULL</td><td>NULL</td><td>NULL</td><td>0</td><td>NULL</td><td>NULL</td><td>NULL</td><td>NULL</td><td>NULL</td><td>2008-04-30 00:00:00.000</td><td>NULL</td><td>NULL</td><td>1c8adb43-9fe8-44a6-b949-8af33ce9486e</td><td>2014-02-08 10:01:36.827</td></tr>",
                            "<tr><td>873</td><td>Patch Kit/8 Patches</td><td>PK-7098</td><td>0</td><td>1</td><td>NULL</td><td>4</td><td>3</td><td>0.8565</td><td>2.29</td><td>NULL</td><td>NULL</td><td>NULL</td><td>NULL</td><td>0</td><td>S </td><td>NULL</td><td>NULL</td><td>37</td><td>114</td><td>2013-05-30 00:00:00.000</td><td>NULL</td><td>NULL</td><td>36e638e4-68df-411b-930a-daad57221aa6</td><td>2014-02-08 10:01:36.827</td></tr>",
                            "<tr><td>497</td><td>Pinch Bolt</td><td>PB-6109</td><td>0</td><td>0</td><td>NULL</td><td>1000</td><td>750</td><td>0.00</td><td>0.00</td><td>NULL</td><td>NULL</td><td>NULL</td><td>NULL</td><td>0</td><td>NULL</td><td>NULL</td><td>NULL</td><td>NULL</td><td>NULL</td><td>2008-04-30 00:00:00.000</td><td>NULL</td><td>NULL</td><td>f1694c24-dfab-4c92-bc66-6e717db24ea8</td><td>2014-02-08 10:01:36.827</td></tr>",
                            "<tr><td>528</td><td>Seat Lug</td><td>SL-0931</td><td>0</td><td>0</td><td>NULL</td><td>1000</td><td>750</td><td>0.00</td><td>0.00</td><td>NULL</td><td>NULL</td><td>NULL</td><td>NULL</td><td>0</td><td>NULL</td><td>NULL</td><td>NULL</td><td>NULL</td><td>NULL</td><td>2008-04-30 00:00:00.000</td><td>NULL</td><td>NULL</td><td>4a898b1e-9a3b-4beb-9873-a7465934051a</td><td>2014-02-08 10:01:36.827</td></tr>",
                            "<tr><td>530</td><td>Seat Post</td><td>SP-2981</td><td>0</td><td>0</td><td>NULL</td><td>500</td><td>375</td><td>0.00</td><td>0.00</td><td>NULL</td><td>NULL</td><td>NULL</td><td>NULL</td><td>0</td><td>NULL</td><td>NULL</td><td>NULL</td><td>NULL</td><td>NULL</td><td>2008-04-30 00:00:00.000</td><td>NULL</td><td>NULL</td><td>9b4ceb84-4e84-43f3-b326-9b7f22905363</td><td>2014-02-08 10:01:36.827</td></tr>",
                            "<tr><td>532</td><td>Seat Stays</td><td>SS-2985</td><td>1</td><td>0</td><td>NULL</td><td>800</td><td>600</td><td>0.00</td><td>0.00</td><td>NULL</td><td>NULL</td><td>NULL</td><td>NULL</td><td>1</td><td>NULL</td><td>NULL</td><td>NULL</td><td>NULL</td><td>NULL</td><td>2008-04-30 00:00:00.000</td><td>NULL</td><td>NULL</td><td>20c2c611-dffc-49b5-99cf-d89bdd3a91ce</td><td>2014-02-08 10:01:36.827</td></tr>",
                            "<tr><td>533</td><td>Seat Tube</td><td>ST-9828</td><td>1</td><td>0</td><td>NULL</td><td>500</td><td>375</td><td>0.00</td><td>0.00</td><td>NULL</td><td>NULL</td><td>NULL</td><td>NULL</td><td>1</td><td>NULL</td><td>NULL</td><td>NULL</td><td>NULL</td><td>NULL</td><td>2008-04-30 00:00:00.000</td><td>NULL</td><td>NULL</td><td>41f5388b-7253-4002-bcc6-b2a50920d11f</td><td>2014-02-08 10:01:36.827</td></tr>",
                            "<tr><td>883</td><td>Short-Sleeve Classic Jersey, L</td><td>SJ-0194-L</td><td>0</td><td>1</td><td>Yellow</td><td>4</td><td>3</td><td>41.5723</td><td>53.99</td><td>L</td><td>NULL</td><td>NULL</td><td>NULL</td><td>0</td><td>S </td><td>NULL</td><td>U </td><td>21</td><td>32</td><td>2013-05-30 00:00:00.000</td><td>NULL</td><td>NULL</td><td>2d9f59b8-9f24-46eb-98ad-553e48bb9db9</td><td>2014-02-08 10:01:36.827</td></tr>",
                            "<tr><td>882</td><td>Short-Sleeve Classic Jersey, M</td><td>SJ-0194-M</td><td>0</td><td>1</td><td>Yellow</td><td>4</td><td>3</td><td>41.5723</td><td>53.99</td><td>M</td><td>NULL</td><td>NULL</td><td>NULL</td><td>0</td><td>S </td><td>NULL</td><td>U </td><td>21</td><td>32</td><td>2013-05-30 00:00:00.000</td><td>NULL</td><td>NULL</td><td>bbbf003b-367d-4d71-af71-10f50b6234a0</td><td>2014-02-08 10:01:36.827</td></tr>",
                            "<tr><td>881</td><td>Short-Sleeve Classic Jersey, S</td><td>SJ-0194-S</td><td>0</td><td>1</td><td>Yellow</td><td>4</td><td>3</td><td>41.5723</td><td>53.99</td><td>S</td><td>NULL</td><td>NULL</td><td>NULL</td><td>0</td><td>S </td><td>NULL</td><td>U </td><td>21</td><td>32</td><td>2013-05-30 00:00:00.000</td><td>NULL</td><td>NULL</td><td>05b2e20f-2399-4cb3-9b49-b28d6649c104</td><td>2014-02-08 10:01:36.827</td></tr>",
                            "<tr><td>884</td><td>Short-Sleeve Classic Jersey, XL</td><td>SJ-0194-X</td><td>0</td><td>1</td><td>Yellow</td><td>4</td><td>3</td><td>41.5723</td><td>53.99</td><td>XL</td><td>NULL</td><td>NULL</td><td>NULL</td><td>0</td><td>S </td><td>NULL</td><td>U </td><td>21</td><td>32</td><td>2013-05-30 00:00:00.000</td><td>NULL</td><td>NULL</td><td>906d42f6-c21f-4d20-b528-02ffdb55fd1e</td><td>2014-02-08 10:01:36.827</td></tr>",
                            "<tr><td>527</td><td>Spokes</td><td>SK-9283</td><td>0</td><td>0</td><td>NULL</td><td>1000</td><td>750</td><td>0.00</td><td>0.00</td><td>NULL</td><td>NULL</td><td>NULL</td><td>NULL</td><td>0</td><td>NULL</td><td>NULL</td><td>NULL</td><td>NULL</td><td>NULL</td><td>2008-04-30 00:00:00.000</td><td>NULL</td><td>NULL</td><td>5aabb729-343b-4084-a235-ccb3da9f29e7</td><td>2014-02-08 10:01:36.827</td></tr>",
                            "<tr><td>708</td><td>Sport-100 Helmet, Black</td><td>HL-U509</td><td>0</td><td>1</td><td>Black</td><td>4</td><td>3</td><td>13.0863</td><td>34.99</td><td>NULL</td><td>NULL</td><td>NULL</td><td>NULL</td><td>0</td><td>S </td><td>NULL</td><td>NULL</td><td>31</td><td>33</td><td>2011-05-31 00:00:00.000</td><td>NULL</td><td>NULL</td><td>a25a44fb-c2de-4268-958f-110b8d7621e2</td><td>2014-02-08 10:01:36.827</td></tr>",
                            "<tr><td>711</td><td>Sport-100 Helmet, Blue</td><td>HL-U509-B</td><td>0</td><td>1</td><td>Blue</td><td>4</td><td>3</td><td>13.0863</td><td>34.99</td><td>NULL</td><td>NULL</td><td>NULL</td><td>NULL</td><td>0</td><td>S </td><td>NULL</td><td>NULL</td><td>31</td><td>33</td><td>2011-05-31 00:00:00.000</td><td>NULL</td><td>NULL</td><td>fd7c0858-4179-48c2-865b-abd5dfc7bc1d</td><td>2014-02-08 10:01:36.827</td></tr>",
                            "<tr><td>707</td><td>Sport-100 Helmet, Red</td><td>HL-U509-R</td><td>0</td><td>1</td><td>Red</td><td>4</td><td>3</td><td>13.0863</td><td>34.99</td><td>NULL</td><td>NULL</td><td>NULL</td><td>NULL</td><td>0</td><td>S </td><td>NULL</td><td>NULL</td><td>31</td><td>33</td><td>2011-05-31 00:00:00.000</td><td>NULL</td><td>NULL</td><td>2e1ef41a-c08a-4ff6-8ada-bde58b64a712</td><td>2014-02-08 10:01:36.827</td></tr>",
                            "<tr><td>531</td><td>Steerer</td><td>SR-2098</td><td>1</td><td>0</td><td>NULL</td><td>500</td><td>375</td><td>0.00</td><td>0.00</td><td>NULL</td><td>NULL</td><td>NULL</td><td>NULL</td><td>1</td><td>NULL</td><td>NULL</td><td>NULL</td><td>NULL</td><td>NULL</td><td>2008-04-30 00:00:00.000</td><td>NULL</td><td>NULL</td><td>f3b140a1-b139-4bb5-b144-1b7cbbee6c9a</td><td>2014-02-08 10:01:36.827</td></tr>",
                            "<tr><td>529</td><td>Stem</td><td>SM-9087</td><td>1</td><td>0</td><td>NULL</td><td>500</td><td>375</td><td>0.00</td><td>0.00</td><td>NULL</td><td>NULL</td><td>NULL</td><td>NULL</td><td>1</td><td>NULL</td><td>NULL</td><td>NULL</td><td>NULL</td><td>NULL</td><td>2008-04-30 00:00:00.000</td><td>NULL</td><td>NULL</td><td>1173306e-b616-4c4a-b715-4e0a483ba2b5</td><td>2014-02-08 10:01:36.827</td></tr>",
                            "</table>"
                        ]
                    }
                }
            ],
            "execution_count": 94
        },
        {
            "cell_type": "markdown",
            "source": [
                "14. Write a query that retrieves unique colors from the table Production.Product. Order the results in descending manner.\n"
            ],
            "metadata": {
                "azdata_cell_guid": "fbc6d3ac-0c1b-4488-b355-b221b1775590",
                "language": ""
            },
            "attachments": {}
        },
        {
            "cell_type": "code",
            "source": [
                "SELECT DISTINCT Color\n",
                "FROM Production.Product\n",
                "ORDER BY color DESC"
            ],
            "metadata": {
                "azdata_cell_guid": "1e43a785-8e2f-4ae6-be0c-2b27e5aef564",
                "language": "sql"
            },
            "outputs": [
                {
                    "output_type": "display_data",
                    "data": {
                        "text/html": "(10 rows affected)"
                    },
                    "metadata": {}
                },
                {
                    "output_type": "display_data",
                    "data": {
                        "text/html": "Total execution time: 00:00:00.003"
                    },
                    "metadata": {}
                },
                {
                    "output_type": "execute_result",
                    "metadata": {},
                    "execution_count": 95,
                    "data": {
                        "application/vnd.dataresource+json": {
                            "schema": {
                                "fields": [
                                    {
                                        "name": "Color"
                                    }
                                ]
                            },
                            "data": [
                                {
                                    "Color": "Yellow"
                                },
                                {
                                    "Color": "White"
                                },
                                {
                                    "Color": "Silver/Black"
                                },
                                {
                                    "Color": "Silver"
                                },
                                {
                                    "Color": "Red"
                                },
                                {
                                    "Color": "Multi"
                                },
                                {
                                    "Color": "Grey"
                                },
                                {
                                    "Color": "Blue"
                                },
                                {
                                    "Color": "Black"
                                },
                                {
                                    "Color": "NULL"
                                }
                            ]
                        },
                        "text/html": [
                            "<table>",
                            "<tr><th>Color</th></tr>",
                            "<tr><td>Yellow</td></tr>",
                            "<tr><td>White</td></tr>",
                            "<tr><td>Silver/Black</td></tr>",
                            "<tr><td>Silver</td></tr>",
                            "<tr><td>Red</td></tr>",
                            "<tr><td>Multi</td></tr>",
                            "<tr><td>Grey</td></tr>",
                            "<tr><td>Blue</td></tr>",
                            "<tr><td>Black</td></tr>",
                            "<tr><td>NULL</td></tr>",
                            "</table>"
                        ]
                    }
                }
            ],
            "execution_count": 95
        }
    ]
}